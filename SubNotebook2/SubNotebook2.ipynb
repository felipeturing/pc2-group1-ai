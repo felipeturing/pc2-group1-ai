{
 "metadata": {
  "language_info": {
   "codemirror_mode": {
    "name": "ipython",
    "version": 3
   },
   "file_extension": ".py",
   "mimetype": "text/x-python",
   "name": "python",
   "nbconvert_exporter": "python",
   "pygments_lexer": "ipython3",
   "version": "3.8.5"
  },
  "orig_nbformat": 2,
  "kernelspec": {
   "name": "python38564bitfd67a1eefb4a4e91a7ab2c4dc172cf8e",
   "display_name": "Python 3.8.5 64-bit"
  },
  "metadata": {
   "interpreter": {
    "hash": "916dbcbb3f70747c44a77c7bcd40155683ae19c65e1c03b4aa3499c5328201f1"
   }
  }
 },
 "nbformat": 4,
 "nbformat_minor": 2,
 "cells": [
  {
   "cell_type": "code",
   "execution_count": 1,
   "metadata": {},
   "outputs": [],
   "source": [
    "\n",
    "import pandas as pd\n",
    "import numpy as np\n",
    "\n",
    "import matplotlib.pyplot as plt\n"
   ]
  },
  {
   "cell_type": "code",
   "execution_count": 27,
   "metadata": {},
   "outputs": [],
   "source": [
    "df = pd.read_csv(\"med.txt\") "
   ]
  },
  {
   "cell_type": "code",
   "execution_count": 29,
   "metadata": {},
   "outputs": [
    {
     "output_type": "execute_result",
     "data": {
      "text/plain": [
       "(553809, 8)"
      ]
     },
     "metadata": {},
     "execution_count": 29
    }
   ],
   "source": [
    "df.shape"
   ]
  },
  {
   "cell_type": "code",
   "execution_count": 30,
   "metadata": {},
   "outputs": [],
   "source": [
    "def swap_coordinates (dataframe):\n",
    "    #Intercambia las coordenadas de los viajes en \n",
    "    # la region [38 , 50]x[-76, 73]\n",
    "    # la region de principarl de trabajo\n",
    "    # (cuidad de NY) es : [-76, 73]x[38 , 50]\n",
    "    city_interchange = (\n",
    "        (dataframe[\"pickup_longitude\"] > 38)&\n",
    "        (dataframe[\"pickup_longitude\"] < 50)&\n",
    "        (dataframe[\"pickup_latitude\"] > -76)&\n",
    "        (dataframe[\"pickup_latitude\"] < -73)&\n",
    "        (dataframe[\"dropoff_longitude\"] > 38)&\n",
    "        (dataframe[\"dropoff_longitude\"] < 50)&\n",
    "        (dataframe[\"dropoff_latitude\"] > -76)&\n",
    "        (dataframe[\"dropoff_latitude\"] < -73)\n",
    "        )\n",
    "\n",
    "    dataframe.loc[city_interchange] = dataframe.loc[city_interchange].rename(columns={\n",
    "        'pickup_longitude':'pickup_latitude',\n",
    "        'pickup_latitude':'pickup_longitude',\n",
    "        'dropoff_latitude':'dropoff_longitude',\n",
    "        'dropoff_longitude':'dropoff_latitude'})\n",
    "    return\n"
   ]
  },
  {
   "cell_type": "code",
   "execution_count": 31,
   "metadata": {},
   "outputs": [],
   "source": [
    "swap_coordinates(df)"
   ]
  },
  {
   "cell_type": "code",
   "execution_count": 33,
   "metadata": {},
   "outputs": [],
   "source": [
    "def clean (dataframe):\n",
    "    swap_coordinates(df)\n",
    "    clean_data= dataframe[\n",
    "        (-180.0 <= dataframe[\"pickup_longitude\"])&\n",
    "        (dataframe[\"pickup_longitude\"] <= 180.0)&\n",
    "        (-90.0 <= dataframe[\"pickup_latitude\"])&\n",
    "        (dataframe[\"pickup_latitude\"] <= 90.0)&\n",
    "        (-180.0 <= dataframe[\"dropoff_longitude\"])&\n",
    "        (dataframe[\"dropoff_longitude\"] <= 180.0)&\n",
    "        (-90.0 <= dataframe[\"dropoff_latitude\"])&\n",
    "        (dataframe[\"dropoff_latitude\"] <= 90.0)&\n",
    "        (2.0 <= dataframe[\"fare_amount\"])&\n",
    "        (dataframe[\"fare_amount\"] <= 200)&\n",
    "        (0.0<=dataframe[\"passenger_count\"])&\n",
    "        (dataframe[\"passenger_count\"]<= 8)]\n",
    "    \n",
    "    return clean_data\n"
   ]
  },
  {
   "cell_type": "code",
   "execution_count": 34,
   "metadata": {},
   "outputs": [
    {
     "output_type": "execute_result",
     "data": {
      "text/plain": [
       "count     553809\n",
       "unique         1\n",
       "top        False\n",
       "freq      553809\n",
       "dtype: object"
      ]
     },
     "metadata": {},
     "execution_count": 34
    }
   ],
   "source": []
  },
  {
   "cell_type": "code",
   "execution_count": 26,
   "metadata": {},
   "outputs": [],
   "source": []
  },
  {
   "cell_type": "code",
   "execution_count": 23,
   "metadata": {},
   "outputs": [],
   "source": []
  },
  {
   "cell_type": "code",
   "execution_count": 24,
   "metadata": {},
   "outputs": [
    {
     "output_type": "execute_result",
     "data": {
      "text/plain": [
       "count     553809\n",
       "unique         1\n",
       "top        False\n",
       "freq      553809\n",
       "dtype: object"
      ]
     },
     "metadata": {},
     "execution_count": 24
    }
   ],
   "source": []
  },
  {
   "cell_type": "code",
   "execution_count": null,
   "metadata": {},
   "outputs": [],
   "source": []
  }
 ]
}