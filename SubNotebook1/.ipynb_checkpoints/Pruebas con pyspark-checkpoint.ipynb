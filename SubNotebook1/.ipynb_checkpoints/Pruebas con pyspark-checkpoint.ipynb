{
 "cells": [
  {
   "cell_type": "markdown",
   "id": "jZEIuHbMTuPQ",
   "metadata": {
    "id": "jZEIuHbMTuPQ"
   },
   "source": [
    "## Creando el entorno de PySpark"
   ]
  },
  {
   "cell_type": "code",
   "execution_count": 1,
   "id": "BAcL6RqMTuPT",
   "metadata": {
    "colab": {
     "base_uri": "https://localhost:8080/"
    },
    "id": "BAcL6RqMTuPT",
    "outputId": "3bb8b9e5-f26f-4cb4-9e7d-9d49f91bbe13"
   },
   "outputs": [
    {
     "name": "stdout",
     "output_type": "stream",
     "text": [
      "Collecting pyspark\n",
      "\u001b[?25l  Downloading https://files.pythonhosted.org/packages/45/b0/9d6860891ab14a39d4bddf80ba26ce51c2f9dc4805e5c6978ac0472c120a/pyspark-3.1.1.tar.gz (212.3MB)\n",
      "\u001b[K     |████████████████████████████████| 212.3MB 61kB/s \n",
      "\u001b[?25hCollecting py4j==0.10.9\n",
      "\u001b[?25l  Downloading https://files.pythonhosted.org/packages/9e/b6/6a4fb90cd235dc8e265a6a2067f2a2c99f0d91787f06aca4bcf7c23f3f80/py4j-0.10.9-py2.py3-none-any.whl (198kB)\n",
      "\u001b[K     |████████████████████████████████| 204kB 16.4MB/s \n",
      "\u001b[?25hBuilding wheels for collected packages: pyspark\n",
      "  Building wheel for pyspark (setup.py) ... \u001b[?25l\u001b[?25hdone\n",
      "  Created wheel for pyspark: filename=pyspark-3.1.1-py2.py3-none-any.whl size=212767604 sha256=a13041f440170aaa4e9cde3551b9653ac430fa8a058a7eb291ee46ec06397153\n",
      "  Stored in directory: /root/.cache/pip/wheels/0b/90/c0/01de724414ef122bd05f056541fb6a0ecf47c7ca655f8b3c0f\n",
      "Successfully built pyspark\n",
      "Installing collected packages: py4j, pyspark\n",
      "Successfully installed py4j-0.10.9 pyspark-3.1.1\n"
     ]
    }
   ],
   "source": [
    "!pip install pyspark"
   ]
  },
  {
   "cell_type": "code",
   "execution_count": 2,
   "id": "VAysm040TuPU",
   "metadata": {
    "colab": {
     "base_uri": "https://localhost:8080/"
    },
    "id": "VAysm040TuPU",
    "outputId": "1738ba15-01b8-4fd5-c310-438ddad6f0f9"
   },
   "outputs": [
    {
     "name": "stdout",
     "output_type": "stream",
     "text": [
      "Mounted at /content/drive\n"
     ]
    }
   ],
   "source": [
    "from google.colab import drive\n",
    "drive.mount('/content/drive')"
   ]
  },
  {
   "cell_type": "code",
   "execution_count": 3,
   "id": "-hmJtFldTuPU",
   "metadata": {
    "id": "-hmJtFldTuPU"
   },
   "outputs": [],
   "source": [
    "from pyspark.sql import SparkSession\n",
    "import pyspark.sql.functions as F\n",
    "import pyspark.sql.types as T\n",
    "from pyspark import SQLContext\n",
    "\n",
    "spark = SparkSession.builder.getOrCreate()"
   ]
  },
  {
   "cell_type": "code",
   "execution_count": 4,
   "id": "CiV0wIxZTuPU",
   "metadata": {
    "id": "CiV0wIxZTuPU"
   },
   "outputs": [],
   "source": [
    "spark = SparkSession \\\n",
    "    .builder \\\n",
    "    .appName(\"how to read csv file\") \\\n",
    "    .getOrCreate()"
   ]
  },
  {
   "cell_type": "code",
   "execution_count": 5,
   "id": "GrFEcPrvTuPV",
   "metadata": {
    "colab": {
     "base_uri": "https://localhost:8080/",
     "height": 214
    },
    "id": "GrFEcPrvTuPV",
    "outputId": "3d43a6fc-8f18-4434-f052-078f37cf346b"
   },
   "outputs": [
    {
     "data": {
      "text/html": [
       "\n",
       "            <div>\n",
       "                <p><b>SparkSession - in-memory</b></p>\n",
       "                \n",
       "        <div>\n",
       "            <p><b>SparkContext</b></p>\n",
       "\n",
       "            <p><a href=\"http://8f3190fb324a:4040\">Spark UI</a></p>\n",
       "\n",
       "            <dl>\n",
       "              <dt>Version</dt>\n",
       "                <dd><code>v3.1.1</code></dd>\n",
       "              <dt>Master</dt>\n",
       "                <dd><code>local[*]</code></dd>\n",
       "              <dt>AppName</dt>\n",
       "                <dd><code>pyspark-shell</code></dd>\n",
       "            </dl>\n",
       "        </div>\n",
       "        \n",
       "            </div>\n",
       "        "
      ],
      "text/plain": [
       "<pyspark.sql.session.SparkSession at 0x7f878c88fd50>"
      ]
     },
     "execution_count": 5,
     "metadata": {
      "tags": []
     },
     "output_type": "execute_result"
    }
   ],
   "source": [
    "spark"
   ]
  },
  {
   "cell_type": "markdown",
   "id": "iV_Vyw6DTuPV",
   "metadata": {
    "id": "iV_Vyw6DTuPV"
   },
   "source": [
    "## Cargando la Data"
   ]
  },
  {
   "cell_type": "code",
   "execution_count": 6,
   "id": "Ao7XOqIpTuPV",
   "metadata": {
    "id": "Ao7XOqIpTuPV"
   },
   "outputs": [],
   "source": [
    "df = spark.read.csv(\"/content/drive/MyDrive/train.csv\", inferSchema=True, header=True)"
   ]
  },
  {
   "cell_type": "markdown",
   "id": "gQCNY_ztTuPW",
   "metadata": {
    "id": "gQCNY_ztTuPW"
   },
   "source": [
    "Observamos los datos."
   ]
  },
  {
   "cell_type": "code",
   "execution_count": 7,
   "id": "yOax8SttTuPX",
   "metadata": {
    "colab": {
     "base_uri": "https://localhost:8080/"
    },
    "id": "yOax8SttTuPX",
    "outputId": "77c728f9-d323-407d-e277-78f7398ac6f3"
   },
   "outputs": [
    {
     "name": "stdout",
     "output_type": "stream",
     "text": [
      "+--------------------+-----------+--------------------+----------------+---------------+-----------------+----------------+---------------+\n",
      "|                 key|fare_amount|     pickup_datetime|pickup_longitude|pickup_latitude|dropoff_longitude|dropoff_latitude|passenger_count|\n",
      "+--------------------+-----------+--------------------+----------------+---------------+-----------------+----------------+---------------+\n",
      "|2009-06-15 17:26:...|        4.5|2009-06-15 17:26:...|      -73.844311|      40.721319|        -73.84161|       40.712278|              1|\n",
      "|2010-01-05 16:52:...|       16.9|2010-01-05 16:52:...|      -74.016048|      40.711303|       -73.979268|       40.782004|              1|\n",
      "|2011-08-18 00:35:...|        5.7|2011-08-18 00:35:...|      -73.982738|       40.76127|       -73.991242|       40.750562|              2|\n",
      "|2012-04-21 04:30:...|        7.7|2012-04-21 04:30:...|       -73.98713|      40.733143|       -73.991567|       40.758092|              1|\n",
      "|2010-03-09 07:51:...|        5.3|2010-03-09 07:51:...|      -73.968095|      40.768008|       -73.956655|       40.783762|              1|\n",
      "|2011-01-06 09:50:...|       12.1|2011-01-06 09:50:...|      -74.000964|       40.73163|       -73.972892|       40.758233|              1|\n",
      "|2012-11-20 20:35:...|        7.5|2012-11-20 20:35:...|      -73.980002|      40.751662|       -73.973802|       40.764842|              1|\n",
      "|2012-01-04 17:22:...|       16.5|2012-01-04 17:22:...|        -73.9513|      40.774138|       -73.990095|       40.751048|              1|\n",
      "|2012-12-03 13:10:...|        9.0|2012-12-03 13:10:...|      -74.006462|      40.726713|       -73.993078|       40.731628|              1|\n",
      "|2009-09-02 01:11:...|        8.9|2009-09-02 01:11:...|      -73.980658|      40.733873|        -73.99154|       40.758138|              2|\n",
      "|2012-04-08 07:30:...|        5.3|2012-04-08 07:30:...|      -73.996335|      40.737142|       -73.980721|       40.733559|              1|\n",
      "|2012-12-24 11:24:...|        5.5|2012-12-24 11:24:...|             0.0|            0.0|              0.0|             0.0|              3|\n",
      "|2009-11-06 01:04:...|        4.1|2009-11-06 01:04:...|      -73.991601|      40.744712|       -73.983081|       40.744682|              2|\n",
      "|2013-07-02 19:54:...|        7.0|2013-07-02 19:54:...|       -74.00536|      40.728867|       -74.008913|       40.710907|              1|\n",
      "|2011-04-05 17:11:...|        7.7|2011-04-05 17:11:...|      -74.001821|      40.737547|        -73.99806|       40.722788|              2|\n",
      "|2013-11-23 12:57:...|        5.0|2013-11-23 12:57:...|             0.0|            0.0|              0.0|             0.0|              1|\n",
      "|2014-02-19 07:22:...|       12.5|2014-02-19 07:22:...|       -73.98643|      40.760465|        -73.98899|       40.737075|              1|\n",
      "|2009-07-22 16:08:...|        5.3|2009-07-22 16:08:...|       -73.98106|       40.73769|       -73.994177|       40.728412|              1|\n",
      "|2010-07-07 14:52:...|        5.3|2010-07-07 14:52:...|      -73.969505|      40.784843|       -73.958732|       40.783357|              1|\n",
      "|2014-12-06 20:36:...|        4.0|2014-12-06 20:36:...|      -73.979815|      40.751902|       -73.979446|       40.755481|              1|\n",
      "+--------------------+-----------+--------------------+----------------+---------------+-----------------+----------------+---------------+\n",
      "only showing top 20 rows\n",
      "\n"
     ]
    }
   ],
   "source": [
    "df.show()"
   ]
  },
  {
   "cell_type": "markdown",
   "id": "AkkMAGc1TuPY",
   "metadata": {
    "id": "AkkMAGc1TuPY"
   },
   "source": [
    "## Eliminando variables irrelevantes"
   ]
  },
  {
   "cell_type": "markdown",
   "id": "czGedlrgTuPZ",
   "metadata": {
    "id": "czGedlrgTuPZ"
   },
   "source": [
    "Eliminamos variables que no aportan ninguna información."
   ]
  },
  {
   "cell_type": "code",
   "execution_count": 8,
   "id": "muei7sK7TuPa",
   "metadata": {
    "id": "muei7sK7TuPa"
   },
   "outputs": [],
   "source": [
    "df = df.drop('key')"
   ]
  },
  {
   "cell_type": "markdown",
   "id": "zh7Aon9UTuPa",
   "metadata": {
    "id": "zh7Aon9UTuPa"
   },
   "source": [
    "## Analizando las variables"
   ]
  },
  {
   "cell_type": "code",
   "execution_count": 9,
   "id": "nbXkaSXtTuPa",
   "metadata": {
    "colab": {
     "base_uri": "https://localhost:8080/"
    },
    "id": "nbXkaSXtTuPa",
    "outputId": "ab02c038-130b-4207-e78f-8ead0599c0e5"
   },
   "outputs": [
    {
     "name": "stdout",
     "output_type": "stream",
     "text": [
      "root\n",
      " |-- fare_amount: double (nullable = true)\n",
      " |-- pickup_datetime: string (nullable = true)\n",
      " |-- pickup_longitude: double (nullable = true)\n",
      " |-- pickup_latitude: double (nullable = true)\n",
      " |-- dropoff_longitude: double (nullable = true)\n",
      " |-- dropoff_latitude: double (nullable = true)\n",
      " |-- passenger_count: integer (nullable = true)\n",
      "\n"
     ]
    }
   ],
   "source": [
    "df.printSchema()"
   ]
  },
  {
   "cell_type": "code",
   "execution_count": 10,
   "id": "9IVu3c8bTuPb",
   "metadata": {
    "colab": {
     "base_uri": "https://localhost:8080/"
    },
    "id": "9IVu3c8bTuPb",
    "outputId": "54ff2a78-1394-4b31-fd1d-f70ec1b49a04"
   },
   "outputs": [
    {
     "name": "stdout",
     "output_type": "stream",
     "text": [
      "Filas:  55423856\n",
      "Columnas:  7\n"
     ]
    }
   ],
   "source": [
    "print('Filas: ',df.count())\n",
    "print('Columnas: ',len(df.columns))"
   ]
  },
  {
   "cell_type": "markdown",
   "id": "FEI4z-L3TuPb",
   "metadata": {
    "id": "FEI4z-L3TuPb"
   },
   "source": [
    "## Resumen estadístico de todas las variables"
   ]
  },
  {
   "cell_type": "code",
   "execution_count": 11,
   "id": "U-13JGO1TuPb",
   "metadata": {
    "colab": {
     "base_uri": "https://localhost:8080/"
    },
    "id": "U-13JGO1TuPb",
    "outputId": "7f74a9e4-4b77-4dff-d422-fe2392b01833"
   },
   "outputs": [
    {
     "name": "stdout",
     "output_type": "stream",
     "text": [
      "+-------+------------------+--------------------+------------------+-----------------+------------------+------------------+------------------+\n",
      "|summary|       fare_amount|     pickup_datetime|  pickup_longitude|  pickup_latitude| dropoff_longitude|  dropoff_latitude|   passenger_count|\n",
      "+-------+------------------+--------------------+------------------+-----------------+------------------+------------------+------------------+\n",
      "|  count|          55423856|            55423856|          55423856|         55423856|          55423480|          55423480|          55423856|\n",
      "|   mean|11.345045601663852|                null|-72.50968444358729| 39.9197917868882|-72.51120972971809|39.920681444828844|1.6853799201556816|\n",
      "| stddev|  20.7108321982325|                null| 12.84888338140265|9.642353041994934|12.782196517830771| 9.633345796415124|1.3276643570959683|\n",
      "|    min|            -300.0|2009-01-01 00:00:...|      -3442.059565|     -3492.263768|      -3442.024565|      -3547.886698|                 0|\n",
      "|    max|          93963.36|2015-06-30 23:59:...|       3457.625683|      3408.789565|        3457.62235|       3537.132528|               208|\n",
      "+-------+------------------+--------------------+------------------+-----------------+------------------+------------------+------------------+\n",
      "\n"
     ]
    }
   ],
   "source": [
    "df.describe().show()"
   ]
  },
  {
   "cell_type": "markdown",
   "id": "obtWGK3VTuPb",
   "metadata": {
    "id": "obtWGK3VTuPb"
   },
   "source": [
    "## Analizando valores nulos"
   ]
  },
  {
   "cell_type": "code",
   "execution_count": 12,
   "id": "PyW7-7s-TuPb",
   "metadata": {
    "id": "PyW7-7s-TuPb"
   },
   "outputs": [],
   "source": [
    "import pyspark.sql.functions as F\n",
    "def count_missings(spark_df,sort=True):\n",
    "    \"\"\"\n",
    "    Counts number of nulls and nans in each column\n",
    "    \"\"\"\n",
    "    df = spark_df.select([F.count(F.when(F.isnan(c) | F.isnull(c), c)).alias(c) for (c,c_type) in spark_df.dtypes if c_type not in ('timestamp', 'string', 'date')]).toPandas()\n",
    "\n",
    "    if len(df) == 0:\n",
    "        print(\"There are no any missing values!\")\n",
    "        return None\n",
    "\n",
    "    if sort:\n",
    "        return df.rename(index={0: 'count'}).T.sort_values(\"count\",ascending=False)\n",
    "\n",
    "    return df"
   ]
  },
  {
   "cell_type": "code",
   "execution_count": 13,
   "id": "12ZCdBTqTuPc",
   "metadata": {
    "colab": {
     "base_uri": "https://localhost:8080/",
     "height": 225
    },
    "id": "12ZCdBTqTuPc",
    "outputId": "567cf1d2-e274-4d71-cc01-d51ff4696d33"
   },
   "outputs": [
    {
     "data": {
      "text/html": [
       "<div>\n",
       "<style scoped>\n",
       "    .dataframe tbody tr th:only-of-type {\n",
       "        vertical-align: middle;\n",
       "    }\n",
       "\n",
       "    .dataframe tbody tr th {\n",
       "        vertical-align: top;\n",
       "    }\n",
       "\n",
       "    .dataframe thead th {\n",
       "        text-align: right;\n",
       "    }\n",
       "</style>\n",
       "<table border=\"1\" class=\"dataframe\">\n",
       "  <thead>\n",
       "    <tr style=\"text-align: right;\">\n",
       "      <th></th>\n",
       "      <th>count</th>\n",
       "    </tr>\n",
       "  </thead>\n",
       "  <tbody>\n",
       "    <tr>\n",
       "      <th>dropoff_longitude</th>\n",
       "      <td>376</td>\n",
       "    </tr>\n",
       "    <tr>\n",
       "      <th>dropoff_latitude</th>\n",
       "      <td>376</td>\n",
       "    </tr>\n",
       "    <tr>\n",
       "      <th>fare_amount</th>\n",
       "      <td>0</td>\n",
       "    </tr>\n",
       "    <tr>\n",
       "      <th>pickup_longitude</th>\n",
       "      <td>0</td>\n",
       "    </tr>\n",
       "    <tr>\n",
       "      <th>pickup_latitude</th>\n",
       "      <td>0</td>\n",
       "    </tr>\n",
       "    <tr>\n",
       "      <th>passenger_count</th>\n",
       "      <td>0</td>\n",
       "    </tr>\n",
       "  </tbody>\n",
       "</table>\n",
       "</div>"
      ],
      "text/plain": [
       "                   count\n",
       "dropoff_longitude    376\n",
       "dropoff_latitude     376\n",
       "fare_amount            0\n",
       "pickup_longitude       0\n",
       "pickup_latitude        0\n",
       "passenger_count        0"
      ]
     },
     "execution_count": 13,
     "metadata": {
      "tags": []
     },
     "output_type": "execute_result"
    }
   ],
   "source": [
    "count_missings(df)"
   ]
  },
  {
   "cell_type": "code",
   "execution_count": 14,
   "id": "NHdm20YGTuPc",
   "metadata": {
    "id": "NHdm20YGTuPc"
   },
   "outputs": [],
   "source": [
    "df = df.dropna(thresh=2,subset=('dropoff_longitude','dropoff_latitude'))"
   ]
  },
  {
   "cell_type": "code",
   "execution_count": 15,
   "id": "JM7N0TTaTuPc",
   "metadata": {
    "colab": {
     "base_uri": "https://localhost:8080/",
     "height": 225
    },
    "id": "JM7N0TTaTuPc",
    "outputId": "ea424ef3-d89a-4240-ee76-072905c29912"
   },
   "outputs": [
    {
     "data": {
      "text/html": [
       "<div>\n",
       "<style scoped>\n",
       "    .dataframe tbody tr th:only-of-type {\n",
       "        vertical-align: middle;\n",
       "    }\n",
       "\n",
       "    .dataframe tbody tr th {\n",
       "        vertical-align: top;\n",
       "    }\n",
       "\n",
       "    .dataframe thead th {\n",
       "        text-align: right;\n",
       "    }\n",
       "</style>\n",
       "<table border=\"1\" class=\"dataframe\">\n",
       "  <thead>\n",
       "    <tr style=\"text-align: right;\">\n",
       "      <th></th>\n",
       "      <th>count</th>\n",
       "    </tr>\n",
       "  </thead>\n",
       "  <tbody>\n",
       "    <tr>\n",
       "      <th>fare_amount</th>\n",
       "      <td>0</td>\n",
       "    </tr>\n",
       "    <tr>\n",
       "      <th>pickup_longitude</th>\n",
       "      <td>0</td>\n",
       "    </tr>\n",
       "    <tr>\n",
       "      <th>pickup_latitude</th>\n",
       "      <td>0</td>\n",
       "    </tr>\n",
       "    <tr>\n",
       "      <th>dropoff_longitude</th>\n",
       "      <td>0</td>\n",
       "    </tr>\n",
       "    <tr>\n",
       "      <th>dropoff_latitude</th>\n",
       "      <td>0</td>\n",
       "    </tr>\n",
       "    <tr>\n",
       "      <th>passenger_count</th>\n",
       "      <td>0</td>\n",
       "    </tr>\n",
       "  </tbody>\n",
       "</table>\n",
       "</div>"
      ],
      "text/plain": [
       "                   count\n",
       "fare_amount            0\n",
       "pickup_longitude       0\n",
       "pickup_latitude        0\n",
       "dropoff_longitude      0\n",
       "dropoff_latitude       0\n",
       "passenger_count        0"
      ]
     },
     "execution_count": 15,
     "metadata": {
      "tags": []
     },
     "output_type": "execute_result"
    }
   ],
   "source": [
    "count_missings(df)"
   ]
  },
  {
   "cell_type": "markdown",
   "id": "6xdNOFGQTuPc",
   "metadata": {
    "id": "6xdNOFGQTuPc"
   },
   "source": [
    "## Extrayendo una muestra de toda la data"
   ]
  },
  {
   "cell_type": "code",
   "execution_count": 16,
   "id": "RNlKNQFuTuPc",
   "metadata": {
    "id": "RNlKNQFuTuPc"
   },
   "outputs": [],
   "source": [
    "df_clean = df.dropDuplicates()"
   ]
  },
  {
   "cell_type": "code",
   "execution_count": 17,
   "id": "d_BxZzvgTuPd",
   "metadata": {
    "colab": {
     "base_uri": "https://localhost:8080/"
    },
    "id": "d_BxZzvgTuPd",
    "outputId": "2abcb7ad-296e-4af1-f115-b255061e7cd5"
   },
   "outputs": [
    {
     "name": "stdout",
     "output_type": "stream",
     "text": [
      "Filas:  55423480\n",
      "Columnas:  7\n"
     ]
    }
   ],
   "source": [
    "print('Filas: ',df.count())\n",
    "print('Columnas: ',len(df.columns))"
   ]
  },
  {
   "cell_type": "code",
   "execution_count": 18,
   "id": "YdJHpJmFTuPd",
   "metadata": {
    "colab": {
     "base_uri": "https://localhost:8080/"
    },
    "id": "YdJHpJmFTuPd",
    "outputId": "6037682b-dbb6-41eb-f8da-6ab53f9ba329"
   },
   "outputs": [
    {
     "name": "stdout",
     "output_type": "stream",
     "text": [
      "Filas:  55421830\n",
      "Columnas:  7\n"
     ]
    }
   ],
   "source": [
    "print('Filas: ',df_clean.count())\n",
    "print('Columnas: ',len(df_clean.columns))"
   ]
  },
  {
   "cell_type": "code",
   "execution_count": 19,
   "id": "_BPQPsaPTuPd",
   "metadata": {
    "colab": {
     "base_uri": "https://localhost:8080/"
    },
    "id": "_BPQPsaPTuPd",
    "outputId": "c6918e55-0999-470f-9795-af29a76c4c17"
   },
   "outputs": [
    {
     "name": "stdout",
     "output_type": "stream",
     "text": [
      "+-------+------------------+--------------------+------------------+-----------------+------------------+------------------+------------------+\n",
      "|summary|       fare_amount|     pickup_datetime|  pickup_longitude|  pickup_latitude| dropoff_longitude|  dropoff_latitude|   passenger_count|\n",
      "+-------+------------------+--------------------+------------------+-----------------+------------------+------------------+------------------+\n",
      "|  count|          55421830|            55421830|          55421830|         55421830|          55421830|          55421830|          55421830|\n",
      "|   mean|11.345105672079614|                null|-72.51180399869492|39.92095839539886|-72.51328720212507|39.921825055217475| 1.685399345348214|\n",
      "| stddev| 20.71113115840584|                null|12.843106230294701|9.640101311296613|12.776488446560032|  9.63111727923394|1.3273802146256042|\n",
      "|    min|            -300.0|2009-01-01 00:00:...|      -3442.059565|     -3492.263768|      -3442.024565|      -3547.886698|                 0|\n",
      "|    max|          93963.36|2015-06-30 23:59:...|       3457.625683|      3408.789565|        3457.62235|       3537.132528|               208|\n",
      "+-------+------------------+--------------------+------------------+-----------------+------------------+------------------+------------------+\n",
      "\n"
     ]
    }
   ],
   "source": [
    "df_clean.describe().show()"
   ]
  },
  {
   "cell_type": "markdown",
   "id": "zPGFJNXATuPd",
   "metadata": {
    "id": "zPGFJNXATuPd"
   },
   "source": [
    "## Creando muestra"
   ]
  },
  {
   "cell_type": "code",
   "execution_count": 20,
   "id": "RGjmKeALTuPd",
   "metadata": {
    "id": "RGjmKeALTuPd"
   },
   "outputs": [],
   "source": [
    "muestra = df_clean.sample(withReplacement=None, fraction=0.01, seed=1)"
   ]
  },
  {
   "cell_type": "code",
   "execution_count": 21,
   "id": "DueqA-4NTuPe",
   "metadata": {
    "colab": {
     "base_uri": "https://localhost:8080/"
    },
    "id": "DueqA-4NTuPe",
    "outputId": "b4778c73-96be-4445-80e2-08fc1a1552a3"
   },
   "outputs": [
    {
     "name": "stdout",
     "output_type": "stream",
     "text": [
      "+-------+------------------+--------------------+------------------+-----------------+------------------+------------------+-----------------+\n",
      "|summary|       fare_amount|     pickup_datetime|  pickup_longitude|  pickup_latitude| dropoff_longitude|  dropoff_latitude|  passenger_count|\n",
      "+-------+------------------+--------------------+------------------+-----------------+------------------+------------------+-----------------+\n",
      "|  count|            553125|              553125|            553125|           553125|            553125|            553125|           553125|\n",
      "|   mean|11.338296135593234|                null|-72.51648326642628|39.91164854951288| -72.5331367419359|39.939218256523176|1.686257175141243|\n",
      "| stddev| 9.754911876627387|                null|13.046863641099794|10.86421756656523|13.182795790400238| 8.426033157559031|1.308609713886857|\n",
      "|    min|             -45.0|2009-01-01 00:07:...|      -2972.263298|     -3401.391497|      -2633.905475|      -2166.852388|                0|\n",
      "|    max|             499.0|2015-06-30 23:53:...|       2554.362307|      1642.948397|       2554.362307|        2006.47511|                6|\n",
      "+-------+------------------+--------------------+------------------+-----------------+------------------+------------------+-----------------+\n",
      "\n"
     ]
    }
   ],
   "source": [
    "muestra.describe().show()"
   ]
  },
  {
   "cell_type": "markdown",
   "id": "fKw68AfvTuPe",
   "metadata": {
    "id": "fKw68AfvTuPe"
   },
   "source": [
    "## Exportamos los datos"
   ]
  },
  {
   "cell_type": "code",
   "execution_count": 22,
   "id": "Y_lGgqPsTuPe",
   "metadata": {
    "id": "Y_lGgqPsTuPe"
   },
   "outputs": [],
   "source": [
    "muestra.toPandas().to_csv('/content/drive/MyDrive/muestra.csv')"
   ]
  },
  {
   "cell_type": "markdown",
   "id": "456022b2",
   "metadata": {
    "id": "456022b2"
   },
   "source": [
    "# Práctica Calificada 2 - Grupo 1\n",
    "---\n",
    "<h3>1. OBJETIVO</h3>\n",
    "\n",
    "**Predicción de tarifas de taxis**<br>\n",
    "El objetivo de esta evaluación es construir un modelo de aprendizaje que sea capaz de\n",
    "predecir la tarifa que cobra un taxi de acuerdo a cierta información de entrada."
   ]
  },
  {
   "cell_type": "markdown",
   "id": "f83d591b",
   "metadata": {
    "id": "f83d591b"
   },
   "source": [
    "<h3>2. PAQUETES Y MÓDULOS</h3>"
   ]
  },
  {
   "cell_type": "code",
   "execution_count": 23,
   "id": "9ba9eb72",
   "metadata": {
    "id": "9ba9eb72"
   },
   "outputs": [],
   "source": [
    "import warnings\n",
    "warnings.filterwarnings(\"ignore\")"
   ]
  },
  {
   "cell_type": "code",
   "execution_count": 26,
   "id": "e2lbPSafc0ew",
   "metadata": {
    "colab": {
     "base_uri": "https://localhost:8080/"
    },
    "id": "e2lbPSafc0ew",
    "outputId": "37693b96-def5-47bf-bde6-7f49bcbc934b"
   },
   "outputs": [
    {
     "name": "stdout",
     "output_type": "stream",
     "text": [
      "Requirement already satisfied: ciso8601 in /usr/local/lib/python3.7/dist-packages (2.1.3)\n"
     ]
    }
   ],
   "source": [
    "!pip install ciso8601"
   ]
  },
  {
   "cell_type": "code",
   "execution_count": 27,
   "id": "70775f3a",
   "metadata": {
    "id": "70775f3a"
   },
   "outputs": [],
   "source": [
    "from sklearn import linear_model\n",
    "from sklearn.linear_model import LinearRegression\n",
    "from sklearn.metrics import mean_squared_error, r2_score, average_precision_score, precision_recall_curve\n",
    "from inspect import signature\n",
    "from math import sqrt, sin, cos, asin, pi, log\n",
    "from sklearn.model_selection import train_test_split\n",
    "from sklearn.ensemble import RandomForestRegressor\n",
    "from sklearn.model_selection import GridSearchCV\n",
    "from sklearn.preprocessing import StandardScaler, PolynomialFeatures\n",
    "\n",
    "import plotly.express as px\n",
    "import pandas as pd\n",
    "import numpy as np\n",
    "import seaborn as sns\n",
    "import datetime as dt\n",
    "import os\n",
    "import matplotlib.pyplot as plt\n",
    "import ciso8601 #módulo que contiene una implementacion rapida de datetime\n",
    "\n",
    "%matplotlib inline"
   ]
  },
  {
   "cell_type": "markdown",
   "id": "2c49ed47",
   "metadata": {
    "id": "2c49ed47"
   },
   "source": [
    "<h3>3. MUESTREO</h3>"
   ]
  },
  {
   "cell_type": "markdown",
   "id": "1163a57e",
   "metadata": {
    "id": "1163a57e"
   },
   "source": [
    "El conjunto de datos está compuesto por un archivo CSV que contiene alrededor de 55\n",
    "millones de registros de viajes en taxi. Cada registro contiene la siguiente información:\n",
    "* **ID**: cadena que identifica de manera única a cada registro\n",
    "* **pickup_datetime**: timestamp indicando cuando el viaje a empezado\n",
    "* **pickup_longitude**: número real indicando la ubicación en **longitud** en donde el viaje\n",
    "empezó\n",
    "* **pickup_latitude**: número real indicando la ubicación en **latitud** en donde el viaje\n",
    "empezó\n",
    "* **dropoff_longitude**: número real indicando la ubicación en longitud en donde el viaje\n",
    "terminó\n",
    "* **dropoff_latitude**: número real indicando la ubicación en latitud en donde el viaje\n",
    "terminó\n",
    "* **passenger_count**: número entero indicando el número de pasajeros en el servicio de\n",
    "taxi\n",
    "* **fare_amount: número real indicando el costo del taxi. Esta es la variable a predecir**"
   ]
  },
  {
   "cell_type": "markdown",
   "id": "fc1c2125",
   "metadata": {
    "id": "fc1c2125"
   },
   "source": [
    "**Población**"
   ]
  },
  {
   "cell_type": "code",
   "execution_count": 28,
   "id": "088e1187",
   "metadata": {
    "colab": {
     "base_uri": "https://localhost:8080/"
    },
    "id": "088e1187",
    "outputId": "3f4d04e1-4f58-4977-d07f-c5a02f771545"
   },
   "outputs": [
    {
     "name": "stdout",
     "output_type": "stream",
     "text": [
      "CPU times: user 650 ms, sys: 101 ms, total: 751 ms\n",
      "Wall time: 823 ms\n"
     ]
    }
   ],
   "source": [
    "%%time\n",
    "df = pd.read_csv('/content/drive/MyDrive/muestra.csv')\n",
    "#df = pd.read_csv(\"1M_train.csv\") # approx 55M \n",
    "#df = pd.read_csv(\"100k_train.csv\")\n",
    "#df = pd.read_csv(\"1M_train.csv\")\n",
    "\n",
    "df.shape"
   ]
  },
  {
   "cell_type": "markdown",
   "id": "c09e2731",
   "metadata": {
    "id": "c09e2731"
   },
   "source": [
    "**Muestra**"
   ]
  },
  {
   "cell_type": "code",
   "execution_count": 29,
   "id": "2ecd5085",
   "metadata": {
    "colab": {
     "base_uri": "https://localhost:8080/"
    },
    "id": "2ecd5085",
    "outputId": "2e133d95-6489-4ae7-87a6-c758d16e7139"
   },
   "outputs": [
    {
     "name": "stdout",
     "output_type": "stream",
     "text": [
      "CPU times: user 64.1 ms, sys: 3.88 ms, total: 68 ms\n",
      "Wall time: 80 ms\n"
     ]
    }
   ],
   "source": [
    "%%time\n",
    "df_s = df.sample(200000, random_state = 7, replace = True)\n",
    "#df_s = df\n",
    "df_s.shape"
   ]
  },
  {
   "cell_type": "code",
   "execution_count": 30,
   "id": "edb83460",
   "metadata": {
    "colab": {
     "base_uri": "https://localhost:8080/",
     "height": 316
    },
    "id": "edb83460",
    "outputId": "16cbaeca-e496-40e1-964a-7dd94a71fd95"
   },
   "outputs": [
    {
     "data": {
      "text/html": [
       "<div>\n",
       "<style scoped>\n",
       "    .dataframe tbody tr th:only-of-type {\n",
       "        vertical-align: middle;\n",
       "    }\n",
       "\n",
       "    .dataframe tbody tr th {\n",
       "        vertical-align: top;\n",
       "    }\n",
       "\n",
       "    .dataframe thead th {\n",
       "        text-align: right;\n",
       "    }\n",
       "</style>\n",
       "<table border=\"1\" class=\"dataframe\">\n",
       "  <thead>\n",
       "    <tr style=\"text-align: right;\">\n",
       "      <th></th>\n",
       "      <th>Unnamed: 0</th>\n",
       "      <th>fare_amount</th>\n",
       "      <th>pickup_datetime</th>\n",
       "      <th>pickup_longitude</th>\n",
       "      <th>pickup_latitude</th>\n",
       "      <th>dropoff_longitude</th>\n",
       "      <th>dropoff_latitude</th>\n",
       "      <th>passenger_count</th>\n",
       "    </tr>\n",
       "  </thead>\n",
       "  <tbody>\n",
       "    <tr>\n",
       "      <th>189636</th>\n",
       "      <td>189636</td>\n",
       "      <td>12.1</td>\n",
       "      <td>2010-04-29 10:08:34 UTC</td>\n",
       "      <td>-73.985994</td>\n",
       "      <td>40.726896</td>\n",
       "      <td>-73.990759</td>\n",
       "      <td>40.757467</td>\n",
       "      <td>1</td>\n",
       "    </tr>\n",
       "    <tr>\n",
       "      <th>535030</th>\n",
       "      <td>535030</td>\n",
       "      <td>6.5</td>\n",
       "      <td>2014-10-16 07:39:56 UTC</td>\n",
       "      <td>-73.993565</td>\n",
       "      <td>40.736425</td>\n",
       "      <td>-73.985653</td>\n",
       "      <td>40.741156</td>\n",
       "      <td>1</td>\n",
       "    </tr>\n",
       "    <tr>\n",
       "      <th>328599</th>\n",
       "      <td>328599</td>\n",
       "      <td>6.0</td>\n",
       "      <td>2015-03-20 14:00:25 UTC</td>\n",
       "      <td>-73.994164</td>\n",
       "      <td>40.761337</td>\n",
       "      <td>-73.995659</td>\n",
       "      <td>40.769089</td>\n",
       "      <td>1</td>\n",
       "    </tr>\n",
       "    <tr>\n",
       "      <th>79463</th>\n",
       "      <td>79463</td>\n",
       "      <td>13.7</td>\n",
       "      <td>2012-03-08 09:57:00 UTC</td>\n",
       "      <td>-73.975825</td>\n",
       "      <td>40.786867</td>\n",
       "      <td>-73.975972</td>\n",
       "      <td>40.754467</td>\n",
       "      <td>1</td>\n",
       "    </tr>\n",
       "    <tr>\n",
       "      <th>315737</th>\n",
       "      <td>315737</td>\n",
       "      <td>14.1</td>\n",
       "      <td>2009-01-31 22:31:00 UTC</td>\n",
       "      <td>-73.975100</td>\n",
       "      <td>40.790103</td>\n",
       "      <td>-74.007127</td>\n",
       "      <td>40.736305</td>\n",
       "      <td>1</td>\n",
       "    </tr>\n",
       "  </tbody>\n",
       "</table>\n",
       "</div>"
      ],
      "text/plain": [
       "        Unnamed: 0  fare_amount  ... dropoff_latitude  passenger_count\n",
       "189636      189636         12.1  ...        40.757467                1\n",
       "535030      535030          6.5  ...        40.741156                1\n",
       "328599      328599          6.0  ...        40.769089                1\n",
       "79463        79463         13.7  ...        40.754467                1\n",
       "315737      315737         14.1  ...        40.736305                1\n",
       "\n",
       "[5 rows x 8 columns]"
      ]
     },
     "execution_count": 30,
     "metadata": {
      "tags": []
     },
     "output_type": "execute_result"
    }
   ],
   "source": [
    "df_s.head()"
   ]
  },
  {
   "cell_type": "code",
   "execution_count": 31,
   "id": "199fb6c4",
   "metadata": {
    "colab": {
     "base_uri": "https://localhost:8080/"
    },
    "id": "199fb6c4",
    "outputId": "45fa8839-c751-4af9-c703-2e83e8562fc8"
   },
   "outputs": [
    {
     "name": "stdout",
     "output_type": "stream",
     "text": [
      "<class 'pandas.core.frame.DataFrame'>\n",
      "Int64Index: 200000 entries, 189636 to 502194\n",
      "Data columns (total 8 columns):\n",
      " #   Column             Non-Null Count   Dtype  \n",
      "---  ------             --------------   -----  \n",
      " 0   Unnamed: 0         200000 non-null  int64  \n",
      " 1   fare_amount        200000 non-null  float64\n",
      " 2   pickup_datetime    200000 non-null  object \n",
      " 3   pickup_longitude   200000 non-null  float64\n",
      " 4   pickup_latitude    200000 non-null  float64\n",
      " 5   dropoff_longitude  200000 non-null  float64\n",
      " 6   dropoff_latitude   200000 non-null  float64\n",
      " 7   passenger_count    200000 non-null  int64  \n",
      "dtypes: float64(5), int64(2), object(1)\n",
      "memory usage: 13.7+ MB\n"
     ]
    }
   ],
   "source": [
    "df_s.info()"
   ]
  },
  {
   "cell_type": "markdown",
   "id": "bbc899d6",
   "metadata": {
    "id": "bbc899d6"
   },
   "source": [
    "<h3>4.LIMPIEZA</h3>"
   ]
  },
  {
   "cell_type": "markdown",
   "id": "e8d25060",
   "metadata": {
    "id": "e8d25060"
   },
   "source": [
    "**ELIMINAR NA Y COLUMNA KEY**"
   ]
  },
  {
   "cell_type": "code",
   "execution_count": 32,
   "id": "5b58f8f8",
   "metadata": {
    "colab": {
     "base_uri": "https://localhost:8080/"
    },
    "id": "5b58f8f8",
    "outputId": "ec3e532e-f556-4e03-8a55-805ab68d9535"
   },
   "outputs": [
    {
     "data": {
      "text/plain": [
       "Unnamed: 0           0\n",
       "fare_amount          0\n",
       "pickup_datetime      0\n",
       "pickup_longitude     0\n",
       "pickup_latitude      0\n",
       "dropoff_longitude    0\n",
       "dropoff_latitude     0\n",
       "passenger_count      0\n",
       "dtype: int64"
      ]
     },
     "execution_count": 32,
     "metadata": {
      "tags": []
     },
     "output_type": "execute_result"
    }
   ],
   "source": [
    "df_s.isna().sum() # pandas.DataFrame.isna() vs pandas.DataFrame.isnull(), these two DataFrame methods do exactly the same thing! "
   ]
  },
  {
   "cell_type": "code",
   "execution_count": 33,
   "id": "bcfc4346",
   "metadata": {
    "id": "bcfc4346"
   },
   "outputs": [],
   "source": [
    "df_s.dropna(inplace=True)"
   ]
  },
  {
   "cell_type": "code",
   "execution_count": 34,
   "id": "1207bee7",
   "metadata": {
    "colab": {
     "base_uri": "https://localhost:8080/"
    },
    "id": "1207bee7",
    "outputId": "ceb663af-8279-4bad-a66e-6f06f279e559"
   },
   "outputs": [
    {
     "data": {
      "text/plain": [
       "Unnamed: 0           0\n",
       "fare_amount          0\n",
       "pickup_datetime      0\n",
       "pickup_longitude     0\n",
       "pickup_latitude      0\n",
       "dropoff_longitude    0\n",
       "dropoff_latitude     0\n",
       "passenger_count      0\n",
       "dtype: int64"
      ]
     },
     "execution_count": 34,
     "metadata": {
      "tags": []
     },
     "output_type": "execute_result"
    }
   ],
   "source": [
    "df_s.isna().sum()"
   ]
  },
  {
   "cell_type": "code",
   "execution_count": 35,
   "id": "a0069937",
   "metadata": {
    "colab": {
     "base_uri": "https://localhost:8080/"
    },
    "id": "a0069937",
    "outputId": "80e986f2-d7b0-4056-c854-726167b597c6"
   },
   "outputs": [
    {
     "data": {
      "text/plain": [
       "(200000, 8)"
      ]
     },
     "execution_count": 35,
     "metadata": {
      "tags": []
     },
     "output_type": "execute_result"
    }
   ],
   "source": [
    "df_s.shape"
   ]
  },
  {
   "cell_type": "markdown",
   "id": "b240a3bc",
   "metadata": {
    "id": "b240a3bc"
   },
   "source": [
    "**DETERMINAR NÚMERO DE PASAJEROS VALIDOS**"
   ]
  },
  {
   "cell_type": "markdown",
   "id": "0b2b20ce",
   "metadata": {
    "id": "0b2b20ce"
   },
   "source": [
    "Descripción de la columna número de pasajeros (**passenger_count**)"
   ]
  },
  {
   "cell_type": "code",
   "execution_count": 37,
   "id": "17ce1a68",
   "metadata": {
    "colab": {
     "base_uri": "https://localhost:8080/"
    },
    "id": "17ce1a68",
    "outputId": "b9847e7d-b267-40b9-e671-f13ae715cf3b"
   },
   "outputs": [
    {
     "data": {
      "text/plain": [
       "count    200000.00000\n",
       "mean          1.68592\n",
       "std           1.30829\n",
       "min           0.00000\n",
       "25%           1.00000\n",
       "50%           1.00000\n",
       "75%           2.00000\n",
       "max           6.00000\n",
       "Name: passenger_count, dtype: float64"
      ]
     },
     "execution_count": 37,
     "metadata": {
      "tags": []
     },
     "output_type": "execute_result"
    }
   ],
   "source": [
    "df_s.passenger_count.describe()"
   ]
  },
  {
   "cell_type": "markdown",
   "id": "71ef59fc",
   "metadata": {
    "id": "71ef59fc"
   },
   "source": [
    "Visualizando **la cantidad de viajes en taxi por el número de pasajeros**"
   ]
  },
  {
   "cell_type": "code",
   "execution_count": 38,
   "id": "b0879753",
   "metadata": {
    "colab": {
     "base_uri": "https://localhost:8080/",
     "height": 309
    },
    "id": "b0879753",
    "outputId": "89254350-567d-4e07-8d68-3e9430e43376"
   },
   "outputs": [
    {
     "data": {
      "text/plain": [
       "Text(0.5, 1.0, 'Cantidad de viajes en taxi por número de pasajeros')"
      ]
     },
     "execution_count": 38,
     "metadata": {
      "tags": []
     },
     "output_type": "execute_result"
    },
    {
     "data": {
      "image/png": "[encoded data removed]",
      "text/plain": [
       "<Figure size 360x288 with 1 Axes>"
      ]
     },
     "metadata": {
      "needs_background": "light",
      "tags": []
     },
     "output_type": "display_data"
    }
   ],
   "source": [
    "df_s[\"passenger_count\"].value_counts().plot(kind=\"bar\", figsize=(5, 4))\n",
    "plt.xlabel(\"Número de pasajeros\")\n",
    "plt.ylabel(\"Cantidad de viajes\")\n",
    "plt.title(\"Cantidad de viajes en taxi por número de pasajeros\")"
   ]
  },
  {
   "cell_type": "markdown",
   "id": "c2382781",
   "metadata": {
    "id": "c2382781"
   },
   "source": [
    "Filtramos :  $ ~~1\\leq \\text{passenger_count}\\leq6$"
   ]
  },
  {
   "cell_type": "code",
   "execution_count": 39,
   "id": "e440a3c2",
   "metadata": {
    "colab": {
     "base_uri": "https://localhost:8080/"
    },
    "id": "e440a3c2",
    "outputId": "a477cf31-e033-44aa-9ba5-d89e00aec26a"
   },
   "outputs": [
    {
     "data": {
      "text/plain": [
       "True     199291\n",
       "False       709\n",
       "Name: passenger_count, dtype: int64"
      ]
     },
     "execution_count": 39,
     "metadata": {
      "tags": []
     },
     "output_type": "execute_result"
    }
   ],
   "source": [
    "df_s[\"passenger_count\"].between(1,6).value_counts() # Return boolean Series equivalent to left <= series <= right."
   ]
  },
  {
   "cell_type": "markdown",
   "id": "d951b6c7",
   "metadata": {
    "id": "d951b6c7"
   },
   "source": [
    "**DETERMINAR TARIFA DEL VIAJE VALIDA**"
   ]
  },
  {
   "cell_type": "markdown",
   "id": "e941b576",
   "metadata": {
    "id": "e941b576"
   },
   "source": [
    "Descripción de la columna monto de la tarifa (**fare_amount**)"
   ]
  },
  {
   "cell_type": "code",
   "execution_count": 40,
   "id": "7a5c07fd",
   "metadata": {
    "colab": {
     "base_uri": "https://localhost:8080/"
    },
    "id": "7a5c07fd",
    "outputId": "12227030-e80c-48c5-d49e-1720a87b5771"
   },
   "outputs": [
    {
     "data": {
      "text/plain": [
       "count    200000.000000\n",
       "mean         11.341007\n",
       "std           9.686619\n",
       "min         -19.700000\n",
       "25%           6.000000\n",
       "50%           8.500000\n",
       "75%          12.500000\n",
       "max         333.000000\n",
       "Name: fare_amount, dtype: float64"
      ]
     },
     "execution_count": 40,
     "metadata": {
      "tags": []
     },
     "output_type": "execute_result"
    }
   ],
   "source": [
    "df_s.fare_amount.describe()"
   ]
  },
  {
   "cell_type": "code",
   "execution_count": 41,
   "id": "dd0cbfb2",
   "metadata": {
    "colab": {
     "base_uri": "https://localhost:8080/",
     "height": 334
    },
    "id": "dd0cbfb2",
    "outputId": "3f815723-ed95-4c4b-b1fc-dde31fcfd49c"
   },
   "outputs": [
    {
     "data": {
      "text/plain": [
       "Text(0.5, 1.0, 'Frecuencia de las tarifas de los viajes en intervalos (k,5+k], $k=0,5,10,...}$')"
      ]
     },
     "execution_count": 41,
     "metadata": {
      "tags": []
     },
     "output_type": "execute_result"
    },
    {
     "data": {
      "image/png": "[encoded data removed]",
      "text/plain": [
       "<Figure size 432x288 with 1 Axes>"
      ]
     },
     "metadata": {
      "needs_background": "light",
      "tags": []
     },
     "output_type": "display_data"
    }
   ],
   "source": [
    "df_s[\"fare_amount\"].plot.hist(alpha=1, stacked=True, bins=list(range(0, 100, 5)))\n",
    "plt.xlabel(\"Tárifa\")\n",
    "plt.ylabel(\"Frecuencia\")\n",
    "plt.title(\"Frecuencia de las tarifas de los viajes en intervalos (k,5+k], $k=0,5,10,...}$\")"
   ]
  },
  {
   "cell_type": "markdown",
   "id": "bd9acada",
   "metadata": {
    "id": "bd9acada"
   },
   "source": [
    "Filtramos :  $~~2\\leq \\text{fare_amount}\\leq 200$"
   ]
  },
  {
   "cell_type": "code",
   "execution_count": 42,
   "id": "4af28b51",
   "metadata": {
    "colab": {
     "base_uri": "https://localhost:8080/"
    },
    "id": "4af28b51",
    "outputId": "0cdb3536-e3b2-4a83-a6b0-79a1c79ef263"
   },
   "outputs": [
    {
     "data": {
      "text/plain": [
       "(2, 8)"
      ]
     },
     "execution_count": 42,
     "metadata": {
      "tags": []
     },
     "output_type": "execute_result"
    }
   ],
   "source": [
    "df_s[(df_s['fare_amount'] < 0)].shape # negativos"
   ]
  },
  {
   "cell_type": "code",
   "execution_count": 43,
   "id": "6df19be3",
   "metadata": {
    "colab": {
     "base_uri": "https://localhost:8080/"
    },
    "id": "6df19be3",
    "outputId": "26d5f54f-e027-4b00-dbf5-812b472637ea"
   },
   "outputs": [
    {
     "data": {
      "text/plain": [
       "(2, 8)"
      ]
     },
     "execution_count": 43,
     "metadata": {
      "tags": []
     },
     "output_type": "execute_result"
    }
   ],
   "source": [
    "df_s[(df_s['fare_amount'] > 0) & (df_s['fare_amount'] < 2)].shape # mayor a cero y menor a dos"
   ]
  },
  {
   "cell_type": "code",
   "execution_count": 44,
   "id": "07016618",
   "metadata": {
    "colab": {
     "base_uri": "https://localhost:8080/"
    },
    "id": "07016618",
    "outputId": "f7570cbe-1f9e-40b1-c26e-3d4d41d12e12"
   },
   "outputs": [
    {
     "data": {
      "text/plain": [
       "(2, 8)"
      ]
     },
     "execution_count": 44,
     "metadata": {
      "tags": []
     },
     "output_type": "execute_result"
    }
   ],
   "source": [
    "df_s[(df_s['fare_amount'] > 200)].shape # mayores a 200"
   ]
  },
  {
   "cell_type": "code",
   "execution_count": 45,
   "id": "6b15cce8",
   "metadata": {
    "colab": {
     "base_uri": "https://localhost:8080/"
    },
    "id": "6b15cce8",
    "outputId": "8a2c29f4-444d-4cb2-83e8-3490bf120be5"
   },
   "outputs": [
    {
     "data": {
      "text/plain": [
       "True     199990\n",
       "False        10\n",
       "Name: fare_amount, dtype: int64"
      ]
     },
     "execution_count": 45,
     "metadata": {
      "tags": []
     },
     "output_type": "execute_result"
    }
   ],
   "source": [
    "df_s[\"fare_amount\"].between(2,200).value_counts()"
   ]
  },
  {
   "cell_type": "markdown",
   "id": "f81f02ba",
   "metadata": {
    "id": "f81f02ba"
   },
   "source": [
    "**DETERMINAR REGIÓN VALIDA**"
   ]
  },
  {
   "cell_type": "code",
   "execution_count": 46,
   "id": "09fe4747",
   "metadata": {
    "colab": {
     "base_uri": "https://localhost:8080/",
     "height": 317
    },
    "id": "09fe4747",
    "outputId": "381e294e-c97b-49dd-c4ab-0f780c57dac7"
   },
   "outputs": [
    {
     "data": {
      "text/html": [
       "<html>\n",
       "<head><meta charset=\"utf-8\" /></head>\n",
       "<body>\n",
       "    <div>\n",
       "            <script src=\"https://cdnjs.cloudflare.com/ajax/libs/mathjax/2.7.5/MathJax.js?config=TeX-AMS-MML_SVG\"></script><script type=\"text/javascript\">if (window.MathJax) {MathJax.Hub.Config({SVG: {font: \"STIX-Web\"}});}</script>\n",
       "                <script type=\"text/javascript\">window.PlotlyConfig = {MathJaxConfig: 'local'};</script>\n",
       "        <script src=\"https://cdn.plot.ly/plotly-latest.min.js\"></script>    \n",
       "            <div id=\"71bb1823-66c2-426c-8e60-e519faf848a4\" class=\"plotly-graph-div\" style=\"height:300px; width:100%;\"></div>\n",
       "            <script type=\"text/javascript\">\n",
       "                \n",
       "                    window.PLOTLYENV=window.PLOTLYENV || {};\n",
       "                    \n",
       "                if (document.getElementById(\"71bb1823-66c2-426c-8e60-e519faf848a4\")) {\n",
       "                    Plotly.newPlot(\n",
       "                        '71bb1823-66c2-426c-8e60-e519faf848a4',\n",
       "                        [{\"hoverlabel\": {\"namelength\": 0}, \"hovertemplate\": \"pickup_latitude=%{lat}<br>pickup_longitude=%{lon}<br>fare_amount=%{marker.color}\", \"lat\": [40.726896, 40.736425, 40.76133728027344, 40.786867, 40.790103, 40.736726000000004, 40.770126, 40.746444, 0.0, 40.69954681396485, 40.762423, 40.812351, 40.761989, 40.7419, 40.745937, 40.725654999999996, 40.761538, 40.802921999999995, 40.754317, 40.763852, 40.783957, 40.75983, 40.769576, 40.753945, 40.761553, 40.722845, 40.748829, 40.737176, 40.789028, 40.743055, 40.644771999999996, 40.757944, 0.0, 40.741587, 40.794182, 40.761165999999996, 40.760657, 40.727025, 40.726642, 40.726571, 40.725679, 40.755972, 40.763991, 40.7494010925293, 40.714193, 40.742857, 40.75802230834961, 40.743573, 0.0, 40.760062, 40.814527000000005, 40.744182, 40.752542, 40.750523, 40.788239000000004, 40.77511215209961, 40.761267, 40.77167, 40.756502000000005, 40.646757, 40.76493835449219, 40.773277, 40.749798999999996, 40.7323, 40.754695, 40.75235, 40.754644, 40.7861213684082, 40.7731, 40.752942, 40.747382, 40.750634999999996, 40.745556, 40.76100540161133, 40.777621, 40.776753, 40.743829999999996, 40.786981, 40.745787, 40.732588, 40.760185, 40.76862, 40.709415435791016, 40.644659999999995, 40.773734000000005, 0.0, 40.689187, 40.747991999999996, 40.805015000000004, 40.747774, 40.751587, 40.736688, 40.736674, 40.790863, 40.756927490234375, 40.76488, 40.766417, 40.7563705444336, 40.782779999999995, 40.744107, 40.740105, 40.739537, 40.796927000000004, 40.750287, 40.738222, 40.721167, 40.770179, 40.75438690185547, 40.733000000000004, 40.750945, 40.733002, 40.774276, 40.771443, 40.749584999999996, 0.0, 40.731082, 40.75925827026367, 40.779359, 40.748545, 40.758952, 40.760146999999996, 40.760695, 40.727903000000005, 40.732893, 40.767984000000006, 40.744762, 40.756608, 40.752762, 40.752545, 40.769037, 40.751391999999996, 40.811343, 40.784715000000006, 40.755196999999995, 40.681267999999996, 40.774133, 40.809288, 40.786367, 40.718720000000005, 40.742535, 40.703179999999996, 40.774018, 40.734305, 40.739647, 40.756370000000004, 40.781436, 40.763238, 40.755284, 40.737053, 40.770340999999995, 40.733427, 40.748138, 40.734727, 40.74085998535156, 40.743295, 40.774084, 40.743849, 40.784085, 40.781332, 40.773590000000006, 40.748248, 40.761143, 40.749812, 40.74194, 40.728945, 40.723203999999996, 40.734871000000005, 40.784575, 40.769255, 40.75952911376953, 40.731, 40.72221, 40.760231, 40.739211, 40.749420166015625, 40.746790999999995, 40.762722, 40.752057, 0.0, 40.740703, 40.713846999999994, 40.746932, 40.773109999999996, 40.750642, 40.727746999999994, 40.725082, 40.741299, 40.77031326293945, 40.740241999999995, 40.713922, 40.76250457763672, 40.76210403442383, 40.791121999999994, 40.773247, 40.762809999999995, 40.75335, 40.754571999999996, 40.75953, 40.715233000000005, 40.746092, 40.7216, 40.754253000000006, 40.717825, 40.722882, 40.767653, 40.648593, 40.739065999999994, 40.776682, 40.75359, 40.645208000000004, 40.72631, 0.0, 40.795417, 40.77363967895508, 40.762240999999996, 40.755987, 40.737075, 40.786377, 40.763928, 40.771163, 40.746325, 40.728497, 40.746582000000004, 40.759322999999995, 40.737421999999995, 40.772247, 0.0, 40.734759999999994, 40.782932, 40.783432, 40.76525, 40.757363, 40.762432000000004, 40.746293, 40.762752, 40.759452, 40.759205, 40.783546, 40.75203, 40.7521, 40.773221, 40.743165000000005, 40.76692, 40.78949, 40.782171999999996, 40.653225, 40.763267, 40.74989, 40.7277, 40.726531, 40.760878000000005, 40.755482, 40.725477000000005, 40.749983, 40.810744, 40.718431, 40.763488, 40.719445, 40.729372999999995, 0.0, 40.770283, 40.726477, 40.73938369750977, 40.733505, 40.749953999999995, 40.741193, 40.732315, 44.128088, 40.768512, 40.752513, 40.741017, 40.769602, 40.773425, 40.74382, 40.794078999999996, 40.74338150024414, 40.755731, 40.760473, 40.703361, 40.747222, 40.740497999999995, 40.758, 40.721402000000005, 40.759593, 40.73206, 40.759848, 40.7530517578125, 40.739742, 40.729667, 40.771365, 40.755155, 40.73795, 40.752609, 40.773027, 40.746932, 40.763870000000004, 40.76162, 40.763371, 40.815712, 40.720909999999996, 40.752888, 40.763413, 40.759232, 40.72034, 40.7137336730957, 40.751643, 40.74971, 40.762124, 40.756607, 40.759532, 0.0, 40.787849, 40.765236, 40.766137, 40.774363, 40.717045, 40.723791999999996, 40.743909, 40.76076126098633, 40.719142, 40.720753, 40.73640060424805, 40.767782000000004, 40.771536, 40.729917, 40.727907, 40.7639, 40.733252, 0.0, 40.718742999999996, 40.78249740600586, 40.732425, 40.732994, 40.730185, 40.756562, 40.720017999999996, 40.723609, 40.803074, 0.0, 40.775032, 40.758860999999996, 40.729527000000004, 40.739627, 40.749092, 40.745174, 40.764345, 40.729537, 40.733107000000004, 40.761394, 40.763537, 40.768640000000005, 40.645345, 40.779092999999996, 40.76398086547852, 40.746491999999996, 40.780657, 40.74177, 40.717542, 40.764708, 40.72586, 40.749412, 40.736641, 40.733427, 40.681217, 40.745632, 40.761055999999996, 40.741771, 40.734846999999995, 40.722339, 40.74949, 40.745509000000006, 40.768981, 40.775417, 40.760873, 40.745573, 40.719118, 40.646879, 40.765619, 40.758213, 40.77411, 0.0, 40.77621, 40.770462, 40.767988, 40.738738, 40.721043, 40.800686999999996, 40.762372, 40.774912, 40.702399, 40.726541, 40.809847999999995, 40.760513, 40.726729999999996, 40.789179, 40.765442, 40.769889, 40.759722, 40.742405, 40.748222, 40.710805, 40.760365, 40.707302, 40.75581, 40.76729583740234, 40.753734, 40.839034000000005, 40.74394, 40.732521000000006, 40.644813, 40.760977000000004, 40.733592, 0.0, 40.75310134887695, 40.80425262451172, 40.77295, 40.785470000000004, 40.762342, 40.780752, 40.744199, 40.78838348388672, 40.719434, 40.749875, 0.0, 40.744202, 40.768193, 40.773666999999996, 40.7403, 40.77194595336914, 40.731497, 0.0, 40.746077, 40.764939, 40.751207, 40.7066, 40.764194, 40.762557, 40.739562, 40.761518, 40.777553000000005, 40.751087, 40.725982, 40.786651, 40.77316, 40.719381, 40.749567, 40.78838348388672, 40.74873, 0.0, 40.751368, 40.758045, 40.74838638305664, 40.74823760986328, 40.771437, 40.756727000000005, 40.756351, 40.751126, 40.723076, 40.747239, 40.715845, 40.75523, 40.716822, 40.729793, 40.779708, 40.761607, 40.684554999999996, 40.728588, 40.759094, 40.737336, 40.776881, 40.779983, 40.741828000000005, 40.77896499633789, 40.731932, 40.757358, 40.757157, 40.740898, 40.719657, 40.76164, 40.74843, 40.722097, 40.765777, 40.800182, 40.734169006347656, 40.774305, 40.745915000000004, 40.750741999999995, 40.791032, 40.766582, 40.751104999999995, 40.75479, 40.7564582824707, 40.774006, 40.723832, 40.773790000000005, 40.790703, 40.73901, 40.709577, 40.723804, 40.761262, 40.741423, 40.75656, 40.74245, 40.747313, 40.759677, 40.726605, 40.761939, 40.7508430480957, 40.753327, 40.749424, 40.734583, 40.779298, 40.740372, 40.77564, 40.761177, 40.746339, 40.74517, 40.748406, 40.74071, 40.768202, 40.773202000000005, 40.739771999999995, 40.767982, 40.750155, 40.761681, 40.760005, 40.73939514160156, 40.752764, 40.759234, 40.751996999999996, 40.775752000000004, 40.716387, 40.791165, 40.747155, 40.77502, 40.734092, 40.752338, 40.738034999999996, 40.764127, 40.726341999999995, 40.753076, 40.75018, 40.77155, 40.729116, 40.78569, 40.777295, 40.773891, 40.746041999999996, 40.716095, 40.759848, 40.747432, 40.75504684448242, 40.766882, 40.744248999999996, 40.724198, 40.779872999999995, 40.747979, 40.713685, 40.764454, 0.0, 40.758727, 40.734825, 40.756595000000004, 40.79083, 40.752342224121094, 40.760482, 40.749340000000004, 40.704442, 40.771715, 40.76406, 40.759645, 40.771925, 40.721472, 40.723397999999996, 40.75382614135742, 40.748734999999996, 40.734995, 40.745705, 40.750591, 40.762491, 40.77175521850586, 40.72035, 40.686254999999996, 40.785852, 40.78274154663086, 40.750994, 40.755068, 40.78108215332031, 40.752982, 40.722262, 40.74147, 40.696897, 40.732632, 40.759033, 40.641807, 40.768958000000005, 40.757419, 40.716871000000005, 40.755743, 0.0, 40.770091, 40.724814, 40.773001, 40.754489, 40.834179999999996, 40.764060974121094, 40.774139, 40.731195, 40.747777, 40.756142, 40.742048, 40.756834999999995, 40.710767, 40.751862, 40.743809999999996, 40.755932, 40.644117, 40.743829, 40.78757, 40.738065, 40.780142, 40.749155, 40.778477, 40.761759999999995, 40.741001000000004, 40.728113, 0.0, 40.768705, 40.773625, 40.7302, 40.776070000000004, 40.761897999999995, 0.0, 40.757034999999995, 0.0, 40.763582, 40.753733000000004, 40.741611999999996, 40.733683, 40.758943, 40.741759, 40.802212, 40.752447, 40.747917, 40.767979, 40.771307, 40.779565999999996, 40.758955, 40.75444412231445, 40.75614929199219, 40.790884999999996, 40.712142, 40.71918, 40.765487, 40.780278, 40.767272, 40.753487, 40.74230575561523, 40.714055, 40.785695000000004, 40.789441, 40.785357, 40.730802000000004, 40.782334999999996, 40.76615, 40.783518, 40.75542068481445, 40.762636, 40.738887, 40.722078, 40.74211, 40.770208000000004, 40.75931930541992, 40.733315000000005, 40.771801, 40.779827000000004, 40.773037, 40.737735, 40.743784999999995, 40.719788, 40.731765, 40.736745, 40.790925, 40.681653000000004, 40.762215999999995, 40.762217, 40.732704999999996, 40.741675, 40.711693, 40.732133000000005, 40.778107, 40.758803, 40.735865000000004, 40.646972, 40.734691999999995, 40.757687, 40.77306, 40.75577163696289, 40.756153999999995, 40.779996999999995, 40.746219, 40.779988, 40.732696999999995, 40.751178, 40.792835, 40.756368, 40.748553, 40.761455, 40.774499, 40.735165, 40.758067, 40.726959, 40.763698, 40.77232, 40.73299026489258, 40.794694, 40.77364, 40.775634765625, 40.738923, 40.725982, 40.740595, 40.677419, 40.759132, 40.720998, 40.784527000000004, 40.768935, 40.756914, 40.761817, 40.792768, 40.793945, 40.773757, 40.743, 40.749401, 40.77834, 40.774021000000005, 40.712043, 40.763580322265625, 40.771864, 40.740901, 40.760412, 40.749551000000004, 40.80205, 40.757059000000005, 40.7394, 40.761998, 40.804182, 40.751112, 40.775672912597656, 40.735440999999994, 40.750126, 40.75141906738281, 40.709675, 40.720655, 40.751749, 40.752342, 40.759062, 40.756427, 40.720672, 40.755317, 40.744288, 40.748955, 40.782762, 40.703663, 40.732288, 40.740502, 40.77422, 40.716997, 40.742233, 40.752716, 40.762898, 40.774955, 40.77068, 40.720766, 40.750007000000004, 40.758815000000006, 40.76023, 40.773118, 40.780538, 40.747335, 40.744402, 40.758487701416016, 40.774527, 40.74241, 40.771768, 40.753805, 40.781038, 40.732217, 40.784283, 40.719195, 40.733096, 40.770241, 40.777390000000004, 40.738595000000004, 0.0, 40.766175, 40.771621, 40.749784999999996, 40.761257, 40.76725387573242, 40.752385, 40.735883, 40.711134, 40.745062, 40.732597999999996, 40.763748, 40.766448, 40.713679, 40.73839, 40.730775, 40.750774, 40.752125, 40.780875, 40.747769, 40.741727000000004, 40.744056, 40.727075, 40.764542999999996, 40.723847, 40.7076, 40.74062728881836, 40.776237, 0.0, 40.680882000000004, 40.738065, 40.747147, 40.744032000000004, 40.751917, 40.799802, 40.766326, 40.774172, 40.793564, 40.75939178466797, 40.74874877929688, 40.748442, 40.789402, 40.724767, 40.808288, 40.746857, 40.761765000000004, 40.758047, 40.833898, 40.774174, 40.738502502441406, 40.785140000000006, 40.792747, 40.762805, 40.79919, 40.759036, 40.716902000000005, 40.763308, 40.722442, 40.739645, 40.72823333740234, 40.689518, 40.755075, 40.719027000000004, 40.756170000000004, 40.738737, 40.762593, 40.806057, 40.75428771972656, 40.729655, 40.76192092895508, 40.776238, 40.77967, 40.753414, 40.755782, 40.770339, 40.771097999999995, 40.73526, 40.723648, 40.774896999999996, 40.742333, 40.737762, 40.753802, 40.779697, 40.744973, 40.73554, 40.741768, 40.762032, 40.759714, 40.749638, 40.72798156738281, 40.78752, 40.755249, 0.0, 40.783745, 40.750433, 40.749944, 40.734417, 40.769597, 40.725996, 40.731541, 40.777795000000005, 40.767784999999996, 40.760307, 40.745357, 40.762023, 40.769397, 40.746125, 40.764455, 40.788185, 40.724608, 40.768015000000005, 40.738876, 40.741187, 40.779267, 40.741170000000004, 40.803101, 40.781838, 40.783478, 40.81526565551758, 40.779443, 40.73095, 40.7323, 40.717998, 40.743434, 40.721290588378906, 40.726057, 40.733567, 40.780359999999995, 40.74725, 40.776013, 40.79065, 40.753015999999995, 40.644042999999996, 40.76749801635742, 40.736086, 40.741319, 40.751673, 40.712854, 40.779759999999996, 40.738423, 40.773769, 40.763507000000004, 40.756787, 40.73736953735352, 40.707423, 40.766548, 40.733064, 40.757852, 40.770163000000004, 40.757104999999996, 40.766897, 40.76905, 40.747173, 40.644323, 40.762308000000004, 40.761697999999996, 40.762213, 40.751814, 40.733674, 40.766088, 40.749192, 40.704667, 40.740053, 40.734353999999996, 40.70207595825195, 40.64537811279297, 40.791019, 40.763252, 40.748472, 40.77491760253906, 40.730098999999996, 40.764477, 40.739472, 40.738649, 40.783452000000004, 40.743968, 40.758876, 40.64143, 40.744896999999995, 40.708025, 40.760711, 40.746348, 40.769487, 40.730162, 40.827902, 40.814136, 40.733863, 40.753321, 40.753368, 40.781205, 40.725495, 40.78918, 40.756632, 40.731879, 40.725605, 0.0, 40.708696999999994, 40.720778, 40.774093, 40.769566999999995, 40.754814, 40.775209999999994, 40.75508, 40.704374, 40.725631, 40.758353, 40.743629455566406], \"legendgroup\": \"\", \"lon\": [-73.98599399999999, -73.993565, -73.9941635131836, -73.975825, -73.9751, -73.981831, -73.862845, -73.97235, 0.0, -73.94033813476562, -73.978952, -73.960822, -73.977981, -73.98754699999999, -73.994362, -74.000277, -73.960414, -73.967752, -73.972162, -73.964875, -73.954515, -73.980334, -73.960802, -73.97513000000001, -73.971063, -73.998692, -73.975761, -73.97510600000001, -73.976104, -73.992133, -73.781925, -73.97577700000001, 0.0, -74.006692, -73.973965, -73.923825, -73.961168, -73.98023, -74.000123, -73.986008, -74.000524, -73.97630699999999, -73.964927, -73.97452545166016, -74.015057, -73.98222, -73.98937225341797, -74.006888, 0.0, -73.969675, -73.93594300000001, -73.98307, -73.97814, -73.972143, -73.974695, -73.95389556884766, -73.98305500000001, -73.979228, -73.990387, -73.789175, -73.9664077758789, -73.96002299999999, -73.987941, -73.9964, -73.973473, -73.994612, -73.97429699999999, -73.9760513305664, -73.869642, -73.969877, -73.976777, -73.987813, -73.991029, -73.97132873535156, -73.97850600000001, -73.98224300000001, -74.006791, -73.971687, -73.972025, -74.000275, -73.975832, -73.984167, -74.0018539428711, -73.78222, -73.960206, 0.0, -73.99871800000001, -73.940152, -73.939339, -73.985326, -73.978852, -73.98889799999999, -73.984832, -73.97479799999999, -73.98857879638672, -73.984422, -73.982668, -73.96176147460938, -73.953232, -73.995423, -74.005057, -74.002307, -73.97070699999999, -73.968885, -73.983812, -73.998587, -73.951415, -73.98023986816406, -73.9869, -73.976687, -74.00748, -73.963753, -73.959323, -73.987889, 0.0, -73.999437, -73.9886474609375, -73.962024, -73.976185, -73.972298, -73.987895, -73.97516800000001, -73.977682, -73.98742, -73.963981, -73.995403, -73.978193, -73.987117, -73.974087, -73.982098, -73.98785, -73.961718, -73.953898, -73.971088, -73.964616, -73.87178, -73.95884699999999, -73.945577, -73.988208, -73.98651, -74.011085, -73.873052, -74.002573, -74.00213199999999, -73.970297, -73.95184499999999, -73.98250300000001, -73.983615, -73.991935, -73.86529200000001, -74.006372, -73.986623, -73.98621700000001, -74.00170135498047, -73.985702, -73.95448, -73.995403, -73.97962, -73.95657299999999, -73.959947, -73.976462, -73.969124, -73.987585, -73.97460600000001, -74.000502, -73.997262, -73.991058, -73.973478, -73.961043, -73.98375701904297, -73.99158, -74.00969, -73.97166700000001, -73.982276, -73.97563934326172, -73.972877, -73.983704, -74.004675, 0.0, -73.989352, -73.99848399999999, -73.989563, -73.952143, -73.97421, -73.985403, -73.990352, -73.983455, -73.95726776123047, -74.002027, -74.008773, -73.96311950683594, -73.97444152832031, -73.96751, -73.98179300000001, -73.996975, -73.98536, -73.968788, -73.995566, -74.005123, -73.978945, -73.8438, -73.979822, -74.003118, -73.988598, -73.96213, -73.783493, -73.995427, -73.981003, -73.97263199999999, -73.777005, -73.991601, 0.0, -73.934045, -73.98207092285156, -73.969172, -73.97256, -73.986593, -73.950507, -73.984815, -73.86616, -73.977793, -73.984663, -73.98155200000001, -73.99215799999999, -74.006443, -73.982732, 0.0, -73.998664, -73.95515999999999, -73.978933, -73.96388, -73.99069200000001, -73.982138, -73.976681, -73.93415999999999, -73.985477, -73.981215, -73.97999899999999, -73.977412, -73.993387, -73.952215, -73.99367, -73.971388, -73.9545, -73.955985, -73.793518, -73.982636, -73.978825, -73.98530799999999, -73.994173, -73.99815, -73.962128, -73.990022, -73.992925, -73.958298, -74.000916, -73.97751600000001, -73.977133, -73.987593, 0.0, -73.918868, -73.995793, -73.98265075683594, -73.995589, -73.981392, -74.00607099999999, -73.991396, -76.753086, -73.98149000000001, -74.004323, -74.00171, -73.960213, -73.98182299999999, -73.98584, -73.96642299999999, -73.98622131347656, -73.976584, -73.994872, -74.011206, -73.997096, -73.98610500000001, -73.9743, -73.996892, -73.985074, -73.996002, -73.97157299999999, -73.96992492675781, -73.994617, -73.991447, -73.982118, -73.971118, -74.00439300000001, -73.973073, -73.885226, -74.00479, -73.965078, -73.97972, -73.988664, -73.958605, -73.987864, -73.970105, -73.982171, -73.968227, -73.989637, -74.0067138671875, -73.980838, -73.97275, -73.925783, -73.970128, -73.985128, 0.0, -73.97874200000001, -73.97974, -73.967402, -73.977376, -74.01436, -73.98514200000001, -73.983751, -73.98381805419922, -74.009692, -74.000457, -73.98686981201172, -73.96401800000001, -73.96767, -73.991147, -74.003085, -73.96945500000001, -73.981143, 0.0, -73.988452, -73.98045349121094, -73.991923, -74.007615, -73.98352299999999, -73.975055, -73.989735, -73.990716, -73.963942, 0.0, -73.987987, -73.99104100000001, -74.005195, -74.00016, -73.96918199999999, -73.99849499999999, -73.97703, -74.002347, -73.999994, -73.982708, -73.959526, -73.98205300000001, -73.77669200000001, -73.944918, -73.9848403930664, -73.994067, -73.95838499999999, -73.986175, -73.940955, -73.980375, -73.994718, -73.98127, -73.993014, -73.999617, -74.00540500000001, -73.983552, -73.999032, -73.997479, -73.98313, -74.008312, -73.98324000000001, -73.99889399999999, -73.862625, -73.947532, -73.979964, -74.001882, -73.99718, -73.79006, -73.957654, -73.971115, -73.87291, 0.0, -73.98227, -73.98018, -73.95618499999999, -73.980432, -74.000541, -73.935022, -73.972946, -73.982445, -74.013081, -73.986161, -73.928979, -73.969765, -74.00340200000001, -73.976209, -73.967993, -73.863344, -73.98424200000001, -73.977575, -73.947908, -73.963655, -73.995052, -74.005187, -73.96509300000001, -73.95935821533203, -73.990889, -73.85899, -73.995114, -73.987775, -73.781867, -73.990756, -73.976562, 0.0, -73.9937744140625, -73.95551300048828, -73.88525200000001, -73.97300200000001, -73.968192, -73.981275, -73.983375, -73.97650909423828, -74.004476, -73.991564, 0.0, -73.99134699999999, -73.958779, -73.966132, -73.989487, -73.95018768310547, -73.98249, 0.0, -73.979101, -73.976905, -73.977238, -74.0119, -73.988566, -73.93435, -73.98830500000001, -73.987952, -73.961213, -73.982832, -73.99454200000001, -73.968351, -73.88561700000001, -74.000008, -73.99860100000001, -73.97650909423828, -73.975983, 0.0, -73.982362, -74.000867, -73.97845458984375, -74.0055160522461, -73.983345, -73.97228299999999, -73.972305, -73.99423, -73.988486, -73.985919, -74.01570799999999, -73.96514, -74.00799, -73.98685, -73.980584, -73.99774000000001, -73.99188000000001, -73.999879, -73.964401, -73.992586, -73.9526, -73.91747, -73.980839, -73.9623794555664, -73.992362, -73.993319, -73.969373, -73.983791, -73.997272, -74.000661, -74.00584, -74.00447700000001, -73.972015, -73.96822, -73.98985290527344, -73.961552, -73.9944, -73.99450300000001, -73.976163, -73.9785, -73.990113, -73.96875, -73.96451568603516, -73.87439499999999, -74.004807, -73.95000300000001, -73.953917, -74.002607, -74.014905, -73.988034, -73.97474799999999, -73.99691800000001, -73.994108, -73.98366700000001, -73.985575, -73.99168, -73.992319, -73.990204, -73.98067474365234, -73.97871500000001, -73.969235, -73.990237, -73.95427099999999, -73.986183, -73.955219, -73.9795, -73.995111, -73.98615500000001, -74.006045, -73.99002800000001, -73.982186, -73.94932299999999, -74.006273, -73.9661, -74.002493, -74.000615, -73.975943, -73.99536895751953, -73.993638, -73.995674, -73.970787, -73.9643, -74.009212, -73.96865, -73.97423, -73.958715, -74.00235699999999, -73.976682, -73.98082, -73.964552, -73.991982, -73.97503499999999, -74.00232, -73.958437, -73.984268, -73.978832, -73.951225, -73.98217700000001, -73.977358, -74.015264, -73.976559, -73.976598, -73.98772430419922, -73.953353, -73.995544, -73.992487, -73.950343, -73.987934, -73.97215, -73.974098, 0.0, -73.962478, -73.874038, -73.989835, -73.96892199999999, -73.97553253173828, -74.002812, -73.9922, -74.008482, -73.961187, -73.9541, -73.98552, -73.990237, -73.98899999999999, -73.99481999999999, -73.99190521240234, -74.002402, -74.001997, -73.972248, -73.992005, -73.982461, -73.97905731201172, -74.00490500000001, -73.996268, -73.97855, -73.97856140136719, -73.971378, -73.979887, -73.95875549316406, -73.977847, -73.980227, -73.995225, -73.934673, -74.003822, -73.989919, -73.787802, -73.862951, -73.97699200000001, -74.01645400000001, -73.964923, 0.0, -73.98213100000001, -73.987822, -73.88525, -73.98403, -73.944942, -73.9732666015625, -73.874452, -73.95438299999999, -74.000427, -73.965585, -73.98691, -73.963982, -74.01116999999999, -73.975697, -73.991867, -73.975223, -73.790705, -73.99554300000001, -73.978765, -74.00913299999999, -73.954892, -73.991546, -73.981672, -73.979371, -73.992437, -73.987975, 0.0, -73.98484300000001, -73.87078199999999, -73.986475, -73.953365, -73.993898, 0.0, -73.976908, 0.0, -73.98886, -73.9743, -73.903092, -73.98804, -73.981858, -74.00098, -73.933947, -73.973297, -74.004491, -73.983577, -73.982392, -73.979347, -73.968427, -73.97564697265625, -73.97673034667969, -73.947284, -73.967228, -73.989855, -73.960704, -73.98159, -73.96446, -73.99231800000001, -73.9969482421875, -74.01466500000001, -73.96912900000001, -73.966429, -73.980376, -74.000973, -73.98267, -73.95167, -73.947721, -73.97709655761719, -73.97291, -73.983053, -73.987297, -73.980625, -73.96236, -73.97453308105469, -73.99528000000001, -73.952927, -73.97698299999999, -73.962357, -73.992237, -74.006782, -73.998429, -74.00676, -73.99297299999999, -73.976439, -73.998427, -73.970516, -73.986287, -74.00016, -74.00695, -73.984773, -73.99131700000001, -73.98214300000001, -73.989745, -74.00608000000001, -73.78984, -73.998765, -73.988922, -73.962467, -73.9911117553711, -73.970528, -73.944517, -73.98210300000001, -73.953177, -74.00367800000001, -73.99403000000001, -73.97531, -73.966708, -73.975023, -73.98944499999999, -73.982119, -73.994157, -73.99197, -73.991457, -73.95875, -73.982293, -73.99568176269531, -73.962577, -73.871057, -73.96018981933594, -73.993921, -73.99454200000001, -73.97894000000001, -74.032348, -73.970355, -73.987043, -73.947885, -73.982272, -73.97147700000001, -73.990235, -73.9751, -73.966828, -73.95567700000001, -74.0, -73.975224, -73.95657, -73.95455799999999, -74.006238, -73.9790267944336, -73.979083, -74.001513, -73.97124000000001, -74.00282299999999, -73.967813, -73.963989, -74.006261, -73.962014, -73.936776, -73.972202, -73.98989868164062, -73.993803, -73.991456, -73.97416687011719, -74.016588, -74.013628, -73.99377700000001, -73.968159, -73.973927, -73.978873, -73.989817, -73.977192, -73.992002, -73.974765, -73.953192, -74.014411, -73.996288, -74.005542, -73.95944200000001, -73.956464, -74.008987, -73.98653900000001, -73.96592700000001, -73.982665, -73.954002, -73.989464, -73.98355500000001, -73.968531, -73.97409, -73.981904, -73.956935, -73.887345, -73.983597, -73.974365234375, -73.948212, -74.006468, -73.953408, -73.992387, -73.961422, -73.985135, -73.97951, -74.00144499999999, -73.993645, -73.959705, -73.982833, -73.98048, 0.0, -73.971575, -73.967573, -73.991233, -73.979703, -73.9566879272461, -73.985892, -73.993708, -74.015837, -73.98564300000001, -73.981585, -73.962568, -73.967342, -73.951598, -73.98348, -74.001538, -74.001984, -73.970713, -73.972737, -73.99114399999999, -74.003265, -73.97164599999999, -73.98131500000001, -73.970947, -73.996493, -74.0038, -73.99467468261719, -73.94676199999999, 0.0, -73.975047, -73.980652, -73.996877, -73.924088, -73.975685, -73.96870899999999, -73.968558, -73.87302199999999, -73.963373, -73.97205352783203, -73.98313903808594, -73.97604, -73.97564, -73.993895, -73.964697, -73.891082, -73.974937, -73.97709300000001, -73.945227, -73.959085, -73.98567962646484, -73.97702, -73.967754, -73.97778199999999, -73.96302800000001, -73.99414300000001, -74.012367, -73.97408, -73.997093, -73.982822, -73.98473358154297, -73.97138299999999, -73.979297, -73.99445300000001, -73.990789, -74.003457, -73.98253000000001, -73.96547, -73.9829330444336, -73.980958, -73.96591186523438, -73.955947, -73.95572, -73.977471, -73.975787, -73.902498, -73.95970799999999, -74.00609, -73.996515, -73.953742, -74.00444300000001, -73.992325, -73.980204, -73.947218, -73.992846, -73.991497, -73.99364, -73.966045, -73.984597, -73.991753, -73.98509216308594, -73.97469699999999, -73.998577, 0.0, -73.979828, -73.994641, -73.971956, -73.978388, -73.960803, -73.989587, -73.985466, -73.946168, -73.981217, -73.972027, -73.99117, -73.97908000000001, -73.954943, -73.971705, -73.991871, -73.97845699999999, -73.993548, -73.989502, -73.995308, -73.978565, -73.885293, -73.988754, -73.96765500000001, -73.97176, -73.949202, -73.9588623046875, -73.955574, -73.982387, -73.9964, -73.957552, -73.98181600000001, -73.99800872802734, -73.991812, -73.999555, -73.94766, -73.98558, -73.953113, -73.965579, -73.975499, -73.790054, -73.95611572265625, -73.993491, -73.993871, -73.976106, -73.921293, -73.956223, -74.003803, -73.87055600000001, -73.973123, -73.967287, -73.9974136352539, -74.00449499999999, -73.964989, -74.00033499999999, -73.98232, -73.957197, -73.984077, -73.96493199999999, -73.992463, -73.979124, -73.781975, -73.96300500000001, -73.986537, -73.97353000000001, -73.970686, -74.006439, -73.969213, -73.989168, -74.01084499999999, -73.981948, -73.98674399999999, -74.01263427734375, -73.77667999267578, -73.95349499999999, -73.982197, -73.976807, -73.9507827758789, -73.983301, -73.96879200000001, -73.988281, -74.00264399999999, -73.98179, -73.989932, -73.975408, -73.787997, -73.978565, -74.01260500000001, -73.984879, -74.001145, -73.95174499999999, -73.98342, -73.841472, -73.95966999999999, -74.0027, -73.992678, -73.978603, -73.954347, -74.003776, -73.977734, -73.974805, -73.98390400000001, -74.005375, 0.0, -74.011546, -73.986937, -73.988778, -73.98194699999999, -73.968875, -73.9649, -73.98416999999999, -74.008654, -73.98996700000001, -73.98583, -74.00667572021484], \"marker\": {\"color\": [12.1, 6.5, 6.0, 13.7, 14.1, 6.9, 36.27, 3.5, 7.3, 9.5, 3.7, 16.1, 4.5, 19.0, 3.5, 15.5, 5.5, 4.0, 6.5, 8.5, 5.7, 9.0, 8.9, 11.0, 7.7, 15.5, 41.3, 5.7, 8.1, 8.9, 43.7, 15.0, 2.5, 3.7, 9.7, 9.5, 7.0, 4.9, 9.7, 11.7, 3.7, 5.5, 5.3, 8.0, 21.0, 5.0, 9.5, 8.1, 2.5, 13.0, 12.5, 7.5, 10.0, 9.3, 3.5, 3.0, 6.1, 7.3, 7.5, 49.8, 8.0, 5.3, 18.1, 11.3, 8.5, 12.1, 6.0, 12.5, 33.0, 8.9, 5.0, 10.5, 16.0, 6.0, 12.9, 4.9, 20.5, 4.9, 6.5, 12.9, 27.0, 9.0, 6.5, 62.8, 7.5, 3.7, 12.5, 4.5, 10.0, 14.5, 38.1, 6.9, 5.7, 12.1, 14.0, 7.0, 3.7, 10.0, 14.5, 5.0, 8.9, 15.0, 21.0, 9.3, 6.1, 7.0, 10.5, 14.0, 12.1, 20.0, 4.0, 6.9, 6.1, 8.2, 4.1, 9.0, 13.5, 12.5, 8.9, 6.5, 5.5, 57.33, 27.07, 11.7, 16.5, 8.5, 5.3, 30.5, 3.7, 11.5, 9.0, 21.5, 4.0, 12.5, 4.1, 18.1, 17.7, 7.5, 18.5, 6.0, 10.1, 31.7, 15.0, 8.0, 9.0, 11.5, 6.0, 5.3, 7.3, 43.83, 6.5, 4.9, 3.7, 20.0, 7.0, 5.7, 24.9, 4.1, 5.0, 4.5, 6.5, 22.0, 5.7, 9.3, 8.0, 14.5, 6.1, 17.3, 19.0, 76.75, 5.7, 4.5, 4.9, 9.5, 8.0, 9.5, 8.1, 6.1, 36.83, 5.3, 10.9, 5.3, 6.0, 6.0, 5.0, 6.9, 8.0, 8.0, 5.3, 23.5, 9.0, 6.5, 7.0, 8.1, 7.5, 14.0, 5.3, 7.5, 9.7, 7.3, 16.9, 9.3, 12.5, 5.0, 10.0, 49.8, 5.5, 7.7, 7.3, 57.33, 9.7, 11.3, 10.5, 6.0, 5.7, 5.5, 6.5, 9.5, 8.1, 37.0, 11.3, 10.9, 12.1, 12.5, 13.3, 5.0, 12.9, 16.1, 8.5, 4.1, 6.5, 3.7, 12.9, 7.5, 10.9, 7.0, 8.1, 6.5, 6.1, 4.5, 12.9, 7.3, 5.3, 14.0, 6.5, 12.5, 10.9, 21.0, 6.9, 6.5, 5.5, 9.0, 12.1, 12.5, 19.7, 12.9, 56.8, 8.9, 8.5, 6.1, 6.5, 9.5, 9.0, 6.9, 5.5, 2.9, 6.9, 4.5, 8.1, 14.0, 8.1, 5.7, 13.7, 12.0, 9.5, 11.5, 7.0, 6.1, 8.1, 5.7, 4.9, 6.9, 14.1, 11.5, 7.5, 8.5, 6.0, 6.5, 5.7, 7.3, 9.7, 5.0, 6.5, 40.83, 11.3, 9.7, 10.9, 12.5, 18.0, 17.5, 6.9, 18.0, 4.5, 5.7, 57.58, 49.57, 12.1, 27.7, 11.7, 6.5, 4.9, 18.9, 14.1, 7.0, 7.0, 21.5, 5.5, 7.3, 6.0, 11.7, 14.9, 24.0, 11.3, 10.5, 6.9, 6.1, 10.9, 4.5, 10.5, 9.3, 10.0, 11.3, 7.5, 8.1, 14.5, 13.3, 8.5, 16.1, 3.7, 14.1, 12.0, 52.0, 8.1, 8.0, 3.7, 9.7, 6.9, 6.5, 6.9, 8.5, 6.9, 47.5, 2.9, 11.0, 9.5, 19.7, 11.0, 13.5, 10.5, 15.3, 4.9, 10.5, 8.1, 16.1, 4.1, 57.33, 22.5, 19.0, 10.0, 10.1, 14.1, 29.3, 7.3, 8.9, 9.3, 9.7, 49.8, 15.7, 5.3, 25.7, 6.9, 18.5, 18.0, 4.1, 13.7, 17.7, 15.5, 7.3, 9.0, 52.0, 8.5, 7.0, 10.5, 13.3, 10.9, 7.3, 40.83, 5.0, 5.3, 14.5, 7.7, 5.0, 7.0, 6.9, 52.0, 5.5, 3.5, 7.7, 10.1, 9.7, 4.1, 12.5, 11.5, 6.0, 14.5, 27.7, 13.3, 16.1, 15.5, 32.1, 6.0, 12.0, 7.5, 5.7, 14.5, 9.7, 17.7, 16.5, 9.5, 17.0, 14.1, 6.2, 3.3, 7.3, 8.9, 18.0, 18.5, 3.7, 5.7, 4.1, 17.0, 4.5, 6.5, 15.7, 7.5, 8.0, 6.0, 8.0, 7.5, 4.5, 30.0, 10.0, 5.5, 16.1, 15.0, 4.1, 7.7, 9.0, 6.9, 19.3, 3.3, 6.5, 7.0, 10.9, 9.7, 10.1, 10.5, 8.0, 12.5, 3.7, 6.5, 9.3, 13.5, 11.5, 14.0, 10.0, 7.7, 12.1, 11.7, 9.3, 7.3, 12.5, 13.3, 9.5, 9.3, 10.9, 7.7, 7.5, 6.9, 17.3, 8.1, 7.5, 35.8, 6.0, 10.5, 4.5, 6.1, 12.0, 16.5, 6.5, 12.9, 14.1, 15.0, 8.5, 6.9, 11.3, 5.3, 6.0, 15.0, 8.5, 6.5, 4.5, 9.0, 4.1, 7.0, 5.4, 8.5, 4.9, 18.5, 8.5, 9.5, 12.0, 3.5, 24.1, 8.9, 5.7, 8.0, 7.5, 7.0, 6.0, 12.1, 11.0, 5.0, 19.3, 10.5, 25.0, 9.0, 7.5, 10.0, 6.5, 12.5, 7.5, 3.3, 4.1, 8.1, 11.5, 5.7, 4.5, 11.5, 6.9, 8.1, 10.5, 6.5, 4.9, 5.7, 7.3, 8.1, 9.0, 6.0, 8.1, 6.0, 7.7, 10.1, 4.5, 14.5, 7.5, 3.3, 17.0, 7.3, 10.5, 6.1, 2.9, 8.0, 13.3, 7.0, 9.5, 8.0, 18.9, 10.0, 4.1, 8.5, 7.5, 4.1, 3.5, 4.5, 6.9, 6.5, 9.5, 8.5, 6.1, 6.1, 21.7, 10.5, 2.9, 57.33, 28.1, 6.5, 6.1, 7.0, 7.3, 18.9, 5.3, 36.83, 10.9, 5.5, 8.5, 23.7, 13.5, 3.0, 4.0, 3.3, 8.1, 14.0, 5.0, 22.5, 11.3, 42.5, 8.0, 12.9, 13.7, 9.3, 7.3, 8.5, 10.5, 6.0, 3.3, 7.7, 15.5, 41.83, 15.3, 11.5, 10.5, 2.5, 18.5, 6.5, 4.5, 6.1, 4.1, 6.9, 11.3, 7.0, 20.5, 4.0, 20.5, 8.1, 15.0, 3.3, 15.5, 9.5, 5.5, 6.9, 13.5, 4.9, 4.1, 5.3, 23.0, 7.0, 8.0, 6.5, 4.9, 10.1, 17.0, 20.9, 10.1, 15.7, 4.0, 7.5, 6.1, 11.0, 8.2, 6.1, 8.0, 6.0, 4.9, 12.1, 5.5, 10.1, 7.7, 7.5, 15.3, 8.1, 4.9, 4.1, 12.9, 10.1, 8.0, 4.5, 6.5, 13.0, 9.7, 23.3, 28.27, 9.3, 57.33, 3.5, 14.1, 5.0, 13.0, 7.7, 16.9, 6.1, 16.5, 13.7, 8.1, 49.8, 7.3, 10.9, 4.9, 6.0, 7.7, 6.1, 8.9, 12.5, 6.9, 17.5, 3.5, 43.3, 40.0, 10.5, 4.5, 6.5, 4.9, 8.1, 7.0, 13.3, 8.0, 7.3, 5.7, 4.9, 9.7, 21.0, 8.1, 7.7, 37.5, 5.3, 17.3, 57.54, 4.5, 4.5, 10.0, 4.0, 4.9, 12.1, 13.3, 9.0, 19.7, 8.9, 9.0, 6.1, 14.5, 7.0, 15.7, 15.7, 14.1, 8.5, 14.5, 14.9, 14.5, 7.5, 9.3, 9.3, 7.7, 10.5, 7.0, 8.0, 6.1, 6.9, 6.9, 6.5, 8.1, 4.9, 4.5, 27.0, 15.0, 19.7, 8.1, 6.5, 8.9, 5.5, 4.5, 4.0, 13.7, 3.5, 7.3, 12.5, 8.9, 5.0, 6.9, 6.5, 10.5, 7.3, 12.0, 6.5, 9.0, 5.3, 13.0, 10.1, 26.0, 6.5, 49.8, 4.5, 13.3, 4.5, 9.5, 4.5, 6.0, 11.3, 6.0, 14.9, 5.4, 16.5, 6.1, 4.5, 8.0, 8.5, 7.3, 11.3, 12.1, 5.7, 16.5, 4.9, 12.5, 15.5, 14.0, 9.0, 12.5, 7.7, 12.5, 14.1, 39.0, 9.3, 7.5, 7.0, 3.3, 5.5, 10.9, 23.3, 6.5, 7.7, 10.0, 23.3, 4.5, 11.5, 5.5, 6.1, 4.0, 4.9, 9.0, 14.9, 5.7, 4.5, 4.5, 13.0, 9.3, 9.5, 9.7, 9.0, 5.5, 7.3, 9.7, 10.0, 14.5, 16.0, 4.5, 8.0, 6.0, 5.3, 4.0, 6.5, 7.0, 4.5, 6.5, 8.5, 3.7, 53.5, 11.5, 5.7, 5.7, 14.5, 14.0, 13.7, 14.1, 9.0, 5.0, 8.9, 5.3, 8.5, 11.5, 10.6, 7.5, 7.7, 7.3, 12.5, 12.5, 4.1, 4.5, 4.5, 7.3, 11.3, 12.1, 10.1, 24.5, 6.9, 5.0, 6.5, 6.9, 4.9, 3.5, 5.0, 8.5, 9.3, 23.0, 6.9, 22.5, 11.3, 15.7, 4.5, 9.0, 11.3, 20.0, 11.5, 10.5, 6.9, 5.3, 15.7, 32.9, 24.5, 8.0, 15.3, 7.0, 5.7, 8.1, 15.7, 29.450000000000006, 5.7, 6.1, 19.0, 14.9, 4.5, 5.0, 6.5, 8.5, 4.9, 15.0, 4.1, 6.5, 56.8, 12.9, 8.5, 12.5, 8.1, 5.7, 8.5, 12.5, 6.5, 10.5, 4.5, 21.0, 57.54, 11.7, 3.7, 4.0, 4.5, 19.5, 6.5, 9.5, 5.0, 6.5, 11.3, 8.9, 31.5, 9.7, 4.5, 4.9, 4.5, 25.3, 6.5, 21.7, 6.5, 20.1, 15.5, 6.9, 4.5, 19.5, 3.7, 9.5, 20.5, 6.5, 6.9, 9.5, 13.3, 9.0, 11.5, 3.3, 9.3, 5.7, 12.0, 13.3, 6.5, 11.0], \"coloraxis\": \"coloraxis\"}, \"mode\": \"markers\", \"name\": \"\", \"showlegend\": false, \"subplot\": \"mapbox\", \"type\": \"scattermapbox\"}],\n",
       "                        {\"coloraxis\": {\"colorbar\": {\"title\": {\"text\": \"fare_amount\"}}, \"colorscale\": [[0.0, \"#0d0887\"], [0.1111111111111111, \"#46039f\"], [0.2222222222222222, \"#7201a8\"], [0.3333333333333333, \"#9c179e\"], [0.4444444444444444, \"#bd3786\"], [0.5555555555555556, \"#d8576b\"], [0.6666666666666666, \"#ed7953\"], [0.7777777777777778, \"#fb9f3a\"], [0.8888888888888888, \"#fdca26\"], [1.0, \"#f0f921\"]]}, \"height\": 300, \"legend\": {\"tracegroupgap\": 0}, \"mapbox\": {\"center\": {\"lat\": 39.6953747908435, \"lon\": -72.0537901328373}, \"domain\": {\"x\": [0.0, 1.0], \"y\": [0.0, 1.0]}, \"style\": \"open-street-map\", \"zoom\": 5}, \"margin\": {\"b\": 0, \"l\": 0, \"r\": 0, \"t\": 0}, \"template\": {\"data\": {\"bar\": [{\"error_x\": {\"color\": \"#2a3f5f\"}, \"error_y\": {\"color\": \"#2a3f5f\"}, \"marker\": {\"line\": {\"color\": \"#E5ECF6\", \"width\": 0.5}}, \"type\": \"bar\"}], \"barpolar\": [{\"marker\": {\"line\": {\"color\": \"#E5ECF6\", \"width\": 0.5}}, \"type\": \"barpolar\"}], \"carpet\": [{\"aaxis\": {\"endlinecolor\": \"#2a3f5f\", \"gridcolor\": \"white\", \"linecolor\": \"white\", \"minorgridcolor\": \"white\", \"startlinecolor\": \"#2a3f5f\"}, \"baxis\": {\"endlinecolor\": \"#2a3f5f\", \"gridcolor\": \"white\", \"linecolor\": \"white\", \"minorgridcolor\": \"white\", \"startlinecolor\": \"#2a3f5f\"}, \"type\": \"carpet\"}], \"choropleth\": [{\"colorbar\": {\"outlinewidth\": 0, \"ticks\": \"\"}, \"type\": \"choropleth\"}], \"contour\": [{\"colorbar\": {\"outlinewidth\": 0, \"ticks\": \"\"}, \"colorscale\": [[0.0, \"#0d0887\"], [0.1111111111111111, \"#46039f\"], [0.2222222222222222, \"#7201a8\"], [0.3333333333333333, \"#9c179e\"], [0.4444444444444444, \"#bd3786\"], [0.5555555555555556, \"#d8576b\"], [0.6666666666666666, \"#ed7953\"], [0.7777777777777778, \"#fb9f3a\"], [0.8888888888888888, \"#fdca26\"], [1.0, \"#f0f921\"]], \"type\": \"contour\"}], \"contourcarpet\": [{\"colorbar\": {\"outlinewidth\": 0, \"ticks\": \"\"}, \"type\": \"contourcarpet\"}], \"heatmap\": [{\"colorbar\": {\"outlinewidth\": 0, \"ticks\": \"\"}, \"colorscale\": [[0.0, \"#0d0887\"], [0.1111111111111111, \"#46039f\"], [0.2222222222222222, \"#7201a8\"], [0.3333333333333333, \"#9c179e\"], [0.4444444444444444, \"#bd3786\"], [0.5555555555555556, \"#d8576b\"], [0.6666666666666666, \"#ed7953\"], [0.7777777777777778, \"#fb9f3a\"], [0.8888888888888888, \"#fdca26\"], [1.0, \"#f0f921\"]], \"type\": \"heatmap\"}], \"heatmapgl\": [{\"colorbar\": {\"outlinewidth\": 0, \"ticks\": \"\"}, \"colorscale\": [[0.0, \"#0d0887\"], [0.1111111111111111, \"#46039f\"], [0.2222222222222222, \"#7201a8\"], [0.3333333333333333, \"#9c179e\"], [0.4444444444444444, \"#bd3786\"], [0.5555555555555556, \"#d8576b\"], [0.6666666666666666, \"#ed7953\"], [0.7777777777777778, \"#fb9f3a\"], [0.8888888888888888, \"#fdca26\"], [1.0, \"#f0f921\"]], \"type\": \"heatmapgl\"}], \"histogram\": [{\"marker\": {\"colorbar\": {\"outlinewidth\": 0, \"ticks\": \"\"}}, \"type\": \"histogram\"}], \"histogram2d\": [{\"colorbar\": {\"outlinewidth\": 0, \"ticks\": \"\"}, \"colorscale\": [[0.0, \"#0d0887\"], [0.1111111111111111, \"#46039f\"], [0.2222222222222222, \"#7201a8\"], [0.3333333333333333, \"#9c179e\"], [0.4444444444444444, \"#bd3786\"], [0.5555555555555556, \"#d8576b\"], [0.6666666666666666, \"#ed7953\"], [0.7777777777777778, \"#fb9f3a\"], [0.8888888888888888, \"#fdca26\"], [1.0, \"#f0f921\"]], \"type\": \"histogram2d\"}], \"histogram2dcontour\": [{\"colorbar\": {\"outlinewidth\": 0, \"ticks\": \"\"}, \"colorscale\": [[0.0, \"#0d0887\"], [0.1111111111111111, \"#46039f\"], [0.2222222222222222, \"#7201a8\"], [0.3333333333333333, \"#9c179e\"], [0.4444444444444444, \"#bd3786\"], [0.5555555555555556, \"#d8576b\"], [0.6666666666666666, \"#ed7953\"], [0.7777777777777778, \"#fb9f3a\"], [0.8888888888888888, \"#fdca26\"], [1.0, \"#f0f921\"]], \"type\": \"histogram2dcontour\"}], \"mesh3d\": [{\"colorbar\": {\"outlinewidth\": 0, \"ticks\": \"\"}, \"type\": \"mesh3d\"}], \"parcoords\": [{\"line\": {\"colorbar\": {\"outlinewidth\": 0, \"ticks\": \"\"}}, \"type\": \"parcoords\"}], \"pie\": [{\"automargin\": true, \"type\": \"pie\"}], \"scatter\": [{\"marker\": {\"colorbar\": {\"outlinewidth\": 0, \"ticks\": \"\"}}, \"type\": \"scatter\"}], \"scatter3d\": [{\"line\": {\"colorbar\": {\"outlinewidth\": 0, \"ticks\": \"\"}}, \"marker\": {\"colorbar\": {\"outlinewidth\": 0, \"ticks\": \"\"}}, \"type\": \"scatter3d\"}], \"scattercarpet\": [{\"marker\": {\"colorbar\": {\"outlinewidth\": 0, \"ticks\": \"\"}}, \"type\": \"scattercarpet\"}], \"scattergeo\": [{\"marker\": {\"colorbar\": {\"outlinewidth\": 0, \"ticks\": \"\"}}, \"type\": \"scattergeo\"}], \"scattergl\": [{\"marker\": {\"colorbar\": {\"outlinewidth\": 0, \"ticks\": \"\"}}, \"type\": \"scattergl\"}], \"scattermapbox\": [{\"marker\": {\"colorbar\": {\"outlinewidth\": 0, \"ticks\": \"\"}}, \"type\": \"scattermapbox\"}], \"scatterpolar\": [{\"marker\": {\"colorbar\": {\"outlinewidth\": 0, \"ticks\": \"\"}}, \"type\": \"scatterpolar\"}], \"scatterpolargl\": [{\"marker\": {\"colorbar\": {\"outlinewidth\": 0, \"ticks\": \"\"}}, \"type\": \"scatterpolargl\"}], \"scatterternary\": [{\"marker\": {\"colorbar\": {\"outlinewidth\": 0, \"ticks\": \"\"}}, \"type\": \"scatterternary\"}], \"surface\": [{\"colorbar\": {\"outlinewidth\": 0, \"ticks\": \"\"}, \"colorscale\": [[0.0, \"#0d0887\"], [0.1111111111111111, \"#46039f\"], [0.2222222222222222, \"#7201a8\"], [0.3333333333333333, \"#9c179e\"], [0.4444444444444444, \"#bd3786\"], [0.5555555555555556, \"#d8576b\"], [0.6666666666666666, \"#ed7953\"], [0.7777777777777778, \"#fb9f3a\"], [0.8888888888888888, \"#fdca26\"], [1.0, \"#f0f921\"]], \"type\": \"surface\"}], \"table\": [{\"cells\": {\"fill\": {\"color\": \"#EBF0F8\"}, \"line\": {\"color\": \"white\"}}, \"header\": {\"fill\": {\"color\": \"#C8D4E3\"}, \"line\": {\"color\": \"white\"}}, \"type\": \"table\"}]}, \"layout\": {\"annotationdefaults\": {\"arrowcolor\": \"#2a3f5f\", \"arrowhead\": 0, \"arrowwidth\": 1}, \"coloraxis\": {\"colorbar\": {\"outlinewidth\": 0, \"ticks\": \"\"}}, \"colorscale\": {\"diverging\": [[0, \"#8e0152\"], [0.1, \"#c51b7d\"], [0.2, \"#de77ae\"], [0.3, \"#f1b6da\"], [0.4, \"#fde0ef\"], [0.5, \"#f7f7f7\"], [0.6, \"#e6f5d0\"], [0.7, \"#b8e186\"], [0.8, \"#7fbc41\"], [0.9, \"#4d9221\"], [1, \"#276419\"]], \"sequential\": [[0.0, \"#0d0887\"], [0.1111111111111111, \"#46039f\"], [0.2222222222222222, \"#7201a8\"], [0.3333333333333333, \"#9c179e\"], [0.4444444444444444, \"#bd3786\"], [0.5555555555555556, \"#d8576b\"], [0.6666666666666666, \"#ed7953\"], [0.7777777777777778, \"#fb9f3a\"], [0.8888888888888888, \"#fdca26\"], [1.0, \"#f0f921\"]], \"sequentialminus\": [[0.0, \"#0d0887\"], [0.1111111111111111, \"#46039f\"], [0.2222222222222222, \"#7201a8\"], [0.3333333333333333, \"#9c179e\"], [0.4444444444444444, \"#bd3786\"], [0.5555555555555556, \"#d8576b\"], [0.6666666666666666, \"#ed7953\"], [0.7777777777777778, \"#fb9f3a\"], [0.8888888888888888, \"#fdca26\"], [1.0, \"#f0f921\"]]}, \"colorway\": [\"#636efa\", \"#EF553B\", \"#00cc96\", \"#ab63fa\", \"#FFA15A\", \"#19d3f3\", \"#FF6692\", \"#B6E880\", \"#FF97FF\", \"#FECB52\"], \"font\": {\"color\": \"#2a3f5f\"}, \"geo\": {\"bgcolor\": \"white\", \"lakecolor\": \"white\", \"landcolor\": \"#E5ECF6\", \"showlakes\": true, \"showland\": true, \"subunitcolor\": \"white\"}, \"hoverlabel\": {\"align\": \"left\"}, \"hovermode\": \"closest\", \"mapbox\": {\"style\": \"light\"}, \"paper_bgcolor\": \"white\", \"plot_bgcolor\": \"#E5ECF6\", \"polar\": {\"angularaxis\": {\"gridcolor\": \"white\", \"linecolor\": \"white\", \"ticks\": \"\"}, \"bgcolor\": \"#E5ECF6\", \"radialaxis\": {\"gridcolor\": \"white\", \"linecolor\": \"white\", \"ticks\": \"\"}}, \"scene\": {\"xaxis\": {\"backgroundcolor\": \"#E5ECF6\", \"gridcolor\": \"white\", \"gridwidth\": 2, \"linecolor\": \"white\", \"showbackground\": true, \"ticks\": \"\", \"zerolinecolor\": \"white\"}, \"yaxis\": {\"backgroundcolor\": \"#E5ECF6\", \"gridcolor\": \"white\", \"gridwidth\": 2, \"linecolor\": \"white\", \"showbackground\": true, \"ticks\": \"\", \"zerolinecolor\": \"white\"}, \"zaxis\": {\"backgroundcolor\": \"#E5ECF6\", \"gridcolor\": \"white\", \"gridwidth\": 2, \"linecolor\": \"white\", \"showbackground\": true, \"ticks\": \"\", \"zerolinecolor\": \"white\"}}, \"shapedefaults\": {\"line\": {\"color\": \"#2a3f5f\"}}, \"ternary\": {\"aaxis\": {\"gridcolor\": \"white\", \"linecolor\": \"white\", \"ticks\": \"\"}, \"baxis\": {\"gridcolor\": \"white\", \"linecolor\": \"white\", \"ticks\": \"\"}, \"bgcolor\": \"#E5ECF6\", \"caxis\": {\"gridcolor\": \"white\", \"linecolor\": \"white\", \"ticks\": \"\"}}, \"title\": {\"x\": 0.05}, \"xaxis\": {\"automargin\": true, \"gridcolor\": \"white\", \"linecolor\": \"white\", \"ticks\": \"\", \"title\": {\"standoff\": 15}, \"zerolinecolor\": \"white\", \"zerolinewidth\": 2}, \"yaxis\": {\"automargin\": true, \"gridcolor\": \"white\", \"linecolor\": \"white\", \"ticks\": \"\", \"title\": {\"standoff\": 15}, \"zerolinecolor\": \"white\", \"zerolinewidth\": 2}}}},\n",
       "                        {\"responsive\": true}\n",
       "                    ).then(function(){\n",
       "                            \n",
       "var gd = document.getElementById('71bb1823-66c2-426c-8e60-e519faf848a4');\n",
       "var x = new MutationObserver(function (mutations, observer) {{\n",
       "        var display = window.getComputedStyle(gd).display;\n",
       "        if (!display || display === 'none') {{\n",
       "            console.log([gd, 'removed!']);\n",
       "            Plotly.purge(gd);\n",
       "            observer.disconnect();\n",
       "        }}\n",
       "}});\n",
       "\n",
       "// Listen for the removal of the full notebook cells\n",
       "var notebookContainer = gd.closest('#notebook-container');\n",
       "if (notebookContainer) {{\n",
       "    x.observe(notebookContainer, {childList: true});\n",
       "}}\n",
       "\n",
       "// Listen for the clearing of the current output cell\n",
       "var outputEl = gd.closest('.output');\n",
       "if (outputEl) {{\n",
       "    x.observe(outputEl, {childList: true});\n",
       "}}\n",
       "\n",
       "                        })\n",
       "                };\n",
       "                \n",
       "            </script>\n",
       "        </div>\n",
       "</body>\n",
       "</html>"
      ]
     },
     "metadata": {
      "tags": []
     },
     "output_type": "display_data"
    }
   ],
   "source": [
    "#fig = px.scatter_mapbox(df_s, lat=\"pickup_latitude\", lon=\"pickup_longitude\",\n",
    "   #                    color_discrete_sequence=[\"green\"], zoom=5, height=300)\n",
    "fig = px.scatter_mapbox(df_s[:1000], lat=\"pickup_latitude\", lon=\"pickup_longitude\",\n",
    "                        color='fare_amount', zoom=5, height=300)\n",
    "fig.update_layout(mapbox_style=\"open-street-map\")\n",
    "fig.update_layout(margin={\"r\":0,\"t\":0,\"l\":0,\"b\":0})\n",
    "fig.show()"
   ]
  },
  {
   "cell_type": "markdown",
   "id": "45b0a962",
   "metadata": {
    "id": "45b0a962"
   },
   "source": [
    "**LIMPIEZA  GENERAL**"
   ]
  },
  {
   "cell_type": "code",
   "execution_count": 47,
   "id": "125d9ac1",
   "metadata": {
    "colab": {
     "base_uri": "https://localhost:8080/"
    },
    "id": "125d9ac1",
    "outputId": "3989c470-f82f-4315-a9e5-9993270891a7"
   },
   "outputs": [
    {
     "name": "stdout",
     "output_type": "stream",
     "text": [
      "Shape antes del limpieza general:  (200000, 8)\n",
      "Shape despues del limpieza general:  (199204, 8)\n",
      "Limpiando 796 registros\n",
      "CPU times: user 45.2 ms, sys: 7.24 ms, total: 52.5 ms\n",
      "Wall time: 52.6 ms\n"
     ]
    }
   ],
   "source": [
    "%%time\n",
    "def filter_data(dataframe):\n",
    "    #Solo quedan si cumplen las condiciones \n",
    "    return dataframe[\n",
    "        #Coordenadas Ilegales\n",
    "        (-180.0 <= dataframe[\"pickup_longitude\"])&\n",
    "        (dataframe[\"pickup_longitude\"] <= 180.0)&\n",
    "        (-90.0 <= dataframe[\"pickup_latitude\"])&\n",
    "        (dataframe[\"pickup_latitude\"] <= 90.0)&\n",
    "        (-180.0 <= dataframe[\"dropoff_longitude\"])&\n",
    "        (dataframe[\"dropoff_longitude\"] <= 180.0)&\n",
    "        (-90.0 <= dataframe[\"dropoff_latitude\"])&\n",
    "        (dataframe[\"dropoff_latitude\"] <= 90.0)& \n",
    "        #(df_s[\"pickup_longitude\"] != df_s[\"dropoff_longitude\"])&\n",
    "        #Fare amount  \n",
    "        (2.0 <= dataframe[\"fare_amount\"])&\n",
    "        (dataframe[\"fare_amount\"] <= 100)&\n",
    "        # passenger_count\n",
    "        (1<=dataframe[\"passenger_count\"])&\n",
    "        (dataframe[\"passenger_count\"]<= 6)]    \n",
    "     \n",
    "print (\"Shape antes del limpieza general: \", df_s.shape)\n",
    "data = filter_data(df_s)\n",
    "print (\"Shape despues del limpieza general: \", data.shape)\n",
    "print (\"Limpiando %d registros\"%(df_s.shape[0] - data.shape[0]))"
   ]
  },
  {
   "cell_type": "markdown",
   "id": "9809f8d3",
   "metadata": {
    "id": "9809f8d3"
   },
   "source": [
    "**INTERCAMBIAR COORDENADAS DE PUNTOS PARA CONSIDERARLOS DENTRO DE LA REGIÓN VALIDA**"
   ]
  },
  {
   "cell_type": "code",
   "execution_count": 48,
   "id": "7f5c7e9e",
   "metadata": {
    "colab": {
     "base_uri": "https://localhost:8080/"
    },
    "id": "7f5c7e9e",
    "outputId": "1478ecb4-dfb7-4c08-a737-46221951eeb4"
   },
   "outputs": [
    {
     "name": "stdout",
     "output_type": "stream",
     "text": [
      "Numero de reflejos :  79\n"
     ]
    }
   ],
   "source": [
    "def swap_coordinates (dataframe,\n",
    "    city_limits = { \n",
    "        \"lon_min\":-76,\n",
    "        \"lon_max\":-73,\n",
    "        \"lat_min\":38,\n",
    "        \"lat_max\":50} ):\n",
    "    #Intercambia las coordenadas de los viajes en \n",
    "    # la region [38 , 50]x[-76, -73]\n",
    "    # la region de principarl de trabajo\n",
    "    # (cuidad de NY) es : [-76, -73]x[38 , 50]\n",
    "    datap = dataframe\n",
    "    city_interchange = (\n",
    "        (datap[\"pickup_longitude\"] > city_limits[\"lat_min\"])&\n",
    "        (datap[\"pickup_longitude\"] < city_limits[\"lat_max\"])&\n",
    "        (datap[\"pickup_latitude\"] > city_limits[\"lon_min\"] )& #-74.252444 \n",
    "        (datap[\"pickup_latitude\"] < city_limits[\"lon_max\"] )& \n",
    "\n",
    "        (datap[\"dropoff_longitude\"] > city_limits[\"lat_min\"])&\n",
    "        (datap[\"dropoff_longitude\"] < city_limits[\"lat_max\"])&\n",
    "        (datap[\"dropoff_latitude\"] >  city_limits[\"lon_min\"] )&\n",
    "        (datap[\"dropoff_latitude\"] <  city_limits[\"lon_max\"] ) \n",
    "        )\n",
    "    print ( \"Numero de reflejos : \",city_interchange.sum())\n",
    "    \n",
    "    datap.loc[city_interchange] = datap.loc[city_interchange].rename(columns={\n",
    "        'pickup_longitude':'pickup_latitude',\n",
    "        'pickup_latitude':'pickup_longitude',\n",
    "        'dropoff_latitude':'dropoff_longitude',\n",
    "        'dropoff_longitude':'dropoff_latitude'})\n",
    "    return datap\n",
    "\n",
    "data = swap_coordinates(data)\n"
   ]
  },
  {
   "cell_type": "markdown",
   "id": "ec837144",
   "metadata": {
    "id": "ec837144"
   },
   "source": [
    "**DETERMINAR LA REGIÓN VALIDA**"
   ]
  },
  {
   "cell_type": "code",
   "execution_count": 49,
   "id": "b59ef1ac",
   "metadata": {
    "colab": {
     "base_uri": "https://localhost:8080/"
    },
    "id": "b59ef1ac",
    "outputId": "3ce1c7a1-222d-42e5-c340-2010e9520bc4"
   },
   "outputs": [
    {
     "name": "stdout",
     "output_type": "stream",
     "text": [
      "Shape antes de la limpieza por región:  (199204, 8)\n",
      "Shape despues de la limpieza por región:  (192701, 8)\n",
      "Limpiando 7299 registros acumulados en total hasta ahora \n"
     ]
    }
   ],
   "source": [
    "#long_border = (-74.03, -73.75)\n",
    "#lat_border = (40.63, 40.85)\n",
    "def filter_out_of_city(dataframe,city_limits = { \n",
    "        \"lon_min\":-74.03 ,\n",
    "        \"lon_max\":-73.75,\n",
    "        \"lat_min\":40.63,\n",
    "        \"lat_max\":40.85}):\n",
    "    #Solo quedan si estan dentro de la ciudad \n",
    "    return dataframe[\n",
    "        (city_limits[\"lon_min\"]<= dataframe[\"pickup_longitude\"])&\n",
    "        (dataframe[\"pickup_longitude\"] <= city_limits[\"lon_max\"])&\n",
    "        (city_limits[\"lat_min\"]<= dataframe[\"pickup_latitude\"])&\n",
    "        (dataframe[\"pickup_latitude\"] <= city_limits[\"lat_max\"])&\n",
    "        (city_limits[\"lon_min\"] <= dataframe[\"dropoff_longitude\"])&\n",
    "        (dataframe[\"dropoff_longitude\"] <= city_limits[\"lon_max\"])&\n",
    "        (city_limits[\"lat_min\"]<= dataframe[\"dropoff_latitude\"])&\n",
    "        (dataframe[\"dropoff_latitude\"] <= city_limits[\"lat_max\"])]\n",
    "\n",
    "print (\"Shape antes de la limpieza por región: \", data.shape)\n",
    "data = filter_out_of_city(data)\n",
    "print (\"Shape despues de la limpieza por región: \", data.shape)\n",
    "print (\"Limpiando %d registros acumulados en total hasta ahora \"%(df_s.shape[0] - data.shape[0]))"
   ]
  },
  {
   "cell_type": "code",
   "execution_count": 50,
   "id": "6cd68bca",
   "metadata": {
    "colab": {
     "base_uri": "https://localhost:8080/",
     "height": 316
    },
    "id": "6cd68bca",
    "outputId": "556fbd6f-2303-4b50-8d40-0d9bc610ad5f"
   },
   "outputs": [
    {
     "data": {
      "text/html": [
       "<div>\n",
       "<style scoped>\n",
       "    .dataframe tbody tr th:only-of-type {\n",
       "        vertical-align: middle;\n",
       "    }\n",
       "\n",
       "    .dataframe tbody tr th {\n",
       "        vertical-align: top;\n",
       "    }\n",
       "\n",
       "    .dataframe thead th {\n",
       "        text-align: right;\n",
       "    }\n",
       "</style>\n",
       "<table border=\"1\" class=\"dataframe\">\n",
       "  <thead>\n",
       "    <tr style=\"text-align: right;\">\n",
       "      <th></th>\n",
       "      <th>Unnamed: 0</th>\n",
       "      <th>fare_amount</th>\n",
       "      <th>pickup_datetime</th>\n",
       "      <th>pickup_longitude</th>\n",
       "      <th>pickup_latitude</th>\n",
       "      <th>dropoff_longitude</th>\n",
       "      <th>dropoff_latitude</th>\n",
       "      <th>passenger_count</th>\n",
       "    </tr>\n",
       "  </thead>\n",
       "  <tbody>\n",
       "    <tr>\n",
       "      <th>189636</th>\n",
       "      <td>189636</td>\n",
       "      <td>12.1</td>\n",
       "      <td>2010-04-29 10:08:34 UTC</td>\n",
       "      <td>-73.985994</td>\n",
       "      <td>40.726896</td>\n",
       "      <td>-73.990759</td>\n",
       "      <td>40.757467</td>\n",
       "      <td>1</td>\n",
       "    </tr>\n",
       "    <tr>\n",
       "      <th>535030</th>\n",
       "      <td>535030</td>\n",
       "      <td>6.5</td>\n",
       "      <td>2014-10-16 07:39:56 UTC</td>\n",
       "      <td>-73.993565</td>\n",
       "      <td>40.736425</td>\n",
       "      <td>-73.985653</td>\n",
       "      <td>40.741156</td>\n",
       "      <td>1</td>\n",
       "    </tr>\n",
       "    <tr>\n",
       "      <th>328599</th>\n",
       "      <td>328599</td>\n",
       "      <td>6.0</td>\n",
       "      <td>2015-03-20 14:00:25 UTC</td>\n",
       "      <td>-73.994164</td>\n",
       "      <td>40.761337</td>\n",
       "      <td>-73.995659</td>\n",
       "      <td>40.769089</td>\n",
       "      <td>1</td>\n",
       "    </tr>\n",
       "    <tr>\n",
       "      <th>79463</th>\n",
       "      <td>79463</td>\n",
       "      <td>13.7</td>\n",
       "      <td>2012-03-08 09:57:00 UTC</td>\n",
       "      <td>-73.975825</td>\n",
       "      <td>40.786867</td>\n",
       "      <td>-73.975972</td>\n",
       "      <td>40.754467</td>\n",
       "      <td>1</td>\n",
       "    </tr>\n",
       "    <tr>\n",
       "      <th>315737</th>\n",
       "      <td>315737</td>\n",
       "      <td>14.1</td>\n",
       "      <td>2009-01-31 22:31:00 UTC</td>\n",
       "      <td>-73.975100</td>\n",
       "      <td>40.790103</td>\n",
       "      <td>-74.007127</td>\n",
       "      <td>40.736305</td>\n",
       "      <td>1</td>\n",
       "    </tr>\n",
       "  </tbody>\n",
       "</table>\n",
       "</div>"
      ],
      "text/plain": [
       "        Unnamed: 0  fare_amount  ... dropoff_latitude  passenger_count\n",
       "189636      189636         12.1  ...        40.757467                1\n",
       "535030      535030          6.5  ...        40.741156                1\n",
       "328599      328599          6.0  ...        40.769089                1\n",
       "79463        79463         13.7  ...        40.754467                1\n",
       "315737      315737         14.1  ...        40.736305                1\n",
       "\n",
       "[5 rows x 8 columns]"
      ]
     },
     "execution_count": 50,
     "metadata": {
      "tags": []
     },
     "output_type": "execute_result"
    }
   ],
   "source": [
    "data.head()"
   ]
  },
  {
   "cell_type": "code",
   "execution_count": 51,
   "id": "06a82e87",
   "metadata": {
    "colab": {
     "base_uri": "https://localhost:8080/",
     "height": 317
    },
    "id": "06a82e87",
    "outputId": "ef3ef9a2-edf3-41ba-e723-8206e1d4fc4e"
   },
   "outputs": [
    {
     "data": {
      "text/html": [
       "<html>\n",
       "<head><meta charset=\"utf-8\" /></head>\n",
       "<body>\n",
       "    <div>\n",
       "            <script src=\"https://cdnjs.cloudflare.com/ajax/libs/mathjax/2.7.5/MathJax.js?config=TeX-AMS-MML_SVG\"></script><script type=\"text/javascript\">if (window.MathJax) {MathJax.Hub.Config({SVG: {font: \"STIX-Web\"}});}</script>\n",
       "                <script type=\"text/javascript\">window.PlotlyConfig = {MathJaxConfig: 'local'};</script>\n",
       "        <script src=\"https://cdn.plot.ly/plotly-latest.min.js\"></script>    \n",
       "            <div id=\"ff517035-33b2-4a95-80c7-f39903503e72\" class=\"plotly-graph-div\" style=\"height:300px; width:100%;\"></div>\n",
       "            <script type=\"text/javascript\">\n",
       "                \n",
       "                    window.PLOTLYENV=window.PLOTLYENV || {};\n",
       "                    \n",
       "                if (document.getElementById(\"ff517035-33b2-4a95-80c7-f39903503e72\")) {\n",
       "                    Plotly.newPlot(\n",
       "                        'ff517035-33b2-4a95-80c7-f39903503e72',\n",
       "                        [{\"hoverlabel\": {\"namelength\": 0}, \"hovertemplate\": \"pickup_latitude=%{lat}<br>pickup_longitude=%{lon}<br>fare_amount=%{marker.color}\", \"lat\": [40.734057, 40.646679, 40.708448, 40.708448, 40.708448, 40.708448, 40.74622, 40.64444351196289, 40.769763, 40.769763, 40.671759, 40.76427841186523, 40.742971999999995, 40.783352, 40.758185, 40.768845, 40.741166, 40.741166, 40.766695, 40.645365000000005, 40.641492, 40.756363, 40.72313, 40.764915466308594, 40.641607, 40.644737, 40.772282000000004, 40.72517013549805, 40.72517013549805, 40.645405, 40.72517013549805, 40.772282000000004, 40.753046999999995, 40.750825, 40.644630432128906, 40.745043, 40.644422, 40.64471054077149, 40.751695, 40.768992, 40.769321000000005, 40.6453857421875, 40.64663314819336, 40.64366149902344, 40.72775, 40.745637, 40.745637, 40.719295, 40.644985, 40.648562, 40.765235, 40.64883, 40.644985, 40.727367, 40.754913, 40.70425415039063, 40.645315000000004, 40.64692687988281, 40.64868, 40.711011, 40.760811, 40.760811, 40.770202000000005, 40.68182373046875, 40.64463, 40.747246999999994, 40.643645, 40.7751, 40.841462, 40.643645, 40.756853, 40.756853, 40.646232, 40.727102, 40.648635, 40.77401, 40.644882, 40.644882, 40.74209213256836, 40.643840000000004, 40.77002334594727, 40.77002334594727, 40.715132000000004, 40.73843, 40.73843, 40.644653999999996, 40.645238, 40.645238, 40.812257, 40.758429, 40.75894, 40.648796999999995, 40.766342, 40.648742999999996, 40.78994369506836, 40.726371, 40.76397, 40.69011, 40.661229999999996, 40.721837, 40.639047999999995, 40.76397, 40.76082, 40.760397, 40.754582, 40.661229999999996, 40.740555, 40.74472427368164, 40.645705, 40.648775, 40.648793, 40.725466, 40.64541, 40.641184, 40.644436999999996, 40.780640000000005, 40.64541, 40.756965, 40.75085830688477, 40.75085830688477, 40.7492, 40.744565, 40.64457, 40.645309999999995, 40.641155, 40.744565, 40.641155, 40.641988, 40.654077, 40.771471999999996, 40.779132000000004, 40.771471999999996, 40.744357, 40.638683, 40.643795000000004, 40.733867, 40.71641159057617, 40.719133, 40.775882, 40.74991226196289, 40.770393, 40.770393, 40.782503999999996, 40.763580322265625, 40.64537811279297, 40.78841781616211, 40.757728576660156, 40.74551010131836, 40.74662399291992, 40.77421188354492, 40.64686584472656, 40.64482879638672, 40.78813171386719, 40.75066757202149, 40.64521026611328, 40.64484786987305, 40.64592742919922, 40.746829986572266, 40.67967987060547, 40.77376937866211, 40.763771057128906, 40.6611213684082, 40.64466857910156, 40.78300094604492, 40.74551010131836, 40.75484085083008, 40.6448974609375, 40.761695861816406, 40.78300094604492, 40.64220809936523, 40.68698501586914, 40.64519119262695, 40.64662551879883, 40.644798278808594, 40.64680862426758, 40.64343643188477, 40.64540481567383, 40.6457405090332, 40.64046096801758, 40.80926132202149, 40.646888732910156, 40.76588821411133, 40.64863967895508, 40.645355224609375, 40.64493179321289, 40.64692306518555, 40.64461898803711, 40.64698028564453, 40.64713668823242, 40.64418411254883, 40.64645385742188, 40.64862823486328, 40.64860153198242, 40.67967987060547, 40.7471923828125, 40.64466094970703, 40.6435775756836, 40.81210708618164, 40.64406204223633, 40.824745178222656, 40.75782775878906, 40.78487396240234, 40.64547348022461, 40.64476013183594, 40.72545623779297, 40.75688552856445, 40.77525329589844, 40.64382553100586, 40.64476776123047, 40.75597763061523, 40.76588821411133, 40.64563751220703, 40.73878860473633, 40.64497375488281, 40.64862823486328, 40.79448318481445, 40.64455795288086, 40.758872985839844, 40.644439697265625, 40.64220809936523, 40.75066757202149, 40.64343643188477, 40.749183654785156, 40.66696166992188, 40.74605178833008, 40.64773559570313, 40.64378356933594, 40.75748825073242, 40.64512252807617, 40.643531799316406, 40.6457405090332, 40.64623260498047, 40.73004531860352, 40.65143585205078, 40.78300094604492, 40.64512252807617, 40.763633728027344, 40.746829986572266, 40.766963, 40.75627517700195, 40.78070831298828, 40.64482879638672, 40.64500045776367, 40.7562255859375, 40.64459228515625, 40.64713668823242, 40.73464965820313, 40.64378356933594, 40.74836349487305, 40.6486701965332, 40.64540481567383, 40.75027847290039, 40.75695037841797, 40.75748825073242, 40.70577621459961, 40.64617919921875, 40.648681640625, 40.64544677734375, 40.761695861816406, 40.64353942871094, 40.647369384765625, 40.64862060546875, 40.64866638183594, 40.77421188354492, 40.64713668823242, 40.64851760864258, 40.77421188354492, 40.746829986572266, 40.77525329589844, 40.642125, 40.645407, 40.641187, 40.642125, 40.746633, 40.747988, 40.760695, 40.645208000000004, 40.761055999999996, 40.641807, 40.646972, 40.6446418762207, 40.644067, 40.752249, 40.78437, 40.643802, 40.761449, 40.64522552490234, 40.645123, 40.7367, 40.644937, 40.645614, 40.752423, 40.73754, 40.647366999999996, 40.641447, 40.708867, 40.770365000000005, 40.646375, 40.756575, 40.761127, 40.756817, 40.651345, 40.648571999999994, 40.74666, 40.64493, 40.646885, 40.645512, 40.64437, 40.72151184082031, 40.764392, 40.697691999999996, 40.759235, 40.6461, 40.64680480957031, 40.644762, 40.641172, 40.643887, 40.771152, 40.64439392089844, 40.648472999999996, 40.64475, 40.7796, 40.645728000000005, 40.645247999999995, 40.776815, 40.64686, 40.644787, 40.756705, 40.752457, 40.747665000000005, 40.647040000000004, 40.641565, 40.643757, 40.645454, 40.752972, 40.645852000000005, 40.645555, 40.646902000000004, 40.643873, 40.646643, 40.745002, 40.647377, 40.645225, 40.747184999999995, 40.646895, 40.641529999999996, 40.765117, 40.762356, 40.7264, 40.70879, 40.644662, 40.64154, 40.64863204956055, 40.645267, 40.64467, 40.645765999999995, 40.643612, 40.680412, 40.78653, 40.761055999999996, 40.781233, 40.750296999999996, 40.645393, 40.74589, 40.760795, 40.755165100097656, 40.764897, 40.767312, 40.783172, 40.643512, 40.646728515625, 40.704557, 40.648662, 40.641369, 40.755573, 40.758807, 40.756197, 40.64462, 40.767969, 40.644942, 40.646091999999996, 40.646834999999996, 40.64662551879883, 40.64663, 40.641721999999994, 40.646592, 40.753519, 40.812290000000004, 40.645765999999995, 40.722453, 40.644511, 40.762352, 40.760112, 40.734452000000005, 40.727202, 40.794852, 40.64425277709961, 40.654583, 40.646077000000005, 40.644822999999995, 40.761584, 40.749177, 40.775591999999996, 40.643890380859375, 40.64462, 40.644632, 40.75202941894531, 40.645658000000005, 40.76066207885742, 40.644767, 40.665303, 40.753633, 40.784896999999994, 40.646958000000005, 40.644625, 40.758807, 40.761878967285156, 40.773123999999996, 40.646612, 40.650117, 40.646337, 40.64469909667969, 40.763926, 40.76416, 40.646732, 40.646091999999996, 40.648818, 40.644666, 40.756462, 40.785956, 40.739022999999996, 40.748902, 40.795732, 40.641587, 40.645575, 40.648590000000006, 40.644753, 40.746432, 40.641505, 40.645032, 40.644569396972656, 40.643612, 40.762352, 40.751886999999996, 40.798413000000004, 40.647092, 40.645563, 40.767307, 40.641642, 40.745587, 40.757382, 40.647825, 40.752190999999996, 40.645193, 40.64614868164063, 40.64459, 40.643777, 40.762565, 40.78306, 40.645007, 40.645573999999996, 40.645175, 40.64472961425781, 40.72153854370117, 40.645339, 40.646435, 40.645596999999995, 40.641977000000004, 40.645352, 40.644574, 40.729085, 40.645567, 40.758635, 40.645377, 40.641975, 40.64145, 40.762454999999996, 40.785278999999996, 40.798413000000004, 40.665303, 40.74078, 40.645512, 40.646987, 40.77630233764648, 40.641794, 40.646307, 40.752677, 40.641798, 40.646778000000005, 40.747256, 40.649184000000005, 40.648505, 40.645009, 40.66075, 40.645297, 40.642787, 40.642065, 40.648523, 40.64495, 40.64551162719727, 40.644451000000004, 40.749941, 40.645062, 40.648590000000006, 40.756409999999995, 40.645445, 40.75202941894531, 40.746790000000004, 40.784206, 40.783136999999996, 40.746182, 40.642025, 40.756575, 40.836677, 40.752972, 40.74855041503906, 40.646667, 40.644897, 40.793172, 40.804103999999995, 40.758452, 40.644942, 40.755573, 40.770571999999994, 40.641284999999996, 40.77074, 40.641565, 40.758218, 40.642895, 40.644628000000004, 40.67058, 40.730835, 40.644921999999994, 40.645311, 40.781352000000005, 40.79107, 40.648559999999996, 40.747516999999995, 40.747665000000005, 40.746432, 40.644729999999996, 40.644737, 40.762356, 40.75444, 40.64526, 40.646225, 40.645515, 40.648544, 40.759033203125, 40.752972, 40.65087, 40.648477, 40.65817, 40.647053, 40.647121000000006, 40.76445, 40.648624, 40.74603, 40.73814, 40.762246999999995, 40.764295000000004, 40.756452, 40.740212, 40.644982, 40.64475, 40.649184000000005, 40.746819, 40.767082, 40.644484999999996, 40.641771999999996, 40.645614, 40.740817, 40.644912, 40.64656, 40.646679999999996, 40.641794, 40.644894, 40.747479999999996, 40.648598, 40.747355, 40.65087, 40.74747085571289, 40.757188, 40.752866999999995, 40.780807, 40.74392, 40.78504943847656, 40.64489364624024, 40.644278, 40.644973, 40.643890380859375, 40.644762, 40.644882, 40.644737, 40.762943, 40.646615000000004, 40.646895, 40.648558, 40.767312, 40.74282, 40.743648529052734, 40.648666, 40.766677, 40.647762298583984, 40.763476000000004, 40.761127, 40.741517, 40.788902, 40.65439987182617, 40.644602, 40.756462, 40.645687, 40.750425, 40.763362, 40.751717, 40.641502, 40.755352, 40.76235, 40.648692, 40.75018, 40.64158, 40.648562, 40.64501, 40.763205, 40.75577, 40.748133, 40.64179611206055, 40.644757, 40.75650024414063, 40.646562, 40.646871999999995, 40.785767, 40.641521999999995, 40.647197, 40.644764, 40.760227, 40.760987, 40.641715000000005, 40.74282, 40.645271, 40.762356, 40.644419, 40.645427000000005, 40.759857177734375, 40.646982, 40.743066, 40.642677, 40.647002, 40.710297, 40.644746999999995, 40.7498779296875, 40.64501, 40.64458, 40.64551162719727, 40.738308, 40.733242, 40.644517, 40.738741, 40.764752, 40.736626, 40.645567, 40.643877, 40.64669799804688, 40.744212, 40.64480590820313, 40.686355, 40.64396, 40.75891, 40.645905, 40.644837, 40.644420000000004, 40.741695, 40.757529999999996, 40.74564, 40.771988, 40.756492, 40.646767, 40.646592, 40.760602, 40.644942, 40.644034999999995, 40.644895, 40.749147, 40.64861, 40.742404, 40.647145, 40.644371, 40.783058000000004, 40.646640000000005, 40.646840999999995, 40.644278, 40.643873, 40.644419, 40.740212, 40.643687, 40.648682, 40.647487, 40.645375, 40.644812, 40.79876327514648, 40.7624, 40.645385, 40.789618, 40.646728515625, 40.758202000000004, 40.78983, 40.747035, 40.744025, 40.729085, 40.758891999999996, 40.774497, 40.644683, 40.819792, 40.644763, 40.648627000000005, 40.665321999999996, 40.644771999999996, 40.75285, 40.836677, 40.742847999999995, 40.644887, 40.76726, 40.647478, 40.761882, 40.647213, 40.645582, 40.752871999999996, 40.648516, 40.648607, 40.755573, 40.645441999999996, 40.747827, 40.64869, 40.644737, 40.6437873840332, 40.646562, 40.646382, 40.798413000000004, 40.646592, 40.648802, 40.641172, 40.644637, 40.732307, 40.644517, 40.756654, 40.644664, 40.644882, 40.648499, 40.783635, 40.646532, 40.648624, 40.646902000000004, 40.762801, 40.718067, 40.757121999999995, 40.725683000000004, 40.741170000000004, 40.645202000000005, 40.653129, 40.647157, 40.64528274536133, 40.747172, 40.734843, 40.64474105834961, 40.748155, 40.767936999999996, 40.755402000000004, 40.75772, 40.746025, 40.742847999999995, 40.662158000000005, 40.812290000000004, 40.645907, 40.643757, 40.647245, 40.756575, 40.644652, 40.767237, 40.771454999999996, 40.647155, 40.645307, 40.762565, 40.779026, 40.647434000000004, 40.74977, 40.644034999999995, 40.644087, 40.771282, 40.643877, 40.741707, 40.730242, 40.783058000000004, 40.64043426513672, 40.783238, 40.646115, 40.642787, 40.64705, 40.742545, 40.759815, 40.644982, 40.682412, 40.759762, 40.648532, 40.648505, 40.641533, 40.64522171020508, 40.646632000000004, 40.644444, 40.648666999999996, 40.749947, 40.642371999999995, 40.648732, 40.726867, 40.755287170410156, 40.77074, 40.76445, 40.645055, 40.771491999999995, 40.763678000000006, 40.646271999999996, 40.646240234375, 40.736365, 40.757052, 40.760195, 40.648717, 40.643885, 40.763476000000004, 40.783058000000004, 40.780107, 40.753536, 40.643867, 40.6437873840332, 40.644678000000006, 40.756492, 40.722453, 40.75764, 40.644882, 40.758807, 40.64589, 40.644999, 40.644991999999995, 40.646659, 40.766728, 40.644417, 40.773917, 40.766969, 40.732819, 40.645965000000004, 40.646719, 40.770507, 40.644695, 40.784712, 40.641369, 40.64663, 40.762952, 40.750987, 40.64864349365234, 40.648647, 40.644225, 40.670982, 40.775923999999996, 40.641525, 40.641533, 40.64446258544922, 40.78504943847656, 40.661229999999996, 40.794852, 40.641602, 40.651651, 40.64542, 40.745779999999996, 40.749842, 40.644718170166016, 40.785007, 40.645062, 40.651914, 40.644975, 40.644436999999996, 40.761127, 40.645157, 40.648617, 40.643577, 40.646516999999996, 40.759815, 40.644638, 40.758221999999996, 40.76635, 40.76401901245117, 40.648540000000004, 40.644502, 40.64689, 40.644878999999996, 40.645618, 40.644707000000004, 40.74584, 40.641467, 40.641467, 40.645268, 40.645452, 40.644867, 40.747985, 40.647311, 40.644697, 40.774417, 40.641505, 40.764359000000006, 40.643646000000004, 40.767672, 40.751647, 40.641075, 40.644845000000004, 40.645247, 40.771282, 40.645502, 40.645525, 40.648635, 40.764359000000006, 40.816021, 40.644087, 40.749912, 40.808893, 40.64221, 40.75444, 40.761468, 40.644917, 40.764185, 40.761449, 40.746721, 40.641709999999996, 40.648540000000004, 40.78315734863281, 40.749093, 40.644508, 40.646807, 40.762229999999995, 40.641864, 40.641502, 40.646370000000005, 40.732739, 40.798291, 40.64501, 40.741517, 40.641284999999996, 40.748577000000004, 40.74991226196289, 40.64861, 40.646762, 40.64868, 40.647496000000004, 40.751165, 40.783635, 40.743590999999995, 40.645395, 40.729085, 40.645412, 40.644655, 40.760467, 40.643446999999995, 40.752866999999995, 40.64489364624024, 40.647213, 40.75844, 40.64533233642578, 40.644812, 40.646677000000004, 40.645127, 40.648499, 40.644656, 40.746876, 40.777702000000005, 40.64541244506836, 40.64861679077149, 40.752744, 40.64158, 40.778671, 40.733707, 40.641998291015625, 40.648634, 40.69101333618164, 40.647057000000004, 40.64502334594727, 40.644927, 40.645379999999996, 40.771454999999996, 40.647057000000004, 40.645297, 40.647092, 40.64458465576172, 40.64477, 40.647719, 40.646792, 40.641587, 40.76376, 40.644746999999995, 40.644027, 40.644601, 40.646741999999996, 40.762229999999995, 40.740476, 40.755646999999996, 40.646112, 40.743117, 40.645907, 40.79318, 40.645266, 40.648717, 40.641582, 40.64697, 40.645016999999996, 40.64307022094727, 40.74321, 40.64587, 40.788439000000004, 40.780576, 40.743648529052734, 40.756409999999995, 40.644982, 40.644690000000004, 40.64865, 40.644595, 40.644395, 40.760987, 40.647032, 40.74102, 40.641502, 40.726867, 40.759235, 40.752457, 40.822763, 40.756409999999995, 40.64733, 40.648641, 40.772434000000004, 40.730835, 40.752404999999996, 40.647017, 40.6447, 40.644718170166016, 40.75497, 40.644617, 40.646609000000005, 40.645114, 40.748616999999996, 40.643947, 40.778723, 40.736042, 40.645171999999995, 40.644597, 40.745222, 40.645421999999996, 40.753519, 40.648607, 40.645225, 40.760324, 40.73754, 40.64697, 40.767082, 40.645377, 40.647096999999995, 40.64474105834961, 40.644763, 40.762648, 40.646572, 40.647675, 40.646436, 40.64386, 40.644742, 40.644897, 40.644762, 40.640395, 40.64459, 40.645032, 40.759762, 40.641842, 40.770790100097656, 40.645387, 40.644401, 40.648715, 40.643713, 40.644897, 40.641557, 40.763488, 40.644323, 40.644675, 40.645505, 40.691282, 40.641512, 40.645044, 40.646228, 40.749025, 40.644317, 40.643415000000005, 40.645379, 40.648702, 40.782348, 40.64522, 40.643840000000004, 40.645592, 40.743899, 40.645062, 40.646794, 40.64476, 40.644607, 40.691282, 40.646770000000004, 40.641177, 40.643236, 40.744128, 40.641496000000004, 40.741137, 40.644816999999996, 40.642137, 40.646878, 40.74541, 40.745769, 40.641206, 40.645385, 40.647446, 40.785, 40.64737, 40.640054, 40.641703, 40.780863000000004, 40.644025, 40.782348, 40.745769, 40.782288, 40.649954, 40.757987, 40.641458, 40.764907, 40.644663, 40.646606, 40.759069000000004, 40.754205999999996, 40.641982, 40.645377, 40.752642, 40.645632, 40.646747, 40.645385, 40.794507, 40.644727, 40.644177, 40.732365, 40.645377, 40.649077, 40.744966999999995, 40.645379, 40.641207, 40.646907, 40.768155, 40.643332, 40.641196, 40.644802, 40.641196, 40.734745000000004, 40.74951, 40.641372, 40.666938, 40.641982, 40.75513, 40.760727, 40.742862, 40.734038, 40.707652, 40.643815999999994, 40.648666999999996, 40.644675, 40.799229, 40.751725, 40.647052, 40.745329, 40.648657, 40.645784, 40.66471, 40.751282, 40.64862, 40.758257, 40.728746, 40.647275, 40.646747, 40.644917, 40.644814000000004, 40.643031, 40.751197, 40.751282, 40.644323, 40.646162, 40.746457, 40.646679999999996, 40.663222999999995, 40.756518, 40.755795, 40.743952, 40.645519, 40.76563, 40.751197, 40.644017, 40.644971999999996, 40.782202000000005, 40.648672999999995, 40.639010999999996, 40.74368, 40.648602000000004, 40.645305, 40.641982, 40.641562, 40.645525, 40.647232, 40.640388, 40.76202, 40.644017, 40.648702, 40.644635, 40.643815999999994, 40.759237, 40.645525, 40.648666999999996, 40.647605, 40.645662, 40.777694, 40.641562, 40.645784, 40.750002, 40.741137, 40.641267, 40.78982, 40.66471, 40.755421999999996, 40.648709999999994, 40.645496, 40.643236, 40.645247, 40.645715, 40.645505, 40.756226, 40.738345, 40.649527, 40.739957000000004, 40.759965, 40.742221, 40.777623999999996, 40.783398, 40.648528000000006, 40.716437, 40.645852000000005, 40.645247, 40.797805, 40.641304999999996, 40.644698, 40.648632, 40.645715, 40.641525, 40.645379999999996, 40.649527, 40.644898, 40.730641999999996, 40.797805, 40.759237, 40.645327, 40.645379999999996, 40.750598, 40.641982, 40.64476, 40.64476, 40.742221, 40.751015, 40.645192, 40.795233, 40.745875, 40.746457, 40.641345, 40.645181, 40.641737, 40.646907, 40.643415000000005, 40.64225, 40.643687, 40.754902, 40.644177, 40.646745, 40.647582, 40.766026000000004, 40.644749, 40.6445198059082, 40.766026000000004, 40.644723, 40.79006, 40.771122, 40.645221, 40.79006, 40.770178, 40.645352, 40.645352, 40.7026481628418, 40.64863, 40.729595, 40.740681, 40.772179, 40.729595, 40.772179, 40.772179, 40.788302, 40.754009, 40.648943, 40.681645, 40.681645, 40.740045, 40.643871999999995, 40.64473724365234, 40.769273999999996, 40.764744, 40.727576, 40.727576, 40.727576, 40.647027, 40.644635, 40.64201, 40.757857, 40.644635, 40.646823, 40.641591999999996, 40.773725, 40.645352, 40.75897979736328, 40.77312850952149, 40.761215, 40.64482879638672, 40.763946000000004, 40.645462, 40.84837341308594, 40.763946000000004, 40.648593, 40.645272, 40.769059999999996, 40.732975, 40.76939010620117, 40.645402000000004, 40.64525985717773, 40.645402000000004, 40.76483154296875, 40.773075, 40.77412, 40.645055, 40.64152, 40.641225, 40.648693, 40.749132, 40.641821, 40.770972, 40.759769, 40.645118713378906, 40.7695541381836, 40.715352, 40.643570000000004, 40.644077, 40.641168, 40.64451599121094, 40.77367782592773, 40.750881, 40.646813, 40.77367401123047, 40.64515, 40.761843, 40.648334000000006, 40.646947, 40.736816999999995, 40.760477, 40.769997, 40.64373016357422, 40.648647, 40.764602000000004, 40.648647, 40.64480972290039, 40.769997, 40.769997, 40.645225, 40.645162, 40.767604999999996, 40.645235, 40.769436, 40.776146999999995, 40.769472, 40.644785, 40.645795, 40.645795, 40.729527000000004, 40.702399, 40.76729583740234, 40.641514, 40.646082, 40.648641999999995, 40.648592, 40.645346999999994, 40.644718170166016, 40.711326, 40.714521999999995, 40.725516999999996, 40.810757, 40.721967, 40.643640000000005, 40.645185, 40.64866256713867, 40.717158000000005, 40.64612, 40.645073, 40.644856, 40.66173, 40.75854, 40.722752, 40.762356, 40.76364517211914, 40.761361, 40.648512, 40.64873, 40.719187, 40.720396, 40.645625, 40.749024, 40.643865000000005, 40.743607, 40.648547, 40.764648, 40.74073, 40.75847, 40.764452, 40.704978942871094, 40.648641999999995, 40.759935999999996, 40.645165999999996, 40.64597, 40.71979141235352, 40.763816999999996, 40.64524841308594, 40.649827, 40.778228000000006, 40.64524841308594, 40.72078323364258, 40.729232, 40.647667, 40.761672, 40.645327, 40.64867, 40.724066, 40.74808883666992, 40.702399, 40.66173, 40.645402000000004, 40.641756, 40.786122, 40.646511, 40.72235870361328, 40.645379, 40.730622, 40.646856, 40.768259, 40.76318, 40.774305, 40.705337, 40.643654, 40.76935577392578, 40.64606, 40.761032, 40.644995, 40.646646000000004, 40.644697, 40.763222, 40.807925, 40.752103000000005, 40.705337, 40.641822, 40.646823, 40.645012, 40.756639, 40.752635, 40.695913, 40.762356, 40.641852, 40.655107, 40.758965, 40.713257, 40.64479, 40.64543151855469, 40.756953, 40.765127, 40.768316, 40.645270000000004, 40.758215, 40.64865, 40.644572, 40.77506637573242, 40.764377, 40.717832, 40.644752000000004, 40.706936999999996, 40.783705, 40.714575, 40.720557, 40.713257, 40.64626693725586, 40.641717, 40.647357, 40.744038, 40.74935, 40.709415, 40.643977, 40.724489, 40.645926, 40.64471054077149, 40.644607, 40.6419563293457, 40.645429, 40.646553999999995, 40.758965, 40.712922, 40.765127, 40.75947570800781, 40.739249, 40.641864, 40.646359999999994, 40.646443, 40.645325, 40.78763, 40.719132, 40.645007, 40.64512, 40.644697, 40.709357000000004, 40.756705, 40.648742, 40.64366149902344, 40.64515, 40.770016, 40.68156051635742, 40.647937, 40.645346999999994, 40.73479080200195, 40.736505, 40.641380310058594, 40.646888, 40.706992, 40.645589, 40.648547, 40.646814, 40.712143, 40.783705, 40.709415, 40.74808883666992, 40.644545, 40.75947570800781, 40.64668655395508, 40.646553999999995, 40.648842, 40.750116999999996, 40.763000000000005, 40.6419563293457, 40.762365, 40.744512, 40.648668, 40.733497619628906, 40.643654, 40.78763, 40.644995, 40.762862, 40.767697, 40.704662, 40.756537, 40.767652000000005, 40.767866, 40.645371999999995, 40.741197, 40.756493, 40.64702987670898, 40.644847, 40.720946000000005, 40.645926, 40.758261, 40.786977, 40.735152, 40.646814, 40.64647, 40.646786, 40.721387, 40.765181, 40.64507675170898, 40.727443, 40.759257, 40.64862, 40.648727, 40.77998352050781, 40.648844, 40.645365000000005, 40.644958, 40.644649, 40.7654, 40.642244, 40.768731, 40.648418, 40.755413, 40.76935577392578, 40.767505, 40.645358, 40.645035, 40.64875793457031, 40.643636, 40.761540000000004, 40.646322999999995, 40.64392852783203, 40.648637, 40.761361, 40.646543, 40.773967, 40.709534999999995, 40.64457321166992, 40.642115000000004, 40.643475, 40.76073, 40.647714, 40.64696502685547, 40.643608, 40.653602, 40.778493, 40.645875, 40.721413, 40.714521999999995, 40.648619000000004, 40.713257, 40.643775, 40.732712, 40.756639, 40.644787, 40.64889144897461, 40.643375, 40.68156051635742, 40.64502, 40.648617, 40.646867, 40.64588, 40.728384000000005, 40.6468505859375, 40.72235870361328, 40.766589, 40.756953, 40.718287, 40.647276, 40.6459846496582, 40.644827, 40.645337, 40.72801, 40.707592, 40.646669, 40.7139, 40.783506, 40.647067, 40.645309000000005, 40.644852, 40.647202, 40.645322, 40.644627, 40.691907, 40.644545, 40.779488, 40.734333, 40.64360427856445, 40.72191619873047, 40.645452, 40.643608, 40.643729, 40.783705, 40.747045, 40.74159, 40.742713, 40.645517, 40.718368, 40.751574, 40.644621, 40.766771000000006, 40.64606, 40.723227, 40.643468, 40.649827, 40.741197, 40.646923, 40.766063, 40.773967, 40.757732, 40.644921999999994, 40.644718170166016, 40.648844, 40.648529052734375, 40.644702, 40.644649, 40.648711999999996, 40.64466857910156, 40.646962, 40.654492, 40.741338, 40.714026000000004, 40.645305, 40.646572, 40.64714050292969, 40.645081, 40.645856, 40.76073, 40.74159, 40.73507, 40.721832, 40.756493, 40.645429, 40.74226379394531, 40.641553, 40.644371, 40.76207, 40.762492, 40.64455032348633, 40.724066, 40.643562, 40.717269, 40.646801, 40.646856, 40.706795, 40.770016, 40.737657, 40.72078323364258, 40.757732, 40.64392852783203, 40.732698, 40.748922, 40.762365, 40.734572, 40.764377, 40.641553, 40.644798, 40.712143, 40.718368, 40.724367, 40.704463, 40.644802, 40.724489, 40.645371999999995, 40.74964, 40.743443, 40.644621, 40.646667, 40.645926, 40.773045, 40.711422999999996, 40.76896, 40.646145000000004, 40.770193, 40.769552000000004, 40.771055, 40.780413, 40.77410888671875, 40.77370071411133, 40.743778999999996, 40.713795000000005, 40.644752000000004, 40.646928, 40.646928, 40.822162, 40.71488571166992, 40.645227, 40.64498519897461, 40.644692, 40.76470565795898, 40.774103000000004, 40.765021999999995, 40.822162, 40.740675, 40.76470565795898, 40.774103000000004, 40.644692, 40.704896999999995, 40.768943, 40.770724, 40.710273, 40.739907, 40.646612, 40.713257, 40.644942, 40.756631, 40.646537, 40.76885, 40.644818, 40.77402877807617, 40.769039154052734, 40.64114761352539, 40.648609, 40.750393, 40.784427, 40.645267486572266, 40.770732, 40.648609, 40.754433, 40.6446533203125, 40.641183000000005, 40.703015, 40.773799, 40.770118713378906, 40.643766, 40.648644, 40.643863, 40.644740000000006, 40.643863, 40.756225, 40.759972999999995, 40.641597999999995, 40.641269, 40.645697999999996, 40.760498, 40.755818, 40.75538, 40.740352, 40.645697999999996, 40.74001, 40.648644, 40.6489, 40.647237, 40.784518, 40.762725, 40.764492, 40.646692, 40.762307, 40.644503, 40.64567, 40.6489, 40.644639, 40.643182, 40.644816999999996, 40.645711999999996, 40.644757, 40.740352, 40.645066, 40.648263, 40.641447, 40.643182, 40.64522933959961, 40.656512, 40.752908000000005, 40.741811, 40.641447, 40.769748, 40.712135314941406, 40.768772, 40.71963, 40.715257, 40.771066, 40.645334000000005, 40.771245, 40.645117, 40.770918, 40.645117, 40.641445000000004, 40.641445000000004, 40.76889419555664, 40.77391052246094, 40.646913, 40.773848, 40.644302, 40.764142, 40.739877, 40.661729, 40.641364, 40.643965, 40.648634, 40.773747, 40.736782, 40.749767999999996, 40.751837, 40.746787, 40.736782, 40.646704, 40.663102, 40.648897999999996, 40.646814, 40.74096, 40.746752, 40.690788, 40.764142, 40.780915, 40.746787, 40.755263, 40.749840999999996, 40.743837, 40.645043, 40.748162, 40.764142, 40.641364, 40.749767999999996, 40.6454, 40.64732, 40.739877, 40.728043, 40.645169, 40.64495, 40.6446, 40.646704, 40.768846999999994, 40.773102, 40.733095, 40.768987, 40.774112, 40.646757, 40.648593, 40.646879, 40.792835, 40.752385, 40.756566, 40.756628000000006, 40.785927, 40.645222, 40.7818, 40.766011999999996, 40.760202, 40.654582, 40.787131, 40.644783000000004, 40.646978000000004, 40.641387, 40.645283, 40.7591, 40.639873, 40.745208, 40.6468, 40.761484, 40.644855, 40.64679, 40.753568, 40.648542, 40.749565000000004, 40.750440000000005, 40.6424, 40.747045, 40.648612, 40.648645, 40.6438, 40.6448, 40.749696, 40.6448, 40.7858, 40.646763, 40.643066999999995, 40.645, 40.667757, 40.730855, 40.74972, 40.747693, 40.643607, 40.643832, 40.648583, 40.643815000000004, 40.760257, 40.76187, 40.641585, 40.761521, 40.648602000000004, 40.645711999999996, 40.646857000000004, 40.646437, 40.64403, 40.789755, 40.646587, 40.787437, 40.730261999999996, 40.730828, 40.641317, 40.774566, 40.694274, 40.751775, 40.709682, 40.643912, 40.744617, 40.756805, 40.730691, 40.744638, 40.736363, 40.738942, 40.6447, 40.644695, 40.771, 40.713837, 40.749323, 40.762758000000005, 40.756221999999994, 40.785368, 40.744617, 40.758162, 40.739705, 40.648553, 40.647077, 40.744521999999996, 40.770524, 40.645148, 40.757085, 40.644732, 40.645008000000004, 40.747234000000006, 40.644505, 40.748834, 40.755234, 40.731602, 40.732843, 40.75038, 40.648466, 40.6448, 40.645255999999996, 40.646452000000004, 40.75265, 40.6419, 40.647633, 40.792276, 40.728308, 40.760202, 40.646409999999996, 40.738074, 40.646916999999995, 40.64604, 40.643759, 40.6487, 40.76011, 40.646809999999995, 40.646832, 40.644695, 40.741515, 40.712067, 40.644692, 40.64403, 40.646898, 40.739705, 40.762013, 40.644856, 40.744617, 40.648635, 40.757668, 40.644953, 40.648653, 40.74643, 40.641365, 40.755593, 40.760040000000004, 40.795105, 40.646745, 40.645858000000004, 40.642722, 40.644816999999996, 40.641653000000005, 40.739403, 40.635892, 40.648609, 40.648655, 40.804308, 40.648542, 40.648598, 40.643066999999995, 40.640657, 40.648517, 40.736088, 40.77988, 40.759091999999995, 40.641635, 40.72756, 40.641325, 40.644795, 40.746402, 40.646208, 40.645315000000004, 40.760807, 40.6456, 40.6448, 40.645148, 40.645635, 40.780542, 40.647622, 40.648553, 40.643583, 40.646809999999995, 40.645676, 40.74157, 40.737545000000004, 40.752385, 40.646587, 40.744862, 40.645292, 40.645165000000006, 40.745921, 40.716328000000004, 40.645408, 40.6447, 40.652478, 40.646685, 40.749846999999995, 40.709682, 40.7494, 40.750638, 40.646938, 40.642152, 40.645971, 40.645034, 40.757207, 40.735062, 40.644838, 40.644737, 40.740472, 40.644778, 40.753953, 40.6419, 40.6474, 40.646712, 40.647434999999994, 40.64515, 40.647022, 40.646896999999996, 40.732608, 40.640342, 40.648441999999996, 40.645512, 40.755682, 40.741597, 40.782287, 40.645377, 40.663908, 40.641635, 40.748283, 40.723172, 40.774566, 40.80979, 40.641973, 40.641659999999995, 40.760125, 40.780023, 40.643759, 40.64202, 40.644762, 40.645434, 40.644707000000004, 40.641606, 40.643941, 40.780728, 40.64147, 40.645447, 40.759837, 40.6488, 40.749066, 40.75265, 40.645293, 40.740963, 40.772622, 40.641068, 40.648662, 40.64147, 40.64403, 40.77988, 40.64561, 40.793987, 40.639734999999995, 40.751629, 40.645434, 40.741206, 40.646875, 40.641566999999995, 40.644833, 40.7322, 40.643607, 40.787131, 40.641395, 40.736363, 40.7581, 40.644783000000004, 40.648645, 40.716576, 40.644952, 40.646682, 40.646702000000005, 40.641417, 40.639734999999995, 40.747838, 40.74452, 40.645452, 40.752043, 40.646949, 40.750637, 40.6469, 40.645187, 40.646861, 40.643815000000004, 40.648662, 40.757222, 40.7375, 40.761377, 40.648686, 40.757207, 40.709367, 40.646408, 40.644785, 40.646682, 40.64969, 40.839, 40.641227, 40.644763, 40.765595000000005, 40.643188, 40.6468, 40.648771999999994, 40.644855, 40.639365999999995, 40.768762, 40.802738, 40.647137, 40.771162, 40.641415, 40.768917, 40.645676, 40.644816999999996, 40.7591, 40.646632000000004, 40.755523, 40.64719, 40.646632000000004, 40.746143, 40.77305, 40.645394, 40.644758, 40.745752, 40.641591999999996, 40.64607, 40.648635, 40.645022999999995, 40.649209, 40.641542, 40.7494, 40.732625, 40.775242, 40.6419, 40.644871, 40.771089, 40.645375, 40.644812, 40.656847, 40.646682, 40.769236, 40.761928000000005, 40.793315, 40.645412, 40.648647, 40.644727, 40.6474, 40.6487, 40.749584999999996, 40.760125, 40.766098, 40.709682, 40.64157, 40.74256, 40.768763, 40.647079999999995, 40.646303, 40.644783000000004, 40.641376, 40.804308, 40.645215, 40.645519, 40.641376, 40.644707000000004, 40.646632000000004, 40.732842, 40.746571, 40.759091999999995, 40.742907, 40.645068, 40.646783, 40.645008000000004, 40.644974, 40.6448, 40.77305, 40.645131, 40.756289, 40.78498, 40.645711999999996, 40.769444, 40.648702, 40.642275, 40.64202, 40.64519, 40.734012, 40.746152, 40.7431, 40.646208, 40.750845, 40.646413, 40.645101000000004, 40.661767, 40.645134000000006, 40.740108, 40.644856, 40.780576, 40.789755, 40.759005, 40.753807, 40.64672, 40.752848, 40.757578, 40.641197999999996, 40.732842, 40.736038, 40.774027000000004, 40.645187, 40.641725, 40.643785, 40.657059999999994, 40.709739, 40.794266, 40.649718, 40.745707, 40.643627, 40.646066999999995, 40.641543, 40.6466, 40.644882, 40.755848, 40.737946, 40.641621, 40.645, 40.7765, 40.645095, 40.643642, 40.644774, 40.770207, 40.752385, 40.645215, 40.64868, 40.771162, 40.643561, 40.734223, 40.645101000000004, 40.72888, 40.799766, 40.645212, 40.647022, 40.7494, 40.648593, 40.747693, 40.646777, 40.641414000000005, 40.638513, 40.641613, 40.7591, 40.64692, 40.804308, 40.641455, 40.648332, 40.744794, 40.755007, 40.763962, 40.777113, 40.648621999999996, 40.648466, 40.64478, 40.641537, 40.644781, 40.785331, 40.644946999999995, 40.734012, 40.646782, 40.764407, 40.754503, 40.6456, 40.663908, 40.644684999999996, 40.764928000000005, 40.645447, 40.75885, 40.747383, 40.7828, 40.743578, 40.646745, 40.64206, 40.760801, 40.645837, 40.644921000000004, 40.643723, 40.758528000000005, 40.64546, 40.747045, 40.757668, 40.648457, 40.7483, 40.754697, 40.647658, 40.645255, 40.742663, 40.752835, 40.645254, 40.771967, 40.645837, 40.761145, 40.644946999999995, 40.641348, 40.776309000000005, 40.643583, 40.757578, 40.75646, 40.647353, 40.769444, 40.645283, 40.764348, 40.741515, 40.646413, 40.747625, 40.646769, 40.643627, 40.64483, 40.807140000000004, 40.763867, 40.753617, 40.752386, 40.6448, 40.646962, 40.757638, 40.765589, 40.644658, 40.785128, 40.648615, 40.682649, 40.749027000000005, 40.784293, 40.645354, 40.666238, 40.655757, 40.747625, 40.757090000000005, 40.643768, 40.756171, 40.781438, 40.648592, 40.646805, 40.639625, 40.641539, 40.642275, 40.77988, 40.645345, 40.7449, 40.754847999999996, 40.755573999999996, 40.72756, 40.644683, 40.737361, 40.827302, 40.644715999999995, 40.708121999999996, 40.7483, 40.772487, 40.645134999999996, 40.645413, 40.646827, 40.751723, 40.75697, 40.645992, 40.645412, 40.646832, 40.64499, 40.774991, 40.754425, 40.644778, 40.644783000000004, 40.737361, 40.696829, 40.646745, 40.7525, 40.645394, 40.663971999999994, 40.751867, 40.69415, 40.742832, 40.763946999999995, 40.643708000000004, 40.644707000000004, 40.756938, 40.755136, 40.644855, 40.752545, 40.751775, 40.765068, 40.792835, 40.75867, 40.644864, 40.643768, 40.764665, 40.760665, 40.723959, 40.767340000000004, 40.646692, 40.736191999999996, 40.646682, 40.64484, 40.641539, 40.648637, 40.768908, 40.768908, 40.744463, 40.799512, 40.751643, 40.781822999999996, 40.645415, 40.646618, 40.652241, 40.647366999999996, 40.645228, 40.741881, 40.748692, 40.648579999999995, 40.758720000000004, 40.643505, 40.644784, 40.706057, 40.748017, 40.642293, 40.793944, 40.644232, 40.645377, 40.648604999999996, 40.782059999999994, 40.728013, 40.733073, 40.64867, 40.648455, 40.646337, 40.776235, 40.744085, 40.744288, 40.641807, 40.760253000000006, 40.729314, 40.774135, 40.64864, 40.753715, 40.640122999999996, 40.641993, 40.762724, 40.766023, 40.780263, 40.645403, 40.764497, 40.74904, 40.746567999999996, 40.777165999999994, 40.645228, 40.758007, 40.760222, 40.792657, 40.7782, 40.749344, 40.646853, 40.643842, 40.644813, 40.648312, 40.774135, 40.774903, 40.771632000000004, 40.646651, 40.648627000000005, 40.732773, 40.645958, 40.764209, 40.665281, 40.647079, 40.802034, 40.645994, 40.807361, 40.652048, 40.644284999999996, 40.64736, 40.637440000000005, 40.772946999999995, 40.665281, 40.744285999999995, 40.648798, 40.784578, 40.637440000000005, 40.643726, 40.639443, 40.644912, 40.752062, 40.644911, 40.64482, 40.647566999999995, 40.762192999999996, 40.639417, 40.742746000000004, 40.761238, 40.665262, 40.764209, 40.642022999999995, 40.76213, 40.646673, 40.706057, 40.738521, 40.737677000000005, 40.758408, 40.646267, 40.645517, 40.754816999999996, 40.64763, 40.72118, 40.636041999999996, 40.645022, 40.75192, 40.759746, 40.641211, 40.645340000000004, 40.641393, 40.648627000000005, 40.757104999999996, 40.642022999999995, 40.648579999999995, 40.780182, 40.645975, 40.648905, 40.752062, 40.726833, 40.752183, 40.641332, 40.648604999999996, 40.646673, 40.750058, 40.644965, 40.743639, 40.646418, 40.764084999999994, 40.641076, 40.645286999999996, 40.639578, 40.645823, 40.733985, 40.650227, 40.710609999999996, 40.646638, 40.750058, 40.645528000000006, 40.647321999999996, 40.776109000000005, 40.640268, 40.741417, 40.648678000000004, 40.645071, 40.77652, 40.639942, 40.762032, 40.746567999999996, 40.784778, 40.645445, 40.765015000000005, 40.749057, 40.784578, 40.645715, 40.644207, 40.757862, 40.644727, 40.643895, 40.644666, 40.64571, 40.78394, 40.739838, 40.644933, 40.777037, 40.648637, 40.648498, 40.802032000000004, 40.734765, 40.64479, 40.648436, 40.764497, 40.745932, 40.747732, 40.665281, 40.746408, 40.754902, 40.74904, 40.641853000000005, 40.74904, 40.741655, 40.646777, 40.644784, 40.643953, 40.645305, 40.760227, 40.75233, 40.759688, 40.782725, 40.752505, 40.742792, 40.648507, 40.645445, 40.645413, 40.74326, 40.750105, 40.648702, 40.761047999999995, 40.648518, 40.648567, 40.645413, 40.778667, 40.758333, 40.648587, 40.753715, 40.751978, 40.648616, 40.744288, 40.76274, 40.745073, 40.643726, 40.710609999999996, 40.640941, 40.646673, 40.644795, 40.763082, 40.764497, 40.752183, 40.64438, 40.718765999999995, 40.644884999999995, 40.643683, 40.644870000000004, 40.644983, 40.646418, 40.779416, 40.648585, 40.644797, 40.64462, 40.646797, 40.761431, 40.761903000000004, 40.641538, 40.643952, 40.744085, 40.645241, 40.645140000000005, 40.648593, 40.645447999999995, 40.763597, 40.64736, 40.756322, 40.644921000000004, 40.753268, 40.748203000000004, 40.74458, 40.779771999999994, 40.759223, 40.648723, 40.648507, 40.745435, 40.644865, 40.731505, 40.644135, 40.646846999999994, 40.646163, 40.790414, 40.755465, 40.76608, 40.739928000000006, 40.665262, 40.761528000000006, 40.646997, 40.645333, 40.648484, 40.788928000000006, 40.737938, 40.756682, 40.761938, 40.771427, 40.64862, 40.645022, 40.645377, 40.802032000000004, 40.746, 40.744288, 40.777037, 40.6461, 40.741184000000004, 40.646643, 40.639996999999994, 40.646315, 40.641463, 40.646643, 40.644107, 40.646705, 40.645305, 40.656452, 40.741535, 40.771632000000004, 40.64864, 40.755441999999995, 40.645333, 40.773648, 40.645361, 40.644746999999995, 40.656452, 40.656452, 40.645958, 40.741535, 40.761656, 40.648631, 40.646772999999996, 40.745382, 40.779771999999994, 40.761431, 40.778667, 40.645455, 40.783023, 40.639417, 40.641668, 40.748104, 40.746408, 40.646905, 40.645027, 40.644115, 40.655502, 40.644622999999996, 40.641665, 40.775946999999995, 40.645047999999996, 40.641513, 40.646997999999996, 40.645133, 40.639942, 40.648585, 40.64733, 40.64497, 40.74276, 40.771427, 40.645549, 40.763329999999996, 40.707028, 40.644781, 40.78565, 40.648702, 40.739838, 40.643953, 40.641521999999995, 40.636041999999996, 40.641211, 40.640122999999996, 40.767978, 40.758007, 40.645388, 40.763643, 40.646692, 40.644725, 40.645214, 40.641521999999995, 40.641619, 40.781188, 40.648585, 40.765347999999996, 40.763227, 40.643505, 40.646277000000005, 40.639466, 40.774097, 40.645455, 40.645679, 40.746458000000004, 40.646688, 40.728743, 40.760227, 40.730187, 40.646163, 40.644847, 40.648723, 40.644824, 40.78325, 40.760227, 40.740678, 40.641807, 40.655502, 40.665262, 40.644813, 40.7816, 40.643505, 40.640195, 40.646874, 40.646853, 40.645126, 40.760137, 40.649454999999996, 40.761402000000004, 40.76884841918945, 40.730934000000005, 40.693047, 40.645423889160156, 40.791568, 40.644837, 40.644837, 40.730934000000005, 40.742587, 40.769020000000005, 40.773727, 40.771192, 40.64524, 40.644677, 40.644677, 40.774007, 40.705777000000005, 40.714791999999996, 40.643533000000005, 40.755645, 40.644742, 40.77662, 40.643768, 40.742815, 40.641337, 40.641635, 40.647325, 40.646786999999996, 40.646715, 40.646733000000005, 40.643768, 40.750388, 40.756411, 40.762201, 40.648708, 40.642275, 40.642087, 40.754881, 40.648552, 40.6439, 40.759192, 40.732766999999996, 40.773888, 40.702135999999996, 40.64685, 40.645194000000004, 40.644255, 40.643827, 40.64865, 40.762040999999996, 40.734913, 40.719543, 40.645154, 40.760459999999995, 40.647153, 40.750357, 40.648706, 40.816562, 40.641638, 40.645194000000004, 40.726969, 40.746618, 40.782075, 40.755465, 40.646737, 40.732766999999996, 40.645362, 40.646743, 40.755792, 40.648599, 40.773432, 40.762201, 40.645293, 40.648568, 40.641433, 40.645182, 40.730893, 40.752241999999995, 40.639687, 40.758846999999996, 40.647325, 40.761109999999995, 40.662529, 40.645154, 40.648177000000004, 40.761895, 40.726969, 40.645263, 40.646654999999996, 40.648590000000006, 40.648599, 40.758232, 40.662529, 40.734427000000004, 40.645154, 40.642589, 40.754773, 40.644936, 40.641490000000005, 40.804078000000004, 40.77394, 40.641375, 40.738959, 40.64717, 40.726969, 40.77662, 40.746618, 40.759431, 40.761697999999996, 40.759192, 40.739346999999995, 40.645277, 40.645764, 40.745336, 40.647791, 40.729665000000004, 40.75897, 40.732475, 40.646260999999996, 40.671843, 40.75602, 40.648631, 40.644753, 40.764334000000005, 40.641652, 40.645309000000005, 40.732766999999996, 40.644345, 40.645764, 40.64482, 40.640771, 40.64905, 40.657203, 40.645293, 40.638763, 40.71220397949219, 40.768959045410156, 40.708492279052734, 40.646707, 40.728183, 40.694815000000006, 40.645383, 40.761773, 40.793025, 40.766465999999994, 40.64504, 40.639628, 40.648552, 40.641172999999995, 40.641172999999995, 40.76876831054688, 40.779275, 40.760215, 40.779275, 40.709355, 40.71409606933594, 40.72833, 40.774097, 40.750849, 40.773812, 40.773812, 40.814251, 40.731755, 40.77421188354492, 40.77421188354492, 40.77421188354492, 40.742952, 40.64464569091797, 40.77406, 40.642762, 40.64513, 40.678455, 40.64464569091797, 40.773969, 40.757827, 40.77648, 40.746862, 40.746862, 40.769241, 40.646971, 40.762045, 40.646971, 40.645585, 40.802328, 40.77414, 40.774116, 40.771572, 40.770947, 40.756281, 40.64524, 40.64524, 40.648577, 40.76880645751953, 40.76877975463867, 40.72690963745117, 40.704512, 40.676663, 40.769301, 40.64482879638672, 40.64509, 40.70367813110352, 40.641602, 40.742725, 40.771457, 40.691447, 40.676663, 40.77415, 40.77415, 40.770216999999995, 40.77377, 40.77085, 40.773734000000005, 40.774105, 40.762744, 40.770990000000005, 40.75744, 40.762744, 40.76889, 40.770315000000004, 40.769227, 40.769227, 40.773734000000005, 40.762744, 40.77068, 40.77068, 40.646762, 40.644701, 40.646188, 40.76985168457031, 40.76886749267578, 40.645345, 40.76115036010742, 40.645196999999996, 40.64152, 40.64524, 40.6453742980957, 40.644560999999996, 40.64152, 40.709762, 40.78118896484375, 40.645373, 40.646997999999996, 40.648583, 40.76115036010742, 40.768862, 40.769591, 40.773857, 40.770032, 40.768522, 40.769040000000004, 40.75134, 40.75396347045898, 40.750925, 40.770787, 40.648592, 40.644746999999995, 40.72266, 40.648586, 40.770362, 40.797234, 40.7512, 40.7227897644043, 40.7227897644043, 40.74623489379883, 40.77410888671875, 40.756141662597656, 40.77410888671875, 40.77410888671875, 40.76913070678711, 40.648612, 40.763692, 40.64474105834961, 40.64668273925781, 40.644708, 40.77402, 40.644632, 40.768991, 40.645537, 40.641745, 40.64464, 40.645, 40.681457, 40.699757, 40.763692, 40.769888, 40.769888, 40.724987, 40.77126, 40.724987, 40.644155, 40.770872, 40.670587, 40.645122, 40.721705, 40.64866, 40.64183, 40.769594, 40.771271999999996, 40.770485, 40.76261901855469, 40.77129, 40.774079, 40.715109999999996, 40.773745, 40.768786999999996, 40.77409, 40.768786999999996, 40.769962, 40.774318, 40.771252000000004, 40.709281, 40.709281, 40.724352, 40.724352, 40.77429962158203, 40.741641998291016, 40.769779205322266, 40.765569, 40.773967, 40.762498, 40.765569, 40.644807, 40.756429, 40.774167, 40.647067, 40.6418, 40.64451217651367, 40.774167, 40.744492, 40.773682, 40.71200180053711, 40.764825, 40.707406, 40.76999, 40.775726318359375, 40.774085, 40.78219223022461, 40.769948, 40.773777, 40.764158, 40.775726318359375, 40.77364, 40.709427000000005, 40.77407, 40.773920000000004, 40.773682, 40.773920000000004, 40.773777, 40.77414, 40.770687, 40.722425, 40.77403259277344, 40.76974868774414, 40.77376556396485, 40.77376556396485, 40.74891662597656, 40.77376556396485, 40.76974868774414, 40.681783, 40.646747, 40.64183, 40.644757, 40.64547348022461, 40.644757, 40.646312, 40.646312, 40.647334, 40.645355224609375, 40.643914, 40.720223, 40.739477, 40.770996999999994, 40.759335, 40.758757, 40.724909999999994, 40.77389526367188, 40.769257, 40.768767, 40.770927, 40.790737, 40.768868, 40.759335, 40.728266, 40.759335, 40.724909999999994, 40.770919, 40.770472, 40.770416259765625, 40.724909999999994, 40.772983, 40.778957, 40.771291999999995, 40.77299, 40.772983, 40.64132, 40.77406, 40.74850082397461, 40.74850082397461, 40.76897048950195, 40.76996994018555, 40.757774353027344, 40.702982, 40.774077, 40.641655, 40.726562, 40.64670181274414, 40.645312, 40.759903, 40.73188, 40.741921999999995, 40.739857, 40.70868, 40.774052000000005, 40.77369, 40.74256, 40.73188, 40.739857, 40.706327, 40.773740000000004, 40.7738, 40.742191999999996, 40.761882, 40.773996999999994, 40.769358000000004, 40.77027893066406, 40.774115, 40.773745, 40.773782000000004, 40.77369, 40.704128999999995, 40.773782000000004, 40.769296999999995, 40.774066999999995, 40.768862, 40.704128999999995, 40.709123999999996, 40.75866, 40.763192, 40.703548, 40.648612, 40.745973, 40.77405, 40.740857, 40.745973, 40.764462, 40.769133000000004, 40.77304, 40.645357000000004, 40.77395, 40.764462, 40.703548, 40.646946, 40.75547409057617, 40.760169982910156, 40.70867919921875, 40.647432, 40.758992, 40.646807, 40.662708, 40.644732, 40.764065, 40.764769, 40.787826, 40.766545, 40.724022, 40.766545, 40.729172999999996, 40.643747, 40.74392, 40.749878, 40.644952, 40.743162, 40.738118, 40.646898, 40.762553999999994, 40.732620000000004, 40.724373, 40.717546999999996, 40.644982, 40.644275, 40.794123, 40.647982, 40.644967, 40.740457, 40.762008, 40.787826, 40.6415, 40.64382, 40.644797, 40.728722999999995, 40.716122, 40.641503, 40.644263, 40.6415, 40.75156, 40.729403000000005, 40.646892, 40.763832, 40.64131, 40.752058, 40.758122, 40.646714, 40.797465, 40.749644, 40.768815999999994, 40.723763, 40.655935, 40.723845000000004, 40.633804999999995, 40.757145, 40.745512, 40.648792, 40.741779, 40.646843, 40.764317, 40.641503, 40.724453999999994, 40.638952, 40.745042, 40.717552000000005, 40.748962, 40.645055, 40.642055, 40.648951000000004, 40.752715, 40.674464, 40.641603, 40.759062, 40.753617, 40.720921999999995, 40.648427000000005, 40.645277, 40.64857, 40.767745, 40.765027, 40.64723, 40.771165, 40.773953000000006, 40.771784999999994, 40.717546999999996, 40.727752, 40.720683, 40.701545, 40.644103, 40.631328, 40.748962, 40.72438, 40.76211, 40.71132, 40.734906, 40.641422, 40.743488, 40.748825, 40.64546, 40.646762, 40.7208, 40.728724, 40.641355, 40.648652, 40.63919, 40.646736, 40.705287, 40.721465, 40.759695, 40.644675, 40.648643, 40.72438, 40.647323, 40.72094, 40.647242, 40.711533, 40.641455, 40.645089, 40.647962, 40.767957, 40.721111, 40.756797, 40.772132873535156, 40.676578000000006, 40.727548999999996, 40.685459, 40.764678, 40.646607, 40.755055, 40.76234, 40.74392, 40.641288, 40.644771, 40.759147, 40.766797, 40.647323, 40.646892, 40.649459, 40.725767, 40.646687, 40.644401, 40.648608, 40.761866999999995, 40.643801, 40.645034, 40.734137, 40.760581, 40.734137, 40.647457122802734, 40.644257, 40.644775, 40.646074, 40.724758, 40.729172999999996, 40.641282000000004, 40.707275, 40.768658, 40.645257, 40.648127, 40.646947, 40.727645, 40.753173, 40.645325, 40.646994, 40.729387, 40.652311, 40.646946, 40.771135, 40.735367, 40.721675, 40.638812, 40.646190000000004, 40.703765999999995, 40.720643, 40.761581, 40.762384999999995, 40.754863, 40.764396999999995, 40.648792, 40.761702, 40.64107, 40.763263, 40.712238, 40.685459, 40.762137, 40.712238, 40.704623, 40.645127, 40.708557, 40.756119, 40.761705, 40.755055, 40.645623, 40.72289, 40.646978000000004, 40.647346999999996, 40.648711999999996, 40.761743, 40.645857, 40.646898, 40.767485, 40.645435, 40.764292, 40.777553000000005, 40.743885999999996, 40.733406, 40.641652, 40.646646999999994, 40.762251, 40.644209000000004, 40.645435, 40.648745, 40.648532, 40.758992, 40.641861999999996, 40.767078000000005, 40.725846999999995, 40.74436, 40.777895, 40.646645, 40.757978, 40.641859000000004, 40.763293, 40.745740000000005, 40.718726000000004, 40.644194, 40.707508000000004, 40.782512, 40.746132, 40.720032, 40.64546, 40.641687, 40.701545, 40.757903999999996, 40.641355, 40.645857, 40.645623, 40.65722, 40.768081, 40.755845, 40.648608, 40.646751, 40.645089, 40.771165, 40.722718, 40.643997, 40.738118, 40.641988, 40.726777, 40.647052, 40.761702, 40.743488, 40.755662, 40.644401, 40.641807, 40.754625, 40.647137, 40.6448, 40.7384, 40.68248, 40.705255, 40.645408, 40.639049, 40.724725, 40.63919, 40.816757, 40.641473, 40.737897, 40.645858000000004, 40.716108, 40.763782, 40.648534999999995, 40.754751, 40.766315000000006, 40.764942, 40.645813000000004, 40.646751, 40.767815, 40.729836, 40.76276, 40.760608000000005, 40.648628, 40.64467, 40.641182, 40.763582, 40.729172999999996, 40.748825, 40.644754999999996, 40.641631, 40.646807, 40.641938, 40.645027, 40.767745, 40.646833, 40.64536, 40.737419, 40.7212, 40.645094, 40.641743, 40.646827, 40.71712, 40.720884999999996, 40.646665000000006, 40.648639, 40.735367, 40.719397, 40.737419, 40.762023, 40.767745, 40.75935, 40.646665000000006, 40.643863, 40.646608, 40.641698, 40.64882, 40.758868, 40.646898, 40.692547999999995, 40.747268, 40.641217, 40.725429999999996, 40.645034, 40.647591999999996, 40.645344, 40.641242, 40.645367, 40.646808, 40.64857, 40.72438, 40.648627000000005, 40.720921999999995, 40.659218, 40.724309999999996, 40.745477, 40.763782, 40.75975, 40.728115, 40.808789000000004, 40.646638, 40.707971, 40.65722, 40.644778, 40.64719, 40.663276, 40.648657, 40.722341, 40.71875, 40.703883000000005, 40.766038, 40.758075, 40.74392, 40.646874, 40.72096, 40.752307, 40.764065, 40.732246999999994, 40.753257, 40.773002000000005, 40.646190000000004, 40.677133000000005, 40.727752, 40.676578000000006, 40.726397, 40.6467, 40.705255, 40.766756, 40.645257, 40.644538, 40.734832, 40.64526, 40.643801, 40.644194, 40.649153999999996, 40.647052, 40.641938, 40.771135, 40.641490000000005, 40.756127, 40.745488, 40.641652, 40.725642, 40.738723, 40.639292, 40.750976, 40.697199, 40.751644, 40.641422, 40.758992, 40.789045, 40.645207, 40.64875, 40.64253, 40.730903999999995, 40.677133000000005, 40.652311, 40.729071000000005, 40.646190000000004, 40.648864, 40.750396, 40.64581, 40.648643, 40.645262, 40.651165, 40.730903999999995, 40.643522, 40.644588, 40.76206, 40.734832, 40.705444, 40.727752, 40.639041999999996, 40.760608000000005, 40.80299, 40.753772999999995, 40.645115000000004, 40.646825, 40.64107, 40.643801, 40.708318, 40.7048, 40.644693, 40.749835, 40.752911, 40.648345, 40.739511, 40.762637, 40.752307, 40.788267, 40.64865, 40.645208000000004, 40.735141999999996, 40.647457122802734, 40.645439, 40.753482, 40.645395, 40.641217, 40.720813, 40.65722, 40.667522999999996, 40.641543, 40.794062, 40.64127, 40.641473, 40.725011, 40.65663, 40.732605, 40.646318, 40.704927000000005, 40.64482, 40.646923, 40.725846999999995, 40.732620000000004, 40.719398999999996, 40.641259999999996, 40.763828000000004, 40.648653, 40.745512, 40.648628, 40.645034, 40.773798, 40.748962, 40.648792, 40.667356, 40.6444, 40.644487, 40.65663, 40.646440000000005, 40.6418, 40.755357000000004, 40.730508, 40.711777000000005, 40.645582, 40.645321, 40.718, 40.763296999999994, 40.721111, 40.648795, 40.735692, 40.720813, 40.645652, 40.777145000000004, 40.73912, 40.645123999999996, 40.753582, 40.642234, 40.724309999999996, 40.773472, 40.646188, 40.714935, 40.647688, 40.718885, 40.762553999999994, 40.644771, 40.743008, 40.647412, 40.646318, 40.76127, 40.746132, 40.647058, 40.728724, 40.646695, 40.64861, 40.761702, 40.737572, 40.708557, 40.761899, 40.759147, 40.753257, 40.750042, 40.785477, 40.674178000000005, 40.660358, 40.721963, 40.643997, 40.641182, 40.761676, 40.727162, 40.641153, 40.725046999999996, 40.753961, 40.701545, 40.651441, 40.645070000000004, 40.763832, 40.764317, 40.773472, 40.646938, 40.648795, 40.648687, 40.645445, 40.740321, 40.771934, 40.771677000000004, 40.771175, 40.76921, 40.77380752563477, 40.768944, 40.727527, 40.77380752563477, 40.741363, 40.710621, 40.769096000000005, 40.769127000000005, 40.772011, 40.773742, 40.768752, 40.768557, 40.759266, 40.773346999999994, 40.715074, 40.77407, 40.770838, 40.774035, 40.745247, 40.753817, 40.745247, 40.774058000000004, 40.769920349121094, 40.7740592956543, 40.803442, 40.707069396972656, 40.80115509033203, 40.750723, 40.641490000000005, 40.773653, 40.771408, 40.76879119873047, 40.682737, 40.644771999999996, 40.76288986206055, 40.741975, 40.644037, 40.773621999999996, 40.773621999999996, 40.6453, 40.774184999999996, 40.6446418762207, 40.774096, 40.774096, 40.769040000000004, 40.77013778686523, 40.773087, 40.774159999999995, 40.770213, 40.770672, 40.774023, 40.773842, 40.780493, 40.773663, 40.769040000000004, 40.798264, 40.768669, 40.798264, 40.773754, 40.744471999999995, 40.782804999999996, 40.769977000000004, 40.686732, 40.64116, 40.780656, 40.646916999999995, 40.708746999999995, 40.660137, 40.779012, 40.64569, 40.645162, 40.646916999999995, 40.74055, 40.749747, 40.64525985717773, 40.64870071411133, 40.774078, 40.660137, 40.645387, 40.771427, 40.64657211303711, 40.64543, 40.770340999999995, 40.758915, 40.774152, 40.751589, 40.755408, 40.755292, 40.751589, 40.773807, 40.769965, 40.759642, 40.770340999999995, 40.755292, 40.774218, 40.770392, 40.770953999999996, 40.703502, 40.755767, 40.773747, 40.76903, 40.769667, 40.744615, 40.77394, 40.769667, 40.759642, 40.773862, 40.769965, 40.749469, 40.77066, 40.768879999999996, 40.764403, 40.773737, 40.764403, 40.758887, 40.760417, 40.773728000000006, 40.770971, 40.758887, 40.773737, 40.758887, 40.769818, 40.644771999999996, 40.750362, 40.644752000000004, 40.643485999999996, 40.769921999999994, 40.769921999999994, 40.697476, 40.644752000000004, 40.806048, 40.771602, 40.645379999999996, 40.646863, 40.723696000000004, 40.645379999999996, 40.68355, 40.697476, 40.643485999999996, 40.77410888671875, 40.75254821777344, 40.75254821777344, 40.77405166625977, 40.76876831054688, 40.641351, 40.64453125, 40.78369140625, 40.771427, 40.64453125, 40.760477, 40.771427, 40.766767, 40.64726638793945, 40.64537811279297, 40.64537811279297, 40.675157, 40.756138, 40.644605, 40.770337, 40.64459228515625, 40.64726638793945, 40.766767, 40.67560958862305, 40.743001, 40.684490999999994, 40.768707, 40.77243, 40.772672, 40.76828, 40.769673, 40.769377, 40.75104, 40.77405, 40.755196999999995, 40.770244, 40.769079999999995, 40.75544738769531, 40.749033000000004, 40.768899, 40.771025, 40.76982498168945, 40.769911, 40.77098083496094, 40.76636, 40.76636, 40.773621, 40.758424, 40.760827, 40.755527, 40.75104, 40.77406311035156, 40.77364, 40.759785, 40.644777000000005, 40.739197999999995, 40.761607, 40.77364, 40.768817, 40.641434999999994, 40.769743, 40.715082, 40.76479721069336, 40.76982116699219, 40.75008010864258, 40.77397918701172, 40.69382858276367, 40.77397918701172, 40.762168884277344, 40.82393646240234, 40.644672, 40.647095, 40.6423, 40.644793, 40.762624, 40.64856719970703, 40.7330436706543, 40.768952, 40.644526, 40.7642, 40.644721999999994, 40.773758, 40.722103000000004, 40.78221893310547, 40.64875793457031, 40.7138, 40.646908, 40.648637, 40.754968, 40.641602, 40.648637, 40.641602, 40.648637, 40.77413177490234, 40.76879, 40.77398, 40.76914, 40.762144, 40.771062, 40.770687, 40.774082, 40.770815, 40.745296, 40.76873, 40.769259000000005, 40.7611, 40.770815, 40.770687, 40.841794, 40.774105, 40.760415, 40.742343, 40.773802, 40.774002, 40.769022, 40.76938, 40.760362, 40.77413177490234, 40.712894, 40.761915, 40.773007, 40.77953, 40.769022, 40.769521999999995, 40.740365000000004, 40.763355, 40.77689, 40.769187, 40.769187, 40.773783, 40.77208709716797, 40.774070739746094, 40.77006149291992, 40.769020080566406, 40.765174865722656, 40.644117, 40.76599, 40.769585, 40.767533, 40.644391, 40.767311096191406, 40.774025, 40.78466033935547, 40.768516999999996, 40.733882, 40.704570000000004, 40.76599, 40.740790000000004, 40.799157, 40.644391, 40.774025, 40.742095, 40.77381, 40.645317, 40.709761, 40.725367, 40.739887, 40.768874, 40.7645, 40.760177, 40.758302, 40.76901245117188, 40.774117, 40.773842, 40.769737, 40.758185, 40.773967, 40.757179, 40.774162, 40.770895, 40.77145, 40.76583480834961, 40.76076889038086, 40.771027000000004, 40.773802, 40.758302, 40.769737, 40.76901245117188, 40.799898, 40.73493, 40.768747, 40.75341033935547, 40.76901245117188, 40.771440000000005, 40.763475, 40.770332, 40.771914, 40.768907, 40.768077000000005, 40.768907, 40.728373, 40.773097, 40.803748, 40.641123, 40.76132583618164, 40.75250625610352, 40.77379608154297, 40.70601272583008, 40.770484924316406, 40.76132583618164, 40.76966094970703, 40.741628999999996, 40.644752000000004, 40.720290999999996, 40.719485, 40.6436653137207, 40.752694, 40.644271999999994, 40.6486, 40.720290999999996, 40.645447, 40.720725, 40.755607, 40.79319763183594, 40.759522, 40.763732, 40.709877, 40.644727, 40.764842, 40.644762, 40.644487, 40.77153, 40.773625, 40.727703000000005, 40.773625, 40.752407, 40.746727, 40.753322, 40.774219, 40.76898, 40.769017, 40.752414, 40.742375, 40.773928999999995, 40.761347, 40.769017, 40.773753, 40.761818, 40.773737, 40.757157, 40.761818, 40.773759999999996, 40.762596130371094, 40.764196999999996, 40.773793, 40.740984000000005, 40.768807, 40.748917, 40.77313, 40.768882, 40.733207, 40.769897, 40.773928999999995, 40.773132000000004, 40.763032, 40.769073, 40.84167, 40.707722, 40.84167, 40.773769, 40.757754999999996, 40.771417, 40.758469, 40.646741999999996, 40.769432, 40.769432, 40.769995, 40.76419, 40.64862, 40.761152, 40.646927000000005, 40.747571, 40.645332, 40.645332, 40.774171, 40.774171, 40.76111602783203, 40.76111602783203, 40.73484420776367, 40.74018859863281, 40.73484420776367, 40.76111602783203, 40.72528839111328, 40.744592, 40.754402, 40.74023, 40.76163101196289, 40.75732, 40.714542, 40.645412, 40.773109999999996, 40.76163101196289, 40.648517, 40.778702, 40.74023, 40.76163101196289, 40.774136, 40.731207, 40.8023, 40.714542, 40.64468765258789, 40.64485, 40.744397, 40.774051, 40.755788, 40.769935, 40.769935, 40.774051, 40.754092, 40.750677, 40.758942, 40.769032, 40.763201, 40.758851, 40.762205, 40.773740000000004, 40.707302, 40.76213, 40.757034000000004, 40.752217, 40.769094, 40.764725, 40.768879999999996, 40.75734, 40.773175, 40.756696999999996, 40.768782, 40.754898, 40.752217, 40.774042, 40.770348, 40.77131, 40.764192, 40.769079, 40.754352000000004, 40.771077000000005, 40.767252, 40.7582, 40.773657, 40.769079, 40.75734, 40.754352000000004, 40.77131, 40.773740000000004, 40.765567779541016, 40.748829, 40.773168, 40.756345, 40.769965, 40.792682, 40.751591999999995, 40.735352, 40.740272, 40.77298, 40.761482, 40.645362, 40.694795, 40.757542, 40.773695000000004, 40.705038, 40.773567, 40.645362, 40.63415, 40.773943, 40.645362, 40.773695000000004, 40.777365, 40.644673, 40.774112, 40.773567, 40.77097, 40.761595, 40.707728, 40.770462, 40.707728, 40.75597381591797, 40.7624626159668, 40.77132034301758, 40.647133000000004, 40.744102478027344, 40.773857, 40.763405, 40.784832, 40.7843, 40.643474, 40.645216999999995, 40.768322, 40.643992, 40.64482498168945, 40.763405, 40.64672088623047, 40.764035, 40.759487, 40.768446999999995, 40.641432, 40.64112854003906, 40.643685, 40.802038, 40.75120544433594, 40.763405, 40.644982, 40.729572, 40.74427, 40.756877, 40.758379999999995, 40.648527, 40.769317, 40.641213, 40.762075, 40.641433, 40.773027, 40.769889, 40.769012, 40.78402, 40.77195, 40.773683, 40.706957, 40.769921000000004, 40.769894, 40.77006, 40.773869, 40.76240158081055, 40.77093124389648, 40.77408, 40.769577000000005, 40.76089096069336, 40.765646999999994, 40.770757, 40.769312, 40.764445, 40.758902, 40.769921000000004, 40.774077, 40.764445, 40.773883000000005, 40.760005, 40.77404, 40.77195, 40.768840000000004, 40.773658000000005, 40.774032, 40.74935, 40.771607, 40.76804, 40.740916999999996, 40.736798, 40.758058, 40.755687, 40.705346, 40.773557000000004, 40.77401, 40.77389144897461, 40.774070739746094, 40.75935745239258, 40.71472549438477, 40.761772, 40.771402, 40.64535903930664, 40.77385330200195, 40.708778, 40.643712, 40.771442, 40.772902, 40.75628280639648, 40.788975, 40.708778, 40.745487, 40.769835, 40.802215000000004, 40.773925, 40.762496999999996, 40.64472198486328, 40.74007415771485, 40.75628280639648, 40.788975, 40.645325, 40.646867, 40.645325, 40.644723, 40.644552000000004, 40.775628999999995, 40.647115, 40.76907, 40.729745, 40.77385, 40.763521999999995, 40.773737, 40.760194, 40.729177, 40.735902, 40.773641999999995, 40.770518, 40.769991999999995, 40.752285, 40.763399, 40.774196, 40.773707, 40.77107, 40.77107, 40.721858000000005, 40.774196, 40.771242, 40.773786, 40.755712, 40.774046999999996, 40.751967, 40.726132, 40.77415, 40.758818, 40.769546999999996, 40.755712, 40.774037, 40.766535, 40.762118, 40.736371999999996, 40.768685, 40.768815000000004, 40.773705, 40.773722, 40.774196, 40.771242, 40.76913, 40.769057000000004, 40.745726, 40.769057000000004, 40.771242, 40.771242, 40.76865, 40.745726, 40.774023, 40.775347, 40.774113, 40.774, 40.774, 40.774, 40.644785, 40.758595, 40.768822, 40.645383, 40.739633000000005, 40.709122, 40.773692, 40.769859999999994, 40.769859999999994, 40.7741813659668, 40.76977157592773, 40.74205780029297, 40.75204086303711, 40.7741584777832, 40.76504135131836, 40.75204086303711, 40.76504135131836, 40.775634765625, 40.753607, 40.76897811889648, 40.750082, 40.765245, 40.7487, 40.768021999999995, 40.644492, 40.75302, 40.75239181518555, 40.771712, 40.719621999999994, 40.644538, 40.769039154052734, 40.733522, 40.706097, 40.68475, 40.801972, 40.775917, 40.646632000000004, 40.757437, 40.64542007446289, 40.76897811889648, 40.770618, 40.645202000000005, 40.70686721801758, 40.776089, 40.763632, 40.68475, 40.774277000000005, 40.64542007446289, 40.659729999999996, 40.648647, 40.762207000000004, 40.770108, 40.77037, 40.773672999999995, 40.773812, 40.773812, 40.76733, 40.773909, 40.711715000000005, 40.76956558227539, 40.774105, 40.79792785644531, 40.774087, 40.76886, 40.768957, 40.769467, 40.738279999999996, 40.773897, 40.732627, 40.756302000000005, 40.770392, 40.769937, 40.74928665161133, 40.774052000000005, 40.77407836914063, 40.769357, 40.772843, 40.759440000000005, 40.734002000000004, 40.777295, 40.774094, 40.760825, 40.7628, 40.739312, 40.771095, 40.770734999999995, 40.76886, 40.768772, 40.777295, 40.768957, 40.747343, 40.755621000000005, 40.76956558227539, 40.758457, 40.76733, 40.760168, 40.779837, 40.762808, 40.756226, 40.774112, 40.774112, 40.756226, 40.780021999999995, 40.755707, 40.756226, 40.75897, 40.736927, 40.645467, 40.773987, 40.771157, 40.756627, 40.709644, 40.667035, 40.77409, 40.727268, 40.762562, 40.753221999999994, 40.716507, 40.768862, 40.768002, 40.773987, 40.773987, 40.645340000000004, 40.690876, 40.762562, 40.769065000000005, 40.771038, 40.769095, 40.762562, 40.64477, 40.718486999999996, 40.709644, 40.77412033081055, 40.77100372314453, 40.76893615722656, 40.76965713500977, 40.77400588989258, 40.77398681640625, 40.77374649047852, 40.645462, 40.646859, 40.727142, 40.78321, 40.768995000000004, 40.768995000000004, 40.781315, 40.765240000000006, 40.769057000000004, 40.771367, 40.727142, 40.72262, 40.762614, 40.645371999999995, 40.769963, 40.645367, 40.762614, 40.781222, 40.772553, 40.645371999999995, 40.765240000000006, 40.807432, 40.749962, 40.781222, 40.768995000000004, 40.749962, 40.77362, 40.769721999999994, 40.770078999999996, 40.771132, 40.768923, 40.77002, 40.763695, 40.715025, 40.737665, 40.774107, 40.755792, 40.77001190185547, 40.753947, 40.77097702026367, 40.769227, 40.779896, 40.790715000000006, 40.768848999999996, 40.781372, 40.771662, 40.770843505859375, 40.734535, 40.774162, 40.763607, 40.761084999999994, 40.76965, 40.773648, 40.769665, 40.746016999999995, 40.790715000000006, 40.75881, 40.796232, 40.733712, 40.773723, 40.768954, 40.773812, 40.774131, 40.774086, 40.75484848022461, 40.733712, 40.774086, 40.773648, 40.772316, 40.773932, 40.758392, 40.771195, 40.734535, 40.762907, 40.677728, 40.752292, 40.741968, 40.774107, 40.755007, 40.769682, 40.769034999999995, 40.774029999999996, 40.769478, 40.769034999999995, 40.708202, 40.77404, 40.774103000000004, 40.708202, 40.723197, 40.774044, 40.646879999999996, 40.77404, 40.770571000000004, 40.731217, 40.810657, 40.773672, 40.75828, 40.65712, 40.761875, 40.731217, 40.646879999999996, 40.774106, 40.672851, 40.774103000000004, 40.641932000000004, 40.75229, 40.763195, 40.709552, 40.709552, 40.765218, 40.797765000000005, 40.765218, 40.797765000000005, 40.771221000000004, 40.73783493041992, 40.76409912109375, 40.769020080566406, 40.769020080566406, 40.67955780029297, 40.775482177734375, 40.76995086669922, 40.67955780029297, 40.77015686035156, 40.774172, 40.751695, 40.71502685546875, 40.705082, 40.77391815185547, 40.743673, 40.749655, 40.773916, 40.751695, 40.644137, 40.774025, 40.751695, 40.762099, 40.644535999999995, 40.755576, 40.644496999999994, 40.763974, 40.760467, 40.77399826049805, 40.641727, 40.743673, 40.79020309448242, 40.72993087768555, 40.75951766967773, 40.714335, 40.773788, 40.774063, 40.774063, 40.723075, 40.774012, 40.644595, 40.763020000000004, 40.774012, 40.657047, 40.760326, 40.641457, 40.756467, 40.773518, 40.731393, 40.641457, 40.773934999999994, 40.768901, 40.772839000000005, 40.773641999999995, 40.75432, 40.75715, 40.72329330444336, 40.768944, 40.735477, 40.759322, 40.750772, 40.769020000000005, 40.727742, 40.7634162902832, 40.771997, 40.750772, 40.744027, 40.749297, 40.774225, 40.746437, 40.749835, 40.774031, 40.774049, 40.764686584472656, 40.764686584472656, 40.76952, 40.764686584472656, 40.780471999999996, 40.773934999999994, 40.763804, 40.758699, 40.77125, 40.743925, 40.768114000000004, 40.759723, 40.770527, 40.771526, 40.768987, 40.769020000000005, 40.769346999999996, 40.772839000000005, 40.768944, 40.755851, 40.774314000000004, 40.769954, 40.763804, 40.76892, 40.769735, 40.768825, 40.768775, 40.770781, 40.745488, 40.773996999999994, 40.762352, 40.762136, 40.755575, 40.773682, 40.758648, 40.769178000000004, 40.720503, 40.757047, 40.769178000000004, 40.769178000000004, 40.714078, 40.750488, 40.750488, 40.774234, 40.774234, 40.752113342285156, 40.7740592956543, 40.76891326904297, 40.739540100097656, 40.76966857910156, 40.76891326904297, 40.76116180419922, 40.80304336547852, 40.74626922607422, 40.715452, 40.7227668762207, 40.75100326538086, 40.78226, 40.758866999999995, 40.749417, 40.733773, 40.735541, 40.64111, 40.644647, 40.770337, 40.725082, 40.76982116699219, 40.770243, 40.64474868774414, 40.730571999999995, 40.8052864074707, 40.76197, 40.753522, 40.645111083984375, 40.774004999999995, 40.733470000000004, 40.78226, 40.76879119873047, 40.758866999999995, 40.773656, 40.722227000000004, 40.733773, 40.701882, 40.733773, 40.753522, 40.705825, 40.648713, 40.711892, 40.774046999999996, 40.76075744628906, 40.75807571411133, 40.646972, 40.7227668762207, 40.733773, 40.648635, 40.773656, 40.768925, 40.715452, 40.768893, 40.75807571411133, 40.777707, 40.761562, 40.76197, 40.642157, 40.768987, 40.771257, 40.648562, 40.75100326538086, 40.732805, 40.762316999999996, 40.774153000000005, 40.769957, 40.74023, 40.750007000000004, 40.787017, 40.743995, 40.769075, 40.757835, 40.768882, 40.761615, 40.787017, 40.755545, 40.748446, 40.762493, 40.774153000000005, 40.770728999999996, 40.773742, 40.75678634643555, 40.769508, 40.74713516235352, 40.773947, 40.77475, 40.762679, 40.76932, 40.752245, 40.755320000000005, 40.758887, 40.75893, 40.768894, 40.76921, 40.749732, 40.741202, 40.757835, 40.774027000000004, 40.762316999999996, 40.745447, 40.770632, 40.77475, 40.770957, 40.75678634643555, 40.769798278808594, 40.76794, 40.745447, 40.745447, 40.758887, 40.7651481628418, 40.768894, 40.773577, 40.773087, 40.77363, 40.769023, 40.750757, 40.78672, 40.773128, 40.788681, 40.768699, 40.773076, 40.768699, 40.77363, 40.771642, 40.748792, 40.769023, 40.769115, 40.772715000000005, 40.769115, 40.768785, 40.7587, 40.768785, 40.751587, 40.765223999999996, 40.7627, 40.705492, 40.763345, 40.763345, 40.771367, 40.769267, 40.742058, 40.742058, 40.774077, 40.706648, 40.773528000000006, 40.773528000000006, 40.645298, 40.705492, 40.76436233520508, 40.77363967895508, 40.77000427246094, 40.73762893676758, 40.76964950561523, 40.773780822753906, 40.7512092590332, 40.763160705566406, 40.769935607910156, 40.76904296875, 40.773996999999994, 40.7735, 40.772704, 40.703022, 40.74949, 40.768836975097656, 40.642132000000004, 40.754488, 40.772277, 40.769593, 40.77494430541992, 40.744062, 40.752977, 40.76583862304688, 40.769773, 40.75320816040039, 40.755416, 40.747492, 40.645216999999995, 40.743125915527344, 40.772991999999995, 40.710751, 40.77403259277344, 40.77125, 40.706429, 40.769134, 40.644042999999996, 40.772277, 40.69915008544922, 40.706429, 40.76583862304688, 40.773892, 40.773671, 40.77378, 40.762267, 40.772448, 40.772448, 40.762267, 40.726397999999996, 40.77378, 40.772448, 40.762267, 40.768963, 40.76471, 40.751767, 40.751767, 40.75808, 40.76530075073242, 40.773720000000004, 40.77395, 40.757717, 40.774115, 40.71491241455078, 40.759757, 40.76835632324219, 40.749962, 40.756318, 40.733451, 40.768852, 40.774070739746094, 40.773759999999996, 40.732953, 40.745455, 40.76835632324219, 40.764540000000004, 40.774056, 40.769774, 40.733451, 40.753197, 40.751599, 40.77845, 40.769177, 40.76530075073242, 40.761957, 40.782768, 40.79867, 40.77085, 40.773778, 40.768837, 40.739212, 40.741440000000004, 40.744965, 40.77405166625977, 40.769147, 40.768837, 40.773720000000004, 40.714195000000004, 40.768854, 40.773853, 40.641257, 40.752317, 40.773994, 40.768854, 40.767313, 40.77146, 40.729532, 40.774012, 40.771819, 40.752317, 40.773812, 40.749359000000005, 40.797784, 40.808717, 40.687587, 40.644003000000005, 40.765351, 40.645365000000005, 40.769852, 40.749844, 40.773632, 40.753890000000006, 40.769852, 40.757318, 40.773565000000005, 40.769245, 40.6418, 40.769245, 40.769018, 40.64125, 40.768793, 40.76964569091797, 40.76955032348633, 40.7740592956543, 40.77655029296875, 40.75933074951172, 40.644492, 40.77384, 40.73295, 40.750777, 40.664828, 40.752790000000005, 40.674244, 40.717679, 40.750777, 40.769141999999995, 40.76897811889648, 40.750777, 40.77381896972656, 40.644645000000004, 40.64531707763672, 40.664828, 40.721425, 40.645346, 40.73295, 40.76910781860352, 40.73295, 40.778643, 40.769937, 40.762316999999996, 40.64531707763672, 40.645113, 40.8101806640625, 40.749665, 40.707584999999995, 40.78826522827149, 40.78028, 40.773753, 40.706762, 40.76435, 40.749907, 40.773734999999995, 40.764119, 40.769294, 40.781905, 40.77128, 40.774066999999995, 40.772907000000004, 40.740623474121094, 40.753613, 40.7741813659668, 40.77008056640625, 40.774063, 40.774122, 40.770113, 40.777105, 40.773724, 40.739725, 40.76178741455078, 40.817966999999996, 40.769096999999995, 40.764438, 40.755115999999994, 40.768959045410156, 40.773982000000004, 40.773645, 40.773982000000004, 40.774045, 40.768966999999996, 40.773902, 40.764119, 40.773647, 40.756535, 40.794536, 40.679196999999995, 40.754675, 40.77247, 40.72716, 40.772907000000004, 40.754717, 40.780765, 40.75861, 40.761458000000005, 40.770008000000004, 40.762417, 40.759422, 40.774018, 40.763662, 40.774227, 40.647144, 40.751012, 40.644165, 40.774142, 40.639468, 40.773895, 40.773167, 40.76592, 40.644751, 40.676477, 40.758708, 40.733509000000005, 40.767687, 40.648645, 40.748507000000004, 40.7741, 40.777578999999996, 40.774227, 40.762652, 40.774142, 40.74208, 40.737832, 40.720795, 40.771372, 40.759372, 40.759832, 40.771372, 40.76592, 40.639468, 40.734745000000004, 40.773778, 40.766011, 40.738126, 40.771522, 40.722175, 40.727435, 40.773645, 40.738582, 40.773077, 40.757922, 40.751888, 40.768803000000005, 40.774003, 40.751888, 40.755285, 40.755285, 40.7652702331543, 40.76884078979492, 40.76884078979492, 40.77406311035156, 40.77402877807617, 40.77407836914063, 40.77407836914063, 40.7509765625, 40.76884078979492, 40.76884078979492, 40.771163, 40.7463, 40.769005, 40.645407, 40.773443, 40.64500045776367, 40.737061, 40.722132, 40.709441999999996, 40.774127, 40.782539, 40.791212, 40.759122999999995, 40.779441833496094, 40.647346999999996, 40.730025, 40.646445, 40.647346999999996, 40.727685, 40.644568, 40.75759887695313, 40.647165, 40.774115, 40.7463, 40.761382, 40.762696000000005, 40.762696000000005, 40.644742, 40.737797, 40.761877, 40.727685, 40.641995, 40.76919555664063, 40.771163, 40.752247, 40.73744583129883, 40.710903, 40.711265000000004, 40.73188781738281, 40.771437, 40.769867, 40.768869, 40.769211, 40.770697999999996, 40.746612, 40.76012, 40.768928, 40.769121999999996, 40.769112, 40.6453, 40.735445, 40.773571999999994, 40.727403, 40.720698, 40.769015, 40.644754999999996, 40.768885, 40.732307, 40.773001, 40.774015999999996, 40.770417, 40.767075, 40.745713, 40.7740364074707, 40.74270629882813, 40.758935, 40.745713, 40.773061, 40.773007, 40.76964569091797, 40.768615000000004, 40.769059000000006, 40.769932, 40.734207, 40.770077, 40.76873016357422, 40.762122, 40.762747, 40.758023, 40.750468, 40.742309999999996, 40.774015000000006, 40.746874, 40.768786999999996, 40.758935, 40.780452000000004, 40.743982, 40.762747, 40.773790000000005, 40.758237, 40.722545000000004, 40.770097, 40.758023, 40.77112, 40.74580764770508, 40.757078, 40.745713, 40.671296000000005, 40.773720000000004, 40.745713, 40.774017333984375, 40.75589, 40.773587, 40.773790000000005, 40.769767, 40.761534999999995, 40.752461, 40.757103, 40.773655, 40.773706, 40.747840000000004, 40.774046999999996, 40.773508, 40.734476, 40.770082, 40.757847, 40.772989, 40.772989, 40.773737, 40.769195, 40.774132, 40.777958, 40.75378, 40.705657, 40.774023, 40.705657, 40.768997, 40.748373, 40.75688171386719, 40.7730827331543, 40.7513427734375, 40.79323959350586, 40.79323959350586, 40.773868560791016, 40.73332214355469, 40.75795364379883, 40.722596, 40.773882, 40.707440000000005, 40.717667999999996, 40.774214, 40.645325, 40.676756, 40.732737, 40.769752000000004, 40.715111, 40.769729999999996, 40.687053000000006, 40.769711, 40.647290999999996, 40.752425, 40.78265, 40.774331, 40.707440000000005, 40.768917, 40.76276, 40.707440000000005, 40.783317, 40.724821, 40.774021999999995, 40.756968, 40.747865000000004, 40.641605, 40.7049560546875, 40.64532852172852, 40.644709999999996, 40.644827, 40.770015, 40.722596, 40.760089, 40.64532852172852, 40.768852, 40.768782, 40.756968, 40.768857000000004, 40.715371999999995, 40.747865000000004, 40.687053000000006, 40.647317, 40.645165000000006, 40.70772171020508, 40.763577000000005, 40.76215, 40.770682, 40.644042, 40.776315999999994, 40.744815826416016, 40.77003, 40.774162, 40.676756, 40.782195, 40.774042, 40.771534, 40.692665100097656, 40.771102, 40.774164, 40.646687, 40.644843, 40.770907, 40.706828, 40.74221, 40.758084999999994, 40.769597, 40.759128000000004, 40.774113, 40.77462387084961, 40.768777, 40.764463, 40.739892, 40.760967, 40.774277000000005, 40.763182, 40.754665, 40.774062, 40.773647, 40.774277000000005, 40.760471, 40.774128999999995, 40.772337, 40.76983, 40.794909999999994, 40.783203, 40.770874, 40.736622, 40.773907, 40.76235, 40.784703, 40.77241, 40.762209999999996, 40.770015, 40.774082, 40.772337, 40.754352000000004, 40.74731063842773, 40.761523, 40.773983, 40.782462, 40.743593, 40.73080062866211, 40.758084999999994, 40.760191999999996, 40.773787, 40.758802, 40.757517, 40.770015, 40.783203, 40.77384948730469, 40.760471, 40.773983, 40.759128000000004, 40.773142, 40.787494, 40.768794, 40.758802, 40.76878, 40.766324, 40.774095, 40.769672, 40.812757, 40.764325, 40.770102, 40.76913, 40.725939000000004, 40.771152, 40.725967, 40.76913, 40.770102, 40.774089000000004, 40.774093, 40.770102, 40.818342, 40.76913, 40.773621, 40.752553000000006, 40.751537, 40.774075, 40.818342, 40.770126, 40.768758, 40.769082, 40.768857000000004, 40.774057, 40.768857000000004, 40.785375, 40.796268, 40.768857000000004, 40.773655, 40.796268, 40.74684, 40.774343, 40.774198, 40.773078000000005, 40.762283000000004, 40.644884999999995, 40.77006, 40.774252000000004, 40.763865, 40.749873, 40.749204999999996, 40.7302, 40.755848, 40.77006, 40.76532, 40.644665, 40.644945, 40.762541999999996, 40.646633, 40.729721999999995, 40.769135, 40.648628, 40.646633, 40.644945, 40.762572999999996, 40.714490000000005, 40.76977157592773, 40.75796890258789, 40.77399826049805, 40.77051162719727, 40.735389709472656, 40.75543212890625, 40.769691467285156, 40.76988983154297, 40.648551, 40.755886, 40.647940000000006, 40.648676, 40.648676, 40.6453742980957, 40.723440999999994, 40.7969, 40.768944, 40.721985, 40.678411, 40.735133000000005, 40.654363000000004, 40.6453742980957, 40.713871999999995, 40.705459999999995, 40.773737, 40.759727000000005, 40.645324, 40.75811767578125, 40.6447, 40.721985, 40.648658752441406, 40.709707, 40.721985, 40.642148999999996, 40.773562, 40.77411651611328, 40.647234000000005, 40.782527, 40.644674, 40.773765000000004, 40.7619, 40.648676, 40.768944, 40.742898, 40.773737, 40.644667, 40.713784999999994, 40.768867, 40.759727000000005, 40.768953, 40.70599, 40.72395, 40.756392, 40.7737, 40.72395, 40.758232, 40.7691, 40.77368, 40.774075, 40.770835999999996, 40.773621, 40.760889, 40.796017, 40.750886, 40.73891830444336, 40.758517, 40.774107, 40.77382278442383, 40.728643, 40.751056, 40.77554, 40.758282, 40.72665, 40.771075, 40.764717, 40.76956, 40.773732, 40.737685, 40.779005, 40.779005, 40.768805, 40.769777000000005, 40.7737, 40.77382278442383, 40.773995, 40.770627000000005, 40.768802, 40.753859999999996, 40.772019, 40.75762, 40.752885, 40.790985, 40.770715, 40.77410507202149, 40.771582, 40.774198999999996, 40.749349, 40.753832, 40.76956, 40.757999, 40.768283000000004, 40.758715, 40.76956, 40.768682, 40.746177, 40.753859999999996, 40.768817, 40.764295000000004, 40.750820000000004, 40.753859999999996, 40.76047134399414, 40.764295000000004, 40.773917, 40.796017, 40.773621, 40.757999, 40.769075, 40.769612, 40.773945, 40.76899, 40.74182510375977, 40.764295000000004, 40.774006, 40.778555, 40.770705, 40.764497, 40.773707, 40.759015000000005, 40.764497, 40.778555, 40.773861, 40.763451, 40.730049, 40.774159999999995, 40.645293, 40.731805, 40.783495, 40.774159999999995, 40.773707, 40.773861, 40.764497, 40.75606, 40.756316, 40.749252, 40.73121, 40.776245, 40.774142, 40.76132, 40.804319, 40.744023, 40.707097999999995, 40.773705, 40.774192, 40.77388, 40.77388, 40.773058, 40.776245, 40.770508, 40.73121, 40.731460999999996, 40.746061, 40.729704999999996, 40.773557000000004, 40.752295000000004, 40.773842, 40.77406311035156, 40.77400588989258, 40.76959991455078, 40.78248977661133, 40.77408981323242, 40.787352, 40.677659000000006, 40.76573, 40.750554, 40.770368, 40.771291999999995, 40.730019, 40.645402000000004, 40.769062, 40.774117, 40.708661, 40.645283, 40.648645, 40.765906, 40.763137, 40.786464, 40.75615, 40.706741, 40.769039, 40.64521408081055, 40.721342, 40.774057, 40.782055, 40.720988, 40.76573, 40.74941635131836, 40.646807, 40.648645, 40.715328216552734, 40.641542, 40.798390000000005, 40.804969787597656, 40.774093, 40.730173, 40.775045, 40.769267, 40.768792, 40.769065000000005, 40.756186, 40.761627000000004, 40.768838, 40.758142, 40.756186, 40.773749, 40.769877, 40.739421, 40.774235, 40.768695, 40.77379989624024, 40.727771999999995, 40.758203, 40.76851, 40.78030014038086, 40.748377000000005, 40.745345, 40.7445182800293, 40.78030014038086, 40.774157, 40.759732, 40.773777, 40.768848, 40.770145, 40.768893, 40.759003, 40.773599, 40.799741999999995, 40.774117, 40.77404022216797, 40.771158, 40.799741999999995, 40.773952, 40.773691, 40.769273999999996, 40.769733, 40.766624, 40.770145, 40.770145, 40.773777, 40.748377000000005, 40.77410125732422, 40.768956, 40.771417, 40.748377000000005, 40.770145, 40.774053, 40.774157, 40.772744, 40.756563, 40.762941999999995, 40.745345, 40.77402, 40.763442, 40.769707000000004, 40.758168, 40.78030014038086, 40.774078, 40.74998474121094, 40.787392, 40.769232, 40.76995849609375, 40.765515, 40.768838, 40.727771999999995, 40.759245, 40.773916, 40.769005, 40.768955, 40.76448, 40.751995, 40.769917, 40.760635, 40.77412, 40.762017, 40.71137, 40.769358000000004, 40.791832, 40.77368, 40.771142, 40.773853, 40.769077, 40.768955, 40.648625, 40.794695000000004, 40.769104999999996, 40.74086, 40.756125, 40.759442, 40.743577, 40.756125, 40.772824, 40.760635, 40.792987, 40.816321, 40.721858000000005, 40.816321, 40.773062, 40.773987, 40.767562, 40.773851, 40.705135, 40.731147, 40.816321, 40.77288, 40.771703, 40.770869, 40.768955, 40.774117, 40.747724, 40.721858000000005, 40.762627, 40.645565000000005, 40.759458, 40.759458, 40.758915, 40.774194, 40.758379, 40.769655, 40.754965000000006, 40.773916, 40.761321, 40.745696, 40.769017, 40.769827, 40.773916, 40.770875, 40.745696, 40.768995000000004, 40.768995000000004, 40.768995000000004, 40.75358581542969, 40.768821716308594, 40.71864318847656, 40.7687873840332, 40.74999237060547, 40.75055, 40.703815000000006, 40.736484999999995, 40.645275, 40.724375, 40.756138, 40.750541, 40.773134999999996, 40.803695000000005, 40.64480209350586, 40.732046000000004, 40.697648, 40.758303999999995, 40.718377000000004, 40.77007675170898, 40.756363, 40.787692, 40.77118682861328, 40.79959, 40.74912, 40.645267, 40.77106, 40.768867, 40.77118682861328, 40.76571, 40.77106, 40.76134872436523, 40.746446, 40.746446, 40.736484999999995, 40.756138, 40.76571, 40.771347, 40.804507, 40.787692, 40.719625, 40.64132, 40.753278, 40.644676208496094, 40.768876, 40.769121999999996, 40.774126, 40.768874, 40.736484999999995, 40.70842361450195, 40.753278, 40.743567, 40.72862, 40.641459000000005, 40.751999999999995, 40.647458, 40.770109999999995, 40.758755, 40.774082, 40.646232, 40.766311, 40.750292, 40.724865, 40.769073999999996, 40.774044, 40.759087, 40.744939, 40.77378, 40.750292, 40.646232, 40.694753000000006, 40.711740999999996, 40.7741, 40.759372, 40.769073999999996, 40.773837, 40.72878, 40.694753000000006, 40.756153000000005, 40.771162, 40.774021999999995, 40.64495, 40.774187, 40.645247, 40.702715000000005, 40.694753000000006, 40.756153000000005, 40.768834999999996, 40.769165, 40.77421, 40.750840000000004, 40.77407, 40.758628, 40.774021999999995, 40.758846000000005, 40.751047, 40.751104999999995, 40.77405166625977, 40.738302000000004, 40.770922, 40.769098, 40.773993, 40.770922, 40.758212, 40.757437, 40.789921, 40.773835, 40.752827, 40.77412, 40.773792, 40.720077, 40.774025, 40.774144, 40.78413, 40.773627000000005, 40.751028000000005, 40.771390000000004, 40.768807, 40.751782, 40.738302000000004, 40.774144, 40.774021999999995, 40.751028000000005, 40.77407, 40.768987, 40.77077, 40.749619, 40.769417, 40.76985, 40.734362, 40.768679999999996, 40.76985, 40.760624, 40.768987, 40.745425, 40.76893997192383, 40.772977000000004, 40.751502, 40.768987, 40.7588, 40.752625, 40.773962, 40.770047, 40.770047, 40.7646, 40.771265, 40.769238, 40.752334999999995, 40.769194, 40.769194, 40.774125, 40.749377, 40.774125, 40.773962, 40.755815000000005, 40.773714, 40.769892, 40.759428, 40.759463000000004, 40.759463000000004, 40.759463000000004, 40.770585, 40.774133, 40.773931, 40.76967, 40.773932, 40.76967, 40.774079, 40.774035, 40.773932, 40.769232, 40.774079, 40.773931, 40.769232, 40.740746, 40.772769, 40.790987, 40.748443603515625, 40.77424621582031, 40.77291870117188, 40.76976013183594, 40.75619125366211, 40.76976013183594, 40.7740592956543, 40.770077, 40.698598, 40.770933, 40.774044, 40.784027, 40.720076, 40.726176, 40.648568, 40.73486, 40.768972, 40.64590072631836, 40.773102, 40.76923, 40.645107, 40.773641999999995, 40.64889, 40.761047, 40.736592, 40.757937, 40.76129150390625, 40.774178000000006, 40.7273, 40.771606, 40.77428817749024, 40.648697, 40.774187, 40.774075, 40.771562, 40.736701000000004, 40.7652, 40.648697, 40.728587, 40.726690000000005, 40.748247, 40.648697, 40.644868, 40.768502000000005, 40.738966999999995, 40.720076, 40.773633000000004, 40.77482, 40.64869689941406, 40.645292, 40.715906, 40.715613, 40.718158, 40.76547, 40.751975, 40.75939, 40.75616836547852, 40.641332, 40.768677000000004, 40.673753000000005, 40.781168, 40.644202, 40.769778, 40.757937, 40.7273, 40.64458, 40.773803, 40.77113, 40.77482, 40.764799, 40.75012, 40.768302, 40.773803, 40.645697, 40.761047, 40.784027, 40.705546000000005, 40.773973, 40.719921, 40.771218, 40.64869689941406, 40.751162, 40.76547, 40.760259000000005, 40.779192, 40.741417, 40.769078, 40.705546000000005, 40.748015, 40.645855, 40.738745, 40.738966999999995, 40.773887, 40.744532, 40.755547, 40.7394, 40.774051, 40.771503, 40.734, 40.774161, 40.742645, 40.769705, 40.769345, 40.769560999999996, 40.734, 40.752349853515625, 40.770972, 40.771503, 40.762709, 40.77381134033203, 40.76445, 40.752666999999995, 40.771503, 40.80087, 40.766215, 40.769042, 40.769, 40.769904, 40.774764000000005, 40.762709, 40.739083, 40.766215, 40.774276, 40.771503, 40.744532, 40.76969909667969, 40.762732, 40.788692, 40.781304999999996, 40.641977000000004, 40.73953628540039, 40.755693, 40.773192, 40.774060999999996, 40.755693, 40.769705, 40.774042, 40.76973724365234, 40.739667, 40.743687, 40.749645, 40.774138, 40.777227, 40.774043, 40.7737, 40.76445, 40.769560999999996, 40.76445, 40.76877, 40.739083, 40.793408, 40.774042, 40.756937, 40.74990463256836, 40.773657, 40.769597, 40.743817, 40.768842, 40.768795000000004, 40.756316999999996, 40.756847, 40.756316999999996, 40.769047, 40.772956, 40.773651, 40.75969, 40.761646999999996, 40.774071, 40.774188, 40.755332, 40.755332, 40.768511, 40.705183, 40.744471000000004, 40.773885, 40.752493, 40.755856, 40.7741, 40.645216999999995, 40.750229, 40.769093, 40.641502, 40.772393, 40.773814, 40.774287, 40.773012, 40.645216999999995, 40.76202, 40.778689, 40.782990000000005, 40.766065000000005, 40.639793, 40.76202, 40.777, 40.777105, 40.774287, 40.774287, 40.769265000000004, 40.747288, 40.770193, 40.774029999999996, 40.752555, 40.702428000000005, 40.762043, 40.770527, 40.750927000000004, 40.757829, 40.778689, 40.770058, 40.770527, 40.757829, 40.770527, 40.641602, 40.788191999999995, 40.757033, 40.778689, 40.717037, 40.705327000000004, 40.7562255859375, 40.768856048583984, 40.743553161621094, 40.762550354003906, 40.7701301574707, 40.77378845214844, 40.707184000000005, 40.773022, 40.770759999999996, 40.682477, 40.64533996582031, 40.745020000000004, 40.770785, 40.773022, 40.75971984863281, 40.7690658569336, 40.745020000000004, 40.734662, 40.728732, 40.758247, 40.756907, 40.76518, 40.748616999999996, 40.76518, 40.774015999999996, 40.766183000000005, 40.7694206237793, 40.794333, 40.767677307128906, 40.77395, 40.774333, 40.773087, 40.64399337768555, 40.77301, 40.73962, 40.748616999999996, 40.64864, 40.784862, 40.768984, 40.777895, 40.750099, 40.71269989013672, 40.774662, 40.768638610839844, 40.745020000000004, 40.644737, 40.74357, 40.770967, 40.771437, 40.76081085205078, 40.75877, 40.744915, 40.773604, 40.774105, 40.7690658569336, 40.773406, 40.722817, 40.773658752441406, 40.644692, 40.759012, 40.64399337768555, 40.753608, 40.734312, 40.768638610839844, 40.75111770629883, 40.770177000000004, 40.7985, 40.77719497680664, 40.728732, 40.774122, 40.76081085205078, 40.71505737304688, 40.769107, 40.773406, 40.782416999999995, 40.745020000000004, 40.773778, 40.64855, 40.769375, 40.64483, 40.769715999999995, 40.773617, 40.767007, 40.762138, 40.768995000000004, 40.711036, 40.76898, 40.771476, 40.768373, 40.770977, 40.770247999999995, 40.754595, 40.774052000000005, 40.769965, 40.750558000000005, 40.750558000000005, 40.773564, 40.774052000000005, 40.774046000000006, 40.765565, 40.738264, 40.762254999999996, 40.758285, 40.755522, 40.769012, 40.774142, 40.774245, 40.774021999999995, 40.758671, 40.756287, 40.770012, 40.773833, 40.76912, 40.774057, 40.774037, 40.773932, 40.755187, 40.769913, 40.772192, 40.760607, 40.770567, 40.774043, 40.743377, 40.756642, 40.753508000000004, 40.758018, 40.738264, 40.770567, 40.740846999999995, 40.774172, 40.759010314941406, 40.773757, 40.773796999999995, 40.774057, 40.770587, 40.768797, 40.766345, 40.770012, 40.770887, 40.645652, 40.774057, 40.77374649047852, 40.745777000000004, 40.739345, 40.750979, 40.774075, 40.75297164916992, 40.772303, 40.756642, 40.756642, 40.773744, 40.744282, 40.769985999999996, 40.783922, 40.764390999999996, 40.766162, 40.747665000000005, 40.771257, 40.774213, 40.732872, 40.769112, 40.76903, 40.751068, 40.743901, 40.755173, 40.769115, 40.769999, 40.7741, 40.786392, 40.750025, 40.749532, 40.774213, 40.78392, 40.774062, 40.773905, 40.771055, 40.774066999999995, 40.648598, 40.758383, 40.759384999999995, 40.770202000000005, 40.756766999999996, 40.774126, 40.737365000000004, 40.641283, 40.772088000000004, 40.768888000000004, 40.773614, 40.77402, 40.745523, 40.78674, 40.769356, 40.75335, 40.746413000000004, 40.681787, 40.772515000000006, 40.769025, 40.769356, 40.77167, 40.774122999999996, 40.716905, 40.769338, 40.774004999999995, 40.773752, 40.716869, 40.762125, 40.751663, 40.769234999999995, 40.773614, 40.768399, 40.774048, 40.769331, 40.758383, 40.773592, 40.685245, 40.764371999999995, 40.773888, 40.753182, 40.751663, 40.689947, 40.758487, 40.756493, 40.774004999999995, 40.768425, 40.774029, 40.648635, 40.716869, 40.769913, 40.730768, 40.774083000000005, 40.719398, 40.77407836914063, 40.75066375732422, 40.74850845336914, 40.75066375732422, 40.77410507202149, 40.75066375732422, 40.7730712890625, 40.768821, 40.774165, 40.73540496826172, 40.725582, 40.75823, 40.749947, 40.774187, 40.769083, 40.77367, 40.763816, 40.772162, 40.737035, 40.69171, 40.75823, 40.764403, 40.71216, 40.78425979614258, 40.737035, 40.77771377563477, 40.762251, 40.773821000000005, 40.747771, 40.749962, 40.732484, 40.754695892333984, 40.76317596435547, 40.773590000000006, 40.768903, 40.768836975097656, 40.769382, 40.74961, 40.794872, 40.679809999999996, 40.774187, 40.645371999999995, 40.794872, 40.73257, 40.721109999999996, 40.77367, 40.732484, 40.68328857421875, 40.749962, 40.752221999999996, 40.771991, 40.772077, 40.785934999999995, 40.73992, 40.76428985595703, 40.748474, 40.737035, 40.770065, 40.773821000000005, 40.704999, 40.73257, 40.768836975097656, 40.769083, 40.77405166625977, 40.770065, 40.64671325683594, 40.7730712890625, 40.674071999999995, 40.722379, 40.760197, 40.78427, 40.74224853515625, 40.774165, 40.754647999999996, 40.769096000000005, 40.768945, 40.773818, 40.769278, 40.769006, 40.770179999999996, 40.756607, 40.773962, 40.754397, 40.774072, 40.774072, 40.7740592956543, 40.756411, 40.756504, 40.765584999999994, 40.750437, 40.770962, 40.773618, 40.77400588989258, 40.7446403503418, 40.769092, 40.769079999999995, 40.773619000000004, 40.752885, 40.752885, 40.774122, 40.752885, 40.770512, 40.764612, 40.75222, 40.765584999999994, 40.773619000000004, 40.7455, 40.774223, 40.774051, 40.773934999999994, 40.750437, 40.77046, 40.773095, 40.761943, 40.774026, 40.770962, 40.773062, 40.750395000000005, 40.77046, 40.761309999999995, 40.732547, 40.771605, 40.774026, 40.769115, 40.769092, 40.774066999999995, 40.769081, 40.769059999999996, 40.756609999999995, 40.644788, 40.774283000000004, 40.825939, 40.770757, 40.724517, 40.786418, 40.758891, 40.758891, 40.644788, 40.780587, 40.773652, 40.780587, 40.77093, 40.773627000000005, 40.760602, 40.769005, 40.769077, 40.773557000000004, 40.773711999999996, 40.746149, 40.768298, 40.77093, 40.768802, 40.746149, 40.730833000000004, 40.770133, 40.757211, 40.762443, 40.769052, 40.774025, 40.779149, 40.767346, 40.774025, 40.770757, 40.724517, 40.751696, 40.770133, 40.769047, 40.770757, 40.774059, 40.645305, 40.769042, 40.722221000000005, 40.769867, 40.773984999999996, 40.77355, 40.770322, 40.761720000000004, 40.727115999999995, 40.758292, 40.646887, 40.768262, 40.769059999999996, 40.783072, 40.774052000000005, 40.64483, 40.746149, 40.769042, 40.767346, 40.774025, 40.740982, 40.714991999999995, 40.740982, 40.769081, 40.761057, 40.755093, 40.773657, 40.757195, 40.761772, 40.761707, 40.727337, 40.76981, 40.755793, 40.7567, 40.752212, 40.769475, 40.774138, 40.745658, 40.769283, 40.653715000000005, 40.754621, 40.758895, 40.769034000000005, 40.763255, 40.769052, 40.749787, 40.780402, 40.758992, 40.746322, 40.653715000000005, 40.774164, 40.773643, 40.762665000000005, 40.768778000000005, 40.755987, 40.771437, 40.757283, 40.806794000000004, 40.76995849609375, 40.76968383789063, 40.750831604003906, 40.77402114868164, 40.76871871948242, 40.7889404296875, 40.76871871948242, 40.7731, 40.714732, 40.692764000000004, 40.75971984863281, 40.749025, 40.774085998535156, 40.77425765991211, 40.76877975463867, 40.770812, 40.776298, 40.77060317993164, 40.7718391418457, 40.752381, 40.694414, 40.720696999999994, 40.773691, 40.643459, 40.643805, 40.73509216308594, 40.77425765991211, 40.762095, 40.757521999999994, 40.773552, 40.774989, 40.770947, 40.773552, 40.749025, 40.76271057128906, 40.761635, 40.7106, 40.721297, 40.763672, 40.722877000000004, 40.75705337524414, 40.751025, 40.756448999999996, 40.756365, 40.770342, 40.774004999999995, 40.774027000000004, 40.722656, 40.76474, 40.741337, 40.64872360229492, 40.768824, 40.7737, 40.774989, 40.729143, 40.646252000000004, 40.64468383789063, 40.738701, 40.77425765991211, 40.767509999999994, 40.760655, 40.774136999999996, 40.77370834350586, 40.740211486816406, 40.775757, 40.729765, 40.773703999999995, 40.781702, 40.767509999999994, 40.644467, 40.644042999999996, 40.759384999999995, 40.773677, 40.774065, 40.643519, 40.771049, 40.754195, 40.771271999999996, 40.72988, 40.771271999999996, 40.768778000000005, 40.742982, 40.783465, 40.769360999999996, 40.742982, 40.767569, 40.771271999999996, 40.773982000000004, 40.773542, 40.732665000000004, 40.769852, 40.666589, 40.639643, 40.773557000000004, 40.7537, 40.666589, 40.647445000000005, 40.755832, 40.767569, 40.7603, 40.773792, 40.768817, 40.773687, 40.771271999999996, 40.647211999999996, 40.769830999999996, 40.769360999999996, 40.730658, 40.768778000000005, 40.764772, 40.76392, 40.768953, 40.77407, 40.743142999999996, 40.72988, 40.770723, 40.773544, 40.765265, 40.729834000000004, 40.756405, 40.77414321899414, 40.774225, 40.75325, 40.769914, 40.756046999999995, 40.757616999999996, 40.773137, 40.76967, 40.769914, 40.77409, 40.750163, 40.747122, 40.744617, 40.757616999999996, 40.774134000000004, 40.773732, 40.773697999999996, 40.772552000000005, 40.758966, 40.776912, 40.76967, 40.768955, 40.768370000000004, 40.774189, 40.765265, 40.743672, 40.751259999999995, 40.774117, 40.731045, 40.739397, 40.739397, 40.774085, 40.768832, 40.769847, 40.768470764160156, 40.773137, 40.75325, 40.771765, 40.773727, 40.758966, 40.740691999999996, 40.74693, 40.732765, 40.752927, 40.75027084350586, 40.750567, 40.770655, 40.775785, 40.770007, 40.774136, 40.77516, 40.739397, 40.778622, 40.769718170166016, 40.774132, 40.759009999999996, 40.7394, 40.768962, 40.773995, 40.77408981323242, 40.751912, 40.77408981323242, 40.769851, 40.727257, 40.7394, 40.7511, 40.770927, 40.774102, 40.7394, 40.768962, 40.7394, 40.757068, 40.774291999999996, 40.774164, 40.769427, 40.768734, 40.774072, 40.774105, 40.769233, 40.77037, 40.766733, 40.769393, 40.774105, 40.77091, 40.769427, 40.769393, 40.759724, 40.759753, 40.76996, 40.768991, 40.772985, 40.774164, 40.731376000000004, 40.768734, 40.769020000000005, 40.77037, 40.841281, 40.774244, 40.769027, 40.773047, 40.768902000000004, 40.773016, 40.77006, 40.773663, 40.784682000000004, 40.77956771850586, 40.7694206237793, 40.73527908325195, 40.785072326660156, 40.75284957885742, 40.75284957885742, 40.68338012695313, 40.750038146972656, 40.76966857910156, 40.74088, 40.759531, 40.774085, 40.760595, 40.758818, 40.77001190185547, 40.79503, 40.774057, 40.773695000000004, 40.76954650878906, 40.750463, 40.760507000000004, 40.76906204223633, 40.774085, 40.73675, 40.644704, 40.773962, 40.763349, 40.76916122436523, 40.706245, 40.75590515136719, 40.775017, 40.646425, 40.779742, 40.768696999999996, 40.774057, 40.645363, 40.773907, 40.741541999999995, 40.759366, 40.773738861083984, 40.74251556396485, 40.770371000000004, 40.644968, 40.74088, 40.757657, 40.763943, 40.74088, 40.763189000000004, 40.710972, 40.769905, 40.760261, 40.759366, 40.798809999999996, 40.77062, 40.74554443359375, 40.759246999999995, 40.64569, 40.77062, 40.773738861083984, 40.646337, 40.647538, 40.773881, 40.718098, 40.73327255249024, 40.773965000000004, 40.769621, 40.76954650878906, 40.646337, 40.754304, 40.743942, 40.763189000000004, 40.75607, 40.774147, 40.763189000000004, 40.77492, 40.773992, 40.768786999999996, 40.79503, 40.76988, 40.770031, 40.648621999999996, 40.768941, 40.774053, 40.75112, 40.680710999999995, 40.721825, 40.75278, 40.788247, 40.773881, 40.762779235839844, 40.706245, 40.706245, 40.773297, 40.741634999999995, 40.83480072021485, 40.639717, 40.762779235839844, 40.762779235839844, 40.76232, 40.768912, 40.758447, 40.756571, 40.790107, 40.644917, 40.760595, 40.762053, 40.75607, 40.750064, 40.749215, 40.80173110961914, 40.74293, 40.773881, 40.758818, 40.75590515136719, 40.750064, 40.759366, 40.765975, 40.743782, 40.774057, 40.773907, 40.762779235839844, 40.767371999999995, 40.770955, 40.77001190185547, 40.750046000000005, 40.77370834350586, 40.756837, 40.783013000000004, 40.773965000000004, 40.773992, 40.785045000000004, 40.637882, 40.7404, 40.765192, 40.73063, 40.768941, 40.751802000000005, 40.760595, 40.769076, 40.76928, 40.769352000000005, 40.769319, 40.773982000000004, 40.771557, 40.759223, 40.76988, 40.77398, 40.771195, 40.773993, 40.77370834350586, 40.746507, 40.77408, 40.747087, 40.76919555664063, 40.741040000000005, 40.74495, 40.744848, 40.778372, 40.77408, 40.745244, 40.7741, 40.77414321899414, 40.773617, 40.76912, 40.77075958251953, 40.742422999999995, 40.770827000000004, 40.768941999999996, 40.716032, 40.769073, 40.770353, 40.747087, 40.804395, 40.758887, 40.773037, 40.773143, 40.774196999999994, 40.774097, 40.7734, 40.770167, 40.742422999999995, 40.771195, 40.773628, 40.771195, 40.770662, 40.77, 40.7741, 40.77414321899414, 40.77262, 40.769742, 40.76896, 40.773989, 40.753124, 40.77408, 40.804395, 40.774105, 40.77398, 40.743887, 40.773775, 40.774023, 40.76907, 40.734096, 40.773962, 40.76976, 40.771477000000004, 40.771477000000004, 40.772977000000004, 40.774087, 40.774136999999996, 40.772537, 40.772977000000004, 40.774274, 40.741890000000005, 40.774004999999995, 40.773625, 40.774004999999995, 40.762595000000005, 40.757616, 40.75677, 40.768982, 40.760676000000004, 40.774082, 40.774074, 40.769525, 40.77315, 40.771122999999996, 40.759822, 40.762595000000005, 40.744265999999996, 40.78335, 40.759364, 40.77415, 40.771122999999996, 40.726585, 40.769037, 40.768982, 40.773075, 40.773008000000004, 40.760847, 40.720729999999996, 40.762332, 40.762332, 40.744199, 40.644639, 40.747329, 40.773747, 40.769028000000006, 40.644822999999995, 40.773343, 40.749167, 40.757284999999996, 40.745317, 40.714222, 40.645027, 40.767583, 40.760602, 40.773783, 40.780702000000005, 40.770236, 40.745317, 40.64143, 40.765976, 40.773542, 40.7885, 40.740012, 40.774306, 40.773753, 40.728854, 40.771238000000004, 40.768892, 40.769678000000006, 40.704782, 40.772553, 40.762578000000005, 40.804359999999996, 40.761115000000004, 40.644822999999995, 40.770812, 40.769936, 40.770755, 40.770755, 40.762847, 40.774011, 40.773343, 40.749167, 40.773037, 40.736174, 40.765638, 40.762847, 40.745317, 40.768374, 40.768113, 40.757284999999996, 40.720960999999996, 40.757585999999996, 40.641225, 40.770236, 40.807482, 40.773753, 40.764367, 40.773747, 40.755590000000005, 40.745317, 40.773632, 40.78784, 40.755057, 40.75540161132813, 40.77004623413086, 40.769378662109375, 40.77376937866211, 40.772403717041016, 40.77384948730469, 40.75540161132813, 40.75515365600586, 40.74422073364258, 40.77402114868164, 40.659732, 40.719467, 40.776007, 40.773934999999994, 40.773657, 40.727, 40.659732, 40.644797, 40.768862, 40.756921999999996, 40.76088, 40.74596786499024, 40.680842, 40.735275, 40.773967999999996, 40.77374649047852, 40.77414, 40.75289535522461, 40.770532, 40.66315460205078, 40.729997, 40.722538, 40.77415, 40.722097999999995, 40.773082, 40.770015, 40.647083, 40.773655, 40.644797, 40.646809999999995, 40.7060546875, 40.720052, 40.75265, 40.773128, 40.726577, 40.772492, 40.7392, 40.74596786499024, 40.76862, 40.66315460205078, 40.72674, 40.758155, 40.76175308227539, 40.76089859008789, 40.770963, 40.749555, 40.773082, 40.81433486938477, 40.737932, 40.774226, 40.768865000000005, 40.758155, 40.77410125732422, 40.773082, 40.757391999999996, 40.774255, 40.758832, 40.731671999999996, 40.763296000000004, 40.758507, 40.644420000000004, 40.773967999999996, 40.756921999999996, 40.757025, 40.76175308227539, 40.7060546875, 40.77410125732422, 40.7672233581543, 40.769053, 40.737396000000004, 40.773942, 40.734127, 40.726577, 40.776007, 40.773922, 40.77410125732422, 40.762668, 40.770702, 40.77083969116211, 40.768962, 40.773657, 40.726379, 40.774152, 40.772851, 40.773573, 40.769612, 40.794667, 40.760447, 40.752443, 40.751096000000004, 40.759083000000004, 40.741591, 40.768943, 40.750478, 40.752443, 40.774008, 40.760447, 40.794667, 40.740415000000006, 40.7737, 40.758933, 40.773573, 40.748853000000004, 40.769998, 40.768918, 40.748853000000004, 40.741446, 40.76217269897461, 40.773958, 40.773958, 40.756042, 40.769663, 40.774095, 40.764408, 40.773137, 40.77470779418945, 40.768757, 40.774004999999995, 40.771467, 40.757393, 40.750809999999994, 40.763812, 40.770753000000006, 40.79317, 40.773958, 40.771592999999996, 40.772725, 40.747578000000004, 40.73519515991211, 40.773887, 40.774097, 40.753817, 40.768914, 40.764408, 40.744128, 40.744575, 40.759192999999996, 40.725612, 40.770635, 40.75343704223633, 40.761272999999996, 40.75405, 40.74343490600586, 40.773995, 40.80314636230469, 40.756321, 40.773945, 40.747655, 40.768842, 40.774353000000005, 40.774097, 40.748987, 40.774063, 40.745737, 40.755232, 40.740596999999994, 40.77411, 40.75195, 40.771302, 40.750898, 40.774097, 40.772945, 40.774097, 40.770306, 40.771302, 40.773063, 40.761482, 40.761399, 40.775835, 40.77411, 40.773857, 40.770306, 40.774018, 40.760421, 40.736123, 40.762687, 40.774105, 40.80182, 40.773975, 40.645417, 40.64481, 40.774018, 40.763622999999995, 40.746742, 40.768784000000004, 40.773582, 40.77404, 40.766498999999996, 40.765296, 40.763622999999995, 40.756352, 40.727618, 40.756170000000004, 40.773984999999996, 40.774242, 40.772065000000005, 40.645399, 40.76423, 40.769020000000005, 40.645399, 40.769933, 40.639869, 40.779751, 40.764798, 40.747378000000005, 40.727618, 40.76903, 40.762687, 40.769256, 40.758022, 40.759737, 40.779022999999995, 40.768955, 40.768703, 40.647242, 40.760875, 40.760875, 40.769083, 40.739433, 40.779751, 40.757165, 40.769256, 40.647242, 40.768844, 40.760875, 40.762583, 40.774242, 40.754655, 40.784026000000004, 40.756190000000004, 40.647465000000004, 40.769166999999996, 40.758252, 40.769268, 40.773692, 40.647465000000004, 40.758252, 40.771189, 40.781521000000005, 40.774025, 40.644753, 40.761978000000006, 40.769009000000004, 40.736076000000004, 40.769489, 40.73217, 40.765296, 40.760875, 40.756640000000004, 40.749765000000004, 40.773988, 40.774167, 40.76960372924805, 40.64143, 40.767974853515625, 40.75506210327149, 40.765496, 40.77406, 40.766257, 40.641685485839844, 40.774167999999996, 40.763318, 40.68275, 40.709522, 40.729647, 40.723209999999995, 40.645346999999994, 40.70485, 40.772566999999995, 40.755137, 40.646971, 40.648602000000004, 40.644752000000004, 40.750246999999995, 40.730476, 40.75911, 40.751362, 40.768777, 40.77038955688477, 40.743375, 40.727821999999996, 40.740117, 40.74522, 40.73432540893555, 40.750101, 40.708047, 40.761737, 40.760342, 40.773666999999996, 40.773032, 40.70845031738281, 40.757455, 40.755321, 40.672979999999995, 40.74045, 40.750101, 40.728177, 40.774202, 40.713644, 40.711976, 40.773780822753906, 40.757455, 40.730995178222656, 40.744059, 40.770952, 40.757771999999996, 40.716021999999995, 40.7154426574707, 40.768395, 40.755321, 40.773722, 40.768777, 40.648672, 40.7681884765625, 40.763318, 40.734132, 40.770918, 40.77429580688477, 40.772197, 40.792392, 40.741364000000004, 40.76771, 40.741364000000004, 40.646184999999996, 40.772197, 40.716813, 40.78232955932617, 40.64143, 40.697567, 40.786587, 40.761734000000004, 40.757771999999996, 40.77406, 40.77388, 40.697567, 40.761734000000004, 40.731603, 40.756785, 40.760773, 40.756785, 40.771057, 40.764684, 40.76753, 40.773908, 40.769048, 40.760773, 40.756262, 40.76753, 40.769151, 40.737244, 40.756351, 40.773528999999996, 40.75543, 40.758363, 40.73129, 40.758895, 40.73965, 40.773528999999996, 40.763528, 40.763528, 40.737244, 40.771127, 40.773618, 40.769192, 40.721412, 40.77386, 40.759382, 40.773828, 40.769143, 40.773934999999994, 40.783313, 40.769952, 40.769952, 40.768842, 40.768842, 40.773996999999994, 40.774007, 40.774169921875, 40.77386, 40.774122999999996, 40.767962, 40.773658752441406, 40.759912, 40.77163, 40.746975, 40.77179, 40.77225, 40.77411651611328, 40.77169, 40.755691999999996, 40.77409, 40.736047, 40.753721999999996, 40.741738, 40.771797, 40.735053, 40.77409, 40.811945, 40.741738, 40.756854, 40.790482, 40.733134, 40.774093, 40.751296, 40.773928000000005, 40.750478, 40.77385, 40.773748, 40.774007, 40.774007, 40.774007, 40.780342, 40.77411651611328, 40.773157, 40.77427, 40.774132, 40.745096999999994, 40.761421999999996, 40.761421999999996, 40.774017, 40.745096999999994, 40.77386, 40.772532, 40.77362, 40.75589370727539, 40.751296, 40.745096999999994, 40.774105, 40.774077, 40.756820000000005, 40.74527, 40.751622, 40.774158, 40.746975, 40.795947999999996, 40.641797, 40.774037, 40.711071000000004, 40.759293, 40.731992, 40.753202, 40.73758, 40.768947, 40.761086999999996, 40.774077, 40.769253000000006, 40.769441, 40.739864000000004, 40.773888, 40.76914, 40.773703999999995, 40.746448, 40.735662, 40.773682, 40.761641999999995, 40.749215, 40.678803, 40.77377, 40.702805, 40.722787, 40.746448, 40.64671, 40.759522, 40.774052000000005, 40.734845, 40.759549, 40.7462, 40.74553, 40.645031, 40.800087, 40.750315, 40.76396, 40.773790000000005, 40.773102, 40.750679999999996, 40.773843, 40.773692, 40.678803, 40.768947, 40.772595, 40.7594, 40.773952, 40.686735, 40.771139, 40.657301000000004, 40.769077, 40.745017, 40.731992, 40.768862, 40.754932000000004, 40.75752, 40.754391999999996, 40.772812, 40.74553, 40.763587, 40.77382, 40.71649, 40.759549, 40.76125, 40.772595, 40.770773, 40.774155, 40.739832, 40.773983, 40.640875, 40.769063, 40.730495, 40.769063, 40.759327, 40.768937, 40.762111, 40.774088, 40.769087, 40.7822, 40.761807, 40.773037, 40.769087, 40.774027000000004, 40.738288, 40.743725, 40.774027000000004, 40.762347, 40.747778000000004, 40.77387, 40.755672, 40.762347, 40.734345000000005, 40.770218, 40.736554999999996, 40.758033000000005, 40.773524, 40.773998999999996, 40.774138, 40.770073, 40.738422, 40.770542, 40.758198, 40.733265, 40.766591999999996, 40.774177, 40.762612, 40.748363, 40.73813, 40.790805, 40.773170471191406, 40.77372360229492, 40.74626541137695, 40.77372360229492, 40.76878356933594, 40.76772689819336, 40.773780822753906, 40.774186, 40.820147, 40.745195, 40.73224258422852, 40.762918, 40.75425, 40.755917, 40.778787, 40.73218, 40.780442, 40.64404296875, 40.735766999999996, 40.713863, 40.757872, 40.70934295654297, 40.820147, 40.74893, 40.719195, 40.754647, 40.773775, 40.774271999999996, 40.718277, 40.775849, 40.73109817504883, 40.778442, 40.745195, 40.74158, 40.75006, 40.724777, 40.705373, 40.754613, 40.648893, 40.778442, 40.7738037109375, 40.774142, 40.693637, 40.771527, 40.74992752075195, 40.774183, 40.72597122192383, 40.756865000000005, 40.774528000000004, 40.7738037109375, 40.76497, 40.758772, 40.798777, 40.750217, 40.766672, 40.693637, 40.646522, 40.726514, 40.756087, 40.773548, 40.774271999999996, 40.771527, 40.7646, 40.730918884277344, 40.83333206176758, 40.709427000000005, 40.764825, 40.77378845214844, 40.747525, 40.770709000000004, 40.641113, 40.774271999999996, 40.73941040039063, 40.760277, 40.733134, 40.769697, 40.76497, 40.721605, 40.74158, 40.773548, 40.72951126098633, 40.717791999999996, 40.782225, 40.778372, 40.645383, 40.770618, 40.774032, 40.757985, 40.773764, 40.644172, 40.750547, 40.773548999999996, 40.773973, 40.77408, 40.768698, 40.769088, 40.764215, 40.731612, 40.758705, 40.761722, 40.764215, 40.774, 40.729169, 40.774032, 40.761176, 40.768921, 40.77408, 40.766925, 40.762316999999996, 40.762642, 40.72133, 40.764008000000004, 40.781842, 40.773086, 40.774215000000005, 40.769837, 40.785206, 40.737685, 40.708578, 40.769234000000004, 40.645117, 40.76883, 40.768884, 40.774205, 40.750921999999996, 40.768842, 40.773869, 40.776368, 40.764379, 40.774078, 40.646454999999996, 40.769088, 40.787652, 40.765977, 40.750911, 40.681962, 40.817988, 40.773734999999995, 40.773711999999996, 40.773723, 40.762316999999996, 40.651196999999996, 40.742208000000005, 40.757802000000005, 40.817988, 40.755925, 40.773973, 40.743134999999995, 40.769632, 40.748336, 40.749424, 40.744985, 40.770653, 40.773072, 40.716308000000005, 40.747198, 40.770917, 40.64147, 40.648565000000005, 40.735882000000004, 40.77408, 40.773846999999996, 40.768932, 40.774059, 40.768805, 40.769632, 40.745833000000005, 40.768994, 40.64517, 40.770653, 40.768507, 40.773697, 40.773843, 40.770662, 40.773047, 40.773722, 40.774312, 40.773047, 40.772981, 40.771337, 40.774133, 40.781209999999994, 40.768797, 40.739737, 40.77107, 40.75547, 40.771384999999995, 40.771384999999995, 40.742371999999996, 40.74858856201172, 40.754459000000004, 40.774066999999995, 40.773972, 40.769151, 40.74858856201172, 40.77413177490234, 40.785733, 40.773697, 40.747361, 40.774076, 40.75293, 40.773685, 40.773066, 40.750417999999996, 40.743312, 40.77107, 40.769779, 40.770882, 40.773962, 40.771337, 40.747125, 40.774091999999996, 40.752232, 40.797542, 40.769938, 40.770127, 40.773792, 40.769038, 40.773792, 40.774113, 40.771233, 40.769946000000004, 40.762442, 40.760408, 40.764501, 40.769202, 40.740256, 40.773585, 40.754464, 40.759479999999996, 40.774294, 40.774159999999995, 40.774308000000005, 40.774068, 40.774294, 40.769583000000004, 40.774182, 40.769127000000005, 40.77411, 40.755491, 40.773108, 40.754464, 40.770113, 40.769583000000004, 40.770518, 40.763995, 40.774338, 40.773585, 40.769894, 40.77411, 40.765518, 40.760408, 40.749685, 40.769985, 40.770866999999996, 40.768783, 40.777983, 40.762713, 40.768783, 40.77378, 40.769146, 40.751619, 40.768783, 40.727243, 40.799361, 40.727243, 40.773934999999994, 40.7737922668457, 40.75278091430664, 40.77407836914063, 40.73405838012695, 40.752762, 40.76886, 40.773908, 40.721961975097656, 40.74480819702149, 40.690774, 40.720973, 40.771325, 40.721961975097656, 40.774057, 40.742323, 40.7312, 40.773008000000004, 40.733246, 40.767277, 40.727294921875, 40.741951, 40.746832, 40.764, 40.667755, 40.76982, 40.766104999999996, 40.774113, 40.760007, 40.774039, 40.771195, 40.771093, 40.707387, 40.743840999999996, 40.737057, 40.835708000000004, 40.779959999999996, 40.76332, 40.641645000000004, 40.77044, 40.743217, 40.765817, 40.773707, 40.74480819702149, 40.748132, 40.773691, 40.771066999999995, 40.771924, 40.779959999999996, 40.684127000000004, 40.738085, 40.721466, 40.707421999999994, 40.743217, 40.759710999999996, 40.773942, 40.750813, 40.704737, 40.740282, 40.729357, 40.753125, 40.704737, 40.75747, 40.7704, 40.75701522827149, 40.741662, 40.769548, 40.773558, 40.757013, 40.773776, 40.71521759033203, 40.773725, 40.744842, 40.782109000000005, 40.74235, 40.773043, 40.749068, 40.759617999999996, 40.738965, 40.75123596191406, 40.773558, 40.751743, 40.758295000000004, 40.644676000000004, 40.773691, 40.789605, 40.771093, 40.76493835449219, 40.746572, 40.743761, 40.742323, 40.748094, 40.748202, 40.771325, 40.759406, 40.71521759033203, 40.768491, 40.773558, 40.73112106323242, 40.75105285644531, 40.64398956298828, 40.70732116699219, 40.768018, 40.738819, 40.772262, 40.7178, 40.738527000000005, 40.773776, 40.73961, 40.730623, 40.773108, 40.76898, 40.75268, 40.754661560058594, 40.76744079589844, 40.755452000000005, 40.7704, 40.771924, 40.748202, 40.715136, 40.758295000000004, 40.762175, 40.64538192749024, 40.71428298950195, 40.773707, 40.764267, 40.768762, 40.7312, 40.64665985107422, 40.754661560058594, 40.707421999999994, 40.740282, 40.758844, 40.771093, 40.7709, 40.75607681274414, 40.76890182495117, 40.69631576538086, 40.739185, 40.779959999999996, 40.768433, 40.755452000000005, 40.752762, 40.764, 40.733559, 40.774023, 40.644795, 40.720973, 40.755225, 40.765386, 40.73961, 40.764984000000005, 40.644692, 40.776346999999994, 40.773705, 40.743761, 40.778065000000005, 40.747301, 40.774018, 40.774172, 40.774038, 40.768018, 40.773677, 40.733559, 40.73355, 40.794731, 40.7523, 40.835708000000004, 40.773732, 40.804062, 40.771924, 40.722221999999995, 40.751031, 40.737057, 40.782608, 40.771093, 40.694325, 40.770032, 40.77738, 40.770207, 40.770812, 40.774132, 40.777285, 40.77410125732422, 40.720915000000005, 40.770019, 40.773767, 40.779003, 40.774003, 40.779635, 40.773082, 40.77408, 40.777017, 40.769577000000005, 40.774196999999994, 40.77410125732422, 40.748019, 40.769062, 40.724477, 40.7702522277832, 40.774072, 40.773796000000004, 40.774012, 40.770005, 40.774281, 40.77410125732422, 40.773771999999994, 40.774, 40.78728103637695, 40.74003, 40.803047, 40.748019, 40.7702522277832, 40.7528, 40.742377000000005, 40.769211999999996, 40.773996999999994, 40.775172, 40.781353, 40.771122, 40.774026, 40.754932000000004, 40.774045, 40.774045, 40.747512, 40.754932000000004, 40.748695, 40.755665, 40.731953000000004, 40.769493, 40.788216999999996, 40.770842, 40.773949, 40.786691999999995, 40.77312, 40.771183, 40.788154999999996, 40.771183, 40.770707, 40.773596999999995, 40.769402, 40.74049, 40.734278, 40.77401, 40.747437, 40.77404, 40.735113, 40.758236, 40.74049, 40.7689, 40.773932, 40.795625, 40.74929, 40.75312, 40.7688, 40.77357, 40.77414, 40.773972, 40.761324, 40.764848, 40.768939, 40.753867, 40.737567, 40.737507, 40.768122999999996, 40.737324, 40.761228, 40.773553, 40.739022, 40.739022, 40.761228, 40.769393, 40.766168, 40.647179, 40.762434999999996, 40.752829, 40.749938, 40.786882, 40.694402000000004, 40.764596000000004, 40.774127, 40.644655, 40.760892, 40.76272, 40.646603000000006, 40.700728000000005, 40.740353999999996, 40.645219, 40.773021, 40.75257, 40.762355, 40.755773, 40.704754, 40.768829, 40.762434999999996, 40.769386, 40.720942, 40.733894, 40.768832, 40.804134999999995, 40.759059, 40.773021, 40.7302, 40.734083, 40.750876, 40.768832, 40.768778000000005, 40.7822, 40.769098, 40.746653, 40.749584999999996, 40.773984999999996, 40.773885, 40.739833000000004, 40.787402, 40.774103000000004, 40.722025, 40.757355, 40.761545, 40.744437, 40.751661999999996, 40.742045000000005, 40.759159000000004, 40.770192, 40.761554, 40.759058, 40.715342, 40.756012, 40.786882, 40.673472, 40.756838, 40.773643, 40.771564, 40.701822, 40.763082, 40.722775, 40.8126, 40.774127, 40.750896999999995, 40.786413, 40.7741, 40.773625, 40.764003, 40.644788, 40.77066, 40.742643, 40.758132, 40.769751, 40.747873, 40.804134999999995, 40.648656, 40.742643, 40.787402, 40.76272, 40.749584999999996, 40.733995, 40.768829, 40.756605, 40.771007, 40.759058, 40.77409362792969, 40.74758529663086, 40.77409362792969, 40.758045, 40.73517608642578, 40.769295, 40.770067, 40.724552, 40.71604919433594, 40.750060999999995, 40.76893997192383, 40.711143, 40.733526, 40.763197, 40.750060999999995, 40.715145, 40.76298, 40.773113, 40.719597, 40.711143, 40.72866821289063, 40.77479, 40.765431, 40.770621999999996, 40.74412, 40.7245, 40.774126, 40.71666717529297, 40.71687, 40.717282, 40.734707, 40.804357, 40.709428, 40.770105, 40.76298, 40.773790999999996, 40.770009, 40.783327, 40.732667, 40.694177, 40.713967, 40.711763, 40.739829, 40.71915, 40.695362, 40.75033, 40.746565000000004, 40.750779, 40.774181, 40.709534999999995, 40.759817, 40.759159999999994, 40.715284999999994, 40.76302719116211, 40.727643, 40.68621063232422, 40.73094940185547, 40.723315, 40.74748992919922, 40.749735, 40.764509999999994, 40.72866821289063, 40.764936, 40.739582, 40.716382, 40.73094940185547, 40.782814025878906, 40.775887, 40.764407, 40.755996, 40.72675, 40.754156, 40.727067, 40.78441, 40.713967, 40.714117, 40.641921, 40.773738861083984, 40.68095779418945, 40.77381134033203, 40.733252, 40.773995, 40.804357, 40.721137, 40.769822, 40.779287, 40.711267, 40.645092, 40.754156, 40.782814025878906, 40.716382, 40.738222, 40.774136, 40.770915, 40.826394, 40.71475601196289, 40.71032, 40.709534999999995, 40.715145, 40.769295, 40.773737, 40.769822, 40.7588005065918, 40.77367, 40.773987, 40.64622116088867, 40.784951, 40.774074, 40.781024, 40.774254, 40.774232, 40.768809999999995, 40.773742999999996, 40.76336, 40.74977, 40.752287, 40.768968, 40.77401, 40.769888, 40.764345, 40.745042, 40.774078, 40.728287, 40.742512, 40.761348, 40.774203, 40.73038, 40.769018, 40.764345, 40.770243, 40.781024, 40.754985999999995, 40.754985999999995, 40.762387, 40.774136999999996, 40.73993, 40.773858000000004, 40.774078, 40.769912, 40.766412, 40.774232, 40.73993, 40.782987, 40.772861, 40.774038, 40.769453999999996, 40.75622, 40.772861, 40.768912, 40.75622, 40.748159, 40.81595, 40.77398300170898, 40.768877, 40.81595, 40.77411651611328, 40.769912, 40.74679183959961, 40.743903, 40.769048, 40.774229999999996, 40.773706, 40.766433, 40.773697, 40.770858000000004, 40.773037, 40.786265, 40.735515, 40.75598, 40.769420000000004, 40.749251, 40.773152, 40.774083000000005, 40.77398300170898, 40.769673, 40.774635314941406, 40.81595, 40.774017, 40.750659999999996, 40.786265, 40.737712, 40.775843, 40.770257, 40.775843, 40.77375793457031, 40.773592, 40.741499, 40.746204999999996, 40.759018, 40.76996, 40.773592, 40.743821999999994, 40.769223, 40.742915999999994, 40.773644, 40.747125, 40.764057, 40.750671999999994, 40.759723, 40.742975, 40.648615, 40.769063, 40.720998, 40.773745, 40.730188, 40.725975, 40.769795, 40.788948, 40.770627000000005, 40.769121000000005, 40.763093, 40.764595, 40.768502000000005, 40.759997, 40.768916, 40.717471999999994, 40.77465, 40.723399, 40.722753999999995, 40.641427, 40.757222999999996, 40.774155, 40.763052, 40.761972, 40.774065, 40.769271, 40.760062, 40.641427, 40.762322, 40.676722, 40.701572999999996, 40.717471999999994, 40.761487, 40.755478000000004, 40.769343, 40.78187, 40.770348, 40.774206, 40.768916, 40.739785, 40.765018, 40.774172, 40.644983, 40.764327, 40.76905, 40.733628, 40.707495, 40.770109999999995, 40.769956, 40.763093, 40.76903, 40.646797, 40.774065, 40.768916, 40.723518, 40.711556, 40.774412, 40.762594, 40.64116, 40.770046, 40.773998, 40.770013, 40.740496, 40.643701, 40.773842, 40.770782000000004, 40.770627000000005, 40.750984, 40.76877, 40.725975, 40.644983, 40.759723, 40.645432, 40.779143, 40.758483, 40.754571999999996, 40.765613, 40.774117, 40.76086, 40.773777, 40.743987, 40.76457, 40.77375, 40.78187, 40.740352, 40.723399, 40.764327, 40.760824, 40.73778, 40.759107, 40.754289, 40.77312088012695, 40.78201675415039, 40.77312088012695, 40.77573776245117, 40.78451156616211, 40.78451156616211, 40.765622, 40.745231, 40.77111434936523, 40.744341, 40.84502, 40.751193, 40.773763, 40.731671999999996, 40.769205, 40.729177, 40.741615295410156, 40.744612, 40.76782, 40.729177, 40.73509, 40.759762, 40.774972, 40.76887, 40.74306, 40.773818, 40.746686, 40.7705, 40.726107, 40.72737884521485, 40.769027, 40.644705, 40.770527, 40.751193, 40.773834, 40.753577, 40.797662, 40.761418, 40.722695, 40.765332, 40.751193, 40.773645, 40.72166442871094, 40.798957, 40.765332, 40.77362823486328, 40.791862, 40.744612, 40.769144, 40.760302, 40.78076, 40.73509, 40.773546, 40.666765000000005, 40.769196, 40.75652, 40.687399, 40.779897, 40.721262, 40.750023, 40.772357, 40.739467, 40.757467, 40.753814, 40.806190490722656, 40.694373, 40.744696999999995, 40.768163, 40.774077, 40.78076, 40.64727, 40.646888, 40.7136116027832, 40.70608, 40.7848014831543, 40.761418, 40.714743, 40.724682, 40.719621999999994, 40.740608, 40.780947, 40.773762, 40.750811999999996, 40.767712, 40.741812, 40.765252000000004, 40.78309631347656, 40.742065000000004, 40.773834, 40.741812, 40.719621999999994, 40.770282, 40.739467, 40.746686, 40.74306, 40.772391999999996, 40.641432, 40.768163, 40.77111434936523, 40.772357, 40.721262, 40.694655, 40.774215999999996, 40.746686, 40.64533615112305, 40.77389526367188, 40.755107, 40.714096999999995, 40.741812, 40.745453000000005, 40.769196, 40.719621999999994, 40.773762, 40.714096999999995, 40.765002, 40.733805, 40.775132, 40.736982, 40.760377000000005, 40.773925, 40.774093, 40.766038, 40.76887, 40.772653000000005, 40.764569, 40.774122, 40.76887, 40.769148, 40.74957, 40.772837, 40.763808000000004, 40.758691999999996, 40.769027, 40.769009999999994, 40.77398, 40.787923, 40.765638, 40.774359999999994, 40.774114000000004, 40.736982, 40.771503, 40.763808000000004, 40.774114000000004, 40.771503, 40.741762, 40.769921999999994, 40.774018, 40.774002, 40.768898, 40.756769, 40.774026, 40.739975, 40.765775, 40.774114000000004, 40.769148, 40.773769, 40.774122, 40.779955, 40.769882, 40.759009999999996, 40.769884999999995, 40.769908, 40.773769, 40.759009999999996, 40.722115, 40.779955, 40.768755, 40.773769, 40.774122, 40.768855, 40.719786, 40.769983, 40.774055, 40.773677, 40.773807, 40.73025894165039, 40.773996999999994, 40.774017, 40.783873, 40.770421999999996, 40.769996, 40.74191, 40.73025894165039, 40.774017, 40.749743, 40.773992, 40.773776, 40.774017, 40.773776, 40.823762, 40.774042, 40.779027, 40.749743, 40.748436, 40.774107, 40.77391052246094, 40.774017, 40.773672, 40.77391052246094, 40.746102, 40.751012, 40.765834999999996, 40.773107, 40.768981, 40.73301, 40.778434000000004, 40.774225, 40.751106, 40.785472999999996, 40.746632, 40.799051, 40.752935, 40.774097, 40.768966999999996, 40.721288, 40.719179, 40.764582, 40.728413, 40.773801, 40.770577, 40.756582, 40.751362, 40.685028, 40.77221, 40.768452, 40.773996000000004, 40.770416, 40.758977, 40.797203, 40.774288, 40.785472999999996, 40.720883, 40.800463, 40.754385, 40.759738, 40.767623, 40.7736, 40.646892, 40.753512, 40.645297, 40.764379999999996, 40.735349, 40.767885, 40.774025, 40.742304, 40.768842, 40.77315, 40.639878, 40.746327, 40.769023, 40.793455, 40.774128999999995, 40.773037, 40.678359, 40.769286, 40.750153000000005, 40.774097999999995, 40.756227, 40.7789, 40.768829, 40.769757, 40.774055, 40.756419, 40.746327, 40.770146999999994, 40.771102, 40.769757, 40.646955, 40.725693, 40.769104, 40.77646, 40.751362, 40.746732, 40.799051, 40.773965999999994, 40.739158, 40.746327, 40.772827, 40.773864, 40.774094, 40.762814, 40.71532, 40.769396, 40.644042, 40.762237, 40.774142, 40.721288, 40.773982000000004, 40.746732, 40.774, 40.773982000000004, 40.773037, 40.771085, 40.7687, 40.755472, 40.770416, 40.749062, 40.762237, 40.797203, 40.759268, 40.720007, 40.719952, 40.778434000000004, 40.646955, 40.750153000000005, 40.735065000000006, 40.769915000000005, 40.750997999999996, 40.74793, 40.793378000000004, 40.740533, 40.77366, 40.770807, 40.773140000000005, 40.747707, 40.758352, 40.762338, 40.771547, 40.769012, 40.718888, 40.769012, 40.755036, 40.760115, 40.729687, 40.754807, 40.765111, 40.763555, 40.769005, 40.771547, 40.740247, 40.774088, 40.773725, 40.748948, 40.762338, 40.729687, 40.763993, 40.78645, 40.769068, 40.64112, 40.761677, 40.770075, 40.773725, 40.756275, 40.764022, 40.769034000000005, 40.756997999999996, 40.737272, 40.758244, 40.774136999999996, 40.75638, 40.774136999999996, 40.773952, 40.737272, 40.774136999999996, 40.741602, 40.758244, 40.764163, 40.7696533203125, 40.7535285949707, 40.73234176635742, 40.757995, 40.722605, 40.714465000000004, 40.714967, 40.75132, 40.773727, 40.76882, 40.757971999999995, 40.747282, 40.728637, 40.782478000000005, 40.78045272827149, 40.741971, 40.756102, 40.76447677612305, 40.744547999999995, 40.808762, 40.76954650878906, 40.754445000000004, 40.782932, 40.72598, 40.759184000000005, 40.692434999999996, 40.7808, 40.808207, 40.71971130371094, 40.74430847167969, 40.730589, 40.80510711669922, 40.754275, 40.70745849609375, 40.773902, 40.730589, 40.745271, 40.805004, 40.756640000000004, 40.716703, 40.736146999999995, 40.769339, 40.75504684448242, 40.718435, 40.735622, 40.73193, 40.760754999999996, 40.75721, 40.743583, 40.802383, 40.713017, 40.77003479003906, 40.68181, 40.760842, 40.716685, 40.688777, 40.766589, 40.644723, 40.776253000000004, 40.751915000000004, 40.773998, 40.722605, 40.724212, 40.758912, 40.839965, 40.77400588989258, 40.655882, 40.684446, 40.75543, 40.774127, 40.733816999999995, 40.741971, 40.71875381469727, 40.759207, 40.74954, 40.779286, 40.711839000000005, 40.684446, 40.760842, 40.714967, 40.721038, 40.746241, 40.75639, 40.762752, 40.743782, 40.714967, 40.749666999999995, 40.77400588989258, 40.743782, 40.78045272827149, 40.79869842529297, 40.718435, 40.72945, 40.760878999999996, 40.734891, 40.745271, 40.754635, 40.773962, 40.77192306518555, 40.684446, 40.776253000000004, 40.77415084838867, 40.740657, 40.76669692993164, 40.694297, 40.73987579345703, 40.770034, 40.756797, 40.759368, 40.643798, 40.768856, 40.761702, 40.770947, 40.767109000000005, 40.751647999999996, 40.755607, 40.769157, 40.769020000000005, 40.746502, 40.73672, 40.7391, 40.7343, 40.792927, 40.770340000000004, 40.708317, 40.746502, 40.762184999999995, 40.726521999999996, 40.740561, 40.774027000000004, 40.771797, 40.774019, 40.773937, 40.766303, 40.773846999999996, 40.762408, 40.799676, 40.774006, 40.756429, 40.757515000000005, 40.771797, 40.773808, 40.644582, 40.733823, 40.761421999999996, 40.799676, 40.764432, 40.769476, 40.77991, 40.773582, 40.756429, 40.756077000000005, 40.81995, 40.774284, 40.769701, 40.792927, 40.773765000000004, 40.773922999999996, 40.768987, 40.769476, 40.730908, 40.744188, 40.7104, 40.787879, 40.76907, 40.708317, 40.770324, 40.769335, 40.645694, 40.76907, 40.743876, 40.765153999999995, 40.768873, 40.684252, 40.684252, 40.76647, 40.769503, 40.782877, 40.746483000000005, 40.722829, 40.71151, 40.751020000000004, 40.77415, 40.773808, 40.708317, 40.769062, 40.773798, 40.74821, 40.755495, 40.773977, 40.680261, 40.77187, 40.775555, 40.761225, 40.691210999999996, 40.710365, 40.739925, 40.755012, 40.77102, 40.742937, 40.768941999999996, 40.730908, 40.769085, 40.797888, 40.74821, 40.77015, 40.756679, 40.7743, 40.77187, 40.769062, 40.738611, 40.755775, 40.760583000000004, 40.770514, 40.710365, 40.705832, 40.774235, 40.762408, 40.773998, 40.767109000000005, 40.704102, 40.774063, 40.733437, 40.748992, 40.7743, 40.760665, 40.768965, 40.714333, 40.734649, 40.771575, 40.747067, 40.784882, 40.773092, 40.774192810058594, 40.74825, 40.783212, 40.735725, 40.773703999999995, 40.776759999999996, 40.773742, 40.773987, 40.78118, 40.77315902709961, 40.773947, 40.795338, 40.77402, 40.770161, 40.772211999999996, 40.744254999999995, 40.77372360229492, 40.77409, 40.773977, 40.77402, 40.74514770507813, 40.767415, 40.773742, 40.773947, 40.770565000000005, 40.748697, 40.755583, 40.806127000000004, 40.773745, 40.769498999999996, 40.773674, 40.741322, 40.774155, 40.741322, 40.773925, 40.774147, 40.774072, 40.743468, 40.773934999999994, 40.770005, 40.783999, 40.809754999999996, 40.77414, 40.644943, 40.75483, 40.776191, 40.772028000000006, 40.74237, 40.770902, 40.77406, 40.774083000000005, 40.769005, 40.754399, 40.769118, 40.762401000000004, 40.765155, 40.840697999999996, 40.809754999999996, 40.774082, 40.72141, 40.752575, 40.770902, 40.809754999999996, 40.771233, 40.747015000000005, 40.741113, 40.741093, 40.747015000000005, 40.779252, 40.758266, 40.761108, 40.738096999999996, 40.771, 40.774117, 40.752472999999995, 40.762349, 40.77404, 40.753221, 40.7739, 40.73662567138672, 40.77311325073242, 40.774208068847656, 40.77311325073242, 40.774070739746094, 40.773738861083984, 40.78008270263672, 40.7735481262207, 40.774070739746094, 40.78008270263672, 40.711609, 40.756418, 40.71234130859375, 40.737827, 40.768162, 40.774122, 40.688732, 40.769036, 40.641569, 40.76702880859375, 40.780328000000004, 40.768915, 40.797952, 40.705307, 40.752138, 40.72105026245117, 40.763644, 40.761167, 40.774190000000004, 40.685085, 40.769306, 40.769036, 40.740459, 40.7184, 40.758097, 40.769695, 40.762443, 40.77323, 40.756257, 40.764552, 40.689687, 40.759195, 40.749, 40.772578, 40.769532, 40.748437, 40.774072, 40.764122, 40.733697, 40.723587, 40.728671999999996, 40.70818328857422, 40.768917, 40.774153000000005, 40.775403000000004, 40.743082, 40.79847717285156, 40.774173, 40.752563, 40.722143, 40.738946999999996, 40.766740000000006, 40.76918, 40.773683, 40.726555, 40.77375, 40.710313, 40.750377, 40.701707, 40.731114, 40.768861, 40.74167, 40.744081, 40.749002000000004, 40.743082, 40.773162, 40.75868225097656, 40.749658000000004, 40.764628, 40.741455, 40.800742, 40.747687, 40.756803999999995, 40.77392578125, 40.769051, 40.73646, 40.641518, 40.705887, 40.720831, 40.708157, 40.704282, 40.643775, 40.74171, 40.77949905395508, 40.705749, 40.800373, 40.735775, 40.848690999999995, 40.761167, 40.74470138549805, 40.756418, 40.773162, 40.780733000000005, 40.761137, 40.769187, 40.720247, 40.774099, 40.77293, 40.76230239868164, 40.760897, 40.768896999999996, 40.754764, 40.720848083496094, 40.774037, 40.722532, 40.761137, 40.738475, 40.644702, 40.759943, 40.774002, 40.770703999999995, 40.770703999999995, 40.7541389465332, 40.716508000000005, 40.70778, 40.645196999999996, 40.77293, 40.756257, 40.774002, 40.710909, 40.77949905395508, 40.771377, 40.754258, 40.772714, 40.784622, 40.770057, 40.647075, 40.744081, 40.740002000000004, 40.75144, 40.76512, 40.764628, 40.75225830078125, 40.76386, 40.75144, 40.773162, 40.730762, 40.641603, 40.749179999999996, 40.748284999999996, 40.765501, 40.768846999999994, 40.74436, 40.743408, 40.669647, 40.79033, 40.719915, 40.729737, 40.706482, 40.762359000000004, 40.760897, 40.755567, 40.764122, 40.769695, 40.7739, 40.710313, 40.768267, 40.74171, 40.702407, 40.713623, 40.7522, 40.780165999999994, 40.733487, 40.75868225097656, 40.751049, 40.723103, 40.76205825805664, 40.771007, 40.720008850097656, 40.768162, 40.774254, 40.750377, 40.771377, 40.75697326660156, 40.759651, 40.80369, 40.7726, 40.710277000000005, 40.77397, 40.767857, 40.724571999999995, 40.749136, 40.75697326660156, 40.738475, 40.750192, 40.797952, 40.756233, 40.770478000000004, 40.641125, 40.766740000000006, 40.769036, 40.70612, 40.725972999999996, 40.777827, 40.779556, 40.702039, 40.770662, 40.755583, 40.774072, 40.72328567504883, 40.774167999999996, 40.848690999999995, 40.725004, 40.740002000000004, 40.785879, 40.76421, 40.759957, 40.757816, 40.76512, 40.773707, 40.726555, 40.76463, 40.772946000000005, 40.74171, 40.749, 40.769177, 40.773927, 40.728429999999996, 40.751103, 40.773737, 40.774021999999995, 40.778295, 40.773635, 40.774256, 40.751103, 40.773696, 40.737677000000005, 40.77477264404297, 40.77417, 40.77802, 40.774122, 40.774662, 40.778952000000004, 40.77546691894531, 40.770266, 40.769152000000005, 40.773886, 40.753982, 40.773677, 40.769473, 40.76997, 40.773796999999995, 40.772775, 40.773647, 40.750532, 40.758803, 40.771125, 40.760818, 40.772994, 40.773967, 40.741448, 40.774072, 40.774118, 40.773856, 40.771125, 40.791174, 40.770832, 40.773892, 40.758803, 40.760872, 40.744928, 40.788655, 40.760185, 40.774118, 40.771113, 40.768837, 40.773967999999996, 40.769191, 40.760412, 40.774103000000004, 40.772994, 40.774162, 40.773933, 40.752098, 40.784737, 40.774158, 40.772787, 40.769833, 40.757315000000006, 40.774163, 40.776257, 40.773751000000004, 40.768832, 40.830118, 40.776257, 40.760465, 40.648329, 40.717852, 40.717852, 40.768958000000005, 40.774099, 40.755857, 40.749778000000006, 40.773934999999994, 40.761368, 40.76988, 40.749403, 40.767123, 40.730323, 40.754818, 40.725899, 40.769853000000005, 40.773517, 40.73802, 40.755821999999995, 40.761162, 40.730505, 40.77406, 40.762421999999994, 40.774127, 40.646685, 40.776208000000004, 40.773927, 40.747081, 40.768992, 40.76944, 40.74532, 40.645205, 40.77401, 40.762840000000004, 40.774248, 40.769768, 40.761162, 40.764297, 40.759182, 40.648607, 40.774046000000006, 40.783334, 40.663027, 40.774361, 40.764297, 40.782833000000004, 40.755821999999995, 40.762777, 40.762277000000005, 40.774221000000004, 40.769968, 40.719812, 40.76905, 40.748546999999995, 40.76905, 40.763764, 40.761162, 40.76944, 40.774361, 40.767703000000004, 40.752852000000004, 40.77401, 40.761788, 40.72945, 40.762614, 40.728387, 40.774099, 40.773683, 40.774045, 40.704192, 40.759182, 40.781985, 40.730333, 40.760096999999995, 40.773656, 40.774095, 40.753667, 40.782833000000004, 40.738212, 40.754422, 40.697507, 40.768947, 40.774221000000004, 40.738465999999995, 40.746836, 40.761368, 40.761368, 40.773114, 40.784537, 40.755884, 40.768992, 40.750175, 40.773958, 40.762955, 40.714362, 40.769304999999996, 40.774045, 40.790701, 40.798536999999996, 40.768958000000005, 40.754502, 40.644506, 40.729858, 40.716958, 40.772813, 40.74588012695313, 40.73872756958008, 40.765577, 40.747162, 40.722144, 40.806934999999996, 40.713855, 40.794587, 40.727707, 40.727386474609375, 40.71372, 40.694759999999995, 40.751277923583984, 40.754622, 40.760349, 40.730979999999995, 40.769715999999995, 40.75107, 40.730909999999994, 40.756923, 40.743897, 40.754407, 40.716008, 40.773005, 40.7739143371582, 40.770936999999996, 40.799766, 40.760715000000005, 40.671596, 40.682907, 40.767392, 40.727532000000004, 40.723606, 40.754909999999995, 40.77381, 40.645232, 40.721815, 40.741925, 40.71407318115234, 40.71925, 40.686721999999996, 40.764057, 40.783286, 40.804314, 40.73045349121094, 40.754137, 40.766073, 40.770936999999996, 40.722144, 40.74968719482422, 40.713855, 40.769861999999996, 40.760715000000005, 40.71725082397461, 40.781461, 40.749944, 40.680718, 40.754909999999995, 40.725745, 40.729352, 40.761985778808594, 40.733197, 40.77381, 40.721322, 40.721322, 40.76315689086914, 40.70700073242188, 40.75631713867188, 40.77388000488281, 40.751277923583984, 40.783587, 40.744125, 40.770936999999996, 40.770042, 40.773749, 40.752127, 40.75578, 40.734689], \"legendgroup\": \"\", \"lon\": [-73.978575, -73.777244, -73.998816, -73.998816, -73.998816, -73.998816, -73.889392, -73.78245544433594, -73.866837, -73.866837, -73.801221, -73.97100830078125, -73.97670500000001, -73.947872, -73.99164499999999, -73.86272199999999, -74.005394, -74.005394, -73.985803, -73.776702, -73.788092, -73.97189, -74.007068, -73.98458099365234, -73.78745500000001, -73.782101, -73.877147, -73.99494934082031, -73.99494934082031, -73.776547, -73.99494934082031, -73.877147, -73.96670999999999, -73.990672, -73.78216552734375, -73.998695, -73.786675, -73.78187561035156, -73.98702, -73.86714, -73.862829, -73.77672576904297, -73.78987884521484, -73.78974151611328, -74.001333, -73.993985, -73.993985, -74.00178000000001, -73.792777, -73.78393, -73.975187, -73.782795, -73.792777, -73.995149, -73.977947, -74.0086669921875, -73.776797, -73.78984832763672, -73.783705, -74.01574699999999, -73.972596, -73.972596, -73.957656, -73.976806640625, -73.790198, -73.97698299999999, -73.79034399999999, -73.95071, -73.942382, -73.79034399999999, -73.990075, -73.990075, -73.790885, -73.98910699999999, -73.784165, -73.87174300000001, -73.781823, -73.781823, -73.99341583251953, -73.789992, -73.86360931396484, -73.86360931396484, -74.00222, -73.987613, -73.987613, -73.782139, -73.776331, -73.776331, -73.929731, -74.000667, -73.98109699999999, -73.784035, -73.960091, -73.78370799999999, -73.9522476196289, -73.983509, -73.97882299999999, -73.816806, -73.80535, -74.005205, -73.78645, -73.97882299999999, -73.977672, -73.994907, -73.97369499999999, -73.80535, -74.027811, -73.94889831542969, -73.77633, -73.782462, -73.78233, -73.996464, -73.77672, -73.787052, -73.782821, -73.95702299999999, -73.77672, -73.963712, -73.98445892333984, -73.98445892333984, -74.02580999999999, -73.988987, -73.78236, -73.776762, -73.786857, -73.988987, -73.786857, -73.787847, -73.91168499999999, -73.866392, -73.95779499999999, -73.866392, -73.995866, -73.785873, -73.789905, -74.004635, -73.99027252197266, -74.00475300000001, -73.95317800000001, -73.99163818359375, -73.864968, -73.864968, -73.958721, -73.9790267944336, -73.77667999267578, -73.97077941894531, -73.97859191894531, -73.98495483398438, -73.97631072998047, -73.96330261230469, -73.78958892822266, -73.78199768066406, -73.9744873046875, -74.00157165527344, -73.77676391601562, -73.7817153930664, -73.77774810791016, -73.9935073852539, -73.80412292480469, -73.94564056396484, -73.98284149169922, -73.80521392822266, -73.7826156616211, -73.97455596923828, -73.98495483398438, -73.98517608642578, -73.78125762939453, -73.98512268066406, -73.97455596923828, -73.788818359375, -73.8077163696289, -73.7767562866211, -73.79118347167969, -73.7822265625, -73.7896499633789, -73.78994750976562, -73.77681732177734, -73.78569793701172, -73.78822326660156, -73.93819427490234, -73.78987884521484, -73.98304748535156, -73.7833023071289, -73.77671813964844, -73.78175354003906, -73.78943634033203, -73.78242492675781, -73.78986358642578, -73.79012298583984, -73.79052734375, -73.7898178100586, -73.78369140625, -73.78469848632812, -73.80412292480469, -73.9899673461914, -73.78204345703125, -73.7906494140625, -73.94200897216797, -73.79000091552734, -73.9405288696289, -73.96975708007812, -73.949462890625, -73.77678680419922, -73.78192901611328, -74.00515747070312, -73.9862060546875, -73.94768524169922, -73.79055786132812, -73.78177642822266, -73.97288513183594, -73.98304748535156, -73.77682495117188, -74.00984191894531, -73.78219604492188, -73.78343200683594, -73.97381591796875, -73.78199005126953, -73.98631286621094, -73.78237915039062, -73.788818359375, -74.00157165527344, -73.78994750976562, -73.97685241699219, -73.80549621582031, -73.97924041748047, -73.78089141845703, -73.79047393798828, -73.97551727294922, -73.78682708740234, -73.78981018066406, -73.78569793701172, -73.78404235839844, -73.91221618652344, -73.80548095703125, -73.97455596923828, -73.77680969238281, -73.97987365722656, -73.9935073852539, -73.95365699999999, -73.9917221069336, -73.98139190673828, -73.78199768066406, -73.78165435791016, -73.9727783203125, -73.7822494506836, -73.79012298583984, -73.9882583618164, -73.79047393798828, -73.99260711669922, -73.78341674804688, -73.77681732177734, -73.98661804199219, -73.97245788574219, -73.97551727294922, -74.0163345336914, -73.79019927978516, -73.78363037109375, -73.7767562866211, -73.98512268066406, -73.78999328613281, -73.8021011352539, -73.78407287597656, -73.7836685180664, -73.96330261230469, -73.79012298583984, -73.78317260742188, -73.96330261230469, -73.9935073852539, -73.94768524169922, -73.788927, -73.77656999999999, -73.787152, -73.788927, -74.001703, -73.984799, -73.97516800000001, -73.777005, -73.999032, -73.787802, -73.78984, -73.78192138671875, -73.78724, -73.97981300000001, -73.949675, -73.790127, -73.99939, -73.77662658691406, -73.776872, -73.97858199999999, -73.78116999999999, -73.776427, -73.970587, -74.004937, -73.788268, -73.788708, -74.01471, -73.963972, -73.789783, -73.972667, -73.967217, -73.989755, -73.805572, -73.783507, -74.001453, -73.781442, -73.789732, -73.776737, -73.786867, -73.99740600585938, -73.978538, -73.81388199999999, -73.986112, -73.790275, -73.78999328613281, -73.78179499999999, -73.78814, -73.790313, -73.990868, -73.78297424316406, -73.785156, -73.781922, -73.947502, -73.790692, -73.776735, -73.975465, -73.790401, -73.781767, -73.973217, -73.969063, -73.976413, -73.78253199999999, -73.787318, -73.78962299999999, -73.77672, -73.985585, -73.77679499999999, -73.776507, -73.78997700000001, -73.790588, -73.789689, -73.995168, -73.789197, -73.77659200000001, -73.987427, -73.78145500000001, -73.788007, -73.975257, -73.98406899999999, -73.991715, -74.01692, -73.78178, -73.78805200000001, -73.78356170654297, -73.780512, -73.78203, -73.787723, -73.789815, -73.80444, -73.993015, -73.999032, -73.949229, -73.98778100000001, -73.7769, -73.990597, -73.985462, -73.98835754394531, -73.978073, -73.990197, -73.943558, -73.790407, -73.79007720947266, -74.01131, -73.784242, -73.788315, -73.9826, -73.985896, -73.973005, -73.78214, -73.982553, -73.781932, -73.78705699999999, -73.78996500000001, -73.77737426757812, -73.789777, -73.78647, -73.789968, -73.981832, -73.957015, -73.787723, -73.835762, -73.78886800000001, -73.978325, -73.972195, -73.99897, -73.98605500000001, -73.971822, -73.7901611328125, -73.78985899999999, -73.77686800000001, -73.781665, -73.984383, -73.98474300000001, -73.956365, -73.78983306884766, -73.78214, -73.782583, -73.97628021240234, -73.77675, -73.98486328125, -73.78185699999999, -73.791335, -73.967054, -73.94892, -73.789833, -73.782362, -73.985896, -73.97711944580078, -73.95699, -73.789898, -73.78546999999999, -73.78375, -73.78205871582031, -73.98005699999999, -73.982745, -73.789535, -73.78705699999999, -73.783438, -73.781886, -73.984013, -73.952901, -73.987211, -73.983962, -73.972897, -73.788057, -73.791812, -73.7839, -73.782443, -73.99466, -73.788035, -73.781228, -73.78223419189453, -73.789815, -73.978325, -73.984703, -73.97084100000001, -73.78955699999999, -73.776873, -73.953168, -73.78895899999999, -73.999347, -73.971177, -73.785865, -73.975353, -73.776698, -73.77692413330078, -73.78254799999999, -73.79023000000001, -73.973887, -73.946282, -73.7811, -73.776759, -73.776809, -73.78177642822266, -73.98403930664062, -73.780438, -73.791312, -73.78550200000001, -73.788637, -73.79918, -73.781887, -73.87969, -73.77678, -73.98774499999999, -73.776707, -73.788648, -73.788207, -73.983362, -73.95376800000001, -73.97084100000001, -73.791335, -73.975813, -73.780252, -73.78914499999999, -73.9471206665039, -73.788519, -73.780673, -73.972779, -73.786403, -73.789535, -73.987177, -73.785488, -73.782652, -73.781072, -73.805647, -73.78050999999999, -73.789552, -73.788717, -73.783334, -73.781335, -73.77678680419922, -73.78271600000001, -73.972747, -73.781153, -73.7839, -73.99298, -73.78036, -73.97628021240234, -73.991828, -73.947304, -73.958922, -73.984992, -73.788861, -73.972667, -73.94315999999999, -73.985585, -73.9924087524414, -73.778767, -73.78139, -73.972372, -73.94654, -73.98499100000001, -73.781932, -73.9826, -73.959758, -73.786422, -73.956938, -73.787318, -73.966155, -73.78934699999999, -73.781898, -73.8011, -73.98925, -73.78783, -73.78044399999999, -73.98040999999999, -73.953255, -73.783615, -73.9863, -73.976413, -73.99466, -73.781942, -73.78239, -73.98406899999999, -73.97384699999999, -73.791565, -73.77701, -73.77669200000001, -73.784088, -73.99408721923828, -73.985585, -73.805217, -73.785175, -73.792795, -73.790001, -73.788958, -73.98129, -73.783968, -73.979357, -73.938019, -73.97556, -73.978302, -73.975183, -74.009215, -73.792517, -73.782302, -73.785488, -73.983875, -73.954747, -73.782615, -73.788225, -73.776427, -74.00174200000001, -73.781312, -73.789895, -73.77755, -73.788519, -73.781252, -73.984903, -73.784054, -73.987477, -73.805217, -73.9769058227539, -73.990351, -73.970147, -73.98364699999999, -73.994917, -73.94914245605469, -73.78231048583984, -73.789808, -73.79276899999999, -73.78983306884766, -73.78179499999999, -73.78169, -73.78239, -73.98355500000001, -73.790667, -73.78145500000001, -73.783234, -73.990197, -73.999852, -73.97367095947266, -73.78461, -73.956678, -73.80264282226562, -73.984963, -73.967217, -73.951957, -73.927428, -73.78815460205078, -73.78246899999999, -73.984013, -73.77677800000001, -73.973355, -73.982262, -73.976893, -73.788197, -73.971088, -73.979005, -73.783735, -73.973895, -73.787113, -73.78451, -73.78126800000001, -73.99292700000001, -73.97279, -73.975705, -73.78760528564453, -73.78198499999999, -73.9732437133789, -73.786075, -73.790035, -73.970865, -73.788032, -73.789472, -73.7944, -73.998338, -73.979603, -73.789116, -73.999852, -73.799025, -73.98406899999999, -73.782618, -73.79104, -73.96171569824219, -73.789422, -73.992687, -73.786057, -73.779687, -74.016025, -73.78184499999999, -73.99131774902344, -73.78126800000001, -73.782259, -73.77678680419922, -73.991667, -73.985667, -73.782579, -73.990771, -73.95518, -73.98173, -73.77678, -73.783808, -73.78984832763672, -73.98415, -73.78186798095703, -73.806987, -73.79063199999999, -73.98623, -73.800195, -73.781642, -73.782655, -73.981015, -73.974082, -73.975598, -73.982277, -73.974085, -73.777785, -73.78105, -73.975257, -73.781932, -73.789902, -73.79215699999999, -73.973047, -73.78373, -73.993341, -73.788866, -73.782188, -73.971106, -73.783045, -73.790087, -73.789808, -73.790588, -73.782618, -74.009215, -73.790092, -73.783794, -73.788625, -73.776657, -73.781615, -73.95217895507812, -73.959942, -73.77679300000001, -73.966146, -73.79007720947266, -73.971748, -73.97673, -73.975402, -73.98366, -73.87969, -73.986498, -73.963307, -73.782145, -73.949777, -73.781823, -73.78394, -73.791152, -73.781927, -73.9936, -73.94315999999999, -73.982648, -73.78145699999999, -73.95635300000001, -73.788292, -73.977367, -73.789617, -73.780237, -73.98595, -73.78519200000001, -73.785062, -73.9826, -73.77679, -74.00208, -73.783367, -73.78239, -73.78992462158203, -73.77734, -73.791217, -73.97084100000001, -73.77738000000001, -73.783732, -73.78814, -73.78195799999999, -73.98063499999999, -73.782579, -73.983928, -73.782013, -73.78169, -73.78535500000001, -73.979527, -73.783275, -73.783968, -73.78997700000001, -73.981285, -73.82634200000001, -73.966657, -74.003798, -73.97558000000001, -73.776737, -73.78697700000001, -73.789372, -73.77680969238281, -73.989655, -73.98485, -73.78180694580078, -73.97353199999999, -73.983133, -73.973017, -73.966415, -73.974402, -73.982648, -73.804445, -73.957015, -73.776803, -73.789282, -73.790374, -73.972667, -73.78255, -73.98365799999999, -73.990652, -73.78927, -73.776699, -73.973887, -73.959632, -73.788212, -73.991845, -73.789902, -73.790628, -73.950505, -73.783808, -73.949642, -73.9834, -73.971106, -73.78661346435547, -73.954718, -73.79125, -73.789552, -73.789311, -73.933978, -73.986329, -73.781343, -73.805476, -73.989777, -73.785065, -73.782652, -73.78897099999999, -73.77678680419922, -73.785815, -73.782291, -73.78429, -74.002597, -73.788747, -73.783687, -74.00289000000001, -73.99093627929688, -73.956938, -73.98129, -73.786614, -73.95853199999999, -73.978542, -73.783875, -73.78398895263672, -74.00985899999999, -73.98214, -73.97979699999999, -73.783753, -73.790385, -73.984963, -73.971106, -73.988022, -73.981029, -73.79045500000001, -73.78992462158203, -73.78236, -73.98312, -73.835762, -73.988885, -73.797467, -73.985896, -73.77680500000001, -73.787924, -73.78129200000001, -73.77753100000001, -73.98876, -73.7867, -73.988912, -73.953466, -73.993931, -73.776832, -73.778594, -73.956565, -73.78201999999999, -73.94768, -73.788315, -73.789777, -73.969852, -73.987285, -73.78343200683594, -73.78397199999999, -73.790327, -73.80085, -73.976449, -73.788122, -73.78897099999999, -73.78271484375, -73.94914245605469, -73.79138499999999, -73.971822, -73.78795, -73.785884, -73.776685, -73.9879, -73.979845, -73.78185272216797, -73.953712, -73.781153, -73.786007, -73.787745, -73.782785, -73.967217, -73.77678399999999, -73.783663, -73.789952, -73.789857, -73.986329, -73.796758, -73.985455, -73.95706700000001, -73.98194122314453, -73.784867, -73.782495, -73.789738, -73.792198, -73.776783, -73.781993, -73.99953199999999, -73.78794, -73.78794, -73.776554, -73.776765, -73.78177, -73.973635, -73.786106, -73.781892, -73.983335, -73.788035, -73.973978, -73.783698, -73.98298, -73.970902, -73.788738, -73.781725, -73.776915, -73.950505, -73.77674499999999, -73.776747, -73.783201, -73.973978, -73.95797900000001, -73.790628, -73.97121, -73.952202, -73.78798, -73.97384699999999, -73.998728, -73.781322, -73.980822, -73.99939, -74.001651, -73.788252, -73.784867, -73.9541015625, -73.98480500000001, -73.782219, -73.781665, -73.978697, -73.78921, -73.788197, -73.783741, -73.987509, -73.971115, -73.78126800000001, -73.951957, -73.786422, -73.970862, -73.98814392089844, -73.78373, -73.789722, -73.78379, -73.788189, -73.991005, -73.979527, -73.984081, -73.781037, -73.87969, -73.77669499999999, -73.781974, -74.002865, -73.789908, -73.970147, -73.78231048583984, -73.789617, -73.987397, -73.7804183959961, -73.781648, -73.77917, -73.776802, -73.78535500000001, -73.781984, -74.002136, -73.95912, -73.77674865722656, -73.78347778320312, -73.993088, -73.787113, -73.945139, -73.990043, -73.78871154785156, -73.78326, -73.80970764160156, -73.79029799999999, -73.78113555908203, -73.78134, -73.776845, -73.990652, -73.79029799999999, -73.77672700000001, -73.78955699999999, -73.78176879882812, -73.781748, -73.781094, -73.789612, -73.788057, -73.985477, -73.781707, -73.789962, -73.78241700000001, -73.78994499999999, -73.978697, -73.986188, -73.968412, -73.789457, -73.981753, -73.776803, -73.933195, -73.776712, -73.783753, -73.788085, -73.790109, -73.790635, -73.78975677490234, -73.98836999999999, -73.791027, -73.95319599999999, -73.954706, -73.97367095947266, -73.99298, -73.781343, -73.782427, -73.78344799999999, -73.782542, -73.782258, -73.979603, -73.78970600000001, -74.008092, -73.788197, -74.00289000000001, -73.986112, -73.969063, -73.953255, -73.99298, -73.79012, -73.783521, -73.95871700000001, -73.98925, -73.974665, -73.789778, -73.782027, -73.78185272216797, -73.975602, -73.781911, -73.778352, -73.786739, -73.977135, -73.790362, -73.945024, -73.92718, -73.791728, -73.78240600000001, -73.99860799999999, -73.776705, -73.981832, -73.78375, -73.776696, -73.98491700000001, -74.004937, -73.78993, -73.954747, -73.77682, -73.789863, -73.78180694580078, -73.781823, -73.97872199999999, -73.801277, -73.788721, -73.777123, -73.790448, -73.78195699999999, -73.791422, -73.78199000000001, -73.78607199999999, -73.78254799999999, -73.781228, -73.989777, -73.789192, -73.9478530883789, -73.776737, -73.790324, -73.78371, -73.790033, -73.781573, -73.787847, -73.97751600000001, -73.781975, -73.781825, -73.77634300000001, -73.8102, -73.78803, -73.781068, -73.776824, -73.988288, -73.78692, -73.790262, -73.790994, -73.783552, -73.950654, -73.780633, -73.790076, -73.776809, -73.98177199999999, -73.781002, -73.782934, -73.782085, -73.78684, -73.8102, -73.77792, -73.787191, -73.789905, -74.00304399999999, -73.788075, -74.005702, -73.781617, -73.78859, -73.78923, -73.984535, -73.976214, -73.787174, -73.790963, -73.788162, -73.980867, -73.78858000000001, -73.786898, -73.786017, -73.95251999999999, -73.785855, -73.950654, -73.976214, -73.973057, -73.789423, -73.975483, -73.78602, -73.968827, -73.782103, -73.790328, -73.98622900000001, -73.974246, -73.786035, -73.776668, -73.981099, -73.780215, -73.778481, -73.790963, -73.966277, -73.781995, -73.790607, -74.000212, -73.776668, -73.803787, -73.988621, -73.790994, -73.78713499999999, -73.789638, -73.982062, -73.79020200000001, -73.786821, -73.78194, -73.786776, -73.998665, -73.978933, -73.788584, -73.801438, -73.786035, -73.980568, -73.985187, -73.839955, -73.994966, -74.011842, -73.790251, -73.78374699999999, -73.781825, -73.968328, -73.97662700000001, -73.78972399999999, -74.005769, -73.78360699999999, -73.776831, -73.8024, -73.97126, -73.783417, -73.99274, -73.980461, -73.788573, -73.778481, -73.781673, -73.781091, -73.789198, -73.994, -73.97126, -73.781975, -73.780519, -73.986213, -73.78583, -73.788527, -73.987567, -73.997897, -73.98360500000001, -73.788945, -73.98428299999999, -73.994, -73.79007, -73.78778, -73.959682, -73.78357199999999, -73.78598000000001, -73.992393, -73.78450500000001, -73.788614, -73.786035, -73.787975, -73.776768, -73.789268, -73.78623499999999, -73.977457, -73.79007, -73.783552, -73.782612, -73.790251, -73.97875, -73.776768, -73.78374699999999, -73.781359, -73.776809, -73.95685999999999, -73.787975, -73.776831, -73.983397, -74.005702, -73.786502, -73.977242, -73.8024, -73.972027, -73.78376, -73.77687, -73.789905, -73.789785, -73.79132, -73.77634300000001, -73.972217, -73.98562, -73.80421, -74.005827, -73.99465699999999, -74.003467, -73.95946500000001, -73.955215, -73.785055, -74.004365, -73.791337, -73.789785, -73.969378, -73.78895, -73.782027, -73.78403, -73.79132, -73.786017, -73.776842, -73.80421, -73.781207, -73.9908, -73.969378, -73.97875, -73.77668, -73.776842, -73.979107, -73.786035, -73.782085, -73.782085, -74.003467, -73.982162, -73.780728, -73.969497, -73.988085, -73.986213, -73.786875, -73.77672199999999, -73.786075, -73.789638, -73.790262, -73.789372, -73.78968, -73.965647, -73.790607, -73.78281, -73.789392, -73.99782900000001, -73.782023, -73.78208923339844, -73.99782900000001, -73.781878, -73.99805699999999, -73.866263, -73.776927, -73.99805699999999, -73.863178, -73.776667, -73.776667, -74.01101684570312, -73.783452, -74.001187, -74.00683599999999, -74.013184, -74.001187, -74.013184, -74.013184, -73.946955, -73.97461899999999, -73.782983, -74.006068, -74.006068, -74.027988, -73.79079499999999, -73.7823257446289, -73.86286899999999, -73.97280699999999, -74.001199, -74.001199, -74.001199, -73.78978000000001, -73.782208, -73.786916, -73.991077, -73.782208, -73.79024, -73.787725, -73.87087, -73.776737, -73.99738311767578, -73.88575744628906, -74.02111, -73.78176879882812, -73.973483, -73.776767, -73.93734741210938, -73.973483, -73.78353100000001, -73.79158000000001, -73.862865, -73.981507, -73.86280059814453, -73.776673, -73.7767333984375, -73.776673, -73.98795318603516, -73.885348, -73.87297, -73.781015, -73.78787, -73.78846, -73.783563, -73.97578299999999, -73.789183, -73.866149, -73.972649, -73.77677154541016, -73.86346435546875, -74.007611, -73.790502, -73.79000500000001, -73.78663, -73.78241729736328, -73.87077331542969, -73.976552, -73.78979, -73.87077331542969, -73.78092, -74.028408, -73.99010899999999, -73.789789, -73.990572, -73.98746700000001, -73.991395, -73.79029846191406, -73.7837, -73.96659, -73.7837, -73.78191375732422, -73.991395, -73.991395, -73.776927, -73.776768, -73.920912, -73.77667, -73.86272199999999, -73.91069, -73.863012, -73.78216, -73.79115999999999, -73.79115999999999, -74.005195, -74.013081, -73.95935821533203, -73.78913299999999, -73.77685799999999, -73.78424100000001, -73.784715, -73.776705, -73.78193664550781, -74.00784, -73.825315, -74.00538900000001, -73.962078, -74.00565999999999, -73.790237, -73.776682, -73.78347778320312, -74.00888499999999, -73.780487, -73.781131, -73.781531, -73.804888, -73.98915, -73.997977, -73.978226, -73.98886108398438, -73.983227, -73.784814, -73.785742, -74.01031, -73.986398, -73.776772, -73.975729, -73.790115, -74.00375, -73.784497, -73.977704, -74.001673, -73.963185, -73.97288499999999, -74.01075744628906, -73.78424100000001, -73.97122, -73.776859, -73.780393, -73.98753356933594, -73.97299699999999, -73.77679443359375, -73.804372, -73.982445, -73.77679443359375, -74.00997924804688, -73.978158, -73.781275, -73.98819499999999, -73.780405, -73.783677, -74.004471, -73.98733520507812, -74.013081, -73.804888, -73.77669, -73.789162, -73.97251999999999, -73.78651500000001, -74.00332641601562, -73.776677, -73.992592, -73.789804, -73.963847, -73.962997, -73.96348, -74.00766999999999, -73.791099, -73.98319244384766, -73.790518, -73.97688000000001, -73.78111, -73.777412, -73.78191, -73.969492, -73.943792, -73.99413299999999, -74.007262, -73.78639, -73.778097, -73.78116800000001, -73.974129, -73.93375, -73.98277, -73.978226, -73.78745699999999, -73.807325, -73.981275, -73.97116, -73.781315, -73.7767333984375, -73.96171700000001, -73.957872, -73.982835, -73.77676, -73.937667, -73.78354, -73.782268, -73.98062133789062, -73.963297, -74.00563000000001, -73.781887, -74.00468199999999, -73.979197, -73.99296700000001, -74.007525, -73.97116, -73.78396606445312, -73.788288, -73.788427, -73.995948, -73.98432, -74.001645, -73.79057900000001, -73.984668, -73.7769, -73.78211975097656, -73.782065, -73.7886962890625, -73.790784, -73.790704, -73.981275, -74.009525, -73.957872, -73.96514892578125, -73.987471, -73.789225, -73.77707, -73.777078, -73.776662, -73.978995, -73.999767, -73.781017, -73.78097, -73.78191, -74.014955, -73.964047, -73.783579, -73.78972625732422, -73.776737, -73.86357, -73.99852752685547, -73.785782, -73.776705, -73.98119354248047, -73.997466, -73.78821563720703, -73.79027099999999, -74.002712, -73.776315, -73.784497, -73.789869, -74.008361, -73.979197, -74.001645, -73.98733520507812, -73.7821, -73.96514892578125, -73.78327178955078, -73.790704, -73.78240699999999, -73.99096, -73.96273000000001, -73.7886962890625, -73.98183900000001, -74.00248, -73.783578, -73.98005676269531, -73.791099, -73.978995, -73.78111, -73.956627, -73.959275, -74.013738, -73.994489, -73.985692, -73.98386500000001, -73.77636700000001, -73.83730200000001, -73.964169, -73.78929901123047, -73.782053, -73.987096, -73.7769, -73.989122, -73.968007, -74.00625500000001, -73.789869, -73.78995400000001, -73.789353, -73.993413, -73.975197, -73.77677917480469, -73.985414, -73.965377, -73.78384, -73.78319, -73.98444366455078, -73.782521, -73.77637800000001, -73.788382, -73.781942, -73.975325, -73.788954, -73.987307, -73.785248, -73.965815, -73.98319244384766, -73.98864, -73.790634, -73.781147, -73.78352355957031, -73.790583, -73.981757, -73.790605, -73.79011535644531, -73.783597, -73.983227, -73.789448, -73.874747, -74.014545, -73.7825698852539, -73.788487, -73.790187, -73.96863, -73.788302, -73.78960418701172, -73.790313, -73.78716999999999, -73.98563399999999, -73.79146, -73.99551, -73.825315, -73.784537, -73.97116, -73.791179, -74.00329, -73.974129, -73.781777, -73.8035888671875, -73.789615, -73.99852752685547, -73.781094, -73.78411700000001, -73.78972399999999, -73.791487, -73.99923100000001, -73.78948974609375, -74.00332641601562, -73.968335, -73.96171700000001, -73.990742, -73.788249, -73.78711700439453, -73.781735, -73.77667199999999, -73.99904699999999, -74.012337, -73.778708, -73.99746, -73.945149, -73.79008, -73.776732, -73.79335, -73.79011, -73.77677800000001, -73.782261, -73.810395, -73.7821, -73.977232, -74.002382, -73.7898941040039, -73.98744201660156, -73.799492, -73.790313, -73.789863, -73.979197, -73.98977, -73.94894000000001, -73.99622600000001, -73.79090500000001, -74.000203, -73.980583, -73.782129, -73.98647199999999, -73.790518, -73.99722, -73.79049499999999, -73.804372, -73.83730200000001, -73.790015, -73.990864, -73.874747, -73.98499, -73.781685, -73.78193664550781, -73.782521, -73.78504943847656, -73.782116, -73.781942, -73.783837, -73.78227996826172, -73.78955500000001, -73.7885, -74.004958, -74.01356700000001, -73.790775, -73.78981800000001, -73.77994537353516, -73.776864, -73.77680699999999, -73.96863, -73.94894000000001, -73.98307, -74.004078, -73.964169, -73.790784, -73.98516845703125, -73.788206, -73.78211999999999, -73.985431, -73.971255, -73.7821273803711, -74.004471, -73.789957, -74.009514, -73.778374, -73.789804, -74.005975, -73.86357, -73.935082, -74.00997924804688, -73.98499, -73.79011535644531, -74.003365, -73.992195, -73.98183900000001, -73.992423, -73.963297, -73.788206, -73.781889, -74.008361, -74.000203, -73.99367, -74.008257, -73.78178199999999, -73.984668, -73.77667199999999, -73.98523399999999, -73.995964, -73.782129, -73.781336, -73.7769, -73.885287, -74.010215, -73.86272, -73.77674499999999, -73.86371, -73.863067, -73.86617, -73.95315, -73.87458038330078, -73.87106323242188, -74.006327, -74.01132, -73.796485, -73.79006700000001, -73.79006700000001, -73.94994200000001, -74.01614379882812, -73.789175, -73.78125762939453, -73.782015, -73.9777603149414, -73.87470400000001, -73.968319, -73.94994200000001, -74.004817, -73.9777603149414, -73.87470400000001, -73.782015, -74.007572, -73.86265300000001, -73.86588, -74.00948100000001, -74.00697, -73.789742, -74.019188, -73.78138, -73.994079, -73.77725699999999, -73.862717, -73.781974, -73.87459564208984, -73.88584899902344, -73.7884292602539, -73.783374, -73.983005, -73.956188, -73.79147338867188, -73.964327, -73.783374, -73.963702, -73.78211212158203, -73.78669599999999, -74.01077, -73.87146, -73.86388397216797, -73.79039300000001, -73.78353100000001, -73.79051199999999, -73.781767, -73.79051199999999, -73.97413, -73.986553, -73.788798, -73.78869499999999, -73.77691300000001, -73.95694300000001, -73.97293, -73.97268299999999, -73.83710699999999, -73.77691300000001, -73.998612, -73.78353100000001, -73.783748, -73.790088, -73.981059, -73.989463, -73.968828, -73.788777, -73.979632, -73.78183, -73.785421, -73.783748, -73.782036, -73.789927, -73.781677, -73.791473, -73.782197, -73.83710699999999, -73.781056, -73.785517, -73.788203, -73.789927, -73.77687072753906, -73.794607, -73.97456700000001, -73.981002, -73.788203, -73.864165, -74.01014709472656, -73.862887, -73.999913, -74.014686, -73.866472, -73.77669399999999, -73.86609, -73.7764, -73.866157, -73.7764, -73.78813199999999, -73.78813199999999, -73.86280059814453, -73.87444305419922, -73.79140799999999, -73.873118, -73.78345999999999, -73.991957, -74.006038, -73.804869, -73.788557, -73.782684, -73.783312, -73.87115, -73.98885899999999, -73.97809000000001, -73.98621899999999, -73.986118, -73.98885899999999, -73.789784, -73.995125, -73.783034, -73.7899, -74.00121999999999, -74.028182, -73.81000999999999, -73.991957, -73.98154, -73.986118, -73.972073, -73.997656, -74.003168, -73.776825, -74.026498, -73.991957, -73.788557, -73.97809000000001, -73.776344, -73.780182, -74.006038, -73.984299, -73.776925, -73.781147, -73.782236, -73.789784, -73.862865, -73.885277, -73.98693, -73.86287, -73.87455200000001, -73.789175, -73.783493, -73.79006, -73.97531, -73.985892, -73.972352, -73.982553, -73.96899599999999, -73.79153199999999, -73.971908, -73.957818, -73.967522, -73.80722, -73.973557, -73.78187, -73.789506, -73.788527, -73.776735, -73.9705, -73.786862, -73.992958, -73.7777, -73.97970600000001, -73.782317, -73.78988199999999, -73.971655, -73.78479899999999, -73.979206, -73.981752, -73.789, -73.980965, -73.78341800000001, -73.78348000000001, -73.7898, -73.7816, -73.971727, -73.7815, -73.952687, -73.785953, -73.789889, -73.7811, -73.801322, -73.983148, -73.97279499999999, -73.97882800000001, -73.790065, -73.790437, -73.783374, -73.78974000000001, -73.9696, -73.97861800000001, -73.787088, -73.966426, -73.783556, -73.780336, -73.78226, -73.801192, -73.7902, -73.973598, -73.790104, -73.97833, -73.992947, -73.987418, -73.788517, -73.963511, -73.81191899999999, -73.97399999999999, -73.816907, -73.78976800000001, -73.97863000000001, -73.966985, -73.914588, -73.979058, -73.927687, -73.983098, -73.7821, -73.782127, -73.9514, -73.824568, -73.97523699999999, -73.97545799999999, -73.994187, -73.953539, -73.97863000000001, -73.985519, -74.002625, -73.78500799999999, -73.789169, -73.979614, -73.982626, -73.776752, -73.976485, -73.781778, -73.78109, -73.973973, -73.79081, -73.995016, -73.9816, -73.988359, -73.987448, -73.991582, -73.783147, -73.7819, -73.77668100000001, -73.783689, -73.970687, -73.7868, -73.781132, -73.973744, -73.99290500000001, -73.967522, -73.790625, -73.938009, -73.789552, -73.78044, -73.79050600000001, -73.783573, -73.987698, -73.789012, -73.789302, -73.782127, -73.95323, -74.01017, -73.78195799999999, -73.7902, -73.790068, -74.002625, -73.978952, -73.776821, -73.97863000000001, -73.78336999999999, -73.979173, -73.791147, -73.78349200000001, -73.976025, -73.785957, -73.96809300000001, -73.96485799999999, -73.965876, -73.778468, -73.776783, -73.789445, -73.781717, -73.78622, -73.941594, -73.819379, -73.783363, -73.783265, -73.966585, -73.78513199999999, -73.783621, -73.789889, -73.787204, -73.785187, -73.99733499999999, -73.974553, -73.988393, -73.78723199999999, -74.00553000000001, -73.78674699999999, -73.781898, -73.99566800000001, -73.776972, -73.77673, -73.976013, -73.78542, -73.7816, -73.776752, -73.799777, -73.94659200000001, -73.789912, -73.78500799999999, -73.790058, -73.789012, -73.776798, -73.952363, -73.934127, -73.985892, -73.790104, -73.991892, -73.77678, -73.776792, -73.978378, -73.82776899999999, -73.77672, -73.7821, -73.786448, -73.789985, -73.986237, -73.816907, -73.9919, -73.972023, -73.78980899999999, -73.788312, -73.77631600000001, -73.781085, -73.983958, -73.98684200000001, -73.78206, -73.78179, -74.00202, -73.781838, -73.969092, -73.7866, -73.7817, -73.778672, -73.78823, -73.77682, -73.78928, -73.789722, -73.981593, -73.786586, -73.783019, -73.776737, -73.99117199999999, -73.94918, -73.980625, -73.77663000000001, -73.80228199999999, -73.78723199999999, -73.976293, -73.994354, -73.963511, -73.958753, -73.78596800000001, -73.78711700000001, -73.987133, -73.984318, -73.79050600000001, -73.78881700000001, -73.781865, -73.77670400000001, -73.781868, -73.787702, -73.790123, -73.947023, -73.78608299999999, -73.776657, -73.98558, -73.7836, -73.97584300000001, -73.970687, -73.780447, -74.001703, -73.964857, -73.787265, -73.783407, -73.78608299999999, -73.7902, -73.974553, -73.776624, -73.974427, -73.785937, -73.99385, -73.77670400000001, -73.989423, -73.789537, -73.788027, -73.78159699999999, -73.9966, -73.790065, -73.973557, -73.78652, -73.927687, -73.962, -73.78187, -73.78379, -73.861592, -73.77698000000001, -73.778645, -73.78954, -73.78661, -73.785937, -74.00111600000001, -73.979153, -73.791035, -73.975548, -73.790089, -73.98623, -73.7903, -73.776732, -73.790048, -73.78974000000001, -73.783407, -73.97306999999999, -73.988318, -73.984567, -73.783283, -73.983958, -74.015225, -73.783589, -73.78179, -73.778645, -73.78548, -73.94141, -73.786705, -73.781947, -73.980232, -73.789873, -73.7777, -73.78243499999999, -73.781049, -73.78616099999999, -73.984847, -73.96400200000001, -73.790088, -73.95971999999999, -73.788252, -73.862695, -73.776798, -73.78139, -73.9705, -73.789519, -73.97148, -73.789528, -73.789519, -73.975195, -73.88529, -73.77663299999999, -73.77745999999999, -73.973835, -73.78842399999999, -73.776359, -73.783435, -73.79213299999999, -73.785625, -73.78811999999999, -73.9919, -73.98134499999999, -73.984144, -73.786, -73.781162, -73.968056, -73.776712, -73.78192, -73.79251, -73.781275, -73.984864, -73.979442, -73.971098, -73.799465, -73.783982, -73.782177, -73.78845, -73.783573, -73.97539300000001, -73.987133, -73.991036, -73.816907, -73.786115, -73.991638, -73.98755200000001, -73.78990999999999, -73.789603, -73.78179499999999, -73.788436, -73.966585, -73.776741, -73.791225, -73.788436, -73.781868, -73.789519, -73.990167, -73.991537, -73.988393, -74.003943, -73.781109, -73.778114, -73.78109, -73.79006600000001, -73.7816, -73.88529, -73.777057, -73.9896, -73.95363, -73.791292, -73.960704, -73.783457, -73.789137, -73.78881700000001, -73.77667199999999, -73.99919, -73.979137, -73.98, -73.776972, -74.00572199999999, -73.785617, -73.776464, -73.80361500000001, -73.776924, -73.998613, -73.776821, -73.96011, -73.973598, -73.98391099999999, -73.97010999999999, -73.77853, -73.970213, -73.98442299999999, -73.78716, -73.990167, -73.926148, -73.963047, -73.776732, -73.786537, -73.78323, -73.794667, -74.013977, -73.963124, -73.785515, -74.008267, -73.790164, -73.77686, -73.788803, -73.78104499999999, -73.781548, -73.992078, -73.84485500000001, -73.786749, -73.7811, -73.9526, -73.781072, -73.790462, -73.782032, -73.877127, -73.985892, -73.776741, -73.783683, -73.95971999999999, -73.79020600000001, -73.98989399999999, -73.776464, -73.984365, -73.964061, -73.77680500000001, -73.78928, -73.9919, -73.783493, -73.97882800000001, -73.77816700000001, -73.788475, -73.783958, -73.787035, -73.9705, -73.790044, -73.966585, -73.786272, -73.785111, -73.995175, -73.968772, -73.97684699999999, -73.952135, -73.783532, -73.783147, -73.781887, -73.787977, -73.78201700000001, -73.97304100000001, -73.79153000000001, -73.99919, -73.779382, -73.995841, -73.964052, -73.7801, -73.80228199999999, -73.796903, -73.974737, -73.776657, -73.987063, -73.978043, -73.9552, -73.980597, -73.78977900000001, -73.788837, -73.98382099999999, -73.776798, -73.791977, -73.789312, -73.81199000000001, -73.79115, -73.980965, -73.979173, -73.78524, -73.9782, -73.98100699999999, -73.78842399999999, -73.79066800000001, -73.984651, -74.00405699999999, -73.776792, -73.958465, -73.776798, -73.987465, -73.781313, -73.788492, -73.989677, -73.790058, -73.98442299999999, -73.994185, -73.780245, -73.960704, -73.776735, -73.963432, -73.953307, -73.785617, -73.97369300000001, -73.789856, -73.790164, -73.78201700000001, -73.967402, -73.974571, -73.978605, -73.967457, -73.7819, -73.789615, -73.974757, -73.985375, -73.78234599999999, -73.97296999999999, -73.784125, -73.80556700000001, -74.003157, -73.952873, -73.780479, -73.793095, -73.8074, -73.97369300000001, -73.97539499999999, -73.789697, -73.987032, -73.980847, -73.784143, -73.790068, -73.786138, -73.78822, -73.789137, -73.974553, -73.77669200000001, -73.9787, -73.97197299999999, -73.973499, -74.00553000000001, -73.782351, -73.984154, -73.949935, -73.782134, -73.999565, -73.9782, -73.946678, -73.781092, -73.776837, -73.789847, -73.97095, -73.974462, -73.776782, -73.799465, -73.789302, -73.789575, -73.95894799999999, -73.979955, -73.78192800000001, -73.78179499999999, -73.984154, -74.01401, -73.78977900000001, -73.993359, -73.77663299999999, -73.791133, -73.97108, -73.811803, -73.982835, -73.98611700000001, -73.789867, -73.7821, -73.983779, -73.973838, -73.782317, -73.97268100000001, -73.97399999999999, -73.983017, -73.97531, -73.972825, -73.792731, -73.789697, -73.991722, -73.998277, -74.003112, -73.984495, -73.789908, -73.99774000000001, -73.785847, -73.782229, -73.78822, -73.784407, -73.987282, -73.987282, -73.98549399999999, -73.96265, -73.980838, -73.956695, -73.77669499999999, -73.79019100000001, -73.806096, -73.78605, -73.78054300000001, -73.989094, -73.973651, -73.783502, -73.986263, -73.789742, -73.78185, -74.006238, -73.973355, -73.788967, -73.974273, -73.791777, -73.776742, -73.783388, -73.980287, -73.99104200000001, -74.006342, -73.783705, -73.784099, -73.79130500000001, -73.95783, -74.00429799999999, -73.991895, -73.78915, -73.973268, -73.981127, -73.954757, -73.78386, -73.97835699999999, -73.786465, -73.788715, -73.978588, -73.993098, -73.983975, -73.776732, -73.955453, -73.992317, -73.974338, -73.950336, -73.78054300000001, -74.0008, -73.96756500000001, -73.967088, -73.94839499999999, -73.992299, -73.789885, -73.783222, -73.78139300000001, -73.789585, -73.954757, -73.961198, -73.986793, -73.789676, -73.783422, -73.999728, -73.784849, -73.984832, -73.79094, -73.78918900000001, -73.961202, -73.79066800000001, -73.964516, -73.80615, -73.790419, -73.789448, -73.810338, -73.96378299999999, -73.79094, -73.991869, -73.783762, -73.94973, -73.810338, -73.790337, -73.785914, -73.79039499999999, -73.977165, -73.781559, -73.781735, -73.78809, -73.985363, -73.78448, -73.980089, -73.98338299999999, -73.801935, -73.984832, -73.788655, -73.979067, -73.777675, -74.006238, -73.991598, -73.996928, -73.985653, -73.785398, -73.776798, -73.97355, -73.788516, -73.994477, -73.8867, -73.787642, -73.984655, -73.986132, -73.787225, -73.77668299999999, -73.788648, -73.783422, -73.973017, -73.788655, -73.783502, -73.98446700000001, -73.77682, -73.789478, -73.977165, -73.905923, -73.985952, -73.788213, -73.782912, -73.777675, -73.981815, -73.79226899999999, -73.981248, -73.777147, -73.973697, -73.788629, -73.776724, -73.786026, -73.776748, -73.98710799999999, -73.804773, -74.009342, -73.781092, -73.981815, -73.776593, -73.78949, -73.981751, -73.78625699999999, -73.95201800000001, -73.78363, -73.78715799999999, -73.983083, -73.786863, -73.97473199999999, -73.974338, -74.001944, -73.77671, -73.967698, -73.992144, -73.94973, -73.776718, -73.79019699999999, -73.989017, -73.78220999999999, -73.79037, -73.782496, -73.776658, -73.977988, -73.983628, -73.79194, -73.955197, -73.783583, -73.784745, -73.961597, -73.986006, -73.78205, -73.78352199999999, -73.955453, -73.981872, -73.974585, -73.79094, -73.97185, -73.978125, -73.992317, -73.78917, -73.992317, -73.997525, -73.778335, -73.78185, -73.790286, -73.776561, -73.96961800000001, -73.985822, -73.985334, -73.95154000000001, -73.96767, -73.99473, -73.783411, -73.77671, -73.776738, -73.98, -73.981356, -73.78375600000001, -73.985683, -73.788737, -73.784228, -73.776738, -73.974175, -73.965835, -73.78456800000001, -73.97835699999999, -73.981161, -73.783833, -73.991895, -73.977956, -73.997925, -73.790337, -74.009342, -73.786784, -73.777675, -73.78163, -73.977417, -73.955453, -73.985952, -73.786265, -74.005238, -73.781417, -73.78979, -73.78155, -73.78109, -73.777147, -73.981916, -73.78497800000001, -73.781605, -73.78695, -73.778295, -73.985213, -73.983657, -73.779987, -73.790463, -74.00429799999999, -73.77645799999999, -73.776463, -73.78370699999999, -73.776747, -73.978528, -73.789448, -73.964248, -73.791935, -73.974869, -73.971323, -73.98862, -73.95035, -73.98818299999999, -73.78358, -73.783411, -73.9847, -73.78145699999999, -73.97407199999999, -73.790675, -73.789648, -73.792761, -73.974953, -73.99110300000001, -73.97004799999999, -74.006141, -73.801935, -73.970922, -73.789753, -73.776656, -73.784336, -73.974042, -73.98374799999999, -73.983074, -73.980787, -73.952564, -73.783527, -73.787642, -73.776742, -73.961597, -73.978672, -73.991895, -73.955197, -73.790545, -73.94695899999999, -73.778752, -73.786132, -73.790136, -73.788125, -73.778752, -73.788735, -73.77855699999999, -73.776561, -73.792858, -73.95243, -73.986793, -73.78386, -73.98035, -73.776656, -73.961488, -73.776761, -73.781948, -73.792858, -73.792858, -73.784849, -73.95243, -73.98058499999999, -73.783787, -73.778552, -73.978391, -73.95035, -73.985213, -73.974175, -73.776702, -73.943675, -73.78448, -73.786648, -73.975734, -73.97185, -73.78998299999999, -73.78111, -73.79046, -73.807415, -73.78193, -73.78598199999999, -73.976148, -73.776841, -73.788455, -73.789507, -73.776792, -73.786863, -73.78393, -73.788259, -73.78791, -73.98279699999999, -73.952564, -73.780209, -73.977346, -74.006697, -73.781989, -73.949952, -73.78375600000001, -73.983628, -73.790286, -73.788232, -73.8867, -73.787225, -73.786465, -73.981925, -74.0008, -73.776728, -73.981572, -73.77853, -73.79530799999999, -73.776698, -73.788232, -73.78761800000001, -73.972435, -73.78393, -73.97095300000001, -73.95575799999999, -73.789742, -73.77717700000001, -73.78582800000001, -73.981197, -73.776702, -73.790439, -73.977085, -73.778603, -73.975437, -73.96961800000001, -74.00473000000001, -73.792761, -73.78200799999999, -73.783268, -73.782007, -73.94385, -73.96961800000001, -73.986132, -73.78915, -73.807415, -73.801935, -73.78182, -73.981213, -73.789742, -73.786443, -73.789365, -73.78285699999999, -73.776787, -73.979807, -73.789375, -73.988698, -73.86273956298828, -74.00155, -73.982878, -73.77668762207031, -73.964792, -73.781632, -73.781632, -74.00155, -74.007334, -73.86287, -73.87096, -73.86659499999999, -73.776715, -73.782351, -73.782351, -73.874342, -74.006457, -74.014818, -73.790868, -73.988157, -73.7818, -73.952595, -73.788533, -73.99328299999999, -73.787341, -73.78685, -73.788311, -73.77842, -73.789767, -73.789992, -73.788533, -73.9739, -73.975814, -73.97009200000001, -73.783683, -73.78934699999999, -73.786036, -73.970727, -73.783417, -73.78995, -73.987372, -73.989888, -73.96247, -73.81616899999999, -73.789423, -73.77671, -73.79079200000001, -73.789547, -73.783495, -73.979241, -73.9831, -74.01017900000001, -73.77675, -73.96784699999999, -73.789843, -73.991218, -73.783454, -73.958907, -73.787481, -73.77671, -73.979854, -74.001612, -73.945738, -73.973977, -73.77758299999999, -73.989888, -73.776753, -73.778498, -73.98931400000001, -73.783905, -73.951864, -73.97009200000001, -73.776667, -73.784725, -73.786673, -73.78075799999999, -73.990566, -73.983933, -73.786038, -73.98599300000001, -73.788311, -73.997877, -73.790305, -73.77675, -73.78915500000001, -73.984216, -73.979854, -73.77677299999999, -73.778648, -73.78344799999999, -73.783905, -73.989092, -73.790305, -74.007163, -73.77675, -73.789282, -73.991749, -73.781059, -73.786058, -73.966752, -73.96215, -73.78837800000001, -73.98302, -73.78990999999999, -73.979854, -73.952595, -74.001612, -73.987932, -73.98729499999999, -73.987372, -73.982747, -73.777129, -73.785752, -73.972409, -73.787932, -73.91083, -73.970912, -73.99306999999999, -73.77668299999999, -73.80111, -73.97319300000001, -73.783374, -73.781785, -73.96676, -73.78733000000001, -73.776754, -73.989888, -73.790277, -73.785752, -73.782105, -73.786745, -73.789128, -73.794292, -73.776667, -73.785895, -74.00801849365234, -73.8629379272461, -74.00701141357422, -73.778632, -74.007204, -73.99221, -73.776707, -73.982414, -73.967867, -73.99740899999999, -73.776821, -73.78620500000001, -73.783335, -73.78685, -73.78685, -73.86266326904297, -73.977568, -73.962399, -73.977568, -74.01764, -74.01114654541016, -73.98789000000001, -73.874517, -74.005663, -73.87275, -73.87275, -73.95957, -74.006553, -73.87294006347656, -73.87294006347656, -73.87294006347656, -73.992983, -73.78201293945312, -73.87456999999999, -73.78936999999999, -73.77683499999999, -74.000212, -73.78201293945312, -73.87439300000001, -73.83893499999999, -73.9894, -73.98570500000001, -73.98570500000001, -73.86317700000001, -73.78952199999999, -73.97603199999999, -73.78952199999999, -73.776815, -73.934741, -73.87309499999999, -73.874604, -73.982694, -73.866073, -73.986959, -73.776733, -73.776733, -73.783311, -73.863037109375, -73.86290740966797, -74.0055923461914, -74.014352, -73.91575999999999, -73.86325500000001, -73.78179931640625, -73.7769, -74.01150512695312, -73.788172, -73.98444599999999, -73.87538, -73.993705, -73.91575999999999, -73.87484599999999, -73.87484599999999, -73.865477, -73.87090699999999, -73.866242, -73.870931, -73.87447, -73.973869, -73.86614, -73.98614, -73.973869, -73.86269, -73.864857, -73.862921, -73.862921, -73.870931, -73.973869, -73.8661, -73.8661, -73.79037199999999, -73.782135, -73.788873, -73.8635482788086, -73.86270904541016, -73.77669200000001, -73.9854965209961, -73.77675699999999, -73.78809, -73.77679, -73.77664184570312, -73.782249, -73.78809, -74.017382, -73.95918273925781, -73.77658000000001, -73.789642, -73.78324599999999, -73.9854965209961, -73.952237, -73.862904, -73.87093, -73.863447, -73.86294699999999, -73.86280699999999, -73.97600899999999, -73.99230194091797, -73.982265, -73.86609, -73.783322, -73.781888, -73.97991, -73.785298, -73.86449499999999, -73.971674, -73.994067, -73.99830627441406, -73.99830627441406, -73.9941635131836, -73.87276458740234, -73.97176361083984, -73.87276458740234, -73.87276458740234, -73.8631591796875, -73.783517, -73.969557, -73.78192138671875, -73.78299713134766, -73.781933, -73.873005, -73.782297, -73.86275, -73.77678, -73.787743, -73.782045, -73.781035, -73.980244, -73.950245, -73.969557, -73.863187, -73.863187, -73.99221, -73.86633499999999, -73.99221, -73.78996, -73.865935, -73.989085, -73.776862, -73.999852, -73.783437, -73.789138, -73.863686, -73.865324, -73.865533, -73.993408203125, -73.86593, -73.87447900000001, -74.01471, -73.87106800000001, -73.862837, -73.87443499999999, -73.862837, -73.8642, -73.873009, -73.865817, -74.014832, -74.014832, -73.994252, -73.994252, -73.87437438964844, -73.9781723022461, -73.86346435546875, -73.983776, -73.873275, -73.986213, -73.983776, -73.781945, -73.990408, -73.872928, -73.789733, -73.786455, -73.7820816040039, -73.872928, -74.006417, -73.87092, -74.0109634399414, -73.977552, -74.008206, -73.86370699999999, -73.94732666015625, -73.8734, -73.95547485351562, -73.864003, -73.870855, -73.9542, -73.94732666015625, -73.87089, -74.014927, -73.874493, -73.874592, -73.87092, -73.874592, -73.870855, -73.874677, -73.865607, -73.997405, -73.8729019165039, -73.86380004882812, -73.8711166381836, -73.8711166381836, -73.99210357666016, -73.8711166381836, -73.86380004882812, -73.993883, -73.789597, -73.789163, -73.782035, -73.77677154541016, -73.782035, -73.783888, -73.783888, -73.788102, -73.77670288085938, -73.7901, -74.00850799999999, -74.008025, -73.866125, -73.98950500000001, -73.988322, -74.002922, -73.87118530273438, -73.863102, -73.862955, -73.865522, -73.95361, -73.862732, -73.98950500000001, -74.007109, -73.98950500000001, -74.002922, -73.865936, -73.866615, -73.86442565917969, -74.002922, -73.885237, -73.95368, -73.86621, -73.885633, -73.885237, -73.788439, -73.872945, -73.9886245727539, -73.9886245727539, -73.86276245117188, -73.86322021484375, -73.97527313232422, -74.00805, -73.872962, -73.788652, -73.995886, -73.78990936279297, -73.776717, -73.996588, -73.9945, -74.004687, -74.006117, -74.015075, -73.874415, -73.87090400000001, -74.003922, -73.9945, -74.006117, -74.00681, -73.870797, -73.87098, -74.003737, -73.979512, -73.872955, -73.8635, -73.86507415771484, -73.87176, -73.871122, -73.870735, -73.87090400000001, -74.008892, -73.870735, -73.863384, -73.874877, -73.86274499999999, -74.008892, -74.011967, -73.986805, -73.980725, -74.009962, -73.78318, -74.00164699999999, -73.87464200000001, -74.00761, -74.00164699999999, -73.995972, -73.862832, -73.88551, -73.77660300000001, -73.874387, -73.995972, -74.009962, -73.78994300000001, -73.99126434326172, -74.00257873535156, -74.00775146484375, -73.787603, -73.968785, -73.778192, -73.80290500000001, -73.781942, -73.972317, -73.968755, -73.974733, -73.978258, -74.00466800000001, -73.978258, -74.002432, -73.786008, -73.973927, -73.991947, -73.781378, -73.985777, -73.992073, -73.789272, -73.970023, -73.98174499999999, -73.997222, -73.999477, -73.788842, -73.790743, -73.96294300000001, -73.778897, -73.776777, -74.005263, -73.97870400000001, -73.974733, -73.78795, -73.790358, -73.781968, -73.991833, -74.00891999999999, -73.788152, -73.79079, -73.78795, -73.978073, -73.83364, -73.790008, -73.977475, -73.788096, -73.983915, -73.93745200000001, -73.790053, -73.960678, -73.995452, -73.862898, -73.991343, -73.791485, -74.00322800000001, -73.966285, -73.972635, -73.991147, -73.782321, -73.997382, -73.78977900000001, -73.980736, -73.788152, -74.001692, -73.786518, -73.99485, -73.985008, -73.992199, -73.781103, -73.78603299999999, -73.783176, -73.97956500000001, -73.80164, -73.786792, -73.986058, -73.996175, -73.99239200000001, -73.785337, -73.786582, -73.78359499999999, -73.982428, -73.956485, -73.780076, -73.865943, -73.98071800000001, -73.96158299999999, -73.999477, -73.990783, -73.9802, -74.011703, -73.782572, -73.900598, -73.992199, -74.004503, -73.979122, -74.01155, -73.998573, -73.788098, -73.980662, -73.992812, -73.77678, -73.778592, -73.99363100000001, -73.909109, -73.788365, -73.784137, -73.786121, -73.77849, -74.007217, -73.993533, -73.987053, -73.782005, -73.783493, -74.004503, -73.78829499999999, -73.997477, -73.78959300000001, -74.00800699999999, -73.78886700000001, -73.78156700000001, -73.802723, -73.999813, -74.00526500000001, -73.98975300000001, -73.95196533203125, -73.80259000000001, -74.00334000000001, -73.80523199999999, -73.984563, -73.789497, -73.987927, -73.967265, -73.93364, -73.788662, -73.78211800000001, -73.984284, -73.990477, -73.788785, -73.790008, -73.798378, -73.991948, -73.78978199999999, -73.790277, -73.783722, -73.983992, -73.789989, -73.78108, -74.00800799999999, -73.987076, -74.00800799999999, -73.78903198242188, -73.786038, -73.781912, -73.77685799999999, -73.99235999999999, -74.002432, -73.78724, -74.002725, -73.984943, -73.790675, -73.789695, -73.79000699999999, -73.991372, -73.994117, -73.776765, -73.78956, -73.979822, -73.786321, -73.790584, -73.983159, -73.989912, -73.988975, -73.785903, -73.776801, -74.011843, -74.010238, -73.981666, -73.983595, -73.98236800000001, -73.98449000000001, -73.782321, -73.982991, -73.78680200000001, -73.977848, -74.00930799999999, -73.80523199999999, -73.966298, -74.00930799999999, -74.00793, -73.776972, -74.009625, -73.982487, -73.986845, -73.987927, -73.776797, -74.00475300000001, -73.789875, -73.78028499999999, -73.78419, -73.979447, -73.776315, -73.789272, -73.966233, -73.77674300000001, -73.971078, -73.954776, -74.003291, -74.0042, -73.786642, -73.790263, -73.98671999999999, -73.79060799999999, -73.77674300000001, -73.783057, -73.78425, -73.968785, -73.789194, -73.982185, -73.992137, -73.987335, -73.947818, -73.79046, -73.84094300000001, -73.78914300000001, -73.965065, -73.97352, -74.000908, -73.790572, -74.005737, -73.982527, -73.977703, -73.994113, -73.77678, -73.787842, -74.011703, -73.973945, -73.788365, -73.776315, -73.776797, -73.79439, -73.961916, -73.971253, -73.783722, -73.789898, -73.78156700000001, -73.865943, -73.989612, -73.790163, -73.992073, -73.788478, -73.99167800000001, -73.79021, -73.982991, -73.980662, -73.981813, -73.790277, -73.786019, -73.983853, -73.7897, -73.78190699999999, -73.939263, -73.98506, -74.003695, -73.77672, -73.786575, -73.99435, -73.786121, -73.928217, -73.786547, -73.98089, -73.790315, -74.010974, -73.976013, -73.784021, -73.981813, -73.96816899999999, -73.978927, -73.77680699999999, -73.77829, -73.981402, -73.991171, -73.976853, -73.985887, -73.783408, -73.78192299999999, -73.78643199999999, -73.98089, -74.002432, -73.992812, -73.782033, -73.786583, -73.778192, -73.78602099999999, -73.781288, -73.982428, -73.79024, -73.776732, -73.996827, -73.987413, -73.776765, -73.785988, -73.790149, -73.98352, -74.004176, -73.78326, -73.78416899999999, -73.989912, -73.990131, -73.996827, -73.97885, -73.982428, -73.99485, -73.78326, -73.790532, -73.77749, -73.78620699999999, -73.78283499999999, -73.961407, -73.789272, -73.988918, -73.98074799999999, -73.789132, -74.00388199999999, -73.78108, -73.78088000000001, -73.77669300000001, -73.78716700000001, -73.79145, -73.789923, -73.784858, -74.004503, -73.78339799999999, -73.99239200000001, -73.80669300000001, -73.98773, -74.002173, -73.976013, -73.99543299999999, -74.002877, -73.963265, -73.801367, -74.00366, -73.79439, -73.782207, -73.788824, -73.798713, -73.783599, -74.003917, -73.988485, -74.011126, -73.954768, -73.976013, -73.93364, -73.789381, -73.989313, -73.969993, -73.972317, -73.99649000000001, -73.992351, -73.885228, -73.776801, -73.797087, -73.990783, -73.80259000000001, -73.983027, -73.7859, -74.003695, -73.983387, -73.7866, -73.786917, -74.00212900000001, -73.7764, -73.78324, -73.790572, -73.789234, -73.79021, -73.78602099999999, -73.983159, -73.788515, -73.986222, -73.98467, -73.786642, -74.005333, -74.003132, -73.786435, -73.986465, -73.81324000000001, -73.99179000000001, -73.788098, -73.968785, -73.966563, -73.77679300000001, -73.782527, -73.789077, -74.005964, -73.797087, -73.786321, -73.98419200000001, -73.776801, -73.782839, -73.99466899999999, -73.776783, -73.783493, -73.776703, -73.805444, -74.005964, -73.790371, -73.794155, -73.97905899999999, -74.00212900000001, -74.007644, -73.990783, -73.786016, -73.985887, -73.967437, -73.979352, -73.791618, -73.801438, -73.78680200000001, -73.78324, -74.01165, -74.011617, -73.782042, -73.98769, -73.96984599999999, -73.78583499999999, -73.982825, -73.978983, -73.969993, -73.976848, -73.784707, -73.789163, -73.985602, -73.78903198242188, -73.785978, -73.98873499999999, -73.776647, -73.789132, -74.01038, -73.79439, -73.80131300000001, -73.788368, -73.941187, -73.786523, -73.786547, -73.997609, -73.807387, -74.00331, -73.77708299999999, -74.009955, -73.782046, -73.789535, -73.992137, -73.98174499999999, -74.00510799999999, -73.78835500000001, -73.902002, -73.783792, -73.991147, -73.783408, -73.78108, -73.870873, -73.992199, -73.782321, -73.801346, -73.78254, -73.786953, -73.807387, -73.783556, -73.786, -73.962678, -73.99269, -74.010292, -73.77672, -73.776669, -74.00499, -73.959125, -74.00526500000001, -73.78240799999999, -74.000405, -74.01038, -73.791304, -73.978674, -73.830063, -73.786851, -73.98515, -73.786017, -73.98773, -73.871208, -73.776902, -73.992389, -73.78583499999999, -74.004866, -73.970023, -73.78201700000001, -73.972348, -73.788443, -73.77708299999999, -73.98690500000001, -73.977703, -73.789495, -73.909109, -73.778728, -73.78466999999999, -73.982991, -73.93028199999999, -74.009625, -73.978624, -73.984284, -73.992351, -73.991057, -73.954272, -73.80115, -73.805963, -73.993528, -73.790163, -73.787228, -73.985331, -74.000447, -73.786815, -73.994778, -73.9767, -74.011703, -73.785775, -73.776975, -73.977475, -73.980736, -73.871208, -73.789325, -73.78240799999999, -73.783868, -73.776687, -73.985188, -73.86383199999999, -73.877475, -73.866155, -73.885738, -73.87093353271484, -73.862813, -73.99468, -73.87093353271484, -73.989737, -74.013166, -73.86292900000001, -73.862775, -73.867151, -73.870807, -73.86291, -73.86268000000001, -73.990539, -73.87615600000001, -74.01580799999999, -73.874449, -73.86596999999999, -73.874509, -73.99484, -73.995947, -73.99484, -73.873016, -73.86357116699219, -73.87439727783203, -73.93595, -74.00370788574219, -73.96793365478516, -73.99096899999999, -73.78814200000001, -73.870773, -73.953502, -73.86286926269531, -73.99974, -73.781873, -73.97408294677734, -74.004752, -73.790102, -73.870807, -73.870807, -73.7767, -73.87305699999999, -73.78196716308594, -73.874655, -73.874655, -73.862786, -73.86400604248047, -73.88528199999999, -73.87196, -73.86461, -73.865753, -73.87292, -73.870992, -73.972982, -73.870919, -73.862786, -73.969078, -73.86289000000001, -73.969078, -73.870924, -73.976022, -73.959272, -73.863817, -73.996228, -73.78708, -73.94709300000001, -73.78954, -74.010703, -73.99824699999999, -73.9479, -73.78023, -73.77672, -73.78954, -74.00834, -73.991415, -73.79019165039062, -73.7833480834961, -73.873113, -73.99824699999999, -73.776472, -73.866605, -73.7890625, -73.776646, -73.86529200000001, -73.988512, -73.872945, -73.976057, -73.970738, -73.99497, -73.976057, -73.871145, -73.863935, -73.985455, -73.86529200000001, -73.99497, -73.984832, -73.867237, -73.878782, -74.009777, -73.981972, -73.871224, -73.86277, -73.863417, -73.984863, -73.87455, -73.863417, -73.985455, -73.870942, -73.863935, -73.997856, -73.866153, -73.862746, -73.982745, -73.87100500000001, -73.982745, -73.985822, -73.982168, -73.87089499999999, -73.86673, -73.985822, -73.87100500000001, -73.985822, -73.863613, -73.781925, -73.991022, -73.782172, -73.78998299999999, -73.863254, -73.863254, -73.853433, -73.782172, -73.942523, -73.864952, -73.77672, -73.78971700000001, -73.985214, -73.77672, -73.997538, -73.853433, -73.78998299999999, -73.87447357177734, -73.98991394042969, -73.98991394042969, -73.87355041503906, -73.8630599975586, -73.78850899999999, -73.782470703125, -73.95020294189453, -73.875978, -73.782470703125, -73.98719, -73.875978, -73.99714300000001, -73.78937530517578, -73.77671813964844, -73.77671813964844, -73.95334799999999, -73.99024200000001, -73.782427, -73.865794, -73.78177642822266, -73.78937530517578, -73.99714300000001, -73.98104858398438, -73.953997, -73.977736, -73.862688, -73.885102, -73.886072, -73.86409, -73.86375799999999, -73.86323, -73.975003, -73.874607, -73.973555, -73.863313, -73.86314, -73.99187469482422, -73.992246, -73.862575, -73.86604200000001, -73.86335754394531, -73.863682, -73.86681365966797, -73.978239, -73.978239, -73.870703, -73.989705, -73.98664699999999, -73.97395300000001, -73.975003, -73.87297821044922, -73.871057, -73.98320799999999, -73.781962, -73.989612, -73.970443, -73.871057, -73.862882, -73.786601, -73.863603, -74.01394300000001, -73.97408294677734, -73.86331939697266, -73.99144744873047, -73.8743896484375, -73.85202026367188, -73.8743896484375, -73.97872161865234, -73.94367980957031, -73.782037, -73.78976, -73.78909499999999, -73.78192299999999, -73.96680699999999, -73.7835922241211, -73.92310333251953, -73.86265300000001, -73.782439, -73.98243199999999, -73.782135, -73.870875, -73.986429, -73.97180938720703, -73.78388214111328, -73.9936, -73.78955500000001, -73.783568, -73.972898, -73.78801999999999, -73.783568, -73.78801999999999, -73.783568, -73.87300109863281, -73.86265300000001, -73.872895, -73.862927, -73.976027, -73.865615, -73.86548499999999, -73.873083, -73.86625, -73.99504, -73.86298000000001, -73.86366, -73.984217, -73.86625, -73.86548499999999, -73.939514, -73.87310699999999, -73.99486999999999, -73.992929, -73.87106999999999, -73.875062, -73.862712, -73.864062, -73.985377, -73.87300109863281, -74.00958100000001, -73.978882, -73.885283, -73.987771, -73.862567, -73.86395, -74.002077, -73.959163, -73.982097, -73.862925, -73.862925, -73.870878, -73.87052917480469, -73.87483215332031, -73.86343383789062, -73.86273956298828, -73.99760437011719, -73.790705, -74.02305, -73.86329, -73.984412, -73.782298, -73.98628234863281, -73.87313499999999, -73.95185852050781, -73.862893, -73.992712, -74.008577, -74.02305, -74.005202, -73.968475, -73.782298, -73.87313499999999, -74.00303100000001, -73.873082, -73.77679300000001, -74.01540899999999, -74.00499, -74.006235, -73.862779, -73.99600000000001, -73.98611, -73.98871700000001, -73.86274719238281, -73.87054599999999, -73.871065, -73.8634, -73.98991, -73.873032, -73.967102, -73.87302700000001, -73.86549699999999, -73.87495, -73.98123168945312, -73.98058319091797, -73.865447, -73.87128, -73.98871700000001, -73.8634, -73.86274719238281, -73.969318, -74.00478299999999, -73.86279, -73.99236297607422, -73.86274719238281, -73.950135, -73.977627, -73.86553, -73.862445, -73.86300200000001, -73.98479, -73.86300200000001, -73.82273, -73.885417, -73.95586999999999, -73.786958, -73.98387145996094, -73.98564910888672, -73.87106323242188, -74.00899505615234, -73.86708068847656, -73.98387145996094, -73.8631362915039, -73.975001, -73.781772, -73.987269, -73.998653, -73.7897720336914, -73.993289, -73.78705699999999, -73.78345999999999, -73.987269, -73.776712, -73.989531, -73.99163, -73.96867370605469, -73.97776999999999, -73.98885200000001, -74.016402, -73.782122, -73.995468, -73.781937, -73.78262, -73.95645999999999, -73.87078199999999, -74.00317199999999, -73.87078199999999, -73.978075, -73.909803, -73.980778, -73.872814, -73.86272, -73.863801, -73.99296899999999, -74.004459, -73.874669, -73.986762, -73.863801, -73.870734, -73.98264, -73.870913, -73.98341500000001, -73.98264, -73.870772, -73.98957824707031, -73.995605, -73.870954, -73.99802, -73.862827, -73.99225799999999, -73.885384, -73.862652, -73.999851, -73.863455, -73.874669, -73.885367, -73.98273, -73.86280699999999, -73.939452, -73.809692, -73.939452, -73.870685, -73.989075, -73.86588499999999, -73.989251, -73.789563, -73.86330699999999, -73.86330699999999, -73.864681, -73.96910799999999, -73.783567, -73.9706, -73.789805, -74.00399, -73.77678, -73.77678, -73.872998, -73.872998, -73.97000122070312, -73.97000122070312, -73.97991943359375, -73.99942016601562, -73.97991943359375, -73.97000122070312, -73.99578857421875, -73.956705, -73.973803, -74.005411, -73.96048736572266, -73.98977, -73.95735, -73.776707, -73.885437, -73.96048736572266, -73.78509, -73.956175, -74.005411, -73.96048736572266, -73.875069, -74.001255, -73.964265, -73.95735, -73.78238677978516, -73.781617, -73.98748, -73.982364, -73.98422, -73.916332, -73.916332, -73.982364, -73.98706999999999, -73.976795, -73.97684699999999, -73.862767, -73.981981, -73.984601, -73.979022, -73.87095699999999, -74.004417, -73.978862, -73.98297, -73.993308, -73.862742, -73.98065, -73.862734, -73.969762, -73.885418, -73.98360699999999, -73.862937, -73.973045, -73.993308, -73.873162, -73.86609200000001, -73.866072, -73.97948199999999, -73.862909, -73.986723, -73.866097, -73.983362, -73.98676, -73.87073199999999, -73.862909, -73.969762, -73.986723, -73.866072, -73.87095699999999, -73.97871398925781, -73.975761, -73.885414, -73.986457, -73.863477, -73.93390699999999, -73.993628, -74.00174799999999, -73.99472, -73.95, -73.99039, -73.776657, -73.99208399999999, -73.984468, -73.870743, -74.007512, -73.870805, -73.776657, -73.967385, -73.872839, -73.776657, -73.870743, -73.986295, -73.782495, -73.87450799999999, -73.870805, -73.866612, -73.999673, -74.013982, -73.87491999999999, -74.013982, -73.98310852050781, -73.9825210571289, -73.86598205566406, -73.79026, -73.9254150390625, -73.870873, -73.97828, -73.977006, -73.981397, -73.789878, -73.78893199999999, -73.980722, -73.790625, -73.78178405761719, -73.97828, -73.78959655761719, -73.967115, -73.986498, -73.98180699999999, -73.78864499999999, -73.78877258300781, -73.79079399999999, -73.967843, -73.99378967285156, -73.97828, -73.781837, -73.98435, -73.979457, -73.968723, -74.000677, -73.783463, -73.863085, -73.78693299999999, -73.979487, -73.786852, -73.885226, -73.863344, -73.86285500000001, -73.98007700000001, -73.862824, -73.870811, -74.00484, -73.86575400000001, -73.863805, -73.863605, -73.87094499999999, -73.97888946533203, -73.86599731445312, -73.872982, -73.863287, -73.97976684570312, -73.980257, -73.866017, -73.863262, -73.978543, -73.986747, -73.86575400000001, -73.872484, -73.978543, -73.870965, -73.985861, -73.87292, -73.862824, -73.862747, -73.870587, -73.87311, -73.984226, -73.866775, -73.865589, -73.997827, -73.989288, -73.989083, -73.986363, -74.017052, -73.870628, -73.874432, -73.87313842773438, -73.87445831298828, -73.97686004638672, -74.00823211669922, -73.980437, -73.8662, -73.77674865722656, -73.87344360351562, -74.012438, -73.78990999999999, -73.86604, -73.876762, -73.98985290527344, -73.977737, -74.012438, -73.957275, -73.863917, -73.945266, -73.87445500000001, -73.97831500000001, -73.78204345703125, -74.00590515136719, -73.98985290527344, -73.977737, -73.776682, -73.789647, -73.776682, -73.78220300000001, -73.782362, -73.98029100000001, -73.79, -73.862992, -73.978735, -73.87081500000001, -73.96936, -73.87087, -73.982954, -73.98415200000001, -74.00579499999999, -73.870832, -73.864583, -73.863815, -73.97799599999999, -73.986862, -73.872913, -73.870947, -73.865468, -73.865468, -73.997282, -73.872913, -73.86655, -73.870972, -73.981787, -73.874427, -73.977253, -73.99458299999999, -73.874657, -73.985871, -73.863445, -73.981787, -73.873075, -73.97849699999999, -73.982182, -74.001295, -73.863062, -73.86317199999999, -73.87095, -73.87067900000001, -73.872913, -73.86655, -73.863036, -73.862851, -73.978301, -73.862851, -73.86646, -73.86646, -73.86273, -73.978301, -73.874853, -73.950478, -73.870711, -73.8745, -73.8745, -73.8745, -73.781948, -73.986336, -73.862787, -73.776698, -74.00636800000001, -74.0152, -73.87090500000001, -73.863192, -73.863192, -73.8724594116211, -73.86376190185547, -73.98490142822266, -73.98492431640625, -73.87303161621094, -73.98373413085938, -73.98492431640625, -73.98373413085938, -73.96018981933594, -73.980512, -73.86277770996094, -73.991963, -73.96600000000001, -73.987121, -73.925412, -73.78312, -74.026222, -73.97342681884766, -73.98276, -74.00516800000001, -73.782318, -73.86295318603516, -73.987726, -74.00959, -73.963012, -73.961458, -73.962682, -73.78994300000001, -73.971538, -73.77674102783203, -73.86277770996094, -73.865317, -73.776761, -74.01256561279297, -73.956263, -73.975809, -73.963012, -73.873183, -73.77674102783203, -73.96276, -73.783642, -73.979135, -73.86365699999999, -73.866079, -73.87073000000001, -73.870563, -73.870563, -73.96458, -73.87528499999999, -74.005758, -73.95178985595703, -73.874535, -73.9712142944336, -73.873092, -73.86301999999999, -73.862882, -73.863722, -73.996172, -73.87304499999999, -73.98476600000001, -73.992642, -73.86478699999999, -73.863427, -73.9920883178711, -73.87347, -73.87315368652344, -73.862594, -73.885211, -73.988247, -73.999353, -73.955122, -73.87286, -73.986162, -73.98230699999999, -73.984635, -73.98334799999999, -73.865815, -73.86301999999999, -73.863015, -73.955122, -73.862882, -73.98299, -73.975574, -73.95178985595703, -73.93783499999999, -73.96458, -73.98512099999999, -73.984473, -73.989583, -73.983284, -73.87312, -73.87312, -73.983284, -73.973262, -73.973662, -73.983284, -73.987443, -74.005418, -73.776764, -73.87496800000001, -73.866167, -73.967611, -74.013859, -73.981735, -73.87304, -74.007387, -73.96833000000001, -73.97764699999999, -74.013286, -73.862729, -73.985613, -73.87496800000001, -73.87496800000001, -73.776705, -73.989274, -73.96833000000001, -73.86282, -73.864125, -73.862853, -73.96833000000001, -73.781902, -74.002475, -74.013859, -73.87454223632812, -73.86668395996094, -73.86266326904297, -73.86412811279297, -73.87316131591797, -73.87290954589844, -73.87093353271484, -73.791027, -73.789855, -74.000281, -73.94894000000001, -73.863125, -73.863125, -73.975992, -73.98769, -73.86278, -73.922947, -74.000281, -73.986027, -73.983361, -73.776697, -73.863577, -73.776685, -73.983361, -73.976157, -73.978689, -73.776697, -73.98769, -73.950265, -73.991802, -73.976157, -73.863125, -73.991802, -73.870816, -73.8634, -73.863907, -73.86617, -73.862673, -73.863076, -73.962168, -74.00960699999999, -73.983452, -73.873062, -73.983705, -73.86315155029297, -73.977467, -73.86590576171875, -73.860986, -73.97698000000001, -73.965401, -73.863028, -73.981217, -73.98273499999999, -73.86697387695312, -73.983118, -73.87308, -73.99239, -73.98100500000001, -73.8635, -73.870721, -73.863575, -73.988277, -73.965401, -73.978667, -73.97150699999999, -73.990697, -73.870908, -73.86292399999999, -73.870645, -73.874511, -73.872975, -73.98428344726562, -73.990697, -73.872975, -73.870721, -73.86776, -73.96601, -73.97292, -73.866197, -73.983118, -73.978063, -74.00035, -73.977942, -73.983078, -73.873062, -73.99363199999999, -73.86389, -73.86273299999999, -73.87446800000001, -73.868746, -73.86273299999999, -74.008264, -73.874571, -73.87299499999999, -74.008264, -73.998756, -73.873052, -73.789671, -73.874571, -73.864866, -73.98220699999999, -73.95269, -73.870762, -73.97551, -73.793401, -73.978587, -73.98220699999999, -73.789671, -73.874545, -73.9866, -73.87299499999999, -73.787497, -73.974958, -73.97355999999999, -74.015428, -74.015428, -73.967413, -74.026145, -73.967413, -74.026145, -73.866253, -73.98419952392578, -73.99807739257812, -73.86268615722656, -73.86268615722656, -73.99948120117188, -73.9869155883789, -73.8638916015625, -73.99948120117188, -73.86355590820312, -73.87302199999999, -73.94776, -74.01181030273438, -74.017185, -73.87476348876953, -73.92444499999999, -73.95240600000001, -73.87141899999999, -73.94776, -73.783303, -73.872887, -73.94776, -73.980599, -73.78291800000001, -73.912933, -73.78253199999999, -73.982375, -73.984557, -73.8712387084961, -73.78604200000001, -73.92444499999999, -73.95401763916016, -73.99298095703125, -73.99556732177734, -74.015125, -73.870917, -73.87456, -73.87456, -73.989175, -73.872945, -73.781998, -73.99801, -73.872945, -73.793475, -73.975122, -73.78869300000001, -73.993153, -73.870582, -73.988843, -73.78869300000001, -73.8712, -73.862735, -73.989518, -73.870857, -73.977623, -73.983388, -73.97942352294922, -73.862483, -74.00605, -73.99574100000001, -73.98363499999999, -73.86275, -73.98513299999999, -73.98253631591797, -73.877515, -73.98363499999999, -73.98380999999999, -73.99125500000001, -73.873025, -73.98105100000001, -73.983287, -73.871379, -73.87316700000001, -73.96898651123047, -73.96898651123047, -73.863857, -73.96898651123047, -73.984137, -73.8712, -73.967046, -73.988484, -73.864798, -73.98639, -73.989379, -73.981287, -73.864067, -73.864941, -73.86274499999999, -73.86275, -73.86319, -73.989518, -73.862483, -73.964564, -73.872978, -73.864081, -73.967046, -73.862827, -73.863217, -73.862937, -73.86291, -73.865511, -73.99175100000001, -73.872835, -73.978802, -73.986345, -73.973793, -73.870822, -73.982862, -73.863221, -73.994062, -73.982692, -73.863221, -73.863221, -74.006273, -73.973688, -73.973688, -73.872562, -73.872562, -73.97831726074219, -73.87342071533203, -73.86271667480469, -74.00639343261719, -73.86396026611328, -73.86271667480469, -73.98701477050781, -73.9565200805664, -73.99415588378906, -73.992336, -74.00799560546875, -73.9912338256836, -73.980231, -73.976353, -73.987212, -74.002579, -73.998255, -73.786579, -73.78264, -73.86490699999999, -73.97822, -73.86408996582031, -73.864296, -73.78189849853516, -73.98311700000001, -73.95504760742188, -73.960247, -74.007447, -73.78085327148438, -73.872343, -73.99960300000001, -73.980231, -73.86275482177734, -73.976353, -73.871138, -73.98013, -74.002579, -74.01110200000001, -74.002579, -74.007447, -74.006713, -73.783587, -73.934125, -73.872975, -73.99012756347656, -73.9890365600586, -73.789252, -74.00799560546875, -74.002579, -73.783488, -73.871138, -73.86247, -73.992336, -73.862949, -73.9890365600586, -73.974921, -73.96869699999999, -73.960247, -73.788875, -73.862747, -73.866272, -73.783557, -73.9912338256836, -73.991125, -73.978865, -73.874588, -73.86355, -73.986742, -73.991485, -73.972187, -73.92414000000001, -73.862876, -73.989163, -73.862678, -73.9868, -73.972187, -73.98754699999999, -74.00614399999999, -73.982605, -73.874588, -73.865347, -73.87092, -73.97637176513672, -73.863444, -73.97116088867188, -73.87326, -73.989079, -73.981525, -73.863303, -73.97764699999999, -73.97359300000001, -73.976997, -73.987383, -73.862714, -73.86296800000001, -73.98155200000001, -74.005702, -73.989163, -73.87315500000001, -73.978865, -74.00783, -73.865515, -73.989079, -73.86607, -73.97637176513672, -73.86387634277344, -73.983805, -74.00783, -74.00783, -73.976997, -73.9752197265625, -73.862714, -73.87102, -73.885356, -73.870892, -73.862756, -73.994465, -73.97568100000001, -73.88533699999999, -73.953131, -73.86285699999999, -73.885297, -73.86285699999999, -73.870892, -73.98239699999999, -73.995862, -73.862756, -73.867397, -73.978677, -73.867397, -73.862695, -73.985957, -73.862695, -73.978852, -73.819864, -73.9669, -74.007278, -73.982748, -73.982748, -73.986151, -73.862548, -73.974501, -73.974501, -73.8745, -74.00791600000001, -73.870775, -73.870775, -73.77672199999999, -74.007278, -73.9830093383789, -73.8713607788086, -73.86400604248047, -73.98050689697266, -73.86321258544922, -73.8712158203125, -73.99417114257812, -73.9778060913086, -73.86324310302734, -73.86277770996094, -73.873192, -73.869875, -73.886186, -73.990718, -73.983012, -73.86273193359375, -73.788887, -73.99932199999999, -73.915622, -73.86343199999999, -73.9587173461914, -73.924688, -73.97048000000001, -73.98336791992188, -73.863258, -73.98912811279297, -73.971338, -73.970752, -73.776804, -73.98908233642578, -73.885161, -74.015548, -73.87028503417969, -73.864825, -74.012997, -73.86300899999999, -73.790644, -73.915622, -73.93893432617188, -74.012997, -73.98336791992188, -73.871105, -73.870928, -73.871037, -73.98277, -73.967057, -73.967057, -73.98277, -74.000398, -73.871037, -73.967057, -73.98277, -73.862657, -73.99780799999999, -74.003202, -74.003202, -73.989039, -73.97528076171875, -73.871015, -73.87339, -73.974682, -73.874537, -74.0165023803711, -73.975026, -73.98487091064453, -73.98817700000001, -73.984734, -74.00415500000001, -73.862728, -73.87300109863281, -73.87103499999999, -73.9751, -73.99886500000001, -73.98487091064453, -73.97377, -73.874515, -73.863649, -74.00415500000001, -73.97431999999999, -73.97702, -73.98174200000001, -73.86322, -73.97528076171875, -73.983325, -73.975013, -73.97104200000001, -73.866772, -73.870965, -73.86305, -73.98960500000001, -73.98129, -73.988185, -73.87442779541016, -73.862996, -73.86305, -73.871015, -73.951747, -73.86275400000001, -73.874783, -73.786699, -73.977882, -73.872864, -73.86275400000001, -73.98449000000001, -73.865477, -73.978135, -73.87342, -73.863452, -73.977882, -73.870897, -73.983822, -73.937587, -73.96345699999999, -73.989863, -73.789649, -73.997807, -73.776772, -73.863357, -73.991378, -73.87079200000001, -73.981954, -73.863357, -73.982947, -73.871015, -73.862783, -73.786075, -73.862783, -73.862758, -73.787183, -73.862752, -73.86383056640625, -73.86339569091797, -73.87317657470703, -73.95757293701172, -73.98094940185547, -73.782612, -73.870692, -74.00739499999999, -73.976742, -73.924151, -73.985363, -73.956932, -73.95800600000001, -73.976742, -73.863117, -73.86292266845703, -73.976742, -73.87101745605469, -73.782332, -73.77677154541016, -73.924151, -73.993437, -73.776639, -74.00739499999999, -73.86272430419922, -74.00739499999999, -73.95818, -73.863962, -73.99341700000001, -73.77677154541016, -73.77672199999999, -73.85546875, -74.00271, -74.011925, -73.97666931152344, -73.985323, -73.870873, -74.004958, -73.995102, -73.991355, -73.870867, -73.978748, -73.862551, -73.979344, -73.86609, -73.87481600000001, -73.88606899999999, -73.98621368408203, -73.978412, -73.87316131591797, -73.8635482788086, -73.874523, -73.87317, -73.864137, -73.977535, -73.870811, -73.989535, -73.99470520019531, -73.956685, -73.86297900000001, -73.979584, -73.983935, -73.8627700805664, -73.873047, -73.87074799999999, -73.873047, -73.874495, -73.862655, -73.87525500000001, -73.978748, -73.87084499999999, -73.981852, -73.971428, -73.995552, -73.980292, -73.86985200000001, -73.992085, -73.88606899999999, -73.973941, -73.95625, -73.97232199999999, -73.99954699999999, -73.863434, -73.972447, -73.985761, -73.874397, -73.981073, -73.872872, -73.789502, -73.975747, -73.790082, -73.87289, -73.78684200000001, -73.872577, -73.86978, -73.982033, -73.781995, -73.97185999999999, -73.992652, -74.002988, -73.96426, -73.783582, -73.99085, -73.874588, -73.97523699999999, -73.872872, -74.000187, -73.87289, -73.993308, -73.95831, -74.004412, -73.866175, -73.985737, -73.995317, -73.866175, -73.982033, -73.78684200000001, -74.000674, -73.870979, -73.866385, -73.98699599999999, -73.96136800000001, -73.996444, -74.00710699999999, -73.8707, -73.99998199999999, -73.88560799999999, -74.000793, -73.99216899999999, -73.86274499999999, -73.874443, -73.99216899999999, -73.970927, -73.970927, -73.97013854980469, -73.8629150390625, -73.8629150390625, -73.87445831298828, -73.8730239868164, -73.87449645996094, -73.87449645996094, -73.97245788574219, -73.8629150390625, -73.8629150390625, -73.86616, -73.89690999999999, -73.862695, -73.776712, -73.960076, -73.77696990966797, -73.996936, -73.991887, -74.01793, -73.87303, -73.974808, -73.947085, -73.975025, -73.98175048828125, -73.788952, -73.983435, -73.7894, -73.788952, -74.003575, -73.78184, -73.98388671875, -73.789895, -73.874625, -73.89690999999999, -73.968345, -73.993325, -73.993325, -73.781867, -73.990207, -73.96563, -74.003575, -73.788762, -73.86319732666016, -73.86616, -73.968202, -73.99675750732422, -74.0006, -74.00867, -73.98529052734375, -73.865352, -73.863263, -73.863197, -73.86291700000001, -73.865505, -73.99168, -73.98599, -73.862848, -73.862877, -73.862647, -73.77667199999999, -73.99175799999999, -73.87078699999999, -73.99136800000001, -73.845828, -73.86275699999999, -73.78217, -73.862652, -73.984852, -73.88525, -73.87306099999999, -73.865702, -73.986402, -73.975289, -73.87442779541016, -74.00025177001953, -73.974757, -73.975289, -73.885343, -73.885238, -73.86359405517578, -73.863063, -73.862782, -73.863297, -73.989767, -73.86386999999999, -73.86298370361328, -73.97023, -73.980361, -73.971563, -73.96947800000001, -73.99193199999999, -73.874937, -73.97715, -73.862905, -73.974757, -73.957038, -73.98146700000001, -73.980361, -73.8709, -73.992812, -73.988677, -73.864062, -73.971563, -73.96585999999999, -73.99057006835938, -73.96573199999999, -73.975289, -73.984443, -73.870793, -73.975289, -73.8730697631836, -73.98682, -73.8706, -73.8709, -73.863665, -73.974502, -73.97807399999999, -73.97234, -73.870537, -73.870738, -73.984915, -73.87450799999999, -73.87115, -74.006162, -73.864142, -73.969828, -73.88530300000001, -73.88530300000001, -73.870932, -73.862672, -73.87478, -73.95718199999999, -73.98449000000001, -74.006208, -73.874441, -74.006208, -73.862572, -73.97949, -73.97249603271484, -73.88526916503906, -73.97625732421875, -73.97278594970703, -73.97278594970703, -73.87085723876953, -73.99005889892578, -73.97554016113281, -73.98307700000001, -73.87111999999999, -74.00702700000001, -74.000338, -73.873076, -73.776645, -73.802697, -74.008222, -73.86365, -73.95160200000001, -73.86399200000001, -73.984877, -73.864106, -73.788288, -73.987248, -73.980852, -73.872786, -74.00702700000001, -73.862685, -73.989593, -74.00702700000001, -73.95061199999999, -73.981425, -73.87149699999999, -73.98898299999999, -73.981532, -73.786833, -74.01028442382812, -73.7767333984375, -73.782002, -73.781868, -73.863952, -73.98307700000001, -73.972892, -73.7767333984375, -73.862827, -73.86295, -73.98898299999999, -73.862687, -74.01364000000001, -73.981532, -73.984877, -73.78936800000001, -73.776832, -73.93192291259766, -73.972481, -73.98214, -73.86556, -73.790617, -73.948737, -73.9874038696289, -73.863484, -73.873002, -73.802697, -73.948402, -73.874487, -73.95660600000001, -73.97279357910156, -73.865463, -73.872916, -73.778687, -73.78191, -73.866271, -74.004933, -73.976452, -73.977325, -73.86354, -73.975258, -73.874577, -73.9909896850586, -73.862845, -73.98317, -74.00274499999999, -73.997635, -73.87267299999999, -73.969563, -73.980777, -73.87271700000001, -73.87070200000001, -73.87267299999999, -73.97674599999999, -73.873052, -73.982068, -73.863285, -73.96607, -73.978026, -73.865876, -73.97858199999999, -73.87093399999999, -73.971767, -73.969739, -73.866637, -73.986242, -73.86405500000001, -73.874659, -73.982068, -73.846322, -73.98959350585938, -73.97912099999999, -73.872948, -73.980385, -73.987175, -73.98892974853516, -73.977325, -73.988987, -73.871072, -73.973795, -73.990002, -73.86405500000001, -73.978026, -73.87279510498047, -73.97674599999999, -73.872948, -73.975258, -73.885447, -73.953307, -73.86283900000001, -73.973795, -73.862866, -73.991261, -73.874625, -73.8681, -73.96064, -73.95562199999999, -73.863857, -73.862858, -73.994618, -73.865801, -73.994675, -73.862858, -73.863857, -73.875279, -73.874705, -73.863857, -73.956523, -73.862858, -73.87081500000001, -73.981015, -73.976917, -73.873165, -73.956523, -73.862845, -73.865555, -73.86190699999999, -73.86274, -73.874466, -73.86274, -73.952012, -73.806543, -73.86274, -73.870862, -73.806543, -73.977287, -73.872043, -73.875008, -73.885305, -73.979439, -73.781463, -73.864052, -73.872957, -73.988628, -73.991863, -73.994202, -73.98969699999999, -73.99085, -73.864052, -73.99760699999999, -73.7905, -73.781097, -73.982258, -73.789852, -73.982975, -73.862835, -73.783325, -73.789852, -73.781097, -73.97859100000001, -74.015502, -73.8635482788086, -73.9752426147461, -73.87306213378906, -73.95122528076172, -73.98282623291016, -73.97322845458984, -73.86333465576172, -73.86367797851562, -73.783716, -73.970786, -73.785798, -73.78360699999999, -73.78360699999999, -73.77672576904297, -74.00806999999999, -73.937962, -73.863026, -74.00425, -73.968062, -73.979715, -74.004257, -73.77672576904297, -73.829755, -74.012976, -73.871413, -73.98230699999999, -73.776666, -73.98202514648438, -73.781963, -74.00425, -73.78357696533203, -74.011975, -74.00425, -73.78611, -73.870537, -73.87284851074219, -73.787874, -73.948472, -73.781878, -73.87096, -73.97893499999999, -73.78360699999999, -73.863026, -73.992566, -73.871413, -73.782087, -74.008583, -73.86271500000001, -73.98230699999999, -73.862713, -74.006998, -74.004109, -73.98956700000001, -73.87084200000001, -74.004109, -73.989203, -73.862773, -73.870852, -73.874408, -73.865123, -73.870929, -73.994488, -73.961427, -73.985445, -73.99566650390625, -73.98629, -73.873068, -73.87097930908203, -73.987525, -74.005611, -73.95634, -73.937872, -73.98899300000001, -73.86614499999999, -73.983223, -73.86370500000001, -73.87092700000001, -73.989937, -73.98483, -73.98483, -73.862913, -73.863252, -73.87075, -73.87097930908203, -73.874972, -73.865785, -73.86285, -73.98491, -73.965651, -73.97143, -73.972697, -73.969042, -73.867067, -73.87311553955078, -73.86595, -73.873294, -73.9724, -73.985922, -73.86370500000001, -73.974918, -73.986672, -73.97229, -73.86370500000001, -73.862905, -73.97786500000001, -73.98491, -73.863117, -73.98094499999999, -73.991452, -73.98491, -73.9735336303711, -73.98094499999999, -73.870992, -73.961427, -73.870929, -73.974918, -73.862822, -73.863557, -73.87307, -73.8627, -73.9966049194336, -73.98094499999999, -73.87439499999999, -73.981592, -73.865537, -73.966775, -73.870987, -73.99614, -73.966775, -73.981592, -73.871185, -73.956198, -73.98953, -73.87299499999999, -73.77664399999999, -74.003745, -73.9786, -73.87299499999999, -73.870987, -73.871185, -73.966775, -73.971013, -73.993225, -73.992127, -73.982437, -73.990267, -73.87299200000001, -73.979419, -73.966741, -74.006943, -74.004696, -73.87097800000001, -73.872922, -73.871238, -73.871238, -73.885373, -73.990267, -73.86607, -73.982437, -74.00125899999999, -74.005235, -74.00506999999999, -73.949363, -73.99290699999999, -73.87106, -73.87445831298828, -73.87444305419922, -73.86381530761719, -73.9788589477539, -73.87454223632812, -73.976232, -73.93316300000001, -73.954502, -73.994732, -73.864848, -73.865264, -73.99290400000001, -73.77668800000001, -73.862785, -73.873077, -74.007562, -73.77671, -73.78437199999999, -73.957299, -73.97838, -73.972327, -73.98319000000001, -74.00529399999999, -73.86278399999999, -73.77668762207031, -74.005235, -73.87451, -73.971998, -73.84254, -73.954502, -73.97750854492188, -73.789725, -73.78437199999999, -74.00202941894531, -73.78925699999999, -73.970927, -73.96263885498047, -73.872927, -73.98361700000001, -73.980568, -73.862889, -73.862895, -73.86275, -73.992935, -73.97519799999999, -73.862785, -73.989362, -73.992935, -73.870972, -73.86314300000001, -73.992072, -73.872977, -73.86269200000001, -73.8707504272461, -74.002973, -73.971936, -73.9845, -73.95301818847656, -74.00378, -73.982098, -73.98542022705078, -73.95301818847656, -73.87315500000001, -73.989488, -73.871025, -73.862837, -73.86554, -73.86268000000001, -73.98660500000001, -73.870673, -73.96846, -73.874687, -73.87455749511719, -73.865204, -73.96846, -73.873172, -73.870841, -73.867531, -73.863858, -73.968308, -73.86554, -73.86554, -73.871025, -74.00378, -73.87454986572266, -73.862905, -73.865945, -74.00378, -73.86554, -73.874404, -73.87315500000001, -73.869377, -73.992281, -73.96993499999999, -73.982098, -73.874525, -73.98217700000001, -73.86386, -73.973453, -73.95301818847656, -73.873052, -73.97400665283203, -73.967912, -73.863137, -73.86366271972656, -73.95495799999999, -73.862701, -74.002973, -73.985872, -73.874612, -73.86338, -73.862685, -73.973413, -73.98942, -73.86418, -73.985334, -73.872878, -73.972595, -74.015958, -73.86283399999999, -73.952887, -73.871158, -73.866235, -73.872238, -73.862773, -73.862685, -73.78348299999999, -73.97369499999999, -73.862858, -73.986052, -73.998013, -73.985703, -73.992385, -73.998013, -73.885182, -73.985334, -73.971202, -73.959012, -73.98903299999999, -73.959012, -73.885267, -73.87302, -73.86496, -73.87474, -74.007875, -73.999922, -73.959012, -73.88525600000001, -73.959188, -73.86553, -73.862685, -73.87456, -73.98084200000001, -73.98903299999999, -73.981937, -73.791105, -73.98703, -73.98703, -73.984677, -73.875077, -73.98599300000001, -73.86279499999999, -73.983058, -73.871577, -73.999481, -74.005606, -73.862999, -73.960537, -73.871577, -73.86695999999999, -74.005606, -73.862697, -73.862697, -73.862697, -73.9781494140625, -73.86306762695312, -73.9879379272461, -73.86282348632812, -73.9720458984375, -73.991197, -73.931242, -73.929861, -73.776637, -73.776335, -73.98727, -74.00461899999999, -73.885357, -73.937943, -73.78184509277344, -73.998824, -73.993749, -73.98647199999999, -73.982331, -73.9611587524414, -73.997974, -73.976917, -73.97952270507812, -73.968192, -73.982123, -73.776775, -73.96604, -73.862555, -73.97952270507812, -73.980795, -73.96604, -73.97618103027344, -73.98325799999999, -73.98325799999999, -73.929861, -73.98727, -73.980795, -73.866287, -73.96659, -73.976917, -73.991287, -73.78922, -73.986642, -73.78189849853516, -73.86269399999999, -73.862779, -73.874578, -73.862812, -73.929861, -74.01567840576172, -73.986642, -73.95849799999999, -74.000067, -73.789069, -73.9767, -73.788168, -73.86409, -73.98559, -73.874595, -73.777, -73.962311, -73.991785, -73.994587, -73.862787, -73.873008, -73.98635999999999, -73.978655, -73.87090500000001, -73.991785, -73.777, -73.996042, -74.008619, -73.874548, -73.977452, -73.862787, -73.875075, -74.008637, -73.996042, -73.990482, -73.86656500000001, -73.872957, -73.776802, -73.872862, -73.77669499999999, -74.01004499999999, -73.996042, -73.990482, -73.910327, -73.862664, -73.872582, -74.005808, -73.874412, -73.970556, -73.87501, -73.97293499999999, -73.973577, -73.986577, -73.87467956542969, -73.990162, -73.86593, -73.862933, -73.874473, -73.86593, -73.962878, -73.98665, -73.965916, -73.87096, -73.97618299999999, -73.874471, -73.87090699999999, -73.993658, -73.873307, -73.873186, -73.96654699999999, -73.870673, -73.974809, -73.863752, -73.862945, -73.976688, -73.990162, -73.873186, -73.87501, -73.974809, -73.874412, -73.862627, -73.86529399999999, -73.973229, -73.862853, -73.86317700000001, -73.989212, -73.862833, -73.86317700000001, -73.975121, -73.862627, -73.984657, -73.86273956298828, -73.88521899999999, -73.993667, -73.862627, -73.970907, -73.97284499999999, -73.872777, -73.863428, -73.863428, -73.973732, -73.866226, -73.862703, -73.977422, -73.862706, -73.862706, -73.873026, -73.97241, -73.873026, -73.872777, -73.990792, -73.870901, -73.86327800000001, -73.987075, -73.986195, -73.986195, -73.986195, -73.864962, -73.874546, -73.870953, -73.863405, -73.87225699999999, -73.863405, -73.874494, -73.874502, -73.87225699999999, -73.86240699999999, -73.874494, -73.870953, -73.86240699999999, -74.00203, -73.88524699999999, -73.968558, -74.003662109375, -73.96048736572266, -73.96258544921875, -73.8633041381836, -73.96790313720703, -73.8633041381836, -73.87447357177734, -73.86353000000001, -73.991472, -73.865652, -73.872984, -73.95668, -74.00511999999999, -73.991784, -73.783301, -73.990935, -73.862972, -73.77680969238281, -73.88573199999999, -73.865605, -73.776803, -73.870932, -73.782876, -73.98228399999999, -74.008245, -73.97456, -73.97959899902344, -73.872937, -73.997387, -73.98275600000001, -73.87252044677734, -73.783428, -73.874595, -73.872863, -73.98315, -73.987189, -73.961087, -73.783428, -73.994077, -73.995673, -73.984888, -73.783428, -73.781867, -73.983005, -73.99303, -74.00511999999999, -73.870714, -73.950985, -73.78378295898438, -73.776652, -74.01533, -74.006996, -73.99776800000001, -73.975796, -73.977651, -73.988077, -73.99053192138672, -73.78876, -73.864565, -73.97766700000001, -73.98366700000001, -73.790205, -73.86336999999999, -73.97456, -73.997387, -73.782327, -73.981747, -73.865605, -73.950985, -73.81712399999999, -73.99488199999999, -73.98483, -73.981747, -73.776775, -73.98228399999999, -73.95668, -74.007114, -73.873118, -73.984838, -73.863186, -73.78378295898438, -73.98729, -73.975796, -73.984033, -73.962203, -73.989784, -73.862858, -74.007114, -73.98925, -73.791452, -73.99944, -73.99303, -73.87520500000001, -73.99079300000001, -73.973662, -73.982443, -73.874507, -73.867417, -73.977397, -73.872925, -73.980313, -73.863155, -73.863265, -73.862803, -73.977397, -73.9783935546875, -73.866505, -73.867417, -73.959731, -73.8709487915039, -73.970638, -73.979495, -73.867417, -73.96921800000001, -73.960157, -73.86283, -73.86264200000001, -73.86377399999999, -73.954009, -73.959731, -73.982936, -73.960157, -73.873081, -73.867417, -73.99079300000001, -73.86324310302734, -73.978762, -73.966938, -73.979552, -73.788617, -73.97647094726562, -73.97958299999999, -73.88583, -73.874553, -73.97958299999999, -73.863155, -73.87449000000001, -73.86367797851562, -73.984965, -73.992266, -73.98109699999999, -73.874505, -73.982612, -73.874593, -73.870829, -73.970638, -73.862803, -73.970638, -73.86256, -73.982936, -73.97468, -73.874865, -73.96439699999999, -73.9913558959961, -73.870672, -73.863512, -73.983653, -73.863242, -73.86298199999999, -73.973079, -73.982807, -73.973079, -73.86287800000001, -73.886085, -73.870574, -73.984206, -73.984468, -73.874713, -73.87308, -73.98580799999999, -73.98580799999999, -73.965825, -74.009588, -73.99906800000001, -73.872029, -73.99323000000001, -73.964668, -73.87455, -73.776697, -73.992168, -73.862815, -73.78815, -73.864882, -73.870588, -73.872968, -73.871247, -73.776697, -73.978697, -73.948109, -73.98194000000001, -73.997793, -73.785715, -73.978697, -73.9492, -73.989053, -73.872968, -73.872968, -73.86314, -74.000553, -73.863174, -73.87302, -73.978448, -73.986312, -73.98615699999999, -73.865765, -73.923932, -73.989532, -73.948109, -73.863918, -73.865765, -73.989532, -73.865765, -73.78636800000001, -73.976733, -73.989613, -73.948109, -74.014585, -74.00751600000001, -73.97330474853516, -73.86273193359375, -73.98607635498047, -73.97899627685547, -73.86360931396484, -73.870849609375, -74.00405699999999, -73.9645, -73.864642, -73.982613, -73.77685546875, -74.006058, -73.865466, -73.9645, -73.96554565429688, -73.86273193359375, -74.006058, -73.986405, -74.00573, -73.986276, -73.966972, -73.97270999999999, -73.99226, -73.97270999999999, -73.87289200000001, -73.983863, -73.86284637451172, -73.972161, -73.98278045654297, -73.874569, -73.872626, -73.885318, -73.79052734375, -73.88526, -73.979665, -73.99226, -73.783632, -73.973292, -73.863035, -73.954645, -73.994917, -74.00924682617188, -73.959085, -73.86283874511719, -74.006058, -73.781812, -73.920344, -73.86601999999999, -73.86621, -73.98699188232422, -73.96364200000001, -73.97868199999999, -73.870211, -73.872957, -73.86273193359375, -73.870605, -73.985837, -73.8708724975586, -73.782195, -73.984625, -73.79052734375, -73.97845699999999, -73.995377, -73.86283874511719, -73.9909439086914, -73.86398, -73.94168, -73.95246887207031, -74.00573, -73.87460300000001, -73.98699188232422, -73.99229431152344, -73.86343199999999, -73.870605, -73.94845500000001, -74.006058, -73.870888, -73.783348, -73.863783, -73.781922, -73.865038, -73.87089, -73.95984, -73.979506, -73.86269300000001, -74.010171, -73.862811, -73.88551700000001, -73.863842, -73.868897, -73.868282, -73.979825, -73.874488, -73.863293, -73.990852, -73.990852, -73.87065799999999, -73.874488, -73.872934, -73.99807, -73.987616, -73.978955, -73.985318, -73.97494, -73.862773, -73.873017, -73.87308, -73.874587, -73.970919, -73.972192, -73.863802, -73.870449, -73.86287800000001, -73.874478, -73.8744, -73.873232, -73.98159, -73.863378, -73.95581, -73.969613, -73.86491, -73.874489, -73.979912, -73.973477, -73.984003, -73.96306899999999, -73.987616, -73.86491, -73.981705, -73.96308499999999, -73.97252655029297, -73.87127199999999, -73.873587, -73.874478, -73.86559399999999, -73.86273, -73.961954, -73.863802, -73.866675, -73.776782, -73.874478, -73.87078094482422, -73.984483, -73.982587, -73.992446, -73.872847, -73.98140716552734, -73.862146, -73.973477, -73.973477, -73.871043, -73.97322, -73.863331, -73.981454, -73.964664, -73.952089, -74.000395, -73.865342, -73.87289100000001, -73.984438, -73.862812, -73.86284599999999, -73.994109, -73.983612, -73.972705, -73.862788, -73.863848, -73.873047, -73.971773, -73.972218, -73.97420600000001, -73.87289100000001, -73.973935, -73.872885, -73.87475699999999, -73.86622, -73.87290300000001, -73.783312, -73.988794, -73.995552, -73.865607, -73.96759, -73.874616, -73.829245, -73.78666, -73.854385, -73.86268199999999, -73.870655, -73.874437, -74.00818000000001, -73.945268, -73.862493, -73.978378, -73.916033, -74.014545, -73.86971700000001, -73.862749, -73.862493, -73.876193, -73.872887, -73.997373, -73.862482, -73.872997, -73.871072, -74.006315, -73.978368, -73.975802, -73.86295, -73.870655, -73.985128, -73.874426, -73.862655, -73.988794, -73.870631, -73.977205, -73.995947, -73.87236999999999, -73.994378, -73.975802, -73.981023, -73.98949, -73.98313900000001, -73.872997, -73.98226, -73.874475, -73.783362, -74.006315, -73.863287, -73.99555699999999, -73.87222, -73.811142, -73.87459564208984, -73.9783935546875, -73.98248291015625, -73.9783935546875, -73.87316131591797, -73.9783935546875, -73.88525390625, -73.86272, -73.872877, -73.98285675048828, -73.989775, -73.971808, -73.991962, -73.873127, -73.86277, -73.870763, -73.988763, -73.874278, -73.988331, -73.997575, -73.971808, -73.972882, -74.009799, -73.95429992675781, -73.988331, -73.981689453125, -73.978999, -73.870858, -73.993645, -73.972527, -74.000665, -73.97179412841797, -73.98263549804688, -73.870665, -73.86269, -73.86294555664062, -73.86311500000001, -73.99353599999999, -73.944535, -73.97425, -73.873127, -73.77683499999999, -73.944535, -74.006538, -74.010205, -73.870763, -74.000665, -73.99765014648438, -73.972527, -73.977572, -73.863331, -73.962172, -73.978599, -73.974002, -73.97867584228516, -73.988522, -73.988331, -73.862723, -73.870858, -74.007801, -74.006538, -73.86294555664062, -73.86277, -73.87459564208984, -73.862723, -73.79003143310547, -73.88525390625, -73.956747, -73.982772, -74.002847, -73.981335, -73.9853515625, -73.872877, -73.984034, -73.862492, -73.86269300000001, -73.870655, -73.862838, -73.862739, -73.86495500000001, -73.982442, -73.872845, -73.98068, -73.87294, -73.87316700000001, -73.87448120117188, -73.984032, -73.99735600000001, -73.975858, -73.986767, -73.865585, -73.87062, -73.87445831298828, -73.98698425292969, -73.862895, -73.862617, -73.8708, -73.98516500000001, -73.98516500000001, -73.873032, -73.98516500000001, -73.86492199999999, -73.96655, -73.977292, -73.975858, -73.8708, -73.978167, -73.872961, -73.87445100000001, -73.870584, -73.986767, -73.866217, -73.88532099999999, -73.978872, -73.872941, -73.865585, -73.8853, -73.969015, -73.866217, -73.966605, -73.981677, -73.866297, -73.872941, -73.862842, -73.862895, -73.87480699999999, -73.862741, -73.86273299999999, -73.984662, -73.782013, -73.873082, -73.950985, -73.86586199999999, -73.987277, -73.95055, -73.981262, -73.981262, -73.782013, -73.961058, -73.870886, -73.961058, -73.865502, -73.870947, -73.969597, -73.862758, -73.863056, -73.871117, -73.870962, -73.997732, -73.98915699999999, -73.865502, -73.862903, -73.997732, -73.988788, -73.86408, -73.984031, -73.997182, -73.862735, -73.874448, -73.973789, -73.964679, -73.874448, -73.86586199999999, -73.987277, -73.977744, -73.86408, -73.863038, -73.86586199999999, -73.874488, -73.78232, -73.862725, -73.988825, -73.86324, -73.874415, -73.87082, -73.866422, -73.988302, -73.983839, -73.989248, -73.78994300000001, -73.982047, -73.86273299999999, -73.974365, -73.874577, -73.78185699999999, -73.997732, -73.862725, -73.964679, -73.874448, -73.99781999999999, -73.992716, -73.99781999999999, -73.862741, -73.970712, -73.95944, -73.870435, -73.973923, -73.974975, -73.97879, -73.993453, -73.863252, -73.988835, -73.984822, -73.993278, -73.862596, -73.873131, -73.984572, -73.862687, -73.887303, -73.931317, -73.97670500000001, -73.862717, -73.981453, -73.86274, -73.94911, -73.987383, -73.986147, -73.98508199999999, -73.887303, -73.873163, -73.98213299999999, -73.99316800000001, -73.86295, -73.989081, -73.866463, -73.973225, -73.946148, -73.86328887939453, -73.86358642578125, -73.96977233886719, -73.87447357177734, -73.86302185058594, -73.96678924560547, -73.86302185058594, -73.869642, -74.010977, -73.993158, -73.98512268066406, -74.00128199999999, -73.87320709228516, -73.8730697631836, -73.86270904541016, -73.86581, -73.976188, -73.94767761230469, -73.98233795166016, -73.978179, -73.99255600000001, -73.993796, -73.872625, -73.789664, -73.789735, -73.99031066894531, -73.8730697631836, -73.978305, -73.973275, -73.87069699999999, -73.981728, -73.866112, -73.87069699999999, -74.00128199999999, -73.97210693359375, -73.983007, -74.011495, -73.84405500000001, -73.980818, -73.98897, -73.97203063964844, -73.978595, -73.983942, -73.967552, -73.86489, -73.874376, -73.874412, -73.99159, -73.9682, -74.00500500000001, -73.78382873535156, -73.862736, -73.870958, -73.981728, -73.978307, -73.77653000000001, -73.78199768066406, -74.008214, -73.8730697631836, -73.966639, -73.981953, -73.872999, -73.87073516845703, -73.98828887939453, -73.963092, -73.9984, -73.870806, -73.983168, -73.966639, -73.782604, -73.790054, -73.985635, -73.870777, -73.87453000000001, -73.790278, -73.86571500000001, -73.986142, -73.866427, -73.997148, -73.866427, -73.86290699999999, -73.991127, -73.978247, -73.98242900000001, -73.991127, -73.984779, -73.866427, -73.872872, -73.977937, -73.98745500000001, -73.86365, -73.981134, -73.785942, -73.870855, -73.9739, -73.981134, -73.788597, -73.97538, -73.984779, -73.9812, -73.870987, -73.862712, -73.87084499999999, -73.866427, -73.789433, -73.86312, -73.98242900000001, -73.992448, -73.86290699999999, -73.955247, -73.95872299999999, -73.863132, -73.874412, -73.97389, -73.997148, -73.865167, -73.87097299999999, -73.957809, -73.991854, -73.972065, -73.87298583984375, -73.874785, -73.987177, -73.863381, -73.972666, -73.989163, -73.88539499999999, -73.86318, -73.863381, -73.874572, -73.976727, -73.97381700000001, -73.97878299999999, -73.989163, -73.872513, -73.870932, -73.957925, -73.885163, -73.986861, -73.95535, -73.86318, -73.862617, -73.866915, -73.874976, -73.957809, -73.98933199999999, -73.97086999999999, -73.87297, -73.988762, -73.986882, -73.986882, -73.87456800000001, -73.862822, -73.86339, -73.98194122314453, -73.88539499999999, -73.987177, -73.95028, -73.870922, -73.986861, -73.981925, -73.997252, -73.981437, -73.97989100000001, -73.96864318847656, -73.98585, -73.865493, -73.962158, -73.863454, -73.874512, -73.95914, -73.986882, -73.962597, -73.86345672607422, -73.87315500000001, -73.972564, -73.986797, -73.862865, -73.874447, -73.87291717529297, -73.97088000000001, -73.87291717529297, -73.863322, -73.98883000000001, -73.986797, -73.97126300000001, -73.863675, -73.87453000000001, -73.986797, -73.862865, -73.986797, -73.981427, -73.872963, -73.872688, -73.86367299999999, -73.86213199999999, -73.874687, -73.874578, -73.982137, -73.86528, -73.97892900000001, -73.86292900000001, -73.874578, -73.861513, -73.86367299999999, -73.86292900000001, -73.981707, -73.98775699999999, -73.863488, -73.862765, -73.885257, -73.872688, -74.000509, -73.86213199999999, -73.862748, -73.86528, -73.939802, -73.873012, -73.862678, -73.98966800000001, -73.862625, -73.885279, -73.863162, -73.870892, -73.94951, -73.91096496582031, -73.86335754394531, -73.98957061767578, -73.95381164550781, -73.96987915039062, -73.96987915039062, -73.99754333496094, -73.99173736572266, -73.8631362915039, -74.00270400000001, -73.991845, -73.872951, -73.982412, -73.978587, -73.8637466430664, -73.972852, -73.874705, -73.87079, -73.99574279785156, -73.986456, -73.987872, -73.86300659179688, -73.872951, -73.997293, -73.781982, -73.872695, -73.98536899999999, -73.86309814453125, -74.00544599999999, -73.99024963378906, -73.98207, -73.777125, -73.98791700000001, -73.86289000000001, -73.874705, -73.776707, -73.871173, -73.994137, -73.986728, -73.870849609375, -73.99687194824219, -73.861175, -73.781977, -74.00270400000001, -74.000353, -73.99225799999999, -74.00270400000001, -73.968486, -73.95091500000001, -73.863837, -73.996767, -73.986728, -73.94577199999999, -73.864207, -73.9780502319336, -73.979382, -73.77683499999999, -73.864207, -73.870849609375, -73.790237, -73.788462, -73.873751, -73.98650500000001, -73.9548110961914, -73.87299200000001, -73.863046, -73.99574279785156, -73.790237, -73.99192099999999, -73.985508, -73.968486, -73.970377, -73.87310699999999, -73.968486, -73.9882, -73.872887, -73.862717, -73.972852, -73.86336, -73.863378, -73.78348299999999, -73.86286, -73.874535, -73.940232, -73.994559, -74.002312, -73.990977, -73.97669300000001, -73.873751, -73.98287963867188, -74.00544599999999, -74.00544599999999, -73.964972, -73.983197, -73.94451141357422, -73.78599799999999, -73.98287963867188, -73.98287963867188, -73.97901999999999, -73.862678, -73.97414, -73.986549, -73.972735, -73.77709300000001, -73.982412, -73.979522, -73.970377, -73.975009, -73.992147, -73.96876525878906, -73.978853, -73.873751, -73.978587, -73.99024963378906, -73.975009, -73.986728, -73.98727, -73.99597800000001, -73.874705, -73.871173, -73.98287963867188, -73.97940799999999, -73.865513, -73.8637466430664, -73.991557, -73.87078857421875, -73.970677, -73.97421800000001, -73.87299200000001, -73.872887, -73.949157, -73.861685, -74.0021, -73.975215, -74.001641, -73.862703, -73.976774, -73.982412, -73.86280500000001, -73.863218, -73.862551, -73.86306, -73.872885, -73.96450899999999, -73.97558000000001, -73.86355, -73.87124200000001, -73.864847, -73.874465, -73.87091064453125, -73.991395, -73.87479, -73.97953299999999, -73.86316680908203, -74.007518, -73.98525699999999, -73.98916, -73.95438299999999, -73.87479, -73.992181, -73.874522, -73.87310028076172, -73.87078699999999, -73.86284, -73.86605072021484, -73.980613, -73.866063, -73.86264200000001, -74.008658, -73.862655, -73.87553199999999, -73.97953299999999, -73.966699, -73.963383, -73.885312, -73.94866, -73.873132, -73.874526, -73.870817, -73.96005699999999, -73.980613, -73.864847, -73.870835, -73.864847, -73.8659, -73.863675, -73.874522, -73.87310028076172, -73.88521, -73.863457, -73.86281, -73.8747, -73.97914399999999, -73.87479, -73.966699, -73.874452, -73.87124200000001, -73.981545, -73.873335, -73.87451300000001, -73.862835, -73.986568, -73.8744, -73.866117, -73.950233, -73.950233, -73.885253, -73.873091, -73.87455200000001, -73.95566, -73.885253, -73.873008, -73.98161, -73.874548, -73.87052299999999, -73.874548, -73.9859, -73.975088, -73.97556999999999, -73.862748, -73.981622, -73.874475, -73.874505, -73.861761, -73.885397, -73.86654, -73.985463, -73.9859, -73.984976, -73.978468, -73.986862, -73.87464, -73.86654, -73.986135, -73.862838, -73.862748, -73.88530300000001, -73.88523199999999, -73.971113, -73.993818, -73.985331, -73.985331, -73.983375, -73.782078, -73.993505, -73.870855, -73.862748, -73.782065, -73.982178, -73.98397299999999, -73.975697, -73.998609, -74.01560699999999, -73.776933, -73.981195, -73.98543000000001, -73.870722, -73.98132, -73.86600899999999, -73.998609, -73.78665500000001, -73.95770999999999, -73.870974, -73.9669, -74.00619499999999, -73.872792, -73.871045, -74.007903, -73.959482, -73.862742, -73.86613299999999, -74.017185, -73.946717, -73.972509, -73.96672, -73.978961, -73.781963, -73.865945, -73.863908, -73.86538, -73.86538, -73.98532900000001, -73.87444599999999, -73.982178, -73.98397299999999, -73.88537, -73.99782900000001, -73.983804, -73.98532900000001, -73.998609, -73.863038, -73.952895, -73.975697, -73.99371, -73.98491800000001, -73.78716800000001, -73.86600899999999, -73.944841, -73.871045, -73.953548, -73.870855, -73.987115, -73.998609, -73.870838, -73.953775, -73.974775, -73.97288513183594, -73.86361694335938, -73.86284637451172, -73.87092590332031, -73.95870208740234, -73.8709716796875, -73.97288513183594, -73.9725341796875, -73.98430633544922, -73.87294006347656, -73.98791, -73.963987, -73.96095, -73.873527, -73.87079200000001, -73.98569499999999, -73.98791, -73.781935, -73.86299, -73.989892, -73.975462, -73.98231506347656, -73.975072, -73.98576, -73.981504, -73.87110137939453, -73.874742, -73.99270629882812, -73.866055, -73.96163177490234, -73.983655, -73.987658, -73.874577, -74.004568, -73.885432, -73.863375, -73.78957700000001, -73.87111999999999, -73.781935, -73.789836, -74.00598907470703, -73.98820500000001, -73.977717, -73.960774, -73.983312, -73.919552, -73.991651, -73.98231506347656, -73.982407, -73.96163177490234, -74.00259, -73.992589, -73.97444152832031, -73.98442840576172, -73.865347, -73.994985, -73.885432, -73.91529846191406, -73.98826700000001, -73.87236700000001, -73.86277, -73.992589, -73.87470245361328, -73.885432, -73.966617, -73.872936, -73.98514499999999, -74.00111899999999, -73.996633, -73.988817, -73.78265, -73.981504, -73.989892, -73.986035, -73.97444152832031, -74.00598907470703, -73.87470245361328, -73.99581146240234, -73.954713, -73.995527, -73.87309499999999, -74.002462, -73.983312, -73.96095, -73.87473, -73.87470245361328, -73.97379699999999, -73.86544, -73.86558532714844, -73.862752, -73.87079200000001, -73.98615, -73.87479, -73.885275, -73.870645, -73.863372, -73.973662, -73.981597, -73.975124, -73.850091, -73.974869, -73.997589, -73.862665, -73.987158, -73.975124, -73.872917, -73.981597, -73.973662, -73.9954, -73.87089499999999, -73.989152, -73.87051, -73.982028, -73.863518, -73.862824, -73.982028, -73.989351, -73.98584747314453, -73.870825, -73.870825, -73.973098, -73.863642, -73.874544, -73.95812, -73.885407, -73.95445251464844, -73.862812, -73.873098, -73.866203, -73.96670400000001, -73.97896999999999, -73.95636999999999, -73.86594000000001, -73.972272, -73.870825, -73.86455600000001, -73.869377, -73.985332, -73.97968292236328, -73.873762, -73.8731, -73.972275, -73.86273, -73.95812, -73.97319399999999, -73.981247, -73.995723, -74.005402, -73.8659, -73.97416687011719, -73.999204, -73.968975, -73.97697448730469, -73.87331, -73.96733856201172, -73.99069, -73.873437, -73.973972, -73.862937, -73.872663, -73.87469499999999, -73.988095, -73.87450799999999, -73.988077, -73.987208, -73.98585200000001, -73.874616, -73.978272, -73.869132, -73.984219, -73.873005, -73.885193, -73.873005, -73.86546, -73.869132, -73.958207, -73.96914, -73.994105, -73.911137, -73.874616, -73.87083, -73.86546, -73.873052, -73.978189, -73.993338, -73.970872, -73.87454, -73.95733, -73.873097, -73.776802, -73.78190699999999, -73.873052, -73.976123, -73.98148499999999, -73.862765, -73.87097299999999, -73.874601, -73.960181, -73.97188299999999, -73.976123, -73.978665, -73.988417, -73.9898, -73.874526, -73.872423, -73.955915, -73.776676, -73.978077, -73.86286700000001, -73.776676, -73.864171, -73.78694300000001, -73.981876, -73.970563, -74.00061, -73.988417, -73.862767, -73.970872, -73.862659, -74.00026700000001, -73.98122, -73.985054, -73.862783, -73.982233, -73.78988000000001, -73.98565699999999, -73.98565699999999, -73.86276099999999, -73.990975, -73.981876, -73.993403, -73.862659, -73.78988000000001, -73.86275699999999, -73.98565699999999, -73.983468, -73.872423, -73.977873, -73.980036, -73.96749799999999, -73.790252, -73.862578, -73.989073, -73.862817, -73.870852, -73.790252, -73.989073, -73.865628, -73.952201, -73.874611, -73.782448, -73.982578, -73.862838, -73.98939200000001, -73.862858, -73.982078, -73.97188299999999, -73.98565699999999, -73.993615, -73.979405, -73.874475, -73.874707, -73.86279296875, -73.787997, -73.95915222167969, -73.9734115600586, -73.93151999999999, -73.98879699999999, -73.983575, -73.78710174560547, -73.87301500000001, -73.971769, -74.014572, -74.01524, -73.980853, -73.988918, -73.776802, -74.01656, -73.8851, -73.96839200000001, -73.789139, -73.78322, -73.78192, -73.97664, -73.986588, -73.99629300000001, -74.006625, -73.86295, -73.86521911621094, -73.995811, -73.983496, -73.98657, -73.99874, -74.00621032714844, -73.978638, -74.006185, -73.97856800000001, -74.00294, -73.870913, -73.88528199999999, -74.01411437988281, -73.98214, -73.977747, -73.968929, -74.005635, -73.978638, -74.00527, -73.87259, -73.999061, -74.008053, -73.87100982666016, -73.98214, -74.00110626220703, -73.985778, -73.98231, -73.969555, -74.01491700000001, -74.0113525390625, -74.001628, -73.977747, -73.870885, -73.86295, -73.783992, -73.87519073486328, -73.971769, -73.990661, -73.865662, -73.87307739257812, -73.952425, -73.93431, -74.007312, -73.982925, -74.007312, -73.776905, -73.952425, -73.826978, -73.97154235839844, -73.787997, -73.992915, -73.952742, -73.968766, -73.969555, -73.98879699999999, -73.870995, -73.992915, -73.968766, -74.006635, -73.990893, -73.98740500000001, -73.990893, -73.865145, -73.975974, -73.862943, -73.872218, -73.86274499999999, -73.98740500000001, -73.983665, -73.862943, -73.86281600000001, -74.00036800000001, -73.970314, -73.870789, -73.98658, -73.98921, -73.974086, -73.968462, -73.98565500000001, -73.870789, -73.980531, -73.980531, -74.00036800000001, -73.865698, -73.870688, -73.86569300000001, -73.844308, -73.872927, -73.974388, -73.870889, -73.862934, -73.874478, -73.947737, -73.865137, -73.865137, -73.862725, -73.862725, -73.87306600000001, -73.873037, -73.87291717529297, -73.87364000000001, -73.87447900000001, -73.96214, -73.87069702148438, -73.985093, -73.95904, -73.98352, -73.95914300000001, -73.949485, -73.8746337890625, -73.949537, -73.98225699999999, -73.873042, -73.997862, -73.97445, -73.975133, -73.947291, -73.991653, -73.873042, -73.961162, -73.975133, -73.972358, -73.97314, -74.0001, -73.872985, -73.97111, -73.872975, -73.985301, -73.872851, -73.870809, -73.873042, -73.873037, -73.873037, -73.95715, -73.8746337890625, -73.88554, -73.872457, -73.874462, -73.984936, -73.957788, -73.957788, -73.87299300000001, -73.984936, -73.87364000000001, -73.885127, -73.87074, -73.99815368652344, -73.97111, -73.984936, -73.874527, -73.874442, -73.972487, -73.98617, -73.971041, -73.875007, -73.98352, -73.949927, -73.789177, -73.875062, -74.016285, -73.988228, -74.00068399999999, -73.90723, -73.988378, -73.862714, -73.959407, -73.87281, -73.86272199999999, -73.863387, -74.00240600000001, -73.87111800000001, -73.862687, -73.87080999999999, -74.00124699999999, -74.001858, -73.87271199999999, -73.979125, -73.98824300000001, -73.99573000000001, -73.870985, -74.011107, -74.00475300000001, -74.00124699999999, -73.777592, -73.98955699999999, -73.874933, -74.004902, -73.98599, -73.98568900000001, -73.993718, -73.77680500000001, -73.968246, -73.994858, -73.982437, -73.870808, -73.885542, -73.98092199999999, -73.870727, -73.870762, -73.99573000000001, -73.862714, -73.87371999999999, -73.9813, -73.873041, -73.996084, -73.86540699999999, -73.79454100000001, -73.862954, -73.982912, -74.00068399999999, -73.862941, -73.97797800000001, -73.98921800000001, -73.986879, -73.869238, -73.993718, -73.98150799999999, -73.87084, -73.833718, -73.98599, -73.978562, -73.87371999999999, -73.86558000000001, -73.87305, -74.002483, -73.874432, -73.787072, -73.86277199999999, -73.99045699999999, -73.86277199999999, -73.97420799999999, -73.862643, -73.97880500000001, -73.872922, -73.862549, -73.980323, -73.979381, -73.88539300000001, -73.862549, -73.87295, -74.003949, -74.006075, -73.87295, -73.96871, -74.00245600000001, -73.872073, -73.97485, -73.96871, -73.999042, -73.865433, -73.981838, -73.97244, -73.869843, -73.87455200000001, -73.873025, -73.863385, -73.985563, -73.86372800000001, -73.980221, -73.991057, -73.97842800000001, -73.87288000000001, -73.97883, -73.99268000000001, -74.00653100000001, -73.97623, -73.88572692871094, -73.87088012695312, -73.97159576416016, -73.87088012695312, -73.86266326904297, -73.9559555053711, -73.8709487915039, -73.873023, -73.95486700000001, -73.978412, -73.98054504394531, -73.979957, -73.99183000000001, -73.983602, -73.96243199999999, -74.00065500000001, -73.94998199999999, -73.78338623046875, -73.985348, -73.95619, -73.98469200000001, -74.01026153564453, -73.95486700000001, -73.97579, -73.987838, -73.98804200000001, -73.87081500000001, -73.873041, -74.01061700000001, -73.953346, -73.98577880859375, -73.98193, -73.978412, -74.006952, -73.991227, -73.98446, -74.007777, -73.977427, -73.785652, -73.98193, -73.87088775634766, -73.87303299999999, -73.992727, -73.875987, -73.99178314208984, -73.873455, -73.98336791992188, -73.966847, -73.954234, -73.87088775634766, -73.97255200000001, -73.986972, -73.93647299999999, -73.971907, -73.976597, -73.992727, -73.777245, -74.00229200000001, -73.992985, -73.981703, -73.873041, -73.875987, -73.98245, -73.99930572509766, -73.91919708251953, -74.013625, -73.981206, -73.87118530273438, -74.000598, -73.866436, -73.973658, -73.873041, -74.00846862792969, -73.972083, -74.000086, -73.86374, -73.97255200000001, -73.98363499999999, -74.006952, -73.981703, -74.001953125, -73.957892, -73.972157, -73.985447, -73.776702, -73.98242900000001, -73.873068, -73.98576800000001, -73.870931, -73.779987, -73.99851, -73.87031999999999, -73.872895, -73.872905, -73.86729, -73.862773, -73.988332, -73.994727, -73.985873, -73.988012, -73.988332, -73.8731, -73.987218, -73.873068, -73.97583900000001, -73.862752, -73.872905, -73.956585, -73.979122, -73.983425, -73.844207, -73.95573, -73.975625, -73.885363, -73.8744, -73.86357199999999, -73.95365100000001, -73.988302, -74.0177, -73.862894, -73.776896, -73.862664, -73.862702, -73.873097, -73.96956999999999, -73.86272, -73.874342, -73.962386, -73.98038199999999, -73.87302199999999, -73.789268, -73.862773, -73.97707199999999, -73.994618, -73.974517, -73.99831999999999, -73.95675200000001, -73.87087, -73.871257, -73.870868, -73.979122, -73.76809, -73.99140200000001, -73.975655, -73.95675200000001, -73.998072, -73.872895, -73.92020699999999, -73.86445, -73.995897, -73.995297, -73.980998, -73.86561999999999, -73.88529799999999, -73.98784, -73.993208, -73.865892, -73.788914, -73.783237, -73.982437, -73.872905, -73.87246, -73.910015, -73.873006, -73.862988, -73.86445, -73.92490699999999, -73.862794, -73.776736, -73.86561999999999, -73.862822, -73.87093, -73.870752, -73.866415, -73.885362, -73.871147, -73.95133, -73.885362, -73.885285, -73.86601, -73.874574, -73.95689300000001, -73.86281, -73.991462, -73.86527, -73.96826999999999, -73.864988, -73.864988, -73.978115, -73.97358703613281, -73.97113900000001, -73.873127, -73.874606, -73.86295, -73.97358703613281, -73.87294006347656, -73.955261, -73.87093, -73.992471, -73.87446, -73.97013000000001, -73.87079200000001, -73.885292, -73.977213, -73.918065, -73.86527, -73.912288, -73.866017, -73.874465, -73.86601, -73.981052, -73.873077, -73.977379, -73.96050799999999, -73.863309, -73.982203, -73.874127, -73.958816, -73.874127, -73.874575, -73.868927, -73.863226, -73.979351, -73.98395699999999, -73.977225, -73.984934, -73.982016, -73.870511, -73.975565, -73.985697, -73.872475, -73.87338299999999, -73.98214499999999, -73.87443499999999, -73.872475, -73.863077, -73.87280799999999, -73.862874, -73.872828, -73.972981, -73.885315, -73.975565, -73.867623, -73.863077, -73.86546700000001, -73.978911, -73.8729, -73.870511, -73.863827, -73.872828, -73.97598, -73.98395699999999, -73.992277, -73.863517, -73.86515, -73.862887, -73.96128, -73.98539, -73.862887, -73.873918, -73.862684, -73.992234, -73.862887, -73.991528, -73.97000600000001, -73.991528, -73.874515, -73.87077331542969, -73.97486114501953, -73.87454986572266, -73.98056030273438, -73.987117, -73.86283, -73.948538, -74.0001220703125, -73.98281860351562, -73.99596, -73.993605, -73.866237, -74.0001220703125, -73.873085, -73.99701999999999, -73.99979499999999, -73.885233, -74.003147, -73.983195, -74.00531768798828, -73.984544, -74.00241700000001, -73.981237, -73.990338, -73.86363, -73.95437700000001, -73.87447, -73.97546700000001, -73.87449000000001, -73.86469699999999, -73.865985, -74.005487, -73.922814, -73.988725, -73.943904, -73.977362, -73.98107399999999, -73.788812, -73.86369599999999, -73.973743, -73.96791999999999, -73.871052, -73.98281860351562, -73.984732, -73.87078699999999, -73.86644, -73.865656, -73.977362, -73.97748299999999, -74.00430300000001, -73.989388, -74.004172, -73.973743, -73.982229, -73.871185, -73.978635, -74.011503, -73.99067600000001, -73.9872, -73.979952, -74.011503, -73.987702, -73.954064, -73.9827880859375, -74.007077, -73.863182, -73.87093, -73.993664, -73.870738, -74.01603698730469, -73.871022, -73.995313, -73.980749, -73.98260400000001, -73.885237, -73.995537, -73.972387, -73.983242, -73.9941177368164, -73.87093, -73.977593, -73.972993, -73.78241700000001, -73.87078699999999, -73.954397, -73.865985, -73.97663116455078, -73.98539, -73.987842, -73.99701999999999, -74.004927, -73.892585, -73.866237, -73.830527, -74.01603698730469, -73.862016, -73.87093, -73.98273468017578, -73.99417877197266, -73.79039764404297, -74.00554656982422, -73.982003, -74.000238, -73.982612, -73.95764, -73.993483, -73.870738, -74.001935, -73.992671, -73.885467, -73.86273800000001, -73.99285, -73.99183654785156, -73.9829330444336, -73.974763, -73.954064, -73.865656, -73.892585, -73.992367, -73.972993, -73.978752, -73.7767333984375, -73.99304962158203, -73.871052, -73.973913, -73.862975, -73.99979499999999, -73.9564437866211, -73.99183654785156, -74.004172, -73.99067600000001, -73.977499, -73.865985, -73.86610999999999, -73.98680877685547, -73.86261749267578, -73.98756408691406, -73.995515, -73.977362, -73.96555500000001, -73.974763, -73.987117, -73.981237, -74.00630799999999, -73.872787, -73.78189300000001, -73.993605, -73.98915, -73.967713, -74.001935, -73.955377, -73.781898, -73.95581800000001, -73.87091, -73.987842, -73.960685, -73.98961, -73.874558, -73.872969, -73.874939, -73.982003, -73.871002, -74.00630799999999, -73.999567, -73.96634300000001, -73.9862, -73.943904, -73.87100500000001, -73.948357, -73.865656, -74.008037, -73.980609, -73.988725, -73.97291700000001, -73.865985, -73.98390500000001, -73.863445, -73.982624, -73.865165, -73.86630799999999, -73.87514200000001, -73.95224499999999, -73.87297821044922, -74.010166, -73.95150600000001, -73.870985, -73.953801, -73.873008, -73.96181800000001, -73.88549300000001, -73.87479, -73.95750600000001, -73.960432, -73.8731, -73.87297821044922, -73.973616, -73.862375, -73.98758000000001, -73.86570739746094, -73.874595, -73.94565899999999, -73.958504, -73.863887, -73.872969, -73.87297821044922, -73.87065, -73.87439, -73.95448303222656, -73.97670500000001, -73.967545, -73.973616, -73.86570739746094, -73.97841, -73.982297, -73.863017, -73.875012, -73.953862, -73.95190699999999, -73.86620500000001, -73.87291, -73.97364499999999, -73.874943, -73.874943, -73.972665, -73.97364499999999, -73.972831, -73.931872, -74.00088000000001, -73.862859, -73.97630500000001, -73.86565999999999, -73.872074, -73.97833, -73.885359, -73.865495, -73.976272, -73.865495, -73.86511800000001, -73.981697, -73.86261, -73.998083, -73.989797, -73.871438, -74.00355, -73.873025, -73.985732, -73.972798, -73.998083, -73.86269200000001, -73.95711700000001, -73.9712, -73.987953, -73.977328, -73.862719, -73.87098, -73.87448499999999, -73.873212, -73.99149399999999, -73.975607, -73.863043, -73.970045, -73.984055, -74.004852, -73.86497, -74.000546, -73.974758, -73.870671, -73.987364, -73.987364, -73.974758, -73.881365, -73.98339200000001, -73.788832, -73.978948, -73.9854, -74.002676, -73.971967, -73.992358, -73.974321, -73.873044, -73.7819, -73.985068, -73.926937, -73.78876, -73.988523, -74.005926, -73.77669200000001, -73.962585, -73.996998, -73.980135, -73.97362700000001, -74.016765, -73.862796, -73.978948, -73.86273299999999, -74.00421300000001, -73.980789, -73.86286, -73.966972, -73.986076, -73.962585, -73.9806, -73.983582, -74.005623, -73.86286, -73.862873, -73.982763, -73.862778, -73.981155, -73.97908000000001, -73.874679, -73.87109, -73.998947, -73.97829300000001, -73.872988, -74.003958, -73.970049, -73.982229, -73.98728, -73.973828, -74.00474399999999, -73.984894, -73.86507399999999, -73.978791, -73.99238000000001, -74.009268, -73.974585, -73.971967, -73.991625, -73.997328, -73.870727, -73.86446600000001, -74.01078000000001, -73.978188, -73.994135, -73.93779599999999, -73.873044, -73.99436700000001, -73.972112, -73.873, -73.870968, -73.976848, -73.7819, -73.865478, -74.00417, -73.985362, -73.862963, -73.98507, -73.966972, -73.783487, -74.00417, -73.97829300000001, -73.926937, -73.97908000000001, -73.987213, -73.862796, -73.976312, -73.865797, -73.99238000000001, -73.87305450439453, -73.97407531738281, -73.87305450439453, -74.000867, -73.99153137207031, -73.986587, -73.86354200000001, -74.002215, -74.0070571899414, -74.002597, -73.86260223388672, -73.805725, -74.006304, -73.928712, -74.002597, -73.99701800000001, -73.978278, -73.885378, -73.99313000000001, -73.805725, -74.0000991821289, -73.95698, -73.963452, -73.868865, -73.98567, -73.99853399999999, -73.874592, -73.96353912353516, -74.0147, -73.998755, -73.990504, -73.955327, -74.015303, -73.86474, -73.978278, -73.875194, -73.86369599999999, -73.98184, -73.991232, -73.983317, -73.997485, -73.99969499999999, -73.994959, -73.95838, -73.995812, -73.99239, -73.954498, -73.994563, -73.87281, -74.016458, -73.95886, -73.988225, -74.014325, -73.98588562011719, -74.001077, -73.99665069580078, -73.9796371459961, -73.988341, -73.98309326171875, -73.987043, -73.970614, -74.0000991821289, -73.97248499999999, -74.002, -74.009297, -73.9796371459961, -73.95720672607422, -73.979807, -73.970715, -73.976599, -73.98885, -73.995922, -74.005607, -73.97944, -73.997485, -73.95596, -73.78925100000001, -73.87084197998047, -73.97732543945312, -73.87069702148438, -74.002983, -73.872665, -73.955327, -74.010015, -73.863282, -73.98836700000001, -73.948752, -73.776787, -73.995922, -73.95720672607422, -74.009297, -73.985886, -73.948548, -73.866097, -73.950678, -74.01473999023438, -73.95836, -74.016458, -73.99701800000001, -73.986587, -73.870932, -73.863282, -73.96607971191406, -73.870372, -73.873362, -73.77696228027344, -73.949404, -73.874535, -73.976198, -73.872178, -73.87298299999999, -73.862877, -73.87097, -73.982383, -73.97782, -73.98626999999999, -73.862845, -73.872022, -73.863098, -73.979505, -73.98060699999999, -73.873127, -74.003002, -73.977363, -73.9706, -73.872998, -73.998163, -73.862763, -73.979505, -73.86402700000001, -73.976198, -73.981806, -73.981806, -73.978523, -73.87463100000001, -74.005957, -73.872232, -73.873127, -73.868887, -73.96511, -73.87298299999999, -74.005957, -73.953057, -73.885308, -73.874418, -73.862824, -73.98720300000001, -73.885308, -73.862811, -73.98720300000001, -73.98782800000001, -73.95826, -73.8736801147461, -73.862782, -73.95826, -73.87454986572266, -73.863558, -73.97726440429688, -73.923153, -73.86280500000001, -73.87301, -73.87094300000001, -73.99113, -73.87070200000001, -73.866099, -73.88529, -73.950855, -73.9926, -73.986205, -73.862946, -73.976613, -73.87404000000001, -73.874452, -73.8736801147461, -73.862945, -73.87252044677734, -73.95826, -73.872877, -73.978572, -73.950855, -73.996555, -73.951818, -73.95423199999999, -73.951818, -73.87091064453125, -73.870885, -73.997518, -74.000548, -73.983851, -73.863332, -73.870885, -73.981488, -73.863158, -73.993219, -73.870699, -73.974264, -73.96464499999999, -73.983645, -73.991375, -73.987223, -73.78360699999999, -73.86278, -74.00064, -73.870948, -74.000377, -74.005655, -73.863716, -73.976101, -73.86541, -73.862895, -73.988833, -73.97381700000001, -73.957798, -73.98504, -73.862937, -74.013755, -73.959261, -74.008063, -73.848124, -73.788637, -73.970124, -73.87295, -73.977988, -73.983665, -73.874672, -73.862959, -73.98163199999999, -73.788637, -73.979725, -74.001232, -74.01224300000001, -74.013755, -73.961017, -73.970412, -73.862967, -73.981122, -73.864889, -73.982151, -73.862937, -73.995115, -73.988762, -73.872489, -73.777125, -73.977303, -73.862767, -73.991111, -74.008302, -73.86356500000001, -73.863833, -73.988833, -73.862768, -73.789785, -73.874672, -73.862937, -73.84805, -74.006733, -73.874868, -73.979467, -73.786588, -73.863467, -73.873398, -73.869242, -73.978897, -73.79046600000001, -73.872483, -73.866085, -73.86541, -73.99410300000001, -73.97885500000001, -74.005655, -73.777125, -73.991375, -73.776875, -73.98702, -73.985733, -73.995488, -73.99120500000001, -73.87287099999999, -73.98510999999999, -73.870958, -73.99499200000001, -73.977976, -73.870735, -73.981122, -74.002022, -74.008063, -73.977303, -73.961393, -73.865826, -73.96229100000001, -73.972661, -73.88540649414062, -73.94577026367188, -73.88540649414062, -73.94656372070312, -73.9478988647461, -73.9478988647461, -73.976063, -73.98065799999999, -73.86597442626953, -73.983908, -73.937584, -73.990725, -73.870884, -74.000922, -73.862946, -74.00099200000001, -73.98531341552734, -73.953521, -73.982817, -74.00099200000001, -73.991592, -73.970197, -73.980517, -73.862812, -73.984225, -73.871278, -74.00828299999999, -73.86570999999999, -74.00376, -73.9849624633789, -73.862698, -73.782165, -73.867942, -73.990725, -73.870964, -73.85231999999999, -73.93732, -73.973109, -73.98855, -73.983742, -73.990725, -73.87111999999999, -73.99341583251953, -73.94147199999999, -73.983742, -73.87094116210938, -73.963172, -73.953521, -73.862763, -73.921887, -73.97646, -73.991592, -73.959937, -73.98165999999999, -73.862646, -73.92109, -73.995654, -73.960778, -73.996615, -73.991515, -73.966782, -73.984652, -73.972095, -73.99130600000001, -73.96160125732422, -73.992427, -73.98599, -73.9629, -73.87295999999999, -73.97646, -73.78866, -73.790021, -74.01371002197266, -74.012232, -73.97908020019531, -73.973109, -74.015529, -73.992502, -73.998563, -73.990211, -73.956876, -73.870855, -73.945515, -73.982685, -73.99354, -73.98233, -73.94795989990234, -74.00475, -73.870964, -73.99354, -73.998563, -73.864737, -73.984652, -74.00828299999999, -73.984225, -73.964936, -73.78606500000001, -73.9629, -73.86597442626953, -73.966782, -73.996615, -73.988862, -73.87309300000001, -74.00828299999999, -73.77672576904297, -73.87110900878906, -73.97123, -73.949525, -73.99354, -73.99060899999999, -73.862646, -73.998563, -73.870855, -73.949525, -73.961495, -73.998047, -73.958877, -73.993844, -73.971497, -73.873188, -73.874488, -73.987117, -73.862748, -73.869525, -73.968581, -73.87292, -73.862748, -73.86289000000001, -74.00621, -73.885215, -73.972042, -73.984555, -73.86276, -73.862865, -73.874452, -73.97134, -73.980024, -73.872515, -73.874626, -73.993844, -73.875323, -73.972042, -73.874626, -73.875323, -73.981003, -73.863826, -73.87445799999999, -73.872936, -73.86261999999999, -73.975166, -73.872077, -74.006167, -73.95437, -73.874626, -73.86289000000001, -73.87055600000001, -73.874615, -73.976938, -73.863613, -73.984031, -73.863375, -73.863562, -73.87055600000001, -73.984031, -73.988742, -73.976938, -73.86274499999999, -73.87055600000001, -73.874615, -73.862717, -73.98745100000001, -73.863405, -73.874562, -73.87123000000001, -73.871145, -74.00675964355469, -73.874437, -73.874427, -73.950387, -73.86480999999999, -73.868119, -73.97474799999999, -74.00675964355469, -73.874427, -73.99504300000001, -73.874452, -73.870909, -73.873212, -73.870909, -73.94431, -73.872947, -73.944765, -73.99504300000001, -73.978084, -73.87294, -73.87503051757812, -73.874427, -73.870902, -73.87503051757812, -73.980423, -73.97140300000001, -73.9872, -73.88534200000001, -73.862625, -73.981308, -73.985564, -73.87472700000001, -73.99413100000001, -73.973733, -73.993627, -73.968599, -73.96990699999999, -73.87295999999999, -73.862769, -73.987817, -73.975974, -73.96431199999999, -73.998767, -73.87086500000001, -73.865842, -73.97275, -73.98885200000001, -73.961168, -73.952057, -73.98464799999999, -73.874442, -73.864954, -73.97464699999999, -73.97003000000001, -73.872973, -73.973733, -74.00514799999999, -73.96805, -73.976435, -73.98570500000001, -73.982646, -73.8714, -73.788302, -73.98137, -73.776748, -73.973062, -73.992311, -73.985553, -73.874415, -73.91122299999999, -73.86278, -73.885896, -73.7867, -74.001056, -73.8627, -73.972673, -73.87463199999999, -73.952237, -73.94890699999999, -73.863019, -73.991888, -73.872968, -73.97323, -73.953705, -73.86285500000001, -73.863587, -73.874647, -73.975511, -74.001056, -73.864003, -73.866822, -73.863587, -73.789322, -74.005443, -73.863001, -73.98235799999999, -73.98885200000001, -73.99388499999999, -73.968599, -73.874454, -74.001023, -74.001056, -73.960533, -73.87094, -73.96296600000001, -73.979108, -74.002248, -73.863366, -73.790561, -73.979375, -73.872939, -73.987817, -73.874477, -73.99388499999999, -73.87321700000001, -73.874477, -73.952237, -73.865847, -73.8627, -73.972966, -73.864954, -73.991033, -73.979375, -73.97003000000001, -73.988525, -74.005205, -74.010278, -73.985564, -73.789322, -73.991888, -73.991388, -73.863658, -73.98687, -74.004453, -73.972833, -73.985522, -73.87077, -73.865301, -73.88541, -74.000557, -73.971773, -73.961727, -73.961045, -73.862963, -73.997467, -73.862963, -73.97264200000001, -73.97273299999999, -73.989726, -73.97183199999999, -73.972252, -73.955998, -73.9857, -73.961045, -73.99586, -73.872883, -73.87042199999999, -73.988508, -73.961727, -73.989726, -73.958621, -73.968558, -73.8626, -73.810783, -73.979078, -73.863262, -73.87042199999999, -73.977815, -73.967148, -73.862977, -73.98461999999999, -73.98817199999999, -73.992365, -73.87294200000001, -73.971264, -73.87294200000001, -73.87460300000001, -73.98817199999999, -73.87294200000001, -73.98099300000001, -73.992365, -73.97120699999999, -73.86390686035156, -73.9054183959961, -73.9817886352539, -73.965561, -74.006535, -73.990027, -74.01576700000001, -74.005227, -73.870827, -73.92498, -73.984937, -74.00058, -73.98769200000001, -73.982623, -73.98401641845703, -74.004688, -73.97879, -73.95700073242188, -73.998695, -73.95224499999999, -73.95166015625, -73.99157199999999, -73.94860600000001, -73.986537, -73.976314, -73.98875799999999, -73.95904499999999, -73.963892, -73.9983901977539, -73.99604034423828, -74.001786, -73.96245574951172, -73.973008, -74.0047607421875, -73.87285899999999, -74.001786, -73.972336, -73.966403, -73.96694000000001, -74.00825400000001, -74.008314, -73.965265, -73.9879150390625, -73.987155, -74.006803, -73.991425, -73.994517, -73.988357, -73.982974, -73.96812800000001, -73.85953, -73.86353302001953, -73.97998, -73.99049000000001, -73.963643, -73.980418, -73.953882, -73.781987, -73.9529, -73.97766800000001, -73.874427, -74.006535, -73.990797, -73.985365, -73.940853, -73.87461853027344, -73.959812, -73.992076, -73.97488, -73.874775, -73.977845, -74.004688, -73.98786926269531, -73.975895, -73.97199, -73.955285, -74.015974, -73.992076, -73.99049000000001, -74.01576700000001, -73.993739, -73.992914, -73.973013, -73.97945899999999, -73.99221700000001, -74.01576700000001, -73.99128, -73.87461853027344, -73.99221700000001, -73.98401641845703, -73.94171142578125, -73.987155, -74.00073, -73.987093, -73.990612, -73.972336, -73.913737, -73.87504, -73.96112823486328, -73.992076, -73.9529, -73.87325286865234, -74.005557, -73.96735382080078, -73.93035, -74.00270080566406, -73.863601, -73.988694, -73.98675, -73.78968499999999, -73.862887, -73.986723, -73.86596, -73.97995999999999, -73.970822, -73.969039, -73.862953, -73.862876, -73.993976, -73.98845, -73.995547, -73.9783, -73.973117, -73.8663, -74.017092, -73.993976, -73.968048, -73.999367, -74.004755, -73.873267, -73.885849, -73.871302, -73.873018, -73.99768, -73.870757, -73.97165600000001, -73.968109, -73.874459, -73.97358, -73.97464699999999, -73.885849, -73.87100500000001, -73.782105, -74.006264, -73.960475, -73.968109, -73.970513, -73.863376, -73.946805, -73.87061700000001, -73.97358, -73.975167, -73.95535500000001, -73.87283000000001, -73.863006, -73.973117, -73.87099, -73.87222299999999, -73.862687, -73.863376, -73.985807, -73.996121, -74.007, -73.956338, -73.86272199999999, -74.017092, -73.863066, -73.862677, -73.780333, -73.86272199999999, -73.988098, -73.975256, -73.862778, -73.99727299999999, -73.99727299999999, -73.968413, -73.863051, -73.98183900000001, -73.99915, -73.99300500000001, -74.011534, -73.976872, -73.87293299999999, -73.87100500000001, -74.017092, -73.862797, -73.870876, -73.992937, -73.973005, -73.872938, -74.011703, -73.961233, -73.980109, -73.981347, -73.989102, -74.007672, -73.99929, -73.973297, -73.95088, -73.983126, -73.862637, -73.985807, -73.885837, -73.971078, -73.992937, -73.86414, -73.97386999999999, -73.872947, -73.961233, -73.862797, -74.003783, -73.97653299999999, -73.971594, -73.86553, -74.007672, -74.013102, -73.873375, -73.97165600000001, -73.874427, -73.97995999999999, -74.009925, -73.874615, -74.002891, -73.988265, -73.872947, -73.974125, -73.862718, -74.008512, -73.98320799999999, -73.950852, -73.981408, -73.947715, -73.8855, -73.87510681152344, -73.97353000000001, -73.947695, -74.006037, -73.870838, -73.943551, -73.871072, -73.94552900000001, -73.946007, -73.88540649414062, -73.87084499999999, -73.95044399999999, -73.87489000000001, -73.86335, -73.86989, -73.980478, -73.95170593261719, -73.87317, -73.872907, -73.87489000000001, -73.97686767578125, -73.96659, -73.871072, -73.87444, -73.86616, -73.98809, -73.975763, -73.96512, -73.870835, -73.863036, -73.870859, -73.98086500000001, -73.87299499999999, -73.98086500000001, -73.874512, -73.87297, -73.874517, -73.984125, -73.875228, -73.8634, -73.9702, -73.958969, -73.874503, -73.781113, -73.97059, -73.982226, -73.91640799999999, -73.993388, -73.864327, -73.874588, -73.874537, -73.862849, -73.998755, -73.862787, -73.973184, -73.982038, -73.942807, -73.958969, -73.874767, -73.844273, -73.98767, -73.864327, -73.958969, -73.865462, -73.995307, -73.98339, -74.001497, -73.995307, -73.95092700000001, -73.99278100000001, -73.98399599999999, -73.980805, -73.867527, -73.87455, -73.97946999999999, -73.978246, -73.874473, -73.984246, -73.872955, -73.98880767822266, -73.88532257080078, -73.87306213378906, -73.88532257080078, -73.87471771240234, -73.870849609375, -73.95309448242188, -73.87074279785156, -73.87471771240234, -73.95309448242188, -74.015961, -73.98985400000001, -73.95140075683594, -73.98824, -73.985668, -73.87454699999999, -73.98943299999999, -73.862914, -73.78694200000001, -73.96265411376953, -73.952961, -73.862712, -73.963755, -74.007397, -73.97434799999999, -74.00989532470703, -73.955951, -73.96391, -73.87299, -73.9784, -73.862572, -73.862914, -73.986125, -73.99956999999999, -73.96964, -73.86335799999999, -73.984915, -73.88584200000001, -73.98657, -73.980277, -73.994557, -73.990698, -73.9857, -73.982163, -73.863313, -73.99624200000001, -73.8734, -73.98285, -73.951818, -73.991077, -74.00022, -74.0141372680664, -73.862655, -73.874604, -73.976991, -74.00841199999999, -73.93677520751953, -73.873039, -73.977255, -74.005318, -73.987252, -73.984027, -73.86362, -73.870622, -73.99418, -73.871055, -74.00866500000001, -73.991497, -74.012739, -74.001324, -73.862747, -73.993726, -73.999368, -73.98779499999999, -74.00841199999999, -73.885538, -73.96806335449219, -73.979753, -73.977519, -73.991405, -73.95859399999999, -73.973647, -73.990236, -73.87118530273438, -73.86274300000001, -73.97881, -73.78818000000001, -74.008367, -74.00992600000001, -74.004552, -74.010767, -73.790628, -73.98535, -73.95980072021484, -74.008003, -73.968118, -73.989566, -73.939255, -73.96391, -73.97625732421875, -73.98985400000001, -73.885538, -73.954068, -73.98749699999999, -73.863152, -73.96305, -73.874628, -73.958403, -73.97789764404297, -73.877848, -73.863252, -73.979864, -74.0101089477539, -73.873232, -73.989992, -73.98749699999999, -73.990155, -73.781963, -73.983501, -73.87349499999999, -73.86450500000001, -73.86450500000001, -73.97402954101562, -74.012929, -74.011627, -73.776725, -73.958403, -73.98657, -73.87349499999999, -73.95988299999999, -73.95980072021484, -73.864858, -73.994362, -73.885262, -73.94980799999999, -73.86394, -73.789082, -73.999368, -74.00610999999999, -74.003398, -73.984, -73.977519, -73.97628784179688, -73.975822, -74.003398, -73.885538, -73.989078, -73.78869499999999, -73.991977, -73.972607, -73.976036, -73.86278, -74.00296999999999, -73.996152, -73.98919699999999, -73.96570200000001, -73.995492, -74.00833, -74.01306, -73.984706, -73.877848, -73.97298599999999, -73.98285, -73.86335799999999, -73.8709, -74.00866500000001, -73.985435, -73.98535, -73.98950699999999, -74.00940200000001, -73.977928, -73.976902, -73.990771, -73.96806335449219, -73.986946, -73.998001, -73.9802474975586, -73.954075, -74.00525665283203, -73.985668, -73.87303100000001, -73.991497, -73.864858, -73.99341583251953, -73.981151, -73.937627, -73.962542, -74.007592, -73.874416, -73.993065, -73.981718, -73.98397800000001, -73.99341583251953, -73.990155, -73.972267, -73.963755, -73.972202, -73.980323, -73.786682, -73.984027, -73.862914, -74.016173, -73.994605, -73.957359, -73.9838, -74.012899, -73.866258, -73.991736, -73.8734, -74.00787353515625, -73.873065, -73.939255, -73.990245, -74.00610999999999, -73.976449, -73.95430400000001, -73.984238, -73.982277, -73.984, -73.87078000000001, -73.99418, -73.98035, -73.876824, -73.98535, -73.9857, -73.862665, -73.872675, -73.981717, -73.99439100000001, -73.871105, -73.873365, -73.95440500000001, -73.870329, -73.873021, -73.99439100000001, -73.870901, -74.000423, -73.87318420410156, -73.872801, -73.948208, -73.873145, -73.954146, -73.919257, -73.98719787597656, -73.86438199999999, -73.863612, -73.87283199999999, -73.997445, -73.87079, -73.863313, -73.86381, -73.870812, -73.88524, -73.870695, -73.978765, -73.989745, -73.864588, -73.99081, -73.88521, -73.87259499999999, -73.98782, -73.874478, -73.87456999999999, -73.870526, -73.864588, -73.97417, -73.86549000000001, -73.87525699999999, -73.989745, -73.96922099999999, -73.997838, -73.974322, -73.974447, -73.873102, -73.866117, -73.862717, -73.874382, -73.862719, -73.986333, -73.874635, -73.88521, -73.873188, -73.872948, -73.984575, -73.96979499999999, -73.874602, -73.885182, -73.86308299999999, -73.971808, -73.874961, -73.94986800000001, -73.870363, -73.862697, -73.947873, -73.94986800000001, -73.973361, -73.98048299999999, -74.001238, -74.001238, -73.862951, -73.873036, -73.974365, -73.991474, -73.874496, -73.967003, -73.863727, -73.977807, -73.834047, -73.999808, -73.97921, -73.983632, -73.86398, -73.870449, -73.996438, -73.987092, -73.977436, -73.980417, -73.874874, -73.981313, -73.872879, -73.78976800000001, -73.979815, -73.871153, -73.989859, -73.86267, -73.964997, -73.97832700000001, -73.776788, -73.87456999999999, -73.961962, -73.87301, -73.86344, -73.977436, -73.988483, -73.99586, -73.783875, -73.870465, -73.97439, -73.788944, -73.872975, -73.988483, -73.953158, -73.987092, -73.97851999999999, -73.972532, -73.872984, -73.863253, -73.99273000000001, -73.862837, -73.991274, -73.862837, -73.981688, -73.977436, -73.964997, -73.872975, -73.983087, -74.007367, -73.87456999999999, -73.974187, -73.987095, -73.97124000000001, -73.99972199999999, -73.873036, -73.87097800000001, -73.87213299999999, -74.00657700000001, -73.99586, -73.95772, -73.99271, -73.972533, -73.870535, -73.872913, -73.996478, -73.953158, -73.98796999999999, -73.973272, -73.992357, -73.862787, -73.872984, -73.991718, -73.986482, -73.967003, -73.967003, -73.88534200000001, -73.94981800000001, -73.987706, -73.86267, -73.99186999999999, -73.87345, -73.996852, -74.01468100000001, -73.86327299999999, -73.87213299999999, -73.953712, -73.94174100000001, -73.862951, -73.987105, -73.781997, -73.991607, -73.958658, -73.949362, -73.97795867919922, -73.99983978271484, -73.969612, -73.985512, -73.985664, -73.960865, -74.00874, -73.96654699999999, -74.00160799999999, -73.98865509033203, -74.003856, -73.95619599999999, -73.99396514892578, -73.84548000000001, -73.99305600000001, -74.001407, -73.863855, -73.978316, -74.0016, -73.974634, -73.92343000000001, -73.992681, -73.995176, -73.978442, -73.8729248046875, -73.86556, -73.94094, -73.968721, -73.96225, -73.97648000000001, -73.986125, -74.001545, -74.00488299999999, -73.96838199999999, -73.871087, -73.776762, -73.99332, -73.97485, -73.95597839355469, -73.9607, -73.97964, -73.988383, -73.959016, -73.96463299999999, -73.98063659667969, -73.995705, -73.96576800000001, -73.86556, -73.985664, -73.9723892211914, -74.00874, -73.957782, -73.968721, -74.0142822265625, -73.959896, -73.991407, -73.97499300000001, -73.96838199999999, -73.986695, -73.993158, -73.98411560058594, -73.999837, -73.871087, -73.992672, -73.992672, -73.98091125488281, -73.95362091064453, -73.9866943359375, -73.87109375, -73.99396514892578, -73.978285, -73.97924300000001, -73.86556, -73.864007, -73.870651, -73.975352, -73.99042, -73.990721], \"marker\": {\"color\": [100.0, 96.2, 94.75, 94.75, 94.75, 94.75, 90.0, 84.54, 82.8, 82.8, 80.0, 79.54, 79.5, 78.33, 78.33, 78.0, 75.0, 75.0, 73.3, 73.3, 72.5, 72.1, 72.0, 71.75, 71.0, 70.5, 70.0, 70.0, 70.0, 70.0, 70.0, 70.0, 69.83, 69.8, 69.33, 69.1, 68.5, 68.0, 68.0, 67.83, 67.33, 67.0, 67.0, 67.0, 66.5, 65.8, 65.8, 65.5, 65.0, 65.0, 65.0, 65.0, 65.0, 65.0, 64.67, 64.54, 64.5, 64.5, 64.0, 63.7, 63.7, 63.7, 63.5, 63.5, 63.33, 63.0, 63.0, 63.0, 63.0, 63.0, 62.66, 62.66, 62.66, 62.5, 62.5, 62.3, 62.1, 62.1, 62.04, 61.7, 61.54, 61.54, 61.5, 61.33, 61.33, 61.0, 61.0, 61.0, 60.83, 60.83, 60.83, 60.5, 60.5, 60.1, 60.04, 60.0, 60.0, 60.0, 60.0, 60.0, 60.0, 60.0, 60.0, 60.0, 60.0, 60.0, 60.0, 60.0, 60.0, 60.0, 60.0, 60.0, 59.5, 59.5, 59.5, 59.5, 59.5, 59.3, 59.0, 59.0, 59.0, 58.5, 58.5, 58.5, 58.5, 58.5, 58.5, 58.5, 58.5, 58.33, 58.33, 58.33, 58.25, 58.0, 58.0, 58.0, 58.0, 58.0, 58.0, 58.0, 57.8, 57.8, 57.8, 57.54, 57.54, 57.54, 57.54, 57.54, 57.54, 57.54, 57.54, 57.54, 57.54, 57.54, 57.54, 57.54, 57.54, 57.54, 57.54, 57.54, 57.54, 57.54, 57.54, 57.54, 57.54, 57.54, 57.54, 57.54, 57.54, 57.54, 57.54, 57.54, 57.54, 57.54, 57.54, 57.54, 57.54, 57.54, 57.54, 57.54, 57.54, 57.54, 57.54, 57.54, 57.54, 57.54, 57.54, 57.54, 57.54, 57.54, 57.54, 57.54, 57.54, 57.54, 57.54, 57.54, 57.54, 57.54, 57.54, 57.54, 57.54, 57.54, 57.54, 57.54, 57.54, 57.54, 57.54, 57.54, 57.54, 57.54, 57.54, 57.54, 57.54, 57.54, 57.54, 57.54, 57.54, 57.54, 57.54, 57.54, 57.54, 57.54, 57.54, 57.54, 57.54, 57.54, 57.54, 57.54, 57.54, 57.54, 57.54, 57.54, 57.54, 57.54, 57.54, 57.54, 57.54, 57.54, 57.54, 57.54, 57.54, 57.54, 57.54, 57.54, 57.54, 57.54, 57.54, 57.54, 57.54, 57.54, 57.54, 57.54, 57.54, 57.54, 57.54, 57.54, 57.54, 57.54, 57.54, 57.54, 57.54, 57.54, 57.54, 57.54, 57.54, 57.54, 57.54, 57.54, 57.54, 57.5, 57.5, 57.5, 57.5, 57.45, 57.34, 57.33, 57.33, 57.33, 57.33, 57.33, 57.33, 57.33, 57.33, 57.33, 57.33, 57.33, 57.33, 57.33, 57.33, 57.33, 57.33, 57.33, 57.33, 57.33, 57.33, 57.33, 57.33, 57.33, 57.33, 57.33, 57.33, 57.33, 57.33, 57.33, 57.33, 57.33, 57.33, 57.33, 57.33, 57.33, 57.33, 57.33, 57.33, 57.33, 57.33, 57.33, 57.33, 57.33, 57.33, 57.33, 57.33, 57.33, 57.33, 57.33, 57.33, 57.33, 57.33, 57.33, 57.33, 57.33, 57.33, 57.33, 57.33, 57.33, 57.33, 57.33, 57.33, 57.33, 57.33, 57.33, 57.33, 57.33, 57.33, 57.33, 57.33, 57.33, 57.33, 57.33, 57.33, 57.33, 57.33, 57.33, 57.33, 57.33, 57.33, 57.33, 57.33, 57.33, 57.33, 57.33, 57.33, 57.33, 57.33, 57.33, 57.33, 57.33, 57.33, 57.33, 57.33, 57.33, 57.33, 57.33, 57.33, 57.33, 57.33, 57.33, 57.33, 57.33, 57.33, 57.33, 57.33, 57.33, 57.33, 57.33, 57.33, 57.33, 57.33, 57.33, 57.33, 57.33, 57.33, 57.33, 57.33, 57.33, 57.33, 57.33, 57.33, 57.33, 57.33, 57.33, 57.33, 57.33, 57.33, 57.33, 57.33, 57.33, 57.33, 57.33, 57.33, 57.33, 57.33, 57.33, 57.33, 57.33, 57.33, 57.33, 57.33, 57.33, 57.33, 57.33, 57.33, 57.33, 57.33, 57.33, 57.33, 57.33, 57.33, 57.33, 57.33, 57.33, 57.33, 57.33, 57.33, 57.33, 57.33, 57.33, 57.33, 57.33, 57.33, 57.33, 57.33, 57.33, 57.33, 57.33, 57.33, 57.33, 57.33, 57.33, 57.33, 57.33, 57.33, 57.33, 57.33, 57.33, 57.33, 57.33, 57.33, 57.33, 57.33, 57.33, 57.33, 57.33, 57.33, 57.33, 57.33, 57.33, 57.33, 57.33, 57.33, 57.33, 57.33, 57.33, 57.33, 57.33, 57.33, 57.33, 57.33, 57.33, 57.33, 57.33, 57.33, 57.33, 57.33, 57.33, 57.33, 57.33, 57.33, 57.33, 57.33, 57.33, 57.33, 57.33, 57.33, 57.33, 57.33, 57.33, 57.33, 57.33, 57.33, 57.33, 57.33, 57.33, 57.33, 57.33, 57.33, 57.33, 57.33, 57.33, 57.33, 57.33, 57.33, 57.33, 57.33, 57.33, 57.33, 57.33, 57.33, 57.33, 57.33, 57.33, 57.33, 57.33, 57.33, 57.33, 57.33, 57.33, 57.33, 57.33, 57.33, 57.33, 57.33, 57.33, 57.33, 57.33, 57.33, 57.33, 57.33, 57.33, 57.33, 57.33, 57.33, 57.33, 57.33, 57.33, 57.33, 57.33, 57.33, 57.33, 57.33, 57.33, 57.33, 57.33, 57.33, 57.33, 57.33, 57.33, 57.33, 57.33, 57.33, 57.33, 57.33, 57.33, 57.33, 57.33, 57.33, 57.33, 57.33, 57.33, 57.33, 57.33, 57.33, 57.33, 57.33, 57.33, 57.33, 57.33, 57.33, 57.33, 57.33, 57.33, 57.33, 57.33, 57.33, 57.33, 57.33, 57.33, 57.33, 57.33, 57.33, 57.33, 57.33, 57.33, 57.33, 57.33, 57.33, 57.33, 57.33, 57.33, 57.33, 57.33, 57.33, 57.33, 57.33, 57.33, 57.33, 57.33, 57.33, 57.33, 57.33, 57.33, 57.33, 57.33, 57.33, 57.33, 57.33, 57.33, 57.33, 57.33, 57.33, 57.33, 57.33, 57.33, 57.33, 57.33, 57.33, 57.33, 57.33, 57.33, 57.33, 57.33, 57.33, 57.33, 57.33, 57.33, 57.33, 57.33, 57.33, 57.33, 57.33, 57.33, 57.33, 57.33, 57.33, 57.33, 57.33, 57.33, 57.33, 57.33, 57.33, 57.33, 57.33, 57.33, 57.33, 57.33, 57.33, 57.33, 57.33, 57.33, 57.33, 57.33, 57.33, 57.33, 57.33, 57.33, 57.33, 57.33, 57.33, 57.33, 57.33, 57.33, 57.33, 57.33, 57.33, 57.33, 57.33, 57.33, 57.33, 57.33, 57.33, 57.33, 57.33, 57.33, 57.33, 57.33, 57.33, 57.33, 57.33, 57.33, 57.33, 57.33, 57.33, 57.33, 57.33, 57.33, 57.33, 57.33, 57.33, 57.33, 57.33, 57.33, 57.33, 57.33, 57.33, 57.33, 57.33, 57.33, 57.33, 57.33, 57.33, 57.33, 57.33, 57.33, 57.33, 57.33, 57.33, 57.33, 57.33, 57.33, 57.33, 57.33, 57.33, 57.33, 57.33, 57.33, 57.33, 57.33, 57.33, 57.33, 57.33, 57.33, 57.33, 57.33, 57.33, 57.33, 57.33, 57.33, 57.33, 57.33, 57.33, 57.33, 57.33, 57.33, 57.33, 57.33, 57.33, 57.33, 57.33, 57.33, 57.33, 57.33, 57.33, 57.33, 57.33, 57.33, 57.33, 57.33, 57.33, 57.33, 57.33, 57.33, 57.33, 57.33, 57.33, 57.33, 57.33, 57.33, 57.33, 57.33, 57.33, 57.33, 57.33, 57.33, 57.33, 57.33, 57.33, 57.33, 57.33, 57.33, 57.33, 57.33, 57.33, 57.33, 57.33, 57.33, 57.33, 57.33, 57.33, 57.33, 57.33, 57.33, 57.33, 57.33, 57.33, 57.33, 57.33, 57.33, 57.33, 57.33, 57.33, 57.33, 57.33, 57.33, 57.33, 57.33, 57.33, 57.33, 57.33, 57.33, 57.33, 57.33, 57.33, 57.33, 57.33, 57.33, 57.33, 57.33, 57.33, 57.33, 57.33, 57.33, 57.33, 57.33, 57.33, 57.33, 57.33, 57.33, 57.33, 57.33, 57.33, 57.33, 57.33, 57.33, 57.33, 57.33, 57.33, 57.33, 57.33, 57.33, 57.33, 57.33, 57.33, 57.33, 57.33, 57.33, 57.33, 57.33, 57.33, 57.33, 57.33, 57.33, 57.33, 57.33, 57.33, 57.33, 57.33, 57.33, 57.33, 57.33, 57.33, 57.33, 57.33, 57.33, 57.33, 57.33, 57.33, 57.33, 57.33, 57.33, 57.33, 57.33, 57.33, 57.33, 57.33, 57.33, 57.33, 57.33, 57.33, 57.33, 57.33, 57.33, 57.33, 57.33, 57.33, 57.33, 57.33, 57.33, 57.33, 57.33, 57.33, 57.33, 57.33, 57.33, 57.33, 57.33, 57.33, 57.33, 57.33, 57.33, 57.33, 57.33, 57.33, 57.33, 57.33, 57.33, 57.33, 57.33, 57.33, 57.33, 57.33, 57.33, 57.33, 57.33, 57.33, 57.33, 57.33, 57.33, 57.33, 57.33, 57.33, 57.33, 57.33, 57.33, 57.33, 57.33, 57.33, 57.33, 57.33, 57.33, 57.33, 57.33, 57.33, 57.33, 57.33, 57.33, 57.33, 57.33, 57.33, 57.33, 57.33, 57.33, 57.33, 57.33, 57.33, 57.33, 57.33, 57.33, 57.33, 57.33, 57.33, 57.33, 57.33, 57.33, 57.33, 57.33, 57.33, 57.33, 57.33, 57.33, 57.33, 57.33, 57.33, 57.33, 57.33, 57.33, 57.33, 57.33, 57.33, 57.33, 57.33, 57.33, 57.33, 57.33, 57.33, 57.33, 57.33, 57.33, 57.33, 57.33, 57.33, 57.33, 57.33, 57.33, 57.33, 57.33, 57.33, 57.33, 57.33, 57.33, 57.33, 57.33, 57.33, 57.33, 57.33, 57.33, 57.33, 57.33, 57.33, 57.33, 57.33, 57.33, 57.33, 57.33, 57.33, 57.33, 57.33, 57.33, 57.33, 57.33, 57.33, 57.33, 57.33, 57.33, 57.33, 57.33, 57.33, 57.33, 57.33, 57.33, 57.33, 57.33, 57.33, 57.33, 57.33, 57.33, 57.33, 57.33, 57.33, 57.33, 57.33, 57.33, 57.33, 57.33, 57.33, 57.33, 57.33, 57.33, 57.33, 57.33, 57.33, 57.33, 57.33, 57.33, 57.33, 57.33, 57.33, 57.33, 57.33, 57.33, 57.33, 57.33, 57.33, 57.33, 57.33, 57.33, 57.33, 57.33, 57.33, 57.33, 57.33, 57.33, 57.33, 57.33, 57.33, 57.33, 57.33, 57.33, 57.33, 57.33, 57.33, 57.33, 57.33, 57.33, 57.33, 57.3, 57.03, 57.0, 57.0, 57.0, 57.0, 56.83, 56.83, 56.8, 56.8, 56.8, 56.8, 56.8, 56.8, 56.8, 56.8, 56.8, 56.8, 56.8, 56.8, 56.8, 56.8, 56.8, 56.8, 56.8, 56.8, 56.8, 56.8, 56.8, 56.8, 56.8, 56.8, 56.8, 56.8, 56.8, 56.8, 56.8, 56.8, 56.8, 56.8, 56.8, 56.8, 56.8, 56.8, 56.8, 56.8, 56.8, 56.8, 56.8, 56.8, 56.8, 56.8, 56.8, 56.8, 56.8, 56.8, 56.8, 56.8, 56.8, 56.8, 56.8, 56.8, 56.8, 56.8, 56.8, 56.8, 56.8, 56.8, 56.8, 56.8, 56.8, 56.8, 56.8, 56.8, 56.8, 56.8, 56.8, 56.8, 56.8, 56.8, 56.8, 56.8, 56.8, 56.8, 56.8, 56.8, 56.8, 56.8, 56.8, 56.8, 56.8, 56.8, 56.8, 56.8, 56.8, 56.8, 56.8, 56.8, 56.8, 56.8, 56.8, 56.8, 56.8, 56.8, 56.8, 56.8, 56.8, 56.8, 56.8, 56.8, 56.8, 56.8, 56.8, 56.8, 56.8, 56.8, 56.8, 56.8, 56.8, 56.8, 56.8, 56.8, 56.8, 56.8, 56.8, 56.8, 56.8, 56.8, 56.8, 56.8, 56.8, 56.8, 56.8, 56.8, 56.8, 56.8, 56.8, 56.8, 56.8, 56.8, 56.8, 56.8, 56.8, 56.8, 56.8, 56.8, 56.8, 56.8, 56.8, 56.8, 56.8, 56.8, 56.8, 56.8, 56.8, 56.8, 56.8, 56.8, 56.8, 56.8, 56.8, 56.8, 56.8, 56.8, 56.8, 56.8, 56.8, 56.8, 56.8, 56.8, 56.8, 56.8, 56.8, 56.8, 56.8, 56.8, 56.8, 56.8, 56.8, 56.8, 56.8, 56.8, 56.8, 56.8, 56.8, 56.8, 56.8, 56.8, 56.8, 56.8, 56.8, 56.8, 56.8, 56.8, 56.8, 56.8, 56.8, 56.8, 56.8, 56.8, 56.8, 56.8, 56.8, 56.8, 56.8, 56.8, 56.8, 56.8, 56.8, 56.8, 56.5, 56.5, 56.5, 56.5, 56.5, 56.33, 56.33, 56.33, 56.33, 56.3, 56.1, 56.1, 56.04, 56.0, 56.0, 56.0, 56.0, 56.0, 56.0, 56.0, 55.83, 55.83, 55.75, 55.7, 55.7, 55.55, 55.5, 55.5, 55.33, 55.33, 55.3, 55.3, 55.3, 55.3, 55.0, 55.0, 55.0, 55.0, 55.0, 55.0, 54.83, 54.83, 54.75, 54.54, 54.5, 54.5, 54.5, 54.5, 54.5, 54.5, 54.5, 54.33, 54.33, 54.14, 54.0, 54.0, 54.0, 54.0, 53.83, 53.83, 53.83, 53.7, 53.5, 53.5, 53.5, 53.5, 53.5, 53.33, 53.33, 53.33, 53.33, 53.3, 53.3, 53.3, 53.2, 53.04, 53.04, 53.0, 53.0, 53.0, 53.0, 53.0, 53.0, 52.9, 52.83, 52.8, 52.5, 52.5, 52.5, 52.5, 52.5, 52.5, 52.5, 52.5, 52.5, 52.5, 52.5, 52.5, 52.33, 52.33, 52.33, 52.1, 52.1, 52.1, 52.0, 52.0, 52.0, 52.0, 52.0, 52.0, 52.0, 52.0, 52.0, 52.0, 52.0, 52.0, 52.0, 52.0, 52.0, 52.0, 52.0, 52.0, 52.0, 52.0, 52.0, 52.0, 52.0, 52.0, 52.0, 52.0, 52.0, 52.0, 52.0, 52.0, 52.0, 52.0, 52.0, 52.0, 52.0, 52.0, 52.0, 52.0, 52.0, 52.0, 52.0, 52.0, 52.0, 52.0, 52.0, 52.0, 52.0, 52.0, 52.0, 52.0, 52.0, 52.0, 52.0, 52.0, 52.0, 52.0, 52.0, 52.0, 52.0, 52.0, 52.0, 52.0, 52.0, 52.0, 52.0, 52.0, 52.0, 52.0, 52.0, 52.0, 52.0, 52.0, 52.0, 52.0, 52.0, 52.0, 52.0, 52.0, 52.0, 52.0, 52.0, 52.0, 52.0, 52.0, 52.0, 52.0, 52.0, 52.0, 52.0, 52.0, 52.0, 52.0, 52.0, 52.0, 52.0, 52.0, 52.0, 52.0, 52.0, 52.0, 52.0, 52.0, 52.0, 52.0, 52.0, 52.0, 52.0, 52.0, 52.0, 52.0, 52.0, 52.0, 52.0, 52.0, 52.0, 52.0, 52.0, 52.0, 52.0, 52.0, 52.0, 52.0, 52.0, 52.0, 52.0, 52.0, 52.0, 52.0, 52.0, 52.0, 52.0, 52.0, 52.0, 52.0, 52.0, 52.0, 52.0, 52.0, 52.0, 52.0, 52.0, 52.0, 52.0, 52.0, 52.0, 52.0, 52.0, 52.0, 52.0, 52.0, 52.0, 52.0, 52.0, 52.0, 52.0, 52.0, 52.0, 52.0, 52.0, 52.0, 52.0, 52.0, 52.0, 52.0, 52.0, 52.0, 52.0, 52.0, 52.0, 52.0, 52.0, 52.0, 52.0, 52.0, 52.0, 52.0, 52.0, 52.0, 52.0, 52.0, 52.0, 52.0, 52.0, 52.0, 52.0, 52.0, 52.0, 52.0, 52.0, 52.0, 52.0, 52.0, 52.0, 52.0, 52.0, 52.0, 52.0, 52.0, 52.0, 52.0, 52.0, 52.0, 52.0, 52.0, 52.0, 52.0, 52.0, 52.0, 52.0, 52.0, 52.0, 52.0, 52.0, 52.0, 52.0, 52.0, 52.0, 52.0, 52.0, 52.0, 52.0, 52.0, 52.0, 52.0, 52.0, 52.0, 52.0, 52.0, 52.0, 52.0, 52.0, 52.0, 52.0, 52.0, 52.0, 52.0, 52.0, 52.0, 52.0, 52.0, 52.0, 52.0, 52.0, 52.0, 52.0, 52.0, 52.0, 52.0, 52.0, 52.0, 52.0, 52.0, 52.0, 52.0, 52.0, 52.0, 52.0, 52.0, 52.0, 52.0, 52.0, 52.0, 52.0, 52.0, 52.0, 52.0, 52.0, 52.0, 52.0, 52.0, 52.0, 52.0, 52.0, 52.0, 52.0, 52.0, 52.0, 52.0, 52.0, 52.0, 52.0, 52.0, 52.0, 52.0, 52.0, 52.0, 52.0, 52.0, 52.0, 52.0, 52.0, 52.0, 52.0, 52.0, 52.0, 52.0, 52.0, 52.0, 52.0, 52.0, 52.0, 52.0, 52.0, 52.0, 52.0, 52.0, 52.0, 52.0, 52.0, 52.0, 52.0, 52.0, 52.0, 52.0, 52.0, 52.0, 52.0, 52.0, 52.0, 52.0, 52.0, 52.0, 52.0, 52.0, 52.0, 52.0, 52.0, 52.0, 52.0, 52.0, 52.0, 52.0, 52.0, 52.0, 52.0, 52.0, 52.0, 52.0, 52.0, 52.0, 52.0, 52.0, 52.0, 52.0, 52.0, 52.0, 52.0, 52.0, 52.0, 52.0, 52.0, 52.0, 52.0, 52.0, 52.0, 52.0, 52.0, 52.0, 52.0, 51.83, 51.83, 51.83, 51.83, 51.83, 51.8, 51.8, 51.7, 51.54, 51.54, 51.5, 51.5, 51.5, 51.5, 51.5, 51.5, 51.5, 51.5, 51.5, 51.5, 51.5, 51.5, 51.5, 51.5, 51.5, 51.5, 51.5, 51.5, 51.33, 51.33, 51.33, 51.33, 51.33, 51.3, 51.3, 51.3, 51.3, 51.3, 51.3, 51.1, 51.04, 51.04, 51.0, 51.0, 51.0, 51.0, 51.0, 51.0, 51.0, 51.0, 51.0, 50.9, 50.83, 50.66, 50.54, 50.5, 50.5, 50.5, 50.5, 50.5, 50.5, 50.5, 50.5, 50.5, 50.5, 50.5, 50.5, 50.5, 50.5, 50.5, 50.5, 50.5, 50.5, 50.5, 50.5, 50.5, 50.5, 50.5, 50.5, 50.5, 50.5, 50.5, 50.5, 50.5, 50.5, 50.5, 50.5, 50.5, 50.5, 50.5, 50.5, 50.5, 50.5, 50.5, 50.5, 50.5, 50.5, 50.33, 50.33, 50.33, 50.33, 50.33, 50.33, 50.33, 50.3, 50.3, 50.3, 50.3, 50.1, 50.1, 50.04, 50.04, 50.0, 50.0, 50.0, 50.0, 50.0, 50.0, 50.0, 50.0, 50.0, 50.0, 50.0, 50.0, 50.0, 50.0, 50.0, 50.0, 50.0, 50.0, 50.0, 50.0, 50.0, 50.0, 50.0, 50.0, 50.0, 50.0, 50.0, 50.0, 50.0, 50.0, 50.0, 50.0, 50.0, 50.0, 50.0, 50.0, 50.0, 50.0, 50.0, 50.0, 50.0, 49.83, 49.83, 49.83, 49.83, 49.83, 49.8, 49.8, 49.8, 49.8, 49.8, 49.8, 49.8, 49.8, 49.8, 49.8, 49.8, 49.8, 49.8, 49.8, 49.8, 49.8, 49.8, 49.8, 49.8, 49.8, 49.8, 49.8, 49.8, 49.8, 49.8, 49.8, 49.8, 49.8, 49.8, 49.8, 49.8, 49.8, 49.8, 49.8, 49.8, 49.8, 49.8, 49.8, 49.8, 49.8, 49.8, 49.8, 49.8, 49.8, 49.8, 49.8, 49.8, 49.8, 49.8, 49.8, 49.8, 49.8, 49.8, 49.8, 49.8, 49.8, 49.8, 49.8, 49.8, 49.8, 49.8, 49.8, 49.8, 49.8, 49.8, 49.8, 49.8, 49.8, 49.8, 49.8, 49.8, 49.8, 49.8, 49.8, 49.8, 49.8, 49.8, 49.8, 49.8, 49.8, 49.8, 49.8, 49.8, 49.8, 49.8, 49.8, 49.8, 49.8, 49.8, 49.8, 49.8, 49.8, 49.8, 49.8, 49.8, 49.8, 49.8, 49.8, 49.8, 49.8, 49.8, 49.8, 49.8, 49.8, 49.8, 49.8, 49.8, 49.8, 49.8, 49.8, 49.8, 49.8, 49.8, 49.8, 49.8, 49.8, 49.8, 49.8, 49.8, 49.8, 49.8, 49.8, 49.8, 49.8, 49.8, 49.8, 49.8, 49.8, 49.8, 49.8, 49.8, 49.8, 49.8, 49.8, 49.8, 49.8, 49.8, 49.8, 49.8, 49.8, 49.8, 49.8, 49.8, 49.8, 49.8, 49.8, 49.8, 49.8, 49.8, 49.8, 49.8, 49.8, 49.8, 49.8, 49.8, 49.8, 49.8, 49.8, 49.8, 49.8, 49.8, 49.8, 49.8, 49.8, 49.8, 49.8, 49.8, 49.8, 49.8, 49.8, 49.8, 49.8, 49.8, 49.8, 49.8, 49.8, 49.8, 49.8, 49.8, 49.8, 49.8, 49.8, 49.8, 49.8, 49.8, 49.8, 49.8, 49.8, 49.8, 49.8, 49.8, 49.8, 49.8, 49.8, 49.8, 49.8, 49.8, 49.8, 49.8, 49.8, 49.8, 49.8, 49.8, 49.8, 49.8, 49.8, 49.8, 49.8, 49.8, 49.8, 49.8, 49.8, 49.8, 49.8, 49.8, 49.8, 49.8, 49.8, 49.8, 49.8, 49.8, 49.8, 49.8, 49.8, 49.8, 49.8, 49.8, 49.8, 49.8, 49.8, 49.8, 49.8, 49.8, 49.8, 49.8, 49.8, 49.8, 49.8, 49.8, 49.8, 49.8, 49.8, 49.8, 49.8, 49.8, 49.8, 49.8, 49.8, 49.8, 49.8, 49.8, 49.8, 49.8, 49.8, 49.8, 49.8, 49.8, 49.8, 49.8, 49.8, 49.8, 49.8, 49.8, 49.8, 49.8, 49.8, 49.8, 49.8, 49.8, 49.8, 49.8, 49.8, 49.8, 49.8, 49.8, 49.8, 49.8, 49.8, 49.8, 49.8, 49.8, 49.8, 49.8, 49.8, 49.8, 49.8, 49.8, 49.8, 49.8, 49.8, 49.8, 49.8, 49.8, 49.8, 49.8, 49.8, 49.8, 49.8, 49.8, 49.8, 49.8, 49.8, 49.8, 49.8, 49.8, 49.8, 49.8, 49.8, 49.8, 49.8, 49.8, 49.8, 49.8, 49.8, 49.8, 49.8, 49.8, 49.8, 49.8, 49.8, 49.8, 49.8, 49.8, 49.8, 49.8, 49.8, 49.8, 49.8, 49.8, 49.8, 49.8, 49.8, 49.8, 49.8, 49.8, 49.8, 49.8, 49.8, 49.8, 49.8, 49.8, 49.8, 49.8, 49.8, 49.8, 49.8, 49.8, 49.8, 49.8, 49.8, 49.8, 49.8, 49.8, 49.8, 49.8, 49.8, 49.8, 49.8, 49.8, 49.8, 49.8, 49.8, 49.8, 49.8, 49.8, 49.8, 49.8, 49.8, 49.8, 49.8, 49.8, 49.8, 49.8, 49.8, 49.8, 49.8, 49.8, 49.8, 49.8, 49.8, 49.8, 49.8, 49.8, 49.8, 49.8, 49.8, 49.8, 49.8, 49.8, 49.8, 49.8, 49.8, 49.8, 49.8, 49.8, 49.8, 49.8, 49.8, 49.8, 49.8, 49.8, 49.8, 49.8, 49.8, 49.8, 49.8, 49.8, 49.8, 49.8, 49.8, 49.8, 49.8, 49.8, 49.8, 49.8, 49.8, 49.8, 49.8, 49.8, 49.8, 49.8, 49.8, 49.8, 49.8, 49.8, 49.8, 49.8, 49.8, 49.8, 49.8, 49.8, 49.8, 49.8, 49.8, 49.8, 49.8, 49.8, 49.8, 49.8, 49.8, 49.8, 49.8, 49.8, 49.8, 49.8, 49.8, 49.8, 49.8, 49.8, 49.8, 49.8, 49.8, 49.8, 49.8, 49.8, 49.8, 49.8, 49.8, 49.8, 49.8, 49.8, 49.8, 49.8, 49.8, 49.8, 49.8, 49.8, 49.8, 49.8, 49.8, 49.8, 49.8, 49.8, 49.8, 49.8, 49.8, 49.8, 49.8, 49.8, 49.8, 49.8, 49.8, 49.8, 49.8, 49.8, 49.8, 49.8, 49.8, 49.8, 49.8, 49.8, 49.8, 49.8, 49.8, 49.8, 49.8, 49.8, 49.8, 49.8, 49.8, 49.8, 49.8, 49.8, 49.8, 49.8, 49.8, 49.8, 49.8, 49.8, 49.8, 49.8, 49.8, 49.8, 49.8, 49.8, 49.8, 49.8, 49.8, 49.8, 49.8, 49.8, 49.8, 49.8, 49.8, 49.8, 49.8, 49.8, 49.8, 49.8, 49.8, 49.8, 49.8, 49.8, 49.8, 49.8, 49.8, 49.8, 49.8, 49.8, 49.8, 49.8, 49.8, 49.8, 49.8, 49.8, 49.8, 49.8, 49.8, 49.8, 49.8, 49.8, 49.8, 49.8, 49.8, 49.8, 49.8, 49.8, 49.8, 49.8, 49.8, 49.8, 49.8, 49.8, 49.8, 49.8, 49.8, 49.8, 49.8, 49.8, 49.8, 49.8, 49.8, 49.8, 49.8, 49.8, 49.8, 49.8, 49.8, 49.8, 49.8, 49.8, 49.8, 49.8, 49.8, 49.8, 49.8, 49.8, 49.8, 49.8, 49.8, 49.8, 49.8, 49.8, 49.8, 49.79, 49.79, 49.7, 49.7, 49.57, 49.57, 49.57, 49.57, 49.57, 49.57, 49.57, 49.57, 49.57, 49.57, 49.57, 49.57, 49.57, 49.57, 49.57, 49.57, 49.57, 49.57, 49.57, 49.57, 49.57, 49.57, 49.57, 49.57, 49.57, 49.57, 49.57, 49.57, 49.57, 49.57, 49.57, 49.57, 49.57, 49.57, 49.57, 49.57, 49.57, 49.57, 49.57, 49.57, 49.57, 49.57, 49.57, 49.57, 49.57, 49.57, 49.57, 49.57, 49.57, 49.57, 49.57, 49.57, 49.57, 49.57, 49.57, 49.57, 49.57, 49.57, 49.57, 49.57, 49.57, 49.57, 49.57, 49.57, 49.57, 49.57, 49.57, 49.57, 49.57, 49.57, 49.57, 49.57, 49.57, 49.57, 49.57, 49.57, 49.57, 49.57, 49.57, 49.57, 49.57, 49.57, 49.57, 49.57, 49.57, 49.57, 49.57, 49.57, 49.57, 49.57, 49.57, 49.57, 49.57, 49.57, 49.57, 49.57, 49.57, 49.57, 49.57, 49.57, 49.57, 49.57, 49.57, 49.57, 49.57, 49.57, 49.57, 49.57, 49.57, 49.57, 49.57, 49.57, 49.57, 49.57, 49.57, 49.57, 49.57, 49.57, 49.57, 49.57, 49.57, 49.57, 49.57, 49.57, 49.57, 49.57, 49.57, 49.57, 49.57, 49.57, 49.57, 49.57, 49.57, 49.57, 49.57, 49.57, 49.57, 49.57, 49.57, 49.57, 49.57, 49.57, 49.57, 49.57, 49.57, 49.57, 49.57, 49.57, 49.57, 49.57, 49.57, 49.57, 49.57, 49.57, 49.57, 49.57, 49.57, 49.57, 49.57, 49.57, 49.57, 49.57, 49.57, 49.57, 49.57, 49.57, 49.57, 49.57, 49.57, 49.57, 49.57, 49.57, 49.57, 49.57, 49.57, 49.57, 49.57, 49.57, 49.57, 49.57, 49.57, 49.57, 49.57, 49.57, 49.57, 49.57, 49.57, 49.57, 49.57, 49.57, 49.57, 49.57, 49.57, 49.57, 49.57, 49.57, 49.57, 49.57, 49.57, 49.57, 49.57, 49.57, 49.57, 49.57, 49.57, 49.57, 49.57, 49.57, 49.57, 49.57, 49.57, 49.57, 49.57, 49.57, 49.57, 49.57, 49.57, 49.57, 49.57, 49.57, 49.57, 49.57, 49.57, 49.57, 49.57, 49.57, 49.57, 49.57, 49.57, 49.57, 49.57, 49.57, 49.57, 49.57, 49.57, 49.57, 49.57, 49.57, 49.57, 49.57, 49.57, 49.57, 49.57, 49.57, 49.57, 49.57, 49.57, 49.57, 49.57, 49.57, 49.57, 49.57, 49.57, 49.57, 49.57, 49.57, 49.57, 49.57, 49.57, 49.57, 49.57, 49.57, 49.57, 49.57, 49.57, 49.57, 49.57, 49.57, 49.57, 49.57, 49.57, 49.57, 49.57, 49.57, 49.57, 49.57, 49.57, 49.57, 49.57, 49.57, 49.57, 49.57, 49.57, 49.57, 49.57, 49.57, 49.57, 49.57, 49.57, 49.57, 49.57, 49.57, 49.57, 49.57, 49.57, 49.57, 49.57, 49.57, 49.57, 49.57, 49.57, 49.57, 49.57, 49.57, 49.57, 49.57, 49.57, 49.57, 49.57, 49.57, 49.57, 49.57, 49.57, 49.57, 49.57, 49.57, 49.57, 49.57, 49.57, 49.57, 49.57, 49.57, 49.57, 49.57, 49.57, 49.57, 49.57, 49.57, 49.57, 49.57, 49.57, 49.57, 49.57, 49.57, 49.57, 49.57, 49.57, 49.57, 49.57, 49.57, 49.57, 49.57, 49.57, 49.57, 49.57, 49.57, 49.57, 49.57, 49.57, 49.57, 49.57, 49.57, 49.57, 49.57, 49.57, 49.57, 49.57, 49.57, 49.57, 49.57, 49.57, 49.57, 49.57, 49.57, 49.57, 49.57, 49.57, 49.57, 49.57, 49.57, 49.57, 49.57, 49.57, 49.57, 49.57, 49.57, 49.57, 49.57, 49.57, 49.57, 49.57, 49.57, 49.57, 49.57, 49.57, 49.54, 49.5, 49.5, 49.5, 49.5, 49.5, 49.5, 49.5, 49.33, 49.33, 49.33, 49.3, 49.3, 49.3, 49.3, 49.3, 49.3, 49.3, 49.15, 49.15, 49.15, 49.15, 49.15, 49.15, 49.15, 49.15, 49.15, 49.15, 49.15, 49.15, 49.15, 49.15, 49.15, 49.15, 49.15, 49.15, 49.15, 49.15, 49.15, 49.15, 49.15, 49.15, 49.15, 49.15, 49.15, 49.15, 49.15, 49.15, 49.15, 49.15, 49.15, 49.15, 49.15, 49.15, 49.15, 49.15, 49.15, 49.15, 49.15, 49.15, 49.15, 49.15, 49.15, 49.15, 49.15, 49.15, 49.15, 49.15, 49.15, 49.15, 49.15, 49.15, 49.15, 49.15, 49.15, 49.15, 49.15, 49.15, 49.15, 49.15, 49.15, 49.15, 49.15, 49.15, 49.15, 49.15, 49.15, 49.15, 49.15, 49.15, 49.15, 49.15, 49.15, 49.15, 49.15, 49.15, 49.15, 49.15, 49.15, 49.15, 49.15, 49.15, 49.15, 49.15, 49.15, 49.15, 49.15, 49.15, 49.15, 49.15, 49.15, 49.15, 49.15, 49.15, 49.15, 49.15, 49.15, 49.15, 49.15, 49.15, 49.15, 49.15, 49.15, 49.15, 49.15, 49.15, 49.15, 49.15, 49.15, 49.15, 49.15, 49.15, 49.15, 49.15, 49.15, 49.04, 49.04, 49.04, 49.0, 49.0, 49.0, 49.0, 49.0, 49.0, 48.9, 48.9, 48.9, 48.9, 48.9, 48.9, 48.83, 48.83, 48.83, 48.83, 48.83, 48.83, 48.83, 48.8, 48.8, 48.8, 48.8, 48.67, 48.67, 48.54, 48.54, 48.54, 48.5, 48.5, 48.5, 48.5, 48.5, 48.5, 48.5, 48.33, 48.33, 48.33, 48.33, 48.33, 48.33, 48.33, 48.33, 48.33, 48.33, 48.33, 48.33, 48.3, 48.3, 48.3, 48.2, 48.1, 48.1, 48.1, 48.04, 48.04, 48.04, 48.0, 48.0, 48.0, 48.0, 48.0, 48.0, 48.0, 48.0, 48.0, 48.0, 48.0, 47.85, 47.85, 47.83, 47.83, 47.83, 47.83, 47.83, 47.83, 47.83, 47.83, 47.83, 47.83, 47.83, 47.83, 47.83, 47.83, 47.83, 47.8, 47.8, 47.7, 47.7, 47.7, 47.54, 47.54, 47.5, 47.5, 47.5, 47.5, 47.5, 47.5, 47.5, 47.5, 47.5, 47.5, 47.5, 47.5, 47.5, 47.5, 47.33, 47.33, 47.33, 47.33, 47.33, 47.33, 47.33, 47.33, 47.33, 47.33, 47.3, 47.3, 47.3, 47.3, 47.3, 47.15, 47.07, 47.04, 47.04, 47.04, 47.04, 47.04, 47.04, 47.04, 47.04, 47.0, 47.0, 47.0, 47.0, 47.0, 47.0, 47.0, 47.0, 47.0, 47.0, 47.0, 47.0, 47.0, 47.0, 47.0, 46.9, 46.9, 46.9, 46.9, 46.9, 46.9, 46.9, 46.9, 46.9, 46.9, 46.9, 46.9, 46.9, 46.83, 46.83, 46.83, 46.83, 46.83, 46.83, 46.83, 46.83, 46.83, 46.83, 46.83, 46.83, 46.83, 46.8, 46.8, 46.67, 46.67, 46.54, 46.54, 46.54, 46.5, 46.5, 46.5, 46.5, 46.5, 46.5, 46.5, 46.5, 46.5, 46.5, 46.5, 46.5, 46.33, 46.33, 46.33, 46.33, 46.33, 46.33, 46.33, 46.33, 46.33, 46.33, 46.33, 46.33, 46.33, 46.33, 46.33, 46.33, 46.33, 46.33, 46.33, 46.33, 46.3, 46.2, 46.04, 46.04, 46.04, 46.04, 46.04, 46.04, 46.04, 46.0, 46.0, 46.0, 46.0, 46.0, 46.0, 46.0, 46.0, 46.0, 46.0, 46.0, 46.0, 46.0, 45.87, 45.83, 45.83, 45.83, 45.83, 45.83, 45.83, 45.83, 45.83, 45.83, 45.83, 45.83, 45.83, 45.83, 45.83, 45.83, 45.83, 45.83, 45.8, 45.8, 45.8, 45.8, 45.8, 45.7, 45.7, 45.54, 45.54, 45.54, 45.54, 45.54, 45.5, 45.5, 45.5, 45.5, 45.5, 45.5, 45.47, 45.33, 45.33, 45.33, 45.33, 45.33, 45.33, 45.33, 45.33, 45.33, 45.33, 45.33, 45.33, 45.33, 45.33, 45.33, 45.33, 45.33, 45.33, 45.33, 45.33, 45.33, 45.33, 45.33, 45.33, 45.33, 45.33, 45.33, 45.33, 45.33, 45.3, 45.3, 45.3, 45.3, 45.3, 45.3, 45.3, 45.3, 45.3, 45.3, 45.3, 45.3, 45.3, 45.3, 45.3, 45.04, 45.04, 45.04, 45.01, 45.0, 45.0, 45.0, 45.0, 45.0, 45.0, 45.0, 45.0, 45.0, 45.0, 45.0, 45.0, 45.0, 45.0, 45.0, 45.0, 45.0, 45.0, 45.0, 45.0, 45.0, 45.0, 45.0, 45.0, 45.0, 45.0, 45.0, 45.0, 45.0, 45.0, 45.0, 45.0, 45.0, 45.0, 45.0, 45.0, 45.0, 45.0, 45.0, 45.0, 45.0, 45.0, 45.0, 45.0, 45.0, 45.0, 45.0, 45.0, 45.0, 45.0, 45.0, 45.0, 45.0, 45.0, 45.0, 45.0, 45.0, 45.0, 45.0, 45.0, 45.0, 45.0, 45.0, 45.0, 45.0, 45.0, 45.0, 45.0, 45.0, 45.0, 45.0, 45.0, 45.0, 45.0, 45.0, 45.0, 45.0, 45.0, 45.0, 45.0, 45.0, 45.0, 45.0, 45.0, 45.0, 45.0, 45.0, 45.0, 45.0, 45.0, 45.0, 45.0, 45.0, 45.0, 45.0, 45.0, 45.0, 45.0, 45.0, 45.0, 45.0, 45.0, 45.0, 45.0, 45.0, 45.0, 45.0, 45.0, 45.0, 45.0, 45.0, 45.0, 45.0, 45.0, 45.0, 45.0, 45.0, 45.0, 45.0, 45.0, 45.0, 45.0, 45.0, 45.0, 45.0, 45.0, 45.0, 45.0, 45.0, 45.0, 45.0, 45.0, 45.0, 45.0, 45.0, 45.0, 45.0, 45.0, 45.0, 45.0, 45.0, 45.0, 45.0, 45.0, 45.0, 45.0, 45.0, 45.0, 45.0, 45.0, 45.0, 45.0, 45.0, 45.0, 45.0, 45.0, 45.0, 45.0, 45.0, 45.0, 45.0, 45.0, 45.0, 45.0, 45.0, 45.0, 45.0, 45.0, 45.0, 45.0, 45.0, 45.0, 45.0, 45.0, 45.0, 45.0, 45.0, 45.0, 45.0, 45.0, 45.0, 45.0, 45.0, 45.0, 45.0, 45.0, 45.0, 45.0, 45.0, 45.0, 45.0, 45.0, 45.0, 45.0, 45.0, 45.0, 45.0, 45.0, 45.0, 45.0, 45.0, 45.0, 45.0, 45.0, 45.0, 45.0, 45.0, 45.0, 45.0, 45.0, 45.0, 45.0, 45.0, 45.0, 45.0, 45.0, 45.0, 45.0, 45.0, 45.0, 45.0, 45.0, 45.0, 45.0, 45.0, 45.0, 45.0, 45.0, 45.0, 45.0, 45.0, 45.0, 45.0, 45.0, 45.0, 45.0, 45.0, 45.0, 45.0, 45.0, 45.0, 45.0, 45.0, 45.0, 45.0, 45.0, 45.0, 45.0, 45.0, 45.0, 45.0, 45.0, 45.0, 45.0, 45.0, 45.0, 45.0, 45.0, 45.0, 45.0, 45.0, 45.0, 45.0, 45.0, 45.0, 45.0, 45.0, 45.0, 45.0, 45.0, 45.0, 45.0, 45.0, 45.0, 45.0, 45.0, 45.0, 45.0, 45.0, 45.0, 45.0, 45.0, 45.0, 45.0, 45.0, 45.0, 45.0, 45.0, 45.0, 45.0, 45.0, 45.0, 45.0, 45.0, 45.0, 45.0, 45.0, 45.0, 45.0, 45.0, 45.0, 45.0, 45.0, 45.0, 45.0, 45.0, 45.0, 45.0, 45.0, 45.0, 45.0, 45.0, 45.0, 45.0, 45.0, 45.0, 45.0, 45.0, 45.0, 45.0, 45.0, 45.0, 45.0, 45.0, 45.0, 45.0, 45.0, 45.0, 45.0, 45.0, 45.0, 45.0, 45.0, 45.0, 45.0, 45.0, 45.0, 45.0, 45.0, 45.0, 45.0, 45.0, 45.0, 45.0, 45.0, 45.0, 45.0, 45.0, 45.0, 45.0, 45.0, 45.0, 45.0, 45.0, 45.0, 45.0, 45.0, 45.0, 45.0, 45.0, 45.0, 45.0, 45.0, 45.0, 45.0, 45.0, 45.0, 45.0, 45.0, 45.0, 45.0, 45.0, 45.0, 45.0, 45.0, 45.0, 45.0, 45.0, 45.0, 45.0, 45.0, 45.0, 45.0, 45.0, 45.0, 45.0, 45.0, 45.0, 45.0, 45.0, 45.0, 45.0, 45.0, 45.0, 45.0, 45.0, 45.0, 45.0, 45.0, 45.0, 45.0, 45.0, 45.0, 45.0, 45.0, 45.0, 45.0, 45.0, 45.0, 45.0, 45.0, 45.0, 45.0, 45.0, 45.0, 45.0, 45.0, 45.0, 45.0, 45.0, 45.0, 45.0, 45.0, 45.0, 45.0, 45.0, 45.0, 45.0, 45.0, 45.0, 45.0, 45.0, 45.0, 45.0, 45.0, 45.0, 45.0, 45.0, 45.0, 45.0, 45.0, 45.0, 45.0, 45.0, 45.0, 45.0, 45.0, 45.0, 45.0, 45.0, 45.0, 45.0, 45.0, 45.0, 45.0, 45.0, 45.0, 45.0, 45.0, 45.0, 45.0, 45.0, 45.0, 45.0, 45.0, 45.0, 45.0, 45.0, 45.0, 45.0, 45.0, 45.0, 45.0, 45.0, 45.0, 45.0, 45.0, 45.0, 45.0, 45.0, 45.0, 45.0, 45.0, 45.0, 45.0, 45.0, 45.0, 45.0, 45.0, 45.0, 45.0, 45.0, 45.0, 45.0, 45.0, 45.0, 45.0, 45.0, 45.0, 45.0, 45.0, 45.0, 45.0, 45.0, 45.0, 45.0, 45.0, 45.0, 45.0, 45.0, 45.0, 45.0, 45.0, 45.0, 45.0, 45.0, 45.0, 45.0, 45.0, 45.0, 45.0, 45.0, 45.0, 45.0, 45.0, 45.0, 45.0, 44.9, 44.9, 44.9, 44.9, 44.83, 44.83, 44.83, 44.83, 44.83, 44.83, 44.83, 44.83, 44.83, 44.83, 44.83, 44.83, 44.83, 44.83, 44.83, 44.83, 44.83, 44.83, 44.83, 44.83, 44.83, 44.8, 44.8, 44.8, 44.8, 44.54, 44.54, 44.5, 44.5, 44.5, 44.5, 44.5, 44.5, 44.5, 44.5, 44.5, 44.5, 44.5, 44.5, 44.5, 44.5, 44.5, 44.5, 44.5, 44.5, 44.4, 44.4, 44.33, 44.33, 44.33, 44.33, 44.33, 44.33, 44.33, 44.33, 44.33, 44.33, 44.33, 44.33, 44.33, 44.33, 44.3, 44.3, 44.3, 44.25, 44.1, 44.1, 44.1, 44.0, 44.0, 44.0, 44.0, 44.0, 44.0, 44.0, 44.0, 44.0, 44.0, 44.0, 44.0, 44.0, 44.0, 44.0, 44.0, 44.0, 43.83, 43.83, 43.83, 43.83, 43.83, 43.83, 43.83, 43.83, 43.83, 43.83, 43.83, 43.83, 43.83, 43.83, 43.83, 43.83, 43.83, 43.83, 43.83, 43.83, 43.83, 43.83, 43.83, 43.83, 43.83, 43.83, 43.83, 43.83, 43.83, 43.8, 43.8, 43.8, 43.8, 43.8, 43.8, 43.8, 43.8, 43.8, 43.8, 43.8, 43.7, 43.7, 43.7, 43.7, 43.7, 43.7, 43.7, 43.7, 43.7, 43.7, 43.7, 43.7, 43.7, 43.7, 43.7, 43.7, 43.7, 43.54, 43.54, 43.54, 43.54, 43.54, 43.5, 43.5, 43.5, 43.5, 43.5, 43.5, 43.5, 43.5, 43.5, 43.5, 43.5, 43.5, 43.5, 43.5, 43.5, 43.5, 43.5, 43.5, 43.5, 43.5, 43.5, 43.47, 43.47, 43.47, 43.33, 43.33, 43.33, 43.33, 43.33, 43.33, 43.33, 43.33, 43.33, 43.33, 43.33, 43.33, 43.33, 43.33, 43.33, 43.33, 43.33, 43.33, 43.33, 43.33, 43.33, 43.33, 43.33, 43.3, 43.3, 43.3, 43.3, 43.3, 43.3, 43.3, 43.3, 43.1, 43.07, 43.04, 43.04, 43.04, 43.04, 43.04, 43.04, 43.04, 43.0, 43.0, 43.0, 43.0, 43.0, 43.0, 43.0, 43.0, 43.0, 43.0, 43.0, 43.0, 43.0, 43.0, 43.0, 43.0, 42.9, 42.9, 42.9, 42.9, 42.9, 42.9, 42.9, 42.9, 42.83, 42.83, 42.83, 42.83, 42.83, 42.83, 42.83, 42.83, 42.83, 42.83, 42.83, 42.83, 42.83, 42.83, 42.83, 42.83, 42.83, 42.83, 42.83, 42.83, 42.83, 42.83, 42.83, 42.83, 42.83, 42.83, 42.8, 42.8, 42.8, 42.8, 42.8, 42.8, 42.8, 42.67, 42.67, 42.67, 42.65, 42.54, 42.54, 42.54, 42.54, 42.54, 42.5, 42.5, 42.5, 42.5, 42.5, 42.5, 42.5, 42.5, 42.5, 42.5, 42.5, 42.5, 42.5, 42.5, 42.5, 42.5, 42.5, 42.5, 42.5, 42.5, 42.33, 42.33, 42.33, 42.33, 42.33, 42.33, 42.33, 42.33, 42.33, 42.33, 42.33, 42.33, 42.33, 42.33, 42.33, 42.33, 42.33, 42.33, 42.33, 42.33, 42.33, 42.33, 42.33, 42.33, 42.33, 42.33, 42.33, 42.33, 42.33, 42.3, 42.3, 42.3, 42.3, 42.3, 42.3, 42.1, 42.1, 42.1, 42.1, 42.04, 42.04, 42.04, 42.04, 42.04, 42.04, 42.04, 42.0, 42.0, 42.0, 42.0, 42.0, 42.0, 42.0, 42.0, 42.0, 42.0, 42.0, 42.0, 42.0, 42.0, 42.0, 42.0, 42.0, 42.0, 42.0, 42.0, 41.85, 41.83, 41.83, 41.83, 41.83, 41.83, 41.83, 41.83, 41.83, 41.83, 41.83, 41.83, 41.83, 41.83, 41.83, 41.83, 41.83, 41.83, 41.83, 41.83, 41.83, 41.83, 41.83, 41.83, 41.83, 41.83, 41.83, 41.83, 41.83, 41.83, 41.83, 41.83, 41.83, 41.8, 41.8, 41.8, 41.8, 41.8, 41.8, 41.8, 41.8, 41.8, 41.7, 41.7, 41.7, 41.7, 41.7, 41.7, 41.7, 41.7, 41.7, 41.7, 41.7, 41.6, 41.6, 41.54, 41.54, 41.54, 41.54, 41.54, 41.54, 41.5, 41.5, 41.5, 41.5, 41.5, 41.5, 41.5, 41.5, 41.5, 41.5, 41.5, 41.5, 41.5, 41.5, 41.5, 41.5, 41.5, 41.5, 41.5, 41.5, 41.47, 41.47, 41.47, 41.47, 41.47, 41.47, 41.33, 41.33, 41.33, 41.33, 41.33, 41.33, 41.33, 41.33, 41.33, 41.33, 41.33, 41.33, 41.33, 41.33, 41.33, 41.33, 41.33, 41.33, 41.33, 41.33, 41.33, 41.33, 41.33, 41.33, 41.33, 41.33, 41.33, 41.33, 41.33, 41.33, 41.33, 41.33, 41.33, 41.33, 41.33, 41.33, 41.33, 41.3, 41.3, 41.3, 41.3, 41.3, 41.3, 41.3, 41.3, 41.3, 41.3, 41.3, 41.3, 41.3, 41.3, 41.3, 41.3, 41.3, 41.3, 41.3, 41.3, 41.3, 41.3, 41.3, 41.3, 41.3, 41.2, 41.2, 41.05, 41.05, 41.05, 41.04, 41.04, 41.04, 41.0, 41.0, 41.0, 41.0, 41.0, 41.0, 41.0, 41.0, 41.0, 41.0, 41.0, 41.0, 41.0, 41.0, 41.0, 41.0, 41.0, 41.0, 41.0, 41.0, 41.0, 41.0, 41.0, 40.9, 40.9, 40.9, 40.9, 40.9, 40.9, 40.9, 40.9, 40.9, 40.83, 40.83, 40.83, 40.83, 40.83, 40.83, 40.83, 40.83, 40.83, 40.83, 40.83, 40.83, 40.83, 40.83, 40.83, 40.83, 40.83, 40.83, 40.83, 40.83, 40.83, 40.83, 40.83, 40.83, 40.83, 40.83, 40.83, 40.83, 40.83, 40.83, 40.83, 40.83, 40.8, 40.8, 40.8, 40.8, 40.8, 40.67, 40.67, 40.67, 40.65, 40.54, 40.54, 40.54, 40.54, 40.5, 40.5, 40.5, 40.5, 40.5, 40.5, 40.5, 40.5, 40.5, 40.5, 40.5, 40.5, 40.5, 40.5, 40.5, 40.5, 40.5, 40.5, 40.5, 40.5, 40.5, 40.5, 40.5, 40.5, 40.5, 40.5, 40.5, 40.5, 40.33, 40.33, 40.33, 40.33, 40.33, 40.33, 40.33, 40.33, 40.33, 40.33, 40.33, 40.33, 40.33, 40.33, 40.33, 40.33, 40.33, 40.33, 40.33, 40.33, 40.33, 40.33, 40.33, 40.33, 40.33, 40.33, 40.33, 40.33, 40.33, 40.33, 40.33, 40.33, 40.33, 40.33, 40.33, 40.33, 40.33, 40.33, 40.3, 40.3, 40.3, 40.3, 40.3, 40.3, 40.3, 40.3, 40.3, 40.27, 40.27, 40.1, 40.1, 40.1, 40.1, 40.1, 40.1, 40.1, 40.1, 40.1, 40.1, 40.1, 40.1, 40.04, 40.04, 40.04, 40.04, 40.04, 40.04, 40.04, 40.04, 40.0, 40.0, 40.0, 40.0, 40.0, 40.0, 40.0, 40.0, 40.0, 40.0, 40.0, 40.0, 40.0, 40.0, 40.0, 40.0, 40.0, 40.0, 40.0, 40.0, 40.0, 40.0, 40.0, 40.0, 40.0, 40.0, 40.0, 40.0, 40.0, 40.0, 40.0, 40.0, 40.0, 39.87, 39.87, 39.87, 39.87, 39.85, 39.85, 39.83, 39.83, 39.83, 39.83, 39.83, 39.83, 39.83, 39.83, 39.83, 39.83, 39.83, 39.83, 39.83, 39.83, 39.83, 39.83, 39.83, 39.83, 39.83, 39.83, 39.83, 39.83, 39.83, 39.83, 39.83, 39.83, 39.83, 39.83, 39.83, 39.83, 39.83, 39.83, 39.83, 39.83, 39.83, 39.83, 39.83, 39.83, 39.83, 39.8, 39.8, 39.8, 39.8, 39.8, 39.8, 39.8, 39.8, 39.8, 39.8, 39.8, 39.8, 39.7, 39.7, 39.7, 39.7, 39.7, 39.7, 39.7, 39.7, 39.7, 39.7, 39.7, 39.7, 39.7, 39.7, 39.7, 39.7, 39.7, 39.7, 39.7, 39.7, 39.7, 39.7, 39.7, 39.7, 39.7, 39.54, 39.54, 39.54, 39.54, 39.54, 39.54, 39.54, 39.5, 39.5, 39.5, 39.5, 39.5, 39.5, 39.5, 39.5, 39.5, 39.5, 39.5, 39.5, 39.5, 39.5, 39.5, 39.5, 39.5, 39.5, 39.5, 39.5, 39.5, 39.5, 39.5, 39.5, 39.5, 39.5, 39.5, 39.5, 39.47, 39.47, 39.47, 39.47, 39.47, 39.45, 39.45, 39.33, 39.33, 39.33, 39.33, 39.33, 39.33, 39.33, 39.33, 39.33, 39.33, 39.33, 39.33, 39.33, 39.33, 39.33, 39.33, 39.33, 39.33, 39.33, 39.33, 39.33, 39.33, 39.33, 39.33, 39.33, 39.33, 39.33, 39.33, 39.33, 39.33, 39.33, 39.33, 39.33, 39.33, 39.33, 39.33, 39.33, 39.33, 39.33, 39.33, 39.33, 39.33, 39.33, 39.33, 39.3, 39.3, 39.3, 39.3, 39.3, 39.3, 39.3, 39.3, 39.3, 39.3, 39.3, 39.3, 39.3, 39.3, 39.3, 39.3, 39.3, 39.3, 39.3, 39.3, 39.3, 39.3, 39.3, 39.3, 39.3, 39.3, 39.3, 39.3, 39.07, 39.07, 39.07, 39.07, 39.07, 39.07, 39.07, 39.04, 39.04, 39.04, 39.04, 39.04, 39.04, 39.04, 39.04, 39.04, 39.0, 39.0, 39.0, 39.0, 39.0, 39.0, 39.0, 39.0, 39.0, 39.0, 39.0, 39.0, 39.0, 39.0, 39.0, 39.0, 39.0, 39.0, 39.0, 39.0, 39.0, 39.0, 39.0, 39.0, 39.0, 38.9, 38.9, 38.9, 38.9, 38.9, 38.9, 38.9, 38.9, 38.9, 38.9, 38.9, 38.9, 38.9, 38.9, 38.9, 38.83, 38.83, 38.83, 38.83, 38.83, 38.83, 38.83, 38.83, 38.83, 38.83, 38.83, 38.83, 38.83, 38.83, 38.83, 38.83, 38.83, 38.83, 38.83, 38.83, 38.83, 38.83, 38.83, 38.83, 38.83, 38.83, 38.83, 38.83, 38.83, 38.83, 38.83, 38.83, 38.83, 38.83, 38.83, 38.83, 38.83, 38.83, 38.83, 38.83, 38.83, 38.83, 38.83, 38.83, 38.83, 38.83, 38.83, 38.83, 38.83, 38.83, 38.83, 38.8, 38.8, 38.8, 38.8, 38.8, 38.8, 38.7, 38.67, 38.67, 38.67, 38.67, 38.67, 38.67, 38.66, 38.66, 38.65, 38.65, 38.54, 38.54, 38.54, 38.54, 38.54, 38.54, 38.54, 38.54, 38.54, 38.5, 38.5, 38.5, 38.5, 38.5, 38.5, 38.5, 38.5, 38.5, 38.5, 38.5, 38.5, 38.5, 38.5, 38.5, 38.5, 38.5, 38.5, 38.5, 38.5, 38.5, 38.5, 38.5, 38.5, 38.5, 38.5, 38.5, 38.5, 38.5, 38.5, 38.5, 38.5, 38.5, 38.5, 38.5, 38.5, 38.5, 38.5, 38.5, 38.5, 38.5, 38.5, 38.5, 38.5, 38.5, 38.5, 38.5, 38.5, 38.5, 38.5, 38.5, 38.5, 38.5, 38.5, 38.5, 38.33, 38.33, 38.33, 38.33, 38.33, 38.33, 38.33, 38.33, 38.33, 38.33, 38.33, 38.33, 38.33, 38.33, 38.33, 38.33, 38.33, 38.33, 38.33, 38.33, 38.33, 38.33, 38.33, 38.33, 38.33, 38.33, 38.33, 38.33, 38.33, 38.33, 38.33, 38.33, 38.33, 38.33, 38.33, 38.33, 38.33, 38.33, 38.33, 38.33, 38.33, 38.33, 38.33, 38.33, 38.33, 38.33, 38.33, 38.33, 38.3, 38.3, 38.3, 38.3, 38.3, 38.3, 38.3, 38.3, 38.3, 38.3, 38.3, 38.3, 38.3, 38.3, 38.3, 38.27, 38.27, 38.27, 38.25, 38.25, 38.25, 38.1, 38.1, 38.1, 38.1, 38.1, 38.1, 38.1, 38.1, 38.1, 38.1, 38.1, 38.1, 38.1, 38.1, 38.1, 38.1, 38.04, 38.04, 38.04, 38.04, 38.04, 38.04, 38.04, 38.04, 38.04, 38.04, 38.0, 38.0, 38.0, 38.0, 38.0, 38.0, 38.0, 38.0, 38.0, 38.0, 38.0, 38.0, 38.0, 38.0, 38.0, 38.0, 38.0, 38.0, 38.0, 38.0, 38.0, 38.0, 38.0, 38.0, 38.0, 38.0, 38.0, 38.0, 38.0, 38.0, 38.0, 38.0, 37.87, 37.87, 37.87, 37.87, 37.87, 37.87, 37.87, 37.87, 37.87, 37.87, 37.87, 37.87, 37.85, 37.85, 37.85, 37.83, 37.83, 37.83, 37.83, 37.83, 37.83, 37.83, 37.83, 37.83, 37.83, 37.83, 37.83, 37.83, 37.83, 37.83, 37.83, 37.83, 37.83, 37.83, 37.83, 37.83, 37.83, 37.83, 37.83, 37.83, 37.83, 37.83, 37.83, 37.83, 37.83, 37.83, 37.83, 37.83, 37.83, 37.83, 37.83, 37.83, 37.83, 37.83, 37.83, 37.8, 37.8, 37.8, 37.8, 37.8, 37.8, 37.8, 37.8, 37.8, 37.8, 37.8, 37.8, 37.8, 37.7, 37.7, 37.7, 37.7, 37.7, 37.7, 37.7, 37.7, 37.7, 37.7, 37.7, 37.7, 37.7, 37.7, 37.7, 37.7, 37.7, 37.7, 37.7, 37.6, 37.54, 37.54, 37.54, 37.54, 37.54, 37.5, 37.5, 37.5, 37.5, 37.5, 37.5, 37.5, 37.5, 37.5, 37.5, 37.5, 37.5, 37.5, 37.5, 37.5, 37.5, 37.5, 37.5, 37.5, 37.5, 37.5, 37.5, 37.5, 37.5, 37.5, 37.5, 37.5, 37.5, 37.5, 37.5, 37.47, 37.47, 37.47, 37.47, 37.45, 37.33, 37.33, 37.33, 37.33, 37.33, 37.33, 37.33, 37.33, 37.33, 37.33, 37.33, 37.33, 37.33, 37.33, 37.33, 37.33, 37.33, 37.33, 37.33, 37.33, 37.33, 37.33, 37.33, 37.33, 37.33, 37.33, 37.33, 37.33, 37.33, 37.33, 37.33, 37.33, 37.33, 37.33, 37.33, 37.33, 37.33, 37.33, 37.33, 37.33, 37.33, 37.33, 37.33, 37.33, 37.33, 37.33, 37.33, 37.3, 37.3, 37.3, 37.3, 37.3, 37.3, 37.3, 37.3, 37.3, 37.3, 37.3, 37.3, 37.3, 37.3, 37.3, 37.3, 37.3, 37.3, 37.3, 37.3, 37.3, 37.3, 37.3, 37.3, 37.3, 37.3, 37.3, 37.3, 37.3, 37.3, 37.3, 37.3, 37.3, 37.3, 37.3, 37.3, 37.3, 37.2, 37.07, 37.07, 37.07, 37.07, 37.07, 37.07, 37.07, 37.05, 37.05, 37.04, 37.04, 37.04, 37.04, 37.04, 37.04, 37.04, 37.04, 37.04, 37.04, 37.0, 37.0, 37.0, 37.0, 37.0, 37.0, 37.0, 37.0, 37.0, 37.0, 37.0, 37.0, 37.0, 37.0, 37.0, 37.0, 37.0, 37.0, 37.0, 37.0, 37.0, 37.0, 37.0, 37.0, 37.0, 37.0, 37.0, 37.0, 37.0, 37.0, 37.0, 37.0, 37.0, 37.0, 37.0, 37.0, 37.0, 37.0, 37.0, 37.0, 36.9, 36.9, 36.9, 36.9, 36.9, 36.9, 36.9, 36.9, 36.9, 36.9, 36.9, 36.9, 36.9, 36.9, 36.9, 36.9, 36.9, 36.9, 36.83, 36.83, 36.83, 36.83, 36.83, 36.83, 36.83, 36.83, 36.83, 36.83, 36.83, 36.83, 36.83, 36.83, 36.83, 36.83, 36.83, 36.83, 36.83, 36.83, 36.83, 36.83, 36.83, 36.83, 36.83, 36.83, 36.83, 36.83, 36.83, 36.83, 36.83, 36.83, 36.83, 36.83, 36.83, 36.83, 36.83, 36.83, 36.83, 36.83, 36.83, 36.83, 36.83, 36.83, 36.83, 36.83, 36.83, 36.83, 36.83, 36.8, 36.8, 36.8, 36.8, 36.8, 36.8, 36.8, 36.8, 36.8, 36.7, 36.7, 36.67, 36.67, 36.67, 36.67, 36.67, 36.67, 36.67, 36.67, 36.65, 36.6, 36.54, 36.54, 36.54, 36.54, 36.54, 36.54, 36.54, 36.54, 36.5, 36.5, 36.5, 36.5, 36.5, 36.5, 36.5, 36.5, 36.5, 36.5, 36.5, 36.5, 36.5, 36.5, 36.5, 36.5, 36.5, 36.5, 36.5, 36.5, 36.5, 36.5, 36.5, 36.5, 36.5, 36.5, 36.5, 36.5, 36.5, 36.5, 36.5, 36.5, 36.5, 36.5, 36.5, 36.5, 36.5, 36.5, 36.5, 36.5, 36.5, 36.5, 36.5, 36.5, 36.5, 36.5, 36.5, 36.5, 36.5, 36.5, 36.5, 36.5, 36.5, 36.5, 36.5, 36.5, 36.5, 36.5, 36.5, 36.5, 36.5, 36.5, 36.5, 36.5, 36.4, 36.33, 36.33, 36.33, 36.33, 36.33, 36.33, 36.33, 36.33, 36.33, 36.33, 36.33, 36.33, 36.33, 36.33, 36.33, 36.33, 36.33, 36.33, 36.33, 36.33, 36.33, 36.33, 36.33, 36.33, 36.33, 36.33, 36.33, 36.33, 36.33, 36.33, 36.33, 36.33, 36.33, 36.33, 36.33, 36.33, 36.33, 36.33, 36.33, 36.33, 36.33, 36.33, 36.33, 36.33, 36.33, 36.33, 36.33, 36.33, 36.33, 36.33, 36.33, 36.33, 36.33, 36.33, 36.33, 36.33, 36.33, 36.33, 36.3, 36.3, 36.3, 36.3, 36.3, 36.3, 36.3, 36.3, 36.3, 36.3, 36.3, 36.3, 36.3, 36.3, 36.3, 36.3, 36.3, 36.3, 36.27, 36.27, 36.27, 36.27, 36.27, 36.27, 36.27, 36.27, 36.27, 36.27, 36.27, 36.27, 36.25, 36.25, 36.25, 36.1, 36.1, 36.1, 36.1, 36.1, 36.1, 36.1, 36.1, 36.1, 36.1, 36.1, 36.1, 36.1, 36.1, 36.1, 36.1, 36.1, 36.1, 36.1, 36.1, 36.1, 36.1, 36.04, 36.04, 36.04, 36.04, 36.04, 36.04, 36.04, 36.04, 36.0, 36.0, 36.0, 36.0, 36.0, 36.0, 36.0, 36.0, 36.0, 36.0, 36.0, 36.0, 36.0, 36.0, 36.0, 36.0, 36.0, 36.0, 36.0, 36.0, 36.0, 36.0, 36.0, 36.0, 36.0, 36.0, 36.0, 36.0, 36.0, 36.0, 36.0, 36.0, 36.0, 36.0, 36.0, 36.0, 36.0, 36.0, 36.0, 36.0, 36.0, 35.87000000000001, 35.87000000000001, 35.87000000000001, 35.87000000000001, 35.87000000000001, 35.87000000000001, 35.87000000000001, 35.87000000000001, 35.87000000000001, 35.83, 35.83, 35.83, 35.83, 35.83, 35.83, 35.83, 35.83, 35.83, 35.83, 35.83, 35.83, 35.83, 35.83, 35.83, 35.83, 35.83, 35.83, 35.83, 35.83, 35.83, 35.83, 35.83, 35.83, 35.83, 35.83, 35.83, 35.83, 35.83, 35.83, 35.83, 35.83, 35.83, 35.83, 35.83, 35.83, 35.83, 35.83, 35.83, 35.83, 35.83, 35.83, 35.83, 35.83, 35.83, 35.83, 35.83, 35.83, 35.83, 35.83, 35.83, 35.83, 35.83, 35.83, 35.83, 35.83, 35.83, 35.83, 35.83, 35.83, 35.83, 35.83, 35.83, 35.83, 35.8, 35.8, 35.8, 35.8, 35.8, 35.8, 35.8, 35.8, 35.8, 35.8, 35.8, 35.8, 35.8, 35.8, 35.8, 35.8, 35.8, 35.8, 35.8, 35.8, 35.7, 35.7, 35.7, 35.7, 35.7, 35.7, 35.7, 35.7, 35.7, 35.7, 35.7, 35.7, 35.7, 35.7, 35.7, 35.7, 35.7, 35.7, 35.7, 35.7, 35.7, 35.6, 35.6, 35.54, 35.54, 35.54, 35.54, 35.54, 35.5, 35.5, 35.5, 35.5, 35.5, 35.5, 35.5, 35.5, 35.5, 35.5, 35.5, 35.5, 35.5, 35.5, 35.5, 35.5, 35.5, 35.5, 35.5, 35.5, 35.5, 35.5, 35.5, 35.5, 35.5, 35.5, 35.5, 35.5, 35.5, 35.5, 35.5, 35.5, 35.47, 35.47, 35.47, 35.47, 35.47, 35.47, 35.47, 35.47, 35.47, 35.47, 35.47, 35.45, 35.45, 35.33, 35.33, 35.33, 35.33, 35.33, 35.33, 35.33, 35.33, 35.33, 35.33, 35.33, 35.33, 35.33, 35.33, 35.33, 35.33, 35.33, 35.33, 35.33, 35.33, 35.33, 35.33, 35.33, 35.33, 35.33, 35.33, 35.33, 35.33, 35.33, 35.33, 35.33, 35.33, 35.33, 35.33, 35.33, 35.33, 35.33, 35.33, 35.33, 35.33, 35.33, 35.33, 35.33, 35.33, 35.33, 35.33, 35.33, 35.33, 35.33, 35.33, 35.33, 35.33, 35.33, 35.33, 35.33, 35.33, 35.33, 35.33, 35.3, 35.3, 35.3, 35.3, 35.3, 35.3, 35.3, 35.3, 35.3, 35.3, 35.3, 35.3, 35.3, 35.3, 35.3, 35.3, 35.3, 35.3, 35.3, 35.3, 35.3, 35.3, 35.3, 35.3, 35.3, 35.3, 35.3, 35.3, 35.3, 35.3, 35.3, 35.3, 35.3, 35.3, 35.3, 35.3, 35.3, 35.3, 35.3, 35.3, 35.3, 35.3, 35.3, 35.3, 35.3, 35.3, 35.3, 35.3, 35.2, 35.2, 35.2, 35.2, 35.2, 35.07, 35.07, 35.07, 35.07, 35.07, 35.07, 35.07, 35.07, 35.07, 35.07, 35.05, 35.05, 35.05, 35.04, 35.04, 35.04, 35.04, 35.04, 35.0, 35.0, 35.0, 35.0, 35.0, 35.0, 35.0, 35.0, 35.0, 35.0, 35.0, 35.0, 35.0, 35.0, 35.0, 35.0, 35.0, 35.0, 35.0, 35.0, 35.0, 35.0, 35.0, 35.0, 35.0, 35.0, 35.0, 35.0, 35.0, 35.0, 35.0, 35.0, 35.0, 35.0, 35.0, 35.0, 35.0, 35.0, 35.0, 35.0, 35.0, 35.0, 35.0, 35.0, 35.0, 35.0, 34.9, 34.9, 34.9, 34.9, 34.9, 34.9, 34.9, 34.9, 34.9, 34.9, 34.9, 34.9, 34.9, 34.9, 34.9, 34.9, 34.9, 34.9, 34.9, 34.9, 34.9, 34.9, 34.9, 34.9, 34.9, 34.9, 34.9, 34.9, 34.9, 34.9, 34.9, 34.9, 34.9, 34.9, 34.9, 34.9, 34.9, 34.83, 34.83, 34.83, 34.83, 34.83, 34.83, 34.83, 34.83, 34.83, 34.83, 34.83, 34.83, 34.83, 34.83, 34.83, 34.83, 34.83, 34.83, 34.83, 34.83, 34.83, 34.83, 34.83, 34.83, 34.83, 34.83, 34.83, 34.83, 34.83, 34.83, 34.83, 34.83, 34.83, 34.83, 34.83, 34.83, 34.83, 34.83, 34.83, 34.83, 34.83, 34.83, 34.83, 34.83, 34.83, 34.83, 34.83, 34.83, 34.83, 34.83, 34.83, 34.8, 34.8, 34.8, 34.8, 34.8, 34.8, 34.8, 34.8, 34.8, 34.8, 34.8, 34.8, 34.8, 34.8, 34.8, 34.8, 34.8, 34.8, 34.7, 34.7, 34.7, 34.7, 34.7, 34.67, 34.67, 34.67, 34.67, 34.67, 34.67, 34.67, 34.67, 34.67, 34.67, 34.67, 34.67, 34.65, 34.65, 34.63, 34.54, 34.54, 34.54, 34.54, 34.54, 34.54, 34.54, 34.5, 34.5, 34.5, 34.5, 34.5, 34.5, 34.5, 34.5, 34.5, 34.5, 34.5, 34.5, 34.5, 34.5, 34.5, 34.5, 34.5, 34.5, 34.5, 34.5, 34.5, 34.5, 34.5, 34.5, 34.5, 34.5, 34.5, 34.5, 34.5, 34.5, 34.5, 34.5, 34.5, 34.5, 34.5, 34.5, 34.5, 34.5, 34.5, 34.5, 34.5, 34.5, 34.5, 34.5, 34.5, 34.5, 34.5, 34.5, 34.5, 34.5, 34.5, 34.5, 34.5, 34.5, 34.5, 34.5, 34.5, 34.5, 34.5, 34.5, 34.5, 34.5, 34.5, 34.5, 34.5, 34.5, 34.5, 34.5, 34.5, 34.5, 34.5, 34.5, 34.5, 34.5, 34.5, 34.5, 34.5, 34.5, 34.5, 34.5, 34.5, 34.5, 34.5, 34.5, 34.5, 34.33, 34.33, 34.33, 34.33, 34.33, 34.33, 34.33, 34.33, 34.33, 34.33, 34.33, 34.33, 34.33, 34.33, 34.33, 34.33, 34.33, 34.33, 34.33, 34.33, 34.33, 34.33, 34.33, 34.33, 34.33, 34.33, 34.33, 34.33, 34.33, 34.33, 34.33, 34.33, 34.33, 34.33, 34.33, 34.33, 34.33, 34.33, 34.33, 34.33, 34.33, 34.33, 34.33, 34.33, 34.33, 34.33, 34.33, 34.33, 34.33, 34.33, 34.33, 34.33, 34.33, 34.33, 34.33, 34.33, 34.33, 34.33, 34.33, 34.33, 34.33, 34.33, 34.3, 34.3, 34.3, 34.3, 34.3, 34.3, 34.3, 34.3, 34.3, 34.27, 34.27, 34.27, 34.27, 34.27, 34.27, 34.27, 34.27, 34.27, 34.27, 34.25, 34.25, 34.25, 34.2, 34.1, 34.1, 34.1, 34.1, 34.1, 34.1, 34.1, 34.1, 34.1, 34.1, 34.1, 34.1, 34.1, 34.1, 34.1, 34.1, 34.1, 34.1, 34.1, 34.1, 34.1, 34.1, 34.1, 34.1, 34.1, 34.1, 34.1, 34.1, 34.1, 34.1, 34.1, 34.1, 34.1, 34.1, 34.1, 34.1, 34.1, 34.1, 34.1, 34.1, 34.1, 34.04, 34.04, 34.04, 34.04, 34.04, 34.04, 34.0, 34.0, 34.0, 34.0, 34.0, 34.0, 34.0, 34.0, 34.0, 34.0, 34.0, 34.0, 34.0, 34.0, 34.0, 34.0, 34.0, 34.0, 34.0, 34.0, 34.0, 34.0, 34.0, 34.0, 34.0, 34.0, 34.0, 34.0, 34.0, 34.0, 34.0, 34.0, 34.0, 34.0, 34.0, 34.0, 34.0, 34.0, 34.0, 34.0, 34.0, 34.0, 34.0, 34.0, 34.0, 34.0, 34.0, 34.0, 34.0, 34.0, 34.0, 34.0, 34.0, 34.0, 34.0, 34.0, 34.0, 34.0, 34.0, 34.0, 34.0, 34.0, 34.0, 34.0, 34.0, 34.0, 34.0, 34.0, 34.0, 34.0, 33.9, 33.9, 33.9, 33.9, 33.870000000000005, 33.870000000000005, 33.870000000000005, 33.870000000000005, 33.870000000000005, 33.870000000000005, 33.870000000000005, 33.870000000000005, 33.870000000000005, 33.870000000000005, 33.870000000000005, 33.870000000000005, 33.85, 33.85, 33.85, 33.85, 33.85, 33.85, 33.84, 33.83, 33.83, 33.83, 33.83, 33.83, 33.83, 33.83, 33.83, 33.83, 33.83, 33.83, 33.83, 33.83, 33.83, 33.83, 33.83, 33.83, 33.83, 33.83, 33.83, 33.83, 33.83, 33.83, 33.83, 33.83, 33.83, 33.83, 33.83, 33.83, 33.83, 33.83, 33.83, 33.83, 33.83, 33.83, 33.83, 33.83, 33.83, 33.83, 33.83, 33.83, 33.83, 33.83, 33.83, 33.83, 33.83, 33.83, 33.83, 33.83, 33.83, 33.83, 33.8, 33.8, 33.8, 33.8, 33.8, 33.8, 33.8, 33.8, 33.8, 33.8, 33.8, 33.8, 33.8, 33.8, 33.8, 33.8, 33.8, 33.8, 33.8, 33.8, 33.8, 33.8, 33.8, 33.8, 33.8, 33.8, 33.7, 33.7, 33.7, 33.7, 33.7, 33.7, 33.7, 33.7, 33.7, 33.7, 33.7, 33.7, 33.7, 33.7, 33.7, 33.7, 33.7, 33.7, 33.7, 33.7, 33.7, 33.7, 33.7, 33.7, 33.7, 33.7, 33.7, 33.7, 33.7, 33.7, 33.7, 33.7, 33.7, 33.7, 33.7, 33.7, 33.7, 33.7, 33.7, 33.7, 33.7, 33.7, 33.7, 33.7, 33.7, 33.7, 33.7, 33.7, 33.7, 33.7, 33.7, 33.7, 33.64, 33.6, 33.6, 33.54, 33.54, 33.54, 33.54, 33.54, 33.54, 33.5, 33.5, 33.5, 33.5, 33.5, 33.5, 33.5, 33.5, 33.5, 33.5, 33.5, 33.5, 33.5, 33.5, 33.5, 33.5, 33.5, 33.5, 33.5, 33.5, 33.5, 33.5, 33.5, 33.5, 33.5, 33.5, 33.5, 33.5, 33.5, 33.5, 33.5, 33.5, 33.5, 33.5, 33.5, 33.5, 33.5, 33.5, 33.5, 33.5, 33.5, 33.5, 33.5, 33.5, 33.5, 33.5, 33.5, 33.5, 33.5, 33.5, 33.5, 33.5, 33.5, 33.5, 33.5, 33.5, 33.5, 33.5, 33.5, 33.5, 33.5, 33.5, 33.5, 33.5, 33.5, 33.5, 33.5, 33.47, 33.47, 33.47, 33.47, 33.47, 33.47, 33.45, 33.33, 33.33, 33.33, 33.33, 33.33, 33.33, 33.33, 33.33, 33.33, 33.33, 33.33, 33.33, 33.33, 33.33, 33.33, 33.33, 33.33, 33.33, 33.33, 33.33, 33.33, 33.33, 33.33, 33.33, 33.33, 33.33, 33.33, 33.33, 33.33, 33.33, 33.33, 33.33, 33.33, 33.33, 33.33, 33.33, 33.33, 33.33, 33.33, 33.33, 33.33, 33.33, 33.33, 33.33, 33.33, 33.3, 33.3, 33.3, 33.3, 33.3, 33.3, 33.3, 33.3, 33.3, 33.3, 33.3, 33.3, 33.3, 33.3, 33.3, 33.3, 33.3, 33.3, 33.3, 33.3, 33.3, 33.3, 33.3, 33.3, 33.3, 33.3, 33.3, 33.3, 33.3, 33.3, 33.3, 33.3, 33.3, 33.3, 33.3, 33.3, 33.3, 33.3, 33.3, 33.3, 33.3, 33.3, 33.3, 33.3, 33.3, 33.3, 33.3, 33.3, 33.3, 33.3, 33.3, 33.3, 33.3, 33.3, 33.3, 33.3, 33.3, 33.3, 33.3, 33.3, 33.3, 33.3, 33.3, 33.3, 33.3, 33.3, 33.3, 33.3, 33.2, 33.2, 33.2, 33.2, 33.2, 33.1, 33.1, 33.07, 33.07, 33.07, 33.07, 33.07, 33.07, 33.07, 33.07, 33.07, 33.07, 33.07, 33.07, 33.07, 33.07, 33.07, 33.07, 33.07, 33.07, 33.07, 33.07, 33.07, 33.07, 33.07, 33.05, 33.05, 33.05, 33.05, 33.04, 33.04, 33.04, 33.04, 33.04, 33.04, 33.04, 33.0, 33.0, 33.0, 33.0, 33.0, 33.0, 33.0, 33.0, 33.0, 33.0, 33.0, 33.0, 33.0, 33.0, 33.0, 33.0, 33.0, 33.0, 33.0, 33.0, 33.0, 33.0, 33.0, 33.0, 33.0, 33.0, 33.0, 33.0, 33.0, 33.0, 33.0, 33.0, 33.0, 33.0, 33.0, 33.0, 33.0, 33.0, 33.0, 33.0, 33.0, 33.0, 33.0, 33.0, 33.0, 33.0, 33.0, 33.0, 33.0, 33.0, 33.0, 33.0, 33.0, 33.0, 33.0, 33.0, 33.0, 33.0, 33.0, 33.0, 33.0, 33.0, 33.0, 32.9, 32.9, 32.9, 32.9, 32.9, 32.9, 32.9, 32.9, 32.9, 32.9, 32.9, 32.9, 32.9, 32.9, 32.9, 32.9, 32.9, 32.9, 32.9, 32.9, 32.9, 32.9, 32.9, 32.9, 32.9, 32.9, 32.9, 32.9, 32.9, 32.9, 32.9, 32.9, 32.9, 32.9, 32.9, 32.9, 32.9, 32.9, 32.9, 32.9, 32.9, 32.9, 32.9, 32.9, 32.9, 32.9, 32.85, 32.83, 32.83, 32.83, 32.83, 32.83, 32.83, 32.83, 32.83, 32.83, 32.83, 32.83, 32.83, 32.83, 32.83, 32.83, 32.83, 32.83, 32.83, 32.83, 32.83, 32.83, 32.83, 32.83, 32.83, 32.83, 32.83, 32.83, 32.83, 32.83, 32.83, 32.83, 32.83, 32.83, 32.83, 32.83, 32.83, 32.83, 32.83, 32.83, 32.83, 32.83, 32.83, 32.83, 32.83, 32.83, 32.83, 32.83, 32.83, 32.83, 32.83, 32.83, 32.83, 32.83, 32.83, 32.83, 32.83, 32.83, 32.8, 32.8, 32.8, 32.8, 32.8, 32.8, 32.8, 32.8, 32.8, 32.8, 32.8, 32.8, 32.8, 32.8, 32.8, 32.8, 32.8, 32.67, 32.67, 32.67, 32.67, 32.67, 32.67, 32.67, 32.67, 32.67, 32.67, 32.67, 32.67, 32.67, 32.67, 32.67, 32.67, 32.67, 32.67, 32.67, 32.67, 32.67, 32.67, 32.67, 32.67, 32.67, 32.67, 32.67, 32.65, 32.65, 32.65, 32.65, 32.65, 32.6, 32.6, 32.54, 32.54, 32.54, 32.54, 32.54, 32.54, 32.54, 32.54, 32.54, 32.5, 32.5, 32.5, 32.5, 32.5, 32.5, 32.5, 32.5, 32.5, 32.5, 32.5, 32.5, 32.5, 32.5, 32.5, 32.5, 32.5, 32.5, 32.5, 32.5, 32.5, 32.5, 32.5, 32.5, 32.5, 32.5, 32.5, 32.5, 32.5, 32.5, 32.5, 32.5, 32.5, 32.5, 32.5, 32.5, 32.5, 32.5, 32.5, 32.5, 32.5, 32.5, 32.5, 32.5, 32.5, 32.5, 32.5, 32.5, 32.5, 32.5, 32.5, 32.5, 32.5, 32.5, 32.5, 32.5, 32.5, 32.5, 32.5, 32.5, 32.5, 32.5, 32.5, 32.5, 32.5, 32.5, 32.5, 32.5, 32.5, 32.5, 32.5, 32.5, 32.5, 32.5, 32.5, 32.5, 32.5, 32.5, 32.5, 32.5, 32.5, 32.5, 32.5, 32.5, 32.5, 32.5, 32.5, 32.5, 32.5, 32.5, 32.5, 32.5, 32.5, 32.5, 32.5, 32.5, 32.5, 32.5, 32.5, 32.5, 32.5, 32.5, 32.5, 32.5, 32.5, 32.5, 32.5, 32.5, 32.5, 32.5, 32.5, 32.5, 32.5, 32.5, 32.5, 32.5, 32.5, 32.5, 32.5, 32.5, 32.5, 32.5, 32.5, 32.5, 32.5, 32.5, 32.5, 32.5, 32.5, 32.4, 32.4, 32.4, 32.4, 32.33, 32.33, 32.33, 32.33, 32.33, 32.33, 32.33, 32.33, 32.33, 32.33, 32.33, 32.33, 32.33, 32.33, 32.33, 32.33, 32.33, 32.33, 32.33, 32.33, 32.33, 32.33, 32.33, 32.33, 32.33, 32.33, 32.33, 32.33, 32.33, 32.33, 32.33, 32.33, 32.33, 32.33, 32.33, 32.33, 32.33, 32.33, 32.33, 32.33, 32.33, 32.33, 32.33, 32.33, 32.33, 32.33, 32.33, 32.33, 32.33, 32.33, 32.33, 32.33, 32.33, 32.33, 32.33, 32.33, 32.33, 32.3, 32.3, 32.3, 32.3, 32.3, 32.3, 32.3, 32.3, 32.3, 32.3, 32.3, 32.3, 32.27, 32.27, 32.27, 32.27, 32.27, 32.27, 32.27, 32.27, 32.27, 32.27, 32.27, 32.27, 32.27, 32.27, 32.27, 32.27, 32.27, 32.27, 32.27, 32.27, 32.27, 32.27, 32.27, 32.27, 32.27, 32.27, 32.27, 32.27, 32.27, 32.25, 32.25, 32.1, 32.1, 32.1, 32.1, 32.1, 32.1, 32.1, 32.1, 32.1, 32.1, 32.1, 32.1, 32.1, 32.1, 32.1, 32.1, 32.1, 32.1, 32.1, 32.1, 32.1, 32.1, 32.1, 32.1, 32.1, 32.1, 32.1, 32.1, 32.1, 32.1, 32.1, 32.1, 32.1, 32.1, 32.1, 32.1, 32.1, 32.1, 32.1, 32.1, 32.1, 32.1, 32.1, 32.1, 32.1, 32.1, 32.1, 32.1, 32.1, 32.1, 32.1, 32.1, 32.1, 32.1, 32.1, 32.1, 32.1, 32.1, 32.1, 32.1, 32.1, 32.1, 32.1, 32.1, 32.04, 32.04, 32.04, 32.04, 32.04, 32.04, 32.04, 32.04, 32.04, 32.04, 32.0, 32.0, 32.0, 32.0, 32.0, 32.0, 32.0, 32.0, 32.0, 32.0, 32.0, 32.0, 32.0, 32.0, 32.0, 32.0, 32.0, 32.0, 32.0, 32.0, 32.0, 32.0, 32.0, 32.0, 32.0, 32.0, 32.0, 32.0, 32.0, 32.0, 32.0, 32.0, 32.0, 32.0, 32.0, 32.0, 32.0, 32.0, 32.0, 32.0, 32.0, 32.0, 32.0, 32.0, 32.0, 32.0, 32.0, 32.0, 32.0, 32.0, 32.0, 32.0, 32.0, 32.0, 32.0, 32.0, 32.0, 32.0, 32.0, 32.0, 32.0, 32.0, 32.0, 32.0, 32.0, 32.0, 32.0, 32.0, 32.0, 32.0, 32.0, 32.0, 32.0, 32.0, 32.0, 32.0, 32.0, 32.0, 32.0, 32.0, 32.0, 32.0, 32.0, 31.87, 31.87, 31.87, 31.87, 31.87, 31.87, 31.87, 31.87, 31.87, 31.87, 31.87, 31.87, 31.87, 31.87, 31.87, 31.85, 31.85, 31.85, 31.85, 31.85, 31.85, 31.85, 31.85, 31.83, 31.83, 31.83, 31.83, 31.83, 31.83, 31.83, 31.83, 31.83, 31.83, 31.83, 31.83, 31.83, 31.83, 31.83, 31.83, 31.83, 31.83, 31.83, 31.83, 31.83, 31.83, 31.83, 31.83, 31.83, 31.83, 31.83, 31.83, 31.83, 31.83, 31.83, 31.83, 31.83, 31.83, 31.83, 31.83, 31.83, 31.83, 31.83, 31.83, 31.83, 31.83, 31.83, 31.83, 31.83, 31.8, 31.8, 31.8, 31.8, 31.8, 31.8, 31.8, 31.8, 31.8, 31.8, 31.8, 31.8, 31.8, 31.8, 31.8, 31.8, 31.8, 31.8, 31.8, 31.8, 31.8, 31.7, 31.7, 31.7, 31.7, 31.7, 31.7, 31.7, 31.7, 31.7, 31.7, 31.7, 31.7, 31.7, 31.7, 31.7, 31.7, 31.7, 31.7, 31.7, 31.7, 31.7, 31.7, 31.7, 31.7, 31.7, 31.7, 31.7, 31.7, 31.7, 31.7, 31.7, 31.7, 31.7, 31.7, 31.7, 31.7, 31.7, 31.7, 31.7, 31.7, 31.7, 31.7, 31.7, 31.7, 31.7, 31.7, 31.7, 31.7, 31.7, 31.7, 31.7, 31.7, 31.7, 31.7, 31.7, 31.7, 31.7, 31.7, 31.7, 31.7, 31.7, 31.7, 31.7, 31.7, 31.7, 31.7, 31.7, 31.7, 31.7, 31.7, 31.7, 31.7, 31.7, 31.7, 31.7, 31.7, 31.6, 31.6, 31.6, 31.6, 31.54, 31.5, 31.5, 31.5, 31.5, 31.5, 31.5, 31.5, 31.5, 31.5, 31.5, 31.5, 31.5, 31.5, 31.5, 31.5, 31.5, 31.5, 31.5, 31.5, 31.5, 31.5, 31.5, 31.5, 31.5, 31.5, 31.5, 31.5, 31.5, 31.5, 31.5, 31.5, 31.5, 31.5, 31.5, 31.5, 31.5, 31.5, 31.5, 31.5, 31.5, 31.5, 31.5, 31.5, 31.5, 31.5, 31.5, 31.5, 31.5, 31.5, 31.5, 31.5, 31.5, 31.5, 31.5, 31.5, 31.5, 31.5, 31.5, 31.5, 31.5, 31.5, 31.5, 31.5, 31.5, 31.5, 31.5, 31.5, 31.5, 31.5, 31.5, 31.5, 31.5, 31.5, 31.5, 31.5, 31.5, 31.5, 31.5, 31.5, 31.5, 31.5, 31.5, 31.5, 31.47, 31.47, 31.47, 31.47, 31.47, 31.47, 31.47, 31.47, 31.47, 31.47, 31.47, 31.47, 31.47, 31.47, 31.47, 31.47, 31.47, 31.47, 31.47, 31.47, 31.47, 31.47, 31.47, 31.47, 31.47, 31.47, 31.47, 31.47, 31.47, 31.450000000000006, 31.450000000000006, 31.450000000000006, 31.450000000000006, 31.450000000000006, 31.450000000000006, 31.450000000000006, 31.450000000000006, 31.4, 31.4, 31.33, 31.33, 31.33, 31.33, 31.33, 31.33, 31.33, 31.33, 31.33, 31.33, 31.33, 31.33, 31.33, 31.33, 31.33, 31.33, 31.33, 31.33, 31.33, 31.33, 31.33, 31.33, 31.33, 31.33, 31.33, 31.33, 31.33, 31.33, 31.33, 31.33, 31.33, 31.33, 31.33, 31.33, 31.33, 31.33, 31.33, 31.33, 31.33, 31.33, 31.33, 31.33, 31.33, 31.33, 31.33, 31.33, 31.33, 31.33, 31.33, 31.33, 31.33, 31.33, 31.33, 31.33, 31.33, 31.33, 31.33, 31.33, 31.33, 31.3, 31.3, 31.3, 31.3, 31.3, 31.3, 31.3, 31.3, 31.3, 31.3, 31.3, 31.3, 31.3, 31.3, 31.3, 31.3, 31.3, 31.3, 31.3, 31.3, 31.3, 31.3, 31.3, 31.3, 31.3, 31.3, 31.3, 31.3, 31.3, 31.3, 31.3, 31.3, 31.3, 31.3, 31.3, 31.3, 31.3, 31.3, 31.3, 31.3, 31.3, 31.3, 31.3, 31.3, 31.3, 31.3, 31.3, 31.3, 31.3, 31.3, 31.3, 31.3, 31.3, 31.3, 31.3, 31.3, 31.3, 31.3, 31.3, 31.3, 31.3, 31.3, 31.3, 31.3, 31.3, 31.3, 31.3, 31.3, 31.3, 31.3, 31.3, 31.2, 31.2, 31.2, 31.2, 31.1, 31.1, 31.07, 31.07, 31.07, 31.07, 31.07, 31.07, 31.07, 31.07, 31.07, 31.07, 31.07, 31.07, 31.07, 31.07, 31.07, 31.07, 31.07, 31.07, 31.07, 31.07, 31.07, 31.07, 31.07, 31.07, 31.07, 31.07, 31.07, 31.05, 31.05, 31.05, 31.05, 31.05, 31.05, 31.04, 31.04, 31.04, 31.04, 31.04, 31.04, 31.04, 31.0, 31.0, 31.0, 31.0, 31.0, 31.0, 31.0, 31.0, 31.0, 31.0, 31.0, 31.0, 31.0, 31.0, 31.0, 31.0, 31.0, 31.0, 31.0, 31.0, 31.0, 31.0, 31.0, 31.0, 31.0, 31.0, 31.0, 31.0, 31.0, 31.0, 31.0, 31.0, 31.0, 31.0, 31.0, 31.0, 31.0, 31.0, 31.0, 31.0, 31.0, 31.0, 31.0, 31.0, 31.0, 31.0, 31.0, 31.0, 31.0, 31.0, 31.0, 31.0, 31.0, 31.0, 31.0, 31.0, 31.0, 31.0, 31.0, 31.0, 31.0, 31.0, 31.0, 31.0, 31.0, 31.0, 31.0, 31.0, 31.0, 31.0, 31.0, 31.0, 31.0, 31.0, 30.99, 30.9, 30.9, 30.9, 30.9, 30.9, 30.9, 30.9, 30.9, 30.9, 30.9, 30.9, 30.9, 30.9, 30.9, 30.9, 30.9, 30.9, 30.9, 30.9, 30.9, 30.9, 30.9, 30.9, 30.9, 30.9, 30.9, 30.9, 30.9, 30.9, 30.9, 30.9, 30.9, 30.9, 30.9, 30.9, 30.9, 30.9, 30.9, 30.9, 30.9, 30.9, 30.9, 30.9, 30.9, 30.9, 30.9, 30.9, 30.9, 30.9, 30.9, 30.9, 30.9, 30.9, 30.9, 30.9, 30.9, 30.9, 30.9, 30.9, 30.9, 30.9, 30.9, 30.9, 30.9, 30.9, 30.9, 30.9, 30.9, 30.9, 30.9, 30.9, 30.9, 30.9, 30.9, 30.9, 30.9, 30.9, 30.9, 30.9, 30.9, 30.9, 30.9, 30.9, 30.9, 30.9, 30.9, 30.9, 30.9, 30.83, 30.83, 30.83, 30.83, 30.83, 30.83, 30.83, 30.83, 30.83, 30.83, 30.83, 30.83, 30.83, 30.83, 30.83, 30.83, 30.83, 30.83, 30.83, 30.83, 30.83, 30.83, 30.83, 30.83, 30.83, 30.83, 30.83, 30.83, 30.83, 30.83, 30.83, 30.83, 30.83, 30.83, 30.83, 30.83, 30.83, 30.83, 30.83, 30.83, 30.8, 30.8, 30.8, 30.8, 30.8, 30.8, 30.8, 30.8, 30.8, 30.8, 30.7, 30.67, 30.67, 30.67, 30.67, 30.67, 30.67, 30.67, 30.67, 30.67, 30.67, 30.67, 30.67, 30.67, 30.67, 30.67, 30.67, 30.67, 30.67, 30.67, 30.67, 30.67, 30.67, 30.67, 30.67, 30.67, 30.67, 30.67, 30.67, 30.67, 30.67, 30.67, 30.67, 30.65, 30.65, 30.65, 30.65, 30.65, 30.65, 30.65, 30.65, 30.65, 30.65, 30.6, 30.6, 30.6, 30.6, 30.54, 30.54, 30.54, 30.54, 30.5, 30.5, 30.5, 30.5, 30.5, 30.5, 30.5, 30.5, 30.5, 30.5, 30.5, 30.5, 30.5, 30.5, 30.5, 30.5, 30.5, 30.5, 30.5, 30.5, 30.5, 30.5, 30.5, 30.5, 30.5, 30.5, 30.5, 30.5, 30.5, 30.5, 30.5, 30.5, 30.5, 30.5, 30.5, 30.5, 30.5, 30.5, 30.5, 30.5, 30.5, 30.5, 30.5, 30.5, 30.5, 30.5, 30.5, 30.5, 30.5, 30.5, 30.5, 30.5, 30.5, 30.5, 30.5, 30.5, 30.5, 30.5, 30.5, 30.5, 30.5, 30.5, 30.5, 30.5, 30.5, 30.5, 30.5, 30.5, 30.5, 30.5, 30.5, 30.5, 30.5, 30.5, 30.5, 30.5, 30.5, 30.5, 30.5, 30.5, 30.5, 30.5, 30.5, 30.5, 30.5, 30.5, 30.5, 30.5, 30.5, 30.5, 30.5, 30.5, 30.5, 30.5, 30.5, 30.5, 30.5, 30.5, 30.5, 30.5, 30.5, 30.5, 30.5, 30.5, 30.5, 30.5, 30.5, 30.5, 30.5, 30.5, 30.5, 30.5, 30.5, 30.5, 30.5, 30.5, 30.5, 30.5, 30.5, 30.5, 30.5, 30.5, 30.5, 30.5, 30.5, 30.5, 30.5, 30.5, 30.5, 30.5, 30.5, 30.5, 30.5, 30.5, 30.5, 30.5, 30.5, 30.5, 30.5, 30.5, 30.5, 30.5, 30.5, 30.5, 30.5, 30.5, 30.5, 30.5, 30.5, 30.5, 30.5, 30.5, 30.5, 30.5, 30.5, 30.5, 30.5, 30.5, 30.5, 30.5, 30.5, 30.5, 30.5, 30.5, 30.5, 30.5, 30.5, 30.5, 30.5, 30.5, 30.5, 30.5, 30.4, 30.4, 30.4, 30.4, 30.4, 30.33, 30.33, 30.33, 30.33, 30.33, 30.33, 30.33, 30.33, 30.33, 30.33, 30.33, 30.33, 30.33, 30.33, 30.33, 30.33, 30.33, 30.33, 30.33, 30.33, 30.33, 30.33, 30.33, 30.33, 30.33, 30.33, 30.33, 30.33, 30.33, 30.33, 30.33, 30.33, 30.33, 30.33, 30.33, 30.33, 30.33, 30.33, 30.33, 30.3, 30.3, 30.3, 30.3, 30.3, 30.3, 30.3, 30.3, 30.3, 30.3, 30.3, 30.27, 30.27, 30.27, 30.27, 30.27, 30.27, 30.27, 30.27, 30.27, 30.27, 30.27, 30.27, 30.27, 30.27, 30.27, 30.27, 30.27, 30.27, 30.27, 30.27, 30.27, 30.27, 30.27, 30.27, 30.27, 30.27, 30.27, 30.27, 30.27, 30.27, 30.27, 30.27, 30.25, 30.25, 30.25, 30.25, 30.25, 30.25, 30.25, 30.25, 30.25, 30.2, 30.1, 30.1, 30.1, 30.1, 30.1, 30.1, 30.1, 30.1, 30.1, 30.1, 30.1, 30.1, 30.1, 30.1, 30.1, 30.1, 30.1, 30.1, 30.1, 30.1, 30.1, 30.1, 30.1, 30.1, 30.1, 30.1, 30.1, 30.1, 30.1, 30.1, 30.1, 30.1, 30.1, 30.1, 30.1, 30.1, 30.1, 30.1, 30.1, 30.1, 30.1, 30.1, 30.1, 30.1, 30.1, 30.1, 30.1, 30.1, 30.1, 30.1, 30.1, 30.1, 30.1, 30.1, 30.1, 30.1, 30.1, 30.1, 30.1, 30.1, 30.1, 30.1, 30.1, 30.1, 30.1, 30.1, 30.1, 30.1, 30.1, 30.1, 30.1, 30.1, 30.1, 30.1, 30.1, 30.1, 30.1, 30.1, 30.1, 30.1, 30.1, 30.1, 30.1, 30.1, 30.1, 30.1, 30.04, 30.04, 30.04, 30.0, 30.0, 30.0, 30.0, 30.0, 30.0, 30.0, 30.0, 30.0, 30.0, 30.0, 30.0, 30.0, 30.0, 30.0, 30.0, 30.0, 30.0, 30.0, 30.0, 30.0, 30.0, 30.0, 30.0, 30.0, 30.0, 30.0, 30.0, 30.0, 30.0, 30.0, 30.0, 30.0, 30.0, 30.0, 30.0, 30.0, 30.0, 30.0, 30.0, 30.0, 30.0, 30.0, 30.0, 30.0, 30.0, 30.0, 30.0, 30.0, 30.0, 30.0, 30.0, 30.0, 30.0, 30.0, 30.0, 30.0, 30.0, 30.0, 30.0, 30.0, 30.0, 30.0, 30.0, 30.0, 30.0, 30.0, 30.0, 30.0, 30.0, 30.0, 30.0, 30.0, 30.0, 30.0, 30.0, 30.0, 30.0, 30.0, 30.0, 30.0, 30.0, 30.0, 30.0, 30.0, 30.0, 30.0, 30.0, 30.0, 30.0, 30.0, 30.0, 30.0, 30.0, 30.0, 30.0, 30.0, 30.0, 30.0, 30.0, 30.0, 30.0, 30.0, 29.950000000000006, 29.87, 29.87, 29.87, 29.87, 29.87, 29.87, 29.87, 29.87, 29.87, 29.87, 29.87, 29.87, 29.87, 29.87, 29.87, 29.87, 29.87, 29.87, 29.87, 29.87, 29.87, 29.87, 29.87, 29.87, 29.87, 29.87, 29.87, 29.87, 29.87, 29.87, 29.87, 29.87, 29.87, 29.87, 29.87, 29.85, 29.85, 29.85, 29.85, 29.85, 29.85, 29.85, 29.85, 29.83, 29.83, 29.83, 29.83, 29.83, 29.83, 29.83, 29.83, 29.83, 29.83, 29.83, 29.83, 29.83, 29.83, 29.83, 29.83, 29.83, 29.83, 29.83, 29.83, 29.83, 29.83, 29.83, 29.83, 29.83, 29.83, 29.83, 29.83, 29.83, 29.83, 29.83, 29.83, 29.83, 29.83, 29.83, 29.8, 29.8, 29.8, 29.8, 29.8, 29.8, 29.8, 29.8, 29.8, 29.8, 29.8, 29.7, 29.7, 29.7, 29.7, 29.7, 29.7, 29.7, 29.7, 29.7, 29.7, 29.7, 29.7, 29.7, 29.7, 29.7, 29.7, 29.7, 29.7, 29.7, 29.7, 29.7, 29.7, 29.7, 29.7, 29.7, 29.7, 29.7, 29.7, 29.7, 29.7, 29.7, 29.7, 29.7, 29.7, 29.7, 29.7, 29.7, 29.7, 29.7, 29.7, 29.7, 29.7, 29.7, 29.7, 29.7, 29.7, 29.7, 29.7, 29.7, 29.7, 29.7, 29.7, 29.7, 29.7, 29.7, 29.7, 29.7, 29.7, 29.7, 29.7, 29.7, 29.7, 29.7, 29.7, 29.7, 29.7, 29.7, 29.7, 29.7, 29.7, 29.7, 29.7, 29.7, 29.7, 29.7, 29.7, 29.7, 29.7, 29.7, 29.7, 29.7, 29.7, 29.7, 29.7, 29.7, 29.7, 29.7, 29.7, 29.7, 29.7, 29.7, 29.65, 29.65, 29.6, 29.6, 29.54, 29.54, 29.54, 29.54, 29.54, 29.54, 29.5, 29.5, 29.5, 29.5, 29.5, 29.5, 29.5, 29.5, 29.5, 29.5, 29.5, 29.5, 29.5, 29.5, 29.5, 29.5, 29.5, 29.5, 29.5, 29.5, 29.5, 29.5, 29.5, 29.5, 29.5, 29.5, 29.5, 29.5, 29.5, 29.5, 29.5, 29.5, 29.5, 29.5, 29.5, 29.5, 29.5, 29.5, 29.5, 29.5, 29.5, 29.5, 29.5, 29.5, 29.5, 29.5, 29.5, 29.5, 29.5, 29.5, 29.5, 29.5, 29.5, 29.5, 29.5, 29.5, 29.5, 29.5, 29.5, 29.5, 29.5, 29.5, 29.5, 29.5, 29.5, 29.5, 29.5, 29.5, 29.5, 29.5, 29.5, 29.5, 29.5, 29.5, 29.5, 29.5, 29.5, 29.5, 29.5, 29.5, 29.5, 29.5, 29.5, 29.5, 29.5, 29.5, 29.5, 29.5, 29.5, 29.5, 29.5, 29.5, 29.5, 29.5, 29.5, 29.5, 29.5, 29.5, 29.5, 29.5, 29.5, 29.5, 29.5, 29.5, 29.5, 29.5, 29.5, 29.5, 29.5, 29.5, 29.5, 29.47, 29.47, 29.47, 29.47, 29.47, 29.47, 29.47, 29.47, 29.47, 29.47, 29.47, 29.47, 29.47, 29.47, 29.47, 29.47, 29.47, 29.47, 29.47, 29.47, 29.47, 29.47, 29.47, 29.47, 29.47, 29.47, 29.47, 29.47, 29.47, 29.47, 29.47, 29.47, 29.47, 29.47, 29.47, 29.47, 29.47, 29.47, 29.450000000000006, 29.450000000000006, 29.450000000000006, 29.450000000000006, 29.450000000000006, 29.450000000000006, 29.450000000000006, 29.450000000000006, 29.450000000000006, 29.450000000000006, 29.450000000000006, 29.450000000000006, 29.450000000000006, 29.450000000000006, 29.450000000000006, 29.4, 29.33, 29.33, 29.33, 29.33, 29.33, 29.33, 29.33, 29.33, 29.33, 29.33, 29.33, 29.33, 29.33, 29.33, 29.33, 29.33, 29.33, 29.33, 29.33, 29.33, 29.33, 29.33, 29.33, 29.33, 29.33, 29.33, 29.33, 29.33, 29.33, 29.33, 29.33, 29.33, 29.3, 29.3, 29.3, 29.3, 29.3, 29.3, 29.3, 29.3, 29.3, 29.3, 29.3, 29.3, 29.3, 29.3, 29.3, 29.3, 29.3, 29.3, 29.3, 29.3, 29.3, 29.3, 29.3, 29.3, 29.3, 29.3, 29.3, 29.3, 29.3, 29.3, 29.3, 29.3, 29.3, 29.3, 29.3, 29.3, 29.3, 29.3, 29.3, 29.3, 29.3, 29.3, 29.3, 29.3, 29.3, 29.3, 29.3, 29.3, 29.3, 29.3, 29.3, 29.3, 29.3, 29.3, 29.3, 29.3, 29.3, 29.3, 29.3, 29.3, 29.3, 29.3, 29.3, 29.3, 29.3, 29.3, 29.3, 29.3, 29.3, 29.3, 29.3, 29.3, 29.3, 29.3, 29.3, 29.3, 29.3, 29.3, 29.3, 29.3, 29.3, 29.3, 29.3, 29.3, 29.3, 29.3, 29.3, 29.3, 29.3, 29.3, 29.3, 29.3, 29.3, 29.3, 29.3, 29.3, 29.3, 29.3, 29.3, 29.3, 29.3, 29.3, 29.3, 29.2, 29.2, 29.2, 29.2, 29.15, 29.1, 29.07, 29.07, 29.07, 29.07, 29.07, 29.07, 29.07, 29.07, 29.07, 29.07, 29.07, 29.07, 29.07, 29.07, 29.07, 29.07, 29.07, 29.07, 29.07, 29.07, 29.07, 29.07, 29.07, 29.07, 29.07, 29.07, 29.07, 29.07, 29.07, 29.07, 29.07, 29.07, 29.05, 29.05, 29.05, 29.05, 29.05, 29.05, 29.05, 29.05, 29.05, 29.05, 29.05, 29.05, 29.05, 29.04, 29.04, 29.04, 29.0, 29.0, 29.0, 29.0, 29.0, 29.0, 29.0, 29.0, 29.0, 29.0, 29.0, 29.0, 29.0, 29.0, 29.0, 29.0, 29.0, 29.0, 29.0, 29.0, 29.0, 29.0, 29.0, 29.0, 29.0, 29.0, 29.0, 29.0, 29.0, 29.0, 29.0, 29.0, 29.0, 29.0, 29.0, 29.0, 29.0, 29.0, 29.0, 29.0, 29.0, 29.0, 29.0, 29.0, 29.0, 29.0, 29.0, 29.0, 29.0, 29.0, 29.0, 29.0, 29.0, 29.0, 29.0, 29.0, 29.0, 29.0, 29.0, 29.0, 29.0, 29.0, 29.0, 29.0, 29.0, 29.0, 29.0, 29.0, 29.0, 29.0, 29.0, 29.0, 29.0, 29.0, 29.0, 29.0, 29.0, 29.0, 29.0, 29.0, 29.0, 29.0, 29.0, 29.0, 29.0, 29.0, 29.0, 29.0, 29.0, 29.0, 29.0, 29.0, 29.0, 29.0, 29.0, 29.0, 29.0, 29.0, 29.0, 29.0, 29.0, 29.0, 29.0, 28.9, 28.9, 28.9, 28.9, 28.9, 28.9, 28.9, 28.9, 28.9, 28.9, 28.9, 28.9, 28.9, 28.9, 28.9, 28.9, 28.9, 28.9, 28.9, 28.9, 28.9, 28.9, 28.9, 28.9, 28.9, 28.9, 28.9, 28.9, 28.9, 28.9, 28.9, 28.9, 28.9, 28.9, 28.9, 28.9, 28.9, 28.9, 28.9, 28.9, 28.9, 28.9, 28.9, 28.9, 28.9, 28.9, 28.9, 28.9, 28.9, 28.9, 28.9, 28.9, 28.9, 28.9, 28.9, 28.9, 28.9, 28.9, 28.9, 28.9, 28.9, 28.9, 28.9, 28.9, 28.9, 28.9, 28.9, 28.9, 28.9, 28.9, 28.9, 28.9, 28.9, 28.9, 28.9, 28.9, 28.9, 28.9, 28.9, 28.9, 28.9, 28.9, 28.9, 28.9, 28.9, 28.9, 28.9, 28.9, 28.9, 28.9, 28.9, 28.9, 28.9, 28.9, 28.9, 28.9, 28.9, 28.9, 28.9, 28.9, 28.9, 28.9, 28.9, 28.9, 28.9, 28.9, 28.9, 28.9, 28.9, 28.9, 28.9, 28.9, 28.9, 28.9, 28.9, 28.9, 28.9, 28.9, 28.9, 28.9, 28.9, 28.9, 28.9, 28.83, 28.83, 28.83, 28.83, 28.83, 28.83, 28.83, 28.83, 28.83, 28.83, 28.83, 28.83, 28.83, 28.83, 28.83, 28.83, 28.83, 28.83, 28.83, 28.83, 28.83, 28.83, 28.83, 28.83, 28.83, 28.83, 28.83, 28.83, 28.83, 28.83, 28.8, 28.8, 28.8, 28.8, 28.8, 28.8, 28.8, 28.8, 28.8, 28.8, 28.7, 28.7, 28.67, 28.67, 28.67, 28.67, 28.67, 28.67, 28.67, 28.67, 28.67, 28.67, 28.67, 28.67, 28.67, 28.67, 28.67, 28.67, 28.67, 28.67, 28.67, 28.67, 28.67, 28.67, 28.67, 28.67, 28.67, 28.67, 28.67, 28.67, 28.67, 28.67, 28.67, 28.67, 28.67, 28.67, 28.65, 28.65, 28.65, 28.65, 28.65, 28.6, 28.6, 28.54, 28.54, 28.54, 28.54, 28.54, 28.54, 28.54, 28.54, 28.54, 28.54, 28.5, 28.5, 28.5, 28.5, 28.5, 28.5, 28.5, 28.5, 28.5, 28.5, 28.5, 28.5, 28.5, 28.5, 28.5, 28.5, 28.5, 28.5, 28.5, 28.5, 28.5, 28.5, 28.5, 28.5, 28.5, 28.5, 28.5, 28.5, 28.5, 28.5, 28.5, 28.5, 28.5, 28.5, 28.5, 28.5, 28.5, 28.5, 28.5, 28.5, 28.5, 28.5, 28.5, 28.5, 28.5, 28.5, 28.5, 28.5, 28.5, 28.5, 28.5, 28.5, 28.5, 28.5, 28.5, 28.5, 28.5, 28.5, 28.5, 28.5, 28.5, 28.5, 28.5, 28.5, 28.5, 28.5, 28.5, 28.5, 28.5, 28.5, 28.5, 28.5, 28.5, 28.5, 28.5, 28.5, 28.5, 28.5, 28.5, 28.5, 28.5, 28.5, 28.5, 28.5, 28.5, 28.5, 28.5, 28.5, 28.5, 28.5, 28.5, 28.5, 28.5, 28.5, 28.5, 28.5, 28.5, 28.5, 28.5, 28.5, 28.5, 28.5, 28.5, 28.5, 28.5, 28.5, 28.5, 28.5, 28.5, 28.5, 28.5, 28.5, 28.5, 28.5, 28.5, 28.5, 28.5, 28.5, 28.5, 28.5, 28.5, 28.5, 28.5, 28.5, 28.5, 28.5, 28.5, 28.5, 28.5, 28.5, 28.5, 28.5, 28.5, 28.5, 28.5, 28.5, 28.5, 28.5, 28.5, 28.5, 28.5, 28.5, 28.5, 28.5, 28.5, 28.5, 28.5, 28.5, 28.5, 28.5, 28.5, 28.5, 28.5, 28.5, 28.5, 28.5, 28.5, 28.5, 28.5, 28.5, 28.5, 28.5, 28.5, 28.5, 28.5, 28.5, 28.5, 28.5, 28.5, 28.5, 28.5, 28.5, 28.5, 28.5, 28.5, 28.5, 28.5, 28.5, 28.5, 28.5, 28.5, 28.5, 28.5, 28.5, 28.5, 28.5, 28.5, 28.5, 28.5, 28.5, 28.5, 28.5, 28.5, 28.5, 28.5, 28.5, 28.5, 28.5, 28.5, 28.5, 28.5, 28.5, 28.5, 28.5, 28.5, 28.5, 28.5, 28.5, 28.5, 28.5, 28.5, 28.5, 28.5, 28.5, 28.5, 28.450000000000006, 28.4, 28.4, 28.33, 28.33, 28.33, 28.33, 28.33, 28.33, 28.33, 28.33, 28.33, 28.33, 28.33, 28.33, 28.33, 28.33, 28.33, 28.33, 28.33, 28.33, 28.33, 28.33, 28.33, 28.33, 28.3, 28.3, 28.3, 28.3, 28.3, 28.27, 28.27, 28.27, 28.27, 28.27, 28.27, 28.27, 28.27, 28.27, 28.27, 28.27, 28.27, 28.27, 28.27, 28.27, 28.27, 28.27, 28.27, 28.27, 28.27, 28.27, 28.27, 28.27, 28.27, 28.27, 28.27, 28.27, 28.27, 28.27, 28.25, 28.25, 28.25, 28.25, 28.25, 28.25, 28.25, 28.25, 28.25, 28.25, 28.25, 28.25, 28.2, 28.19, 28.19, 28.1, 28.1, 28.1, 28.1, 28.1, 28.1, 28.1, 28.1, 28.1, 28.1, 28.1, 28.1, 28.1, 28.1, 28.1, 28.1, 28.1, 28.1, 28.1, 28.1, 28.1, 28.1, 28.1, 28.1, 28.1, 28.1, 28.1, 28.1, 28.1, 28.1, 28.1, 28.1, 28.1, 28.1, 28.1, 28.1, 28.1, 28.1, 28.1, 28.1, 28.1, 28.1, 28.1, 28.1, 28.1, 28.1, 28.1, 28.1, 28.1, 28.1, 28.1, 28.1, 28.1, 28.1, 28.1, 28.1, 28.1, 28.1, 28.1, 28.1, 28.1, 28.1, 28.1, 28.1, 28.1, 28.1, 28.1, 28.1, 28.1, 28.1, 28.1, 28.1, 28.1, 28.1, 28.1, 28.1, 28.1, 28.1, 28.1, 28.1, 28.1, 28.1, 28.1, 28.1, 28.1, 28.1, 28.1, 28.1, 28.1, 28.1, 28.1, 28.1, 28.1, 28.1, 28.1, 28.1, 28.1, 28.1, 28.1, 28.1, 28.1, 28.1, 28.04, 28.0, 28.0, 28.0, 28.0, 28.0, 28.0, 28.0, 28.0, 28.0, 28.0, 28.0, 28.0, 28.0, 28.0, 28.0, 28.0, 28.0, 28.0, 28.0, 28.0, 28.0, 28.0, 28.0, 28.0, 28.0, 28.0, 28.0, 28.0, 28.0, 28.0, 28.0, 28.0, 28.0, 28.0, 28.0, 28.0, 28.0, 28.0, 28.0, 28.0, 28.0, 28.0, 28.0, 28.0, 28.0, 28.0, 28.0, 28.0, 28.0, 28.0, 28.0, 28.0, 28.0, 28.0, 28.0, 28.0, 28.0, 28.0, 28.0, 28.0, 28.0, 28.0, 28.0, 28.0, 28.0, 28.0, 28.0, 28.0, 28.0, 28.0, 28.0, 28.0, 28.0, 28.0, 28.0, 28.0, 28.0], \"coloraxis\": \"coloraxis\"}, \"mode\": \"markers\", \"name\": \"\", \"showlegend\": false, \"subplot\": \"mapbox\", \"type\": \"scattermapbox\"}],\n",
       "                        {\"coloraxis\": {\"colorbar\": {\"title\": {\"text\": \"fare_amount\"}}, \"colorscale\": [[0.0, \"#0d0887\"], [0.1111111111111111, \"#46039f\"], [0.2222222222222222, \"#7201a8\"], [0.3333333333333333, \"#9c179e\"], [0.4444444444444444, \"#bd3786\"], [0.5555555555555556, \"#d8576b\"], [0.6666666666666666, \"#ed7953\"], [0.7777777777777778, \"#fb9f3a\"], [0.8888888888888888, \"#fdca26\"], [1.0, \"#f0f921\"]]}, \"height\": 300, \"legend\": {\"tracegroupgap\": 0}, \"mapbox\": {\"center\": {\"lat\": 40.73192807156902, \"lon\": -73.90662829646254}, \"domain\": {\"x\": [0.0, 1.0], \"y\": [0.0, 1.0]}, \"style\": \"open-street-map\", \"zoom\": 5}, \"margin\": {\"b\": 0, \"l\": 0, \"r\": 0, \"t\": 0}, \"template\": {\"data\": {\"bar\": [{\"error_x\": {\"color\": \"#2a3f5f\"}, \"error_y\": {\"color\": \"#2a3f5f\"}, \"marker\": {\"line\": {\"color\": \"#E5ECF6\", \"width\": 0.5}}, \"type\": \"bar\"}], \"barpolar\": [{\"marker\": {\"line\": {\"color\": \"#E5ECF6\", \"width\": 0.5}}, \"type\": \"barpolar\"}], \"carpet\": [{\"aaxis\": {\"endlinecolor\": \"#2a3f5f\", \"gridcolor\": \"white\", \"linecolor\": \"white\", \"minorgridcolor\": \"white\", \"startlinecolor\": \"#2a3f5f\"}, \"baxis\": {\"endlinecolor\": \"#2a3f5f\", \"gridcolor\": \"white\", \"linecolor\": \"white\", \"minorgridcolor\": \"white\", \"startlinecolor\": \"#2a3f5f\"}, \"type\": \"carpet\"}], \"choropleth\": [{\"colorbar\": {\"outlinewidth\": 0, \"ticks\": \"\"}, \"type\": \"choropleth\"}], \"contour\": [{\"colorbar\": {\"outlinewidth\": 0, \"ticks\": \"\"}, \"colorscale\": [[0.0, \"#0d0887\"], [0.1111111111111111, \"#46039f\"], [0.2222222222222222, \"#7201a8\"], [0.3333333333333333, \"#9c179e\"], [0.4444444444444444, \"#bd3786\"], [0.5555555555555556, \"#d8576b\"], [0.6666666666666666, \"#ed7953\"], [0.7777777777777778, \"#fb9f3a\"], [0.8888888888888888, \"#fdca26\"], [1.0, \"#f0f921\"]], \"type\": \"contour\"}], \"contourcarpet\": [{\"colorbar\": {\"outlinewidth\": 0, \"ticks\": \"\"}, \"type\": \"contourcarpet\"}], \"heatmap\": [{\"colorbar\": {\"outlinewidth\": 0, \"ticks\": \"\"}, \"colorscale\": [[0.0, \"#0d0887\"], [0.1111111111111111, \"#46039f\"], [0.2222222222222222, \"#7201a8\"], [0.3333333333333333, \"#9c179e\"], [0.4444444444444444, \"#bd3786\"], [0.5555555555555556, \"#d8576b\"], [0.6666666666666666, \"#ed7953\"], [0.7777777777777778, \"#fb9f3a\"], [0.8888888888888888, \"#fdca26\"], [1.0, \"#f0f921\"]], \"type\": \"heatmap\"}], \"heatmapgl\": [{\"colorbar\": {\"outlinewidth\": 0, \"ticks\": \"\"}, \"colorscale\": [[0.0, \"#0d0887\"], [0.1111111111111111, \"#46039f\"], [0.2222222222222222, \"#7201a8\"], [0.3333333333333333, \"#9c179e\"], [0.4444444444444444, \"#bd3786\"], [0.5555555555555556, \"#d8576b\"], [0.6666666666666666, \"#ed7953\"], [0.7777777777777778, \"#fb9f3a\"], [0.8888888888888888, \"#fdca26\"], [1.0, \"#f0f921\"]], \"type\": \"heatmapgl\"}], \"histogram\": [{\"marker\": {\"colorbar\": {\"outlinewidth\": 0, \"ticks\": \"\"}}, \"type\": \"histogram\"}], \"histogram2d\": [{\"colorbar\": {\"outlinewidth\": 0, \"ticks\": \"\"}, \"colorscale\": [[0.0, \"#0d0887\"], [0.1111111111111111, \"#46039f\"], [0.2222222222222222, \"#7201a8\"], [0.3333333333333333, \"#9c179e\"], [0.4444444444444444, \"#bd3786\"], [0.5555555555555556, \"#d8576b\"], [0.6666666666666666, \"#ed7953\"], [0.7777777777777778, \"#fb9f3a\"], [0.8888888888888888, \"#fdca26\"], [1.0, \"#f0f921\"]], \"type\": \"histogram2d\"}], \"histogram2dcontour\": [{\"colorbar\": {\"outlinewidth\": 0, \"ticks\": \"\"}, \"colorscale\": [[0.0, \"#0d0887\"], [0.1111111111111111, \"#46039f\"], [0.2222222222222222, \"#7201a8\"], [0.3333333333333333, \"#9c179e\"], [0.4444444444444444, \"#bd3786\"], [0.5555555555555556, \"#d8576b\"], [0.6666666666666666, \"#ed7953\"], [0.7777777777777778, \"#fb9f3a\"], [0.8888888888888888, \"#fdca26\"], [1.0, \"#f0f921\"]], \"type\": \"histogram2dcontour\"}], \"mesh3d\": [{\"colorbar\": {\"outlinewidth\": 0, \"ticks\": \"\"}, \"type\": \"mesh3d\"}], \"parcoords\": [{\"line\": {\"colorbar\": {\"outlinewidth\": 0, \"ticks\": \"\"}}, \"type\": \"parcoords\"}], \"pie\": [{\"automargin\": true, \"type\": \"pie\"}], \"scatter\": [{\"marker\": {\"colorbar\": {\"outlinewidth\": 0, \"ticks\": \"\"}}, \"type\": \"scatter\"}], \"scatter3d\": [{\"line\": {\"colorbar\": {\"outlinewidth\": 0, \"ticks\": \"\"}}, \"marker\": {\"colorbar\": {\"outlinewidth\": 0, \"ticks\": \"\"}}, \"type\": \"scatter3d\"}], \"scattercarpet\": [{\"marker\": {\"colorbar\": {\"outlinewidth\": 0, \"ticks\": \"\"}}, \"type\": \"scattercarpet\"}], \"scattergeo\": [{\"marker\": {\"colorbar\": {\"outlinewidth\": 0, \"ticks\": \"\"}}, \"type\": \"scattergeo\"}], \"scattergl\": [{\"marker\": {\"colorbar\": {\"outlinewidth\": 0, \"ticks\": \"\"}}, \"type\": \"scattergl\"}], \"scattermapbox\": [{\"marker\": {\"colorbar\": {\"outlinewidth\": 0, \"ticks\": \"\"}}, \"type\": \"scattermapbox\"}], \"scatterpolar\": [{\"marker\": {\"colorbar\": {\"outlinewidth\": 0, \"ticks\": \"\"}}, \"type\": \"scatterpolar\"}], \"scatterpolargl\": [{\"marker\": {\"colorbar\": {\"outlinewidth\": 0, \"ticks\": \"\"}}, \"type\": \"scatterpolargl\"}], \"scatterternary\": [{\"marker\": {\"colorbar\": {\"outlinewidth\": 0, \"ticks\": \"\"}}, \"type\": \"scatterternary\"}], \"surface\": [{\"colorbar\": {\"outlinewidth\": 0, \"ticks\": \"\"}, \"colorscale\": [[0.0, \"#0d0887\"], [0.1111111111111111, \"#46039f\"], [0.2222222222222222, \"#7201a8\"], [0.3333333333333333, \"#9c179e\"], [0.4444444444444444, \"#bd3786\"], [0.5555555555555556, \"#d8576b\"], [0.6666666666666666, \"#ed7953\"], [0.7777777777777778, \"#fb9f3a\"], [0.8888888888888888, \"#fdca26\"], [1.0, \"#f0f921\"]], \"type\": \"surface\"}], \"table\": [{\"cells\": {\"fill\": {\"color\": \"#EBF0F8\"}, \"line\": {\"color\": \"white\"}}, \"header\": {\"fill\": {\"color\": \"#C8D4E3\"}, \"line\": {\"color\": \"white\"}}, \"type\": \"table\"}]}, \"layout\": {\"annotationdefaults\": {\"arrowcolor\": \"#2a3f5f\", \"arrowhead\": 0, \"arrowwidth\": 1}, \"coloraxis\": {\"colorbar\": {\"outlinewidth\": 0, \"ticks\": \"\"}}, \"colorscale\": {\"diverging\": [[0, \"#8e0152\"], [0.1, \"#c51b7d\"], [0.2, \"#de77ae\"], [0.3, \"#f1b6da\"], [0.4, \"#fde0ef\"], [0.5, \"#f7f7f7\"], [0.6, \"#e6f5d0\"], [0.7, \"#b8e186\"], [0.8, \"#7fbc41\"], [0.9, \"#4d9221\"], [1, \"#276419\"]], \"sequential\": [[0.0, \"#0d0887\"], [0.1111111111111111, \"#46039f\"], [0.2222222222222222, \"#7201a8\"], [0.3333333333333333, \"#9c179e\"], [0.4444444444444444, \"#bd3786\"], [0.5555555555555556, \"#d8576b\"], [0.6666666666666666, \"#ed7953\"], [0.7777777777777778, \"#fb9f3a\"], [0.8888888888888888, \"#fdca26\"], [1.0, \"#f0f921\"]], \"sequentialminus\": [[0.0, \"#0d0887\"], [0.1111111111111111, \"#46039f\"], [0.2222222222222222, \"#7201a8\"], [0.3333333333333333, \"#9c179e\"], [0.4444444444444444, \"#bd3786\"], [0.5555555555555556, \"#d8576b\"], [0.6666666666666666, \"#ed7953\"], [0.7777777777777778, \"#fb9f3a\"], [0.8888888888888888, \"#fdca26\"], [1.0, \"#f0f921\"]]}, \"colorway\": [\"#636efa\", \"#EF553B\", \"#00cc96\", \"#ab63fa\", \"#FFA15A\", \"#19d3f3\", \"#FF6692\", \"#B6E880\", \"#FF97FF\", \"#FECB52\"], \"font\": {\"color\": \"#2a3f5f\"}, \"geo\": {\"bgcolor\": \"white\", \"lakecolor\": \"white\", \"landcolor\": \"#E5ECF6\", \"showlakes\": true, \"showland\": true, \"subunitcolor\": \"white\"}, \"hoverlabel\": {\"align\": \"left\"}, \"hovermode\": \"closest\", \"mapbox\": {\"style\": \"light\"}, \"paper_bgcolor\": \"white\", \"plot_bgcolor\": \"#E5ECF6\", \"polar\": {\"angularaxis\": {\"gridcolor\": \"white\", \"linecolor\": \"white\", \"ticks\": \"\"}, \"bgcolor\": \"#E5ECF6\", \"radialaxis\": {\"gridcolor\": \"white\", \"linecolor\": \"white\", \"ticks\": \"\"}}, \"scene\": {\"xaxis\": {\"backgroundcolor\": \"#E5ECF6\", \"gridcolor\": \"white\", \"gridwidth\": 2, \"linecolor\": \"white\", \"showbackground\": true, \"ticks\": \"\", \"zerolinecolor\": \"white\"}, \"yaxis\": {\"backgroundcolor\": \"#E5ECF6\", \"gridcolor\": \"white\", \"gridwidth\": 2, \"linecolor\": \"white\", \"showbackground\": true, \"ticks\": \"\", \"zerolinecolor\": \"white\"}, \"zaxis\": {\"backgroundcolor\": \"#E5ECF6\", \"gridcolor\": \"white\", \"gridwidth\": 2, \"linecolor\": \"white\", \"showbackground\": true, \"ticks\": \"\", \"zerolinecolor\": \"white\"}}, \"shapedefaults\": {\"line\": {\"color\": \"#2a3f5f\"}}, \"ternary\": {\"aaxis\": {\"gridcolor\": \"white\", \"linecolor\": \"white\", \"ticks\": \"\"}, \"baxis\": {\"gridcolor\": \"white\", \"linecolor\": \"white\", \"ticks\": \"\"}, \"bgcolor\": \"#E5ECF6\", \"caxis\": {\"gridcolor\": \"white\", \"linecolor\": \"white\", \"ticks\": \"\"}}, \"title\": {\"x\": 0.05}, \"xaxis\": {\"automargin\": true, \"gridcolor\": \"white\", \"linecolor\": \"white\", \"ticks\": \"\", \"title\": {\"standoff\": 15}, \"zerolinecolor\": \"white\", \"zerolinewidth\": 2}, \"yaxis\": {\"automargin\": true, \"gridcolor\": \"white\", \"linecolor\": \"white\", \"ticks\": \"\", \"title\": {\"standoff\": 15}, \"zerolinecolor\": \"white\", \"zerolinewidth\": 2}}}},\n",
       "                        {\"responsive\": true}\n",
       "                    ).then(function(){\n",
       "                            \n",
       "var gd = document.getElementById('ff517035-33b2-4a95-80c7-f39903503e72');\n",
       "var x = new MutationObserver(function (mutations, observer) {{\n",
       "        var display = window.getComputedStyle(gd).display;\n",
       "        if (!display || display === 'none') {{\n",
       "            console.log([gd, 'removed!']);\n",
       "            Plotly.purge(gd);\n",
       "            observer.disconnect();\n",
       "        }}\n",
       "}});\n",
       "\n",
       "// Listen for the removal of the full notebook cells\n",
       "var notebookContainer = gd.closest('#notebook-container');\n",
       "if (notebookContainer) {{\n",
       "    x.observe(notebookContainer, {childList: true});\n",
       "}}\n",
       "\n",
       "// Listen for the clearing of the current output cell\n",
       "var outputEl = gd.closest('.output');\n",
       "if (outputEl) {{\n",
       "    x.observe(outputEl, {childList: true});\n",
       "}}\n",
       "\n",
       "                        })\n",
       "                };\n",
       "                \n",
       "            </script>\n",
       "        </div>\n",
       "</body>\n",
       "</html>"
      ]
     },
     "metadata": {
      "tags": []
     },
     "output_type": "display_data"
    }
   ],
   "source": [
    "fig = px.scatter_mapbox(data.nlargest(10000,\"fare_amount\"), lat=\"pickup_latitude\", lon=\"pickup_longitude\",\n",
    "                        color='fare_amount', zoom=5, height=300)\n",
    "fig.update_layout(mapbox_style=\"open-street-map\")\n",
    "fig.update_layout(margin={\"r\":0,\"t\":0,\"l\":0,\"b\":0})\n",
    "fig.show()"
   ]
  },
  {
   "cell_type": "markdown",
   "id": "e9e9fedf",
   "metadata": {
    "id": "e9e9fedf"
   },
   "source": [
    "**EXPLORACIÓN DE TARIFAS POR AEROPUERTO**"
   ]
  },
  {
   "cell_type": "code",
   "execution_count": 52,
   "id": "d1d607fe",
   "metadata": {
    "colab": {
     "base_uri": "https://localhost:8080/",
     "height": 304
    },
    "id": "d1d607fe",
    "outputId": "a44038e1-60b9-43c2-d00f-83794a03f01d"
   },
   "outputs": [
    {
     "data": {
      "text/html": [
       "<div>\n",
       "<style scoped>\n",
       "    .dataframe tbody tr th:only-of-type {\n",
       "        vertical-align: middle;\n",
       "    }\n",
       "\n",
       "    .dataframe tbody tr th {\n",
       "        vertical-align: top;\n",
       "    }\n",
       "\n",
       "    .dataframe thead th {\n",
       "        text-align: right;\n",
       "    }\n",
       "</style>\n",
       "<table border=\"1\" class=\"dataframe\">\n",
       "  <thead>\n",
       "    <tr style=\"text-align: right;\">\n",
       "      <th></th>\n",
       "      <th>Unnamed: 0</th>\n",
       "      <th>fare_amount</th>\n",
       "      <th>pickup_longitude</th>\n",
       "      <th>pickup_latitude</th>\n",
       "      <th>dropoff_longitude</th>\n",
       "      <th>dropoff_latitude</th>\n",
       "      <th>passenger_count</th>\n",
       "    </tr>\n",
       "  </thead>\n",
       "  <tbody>\n",
       "    <tr>\n",
       "      <th>count</th>\n",
       "      <td>200000.000000</td>\n",
       "      <td>200000.000000</td>\n",
       "      <td>200000.000000</td>\n",
       "      <td>200000.000000</td>\n",
       "      <td>200000.000000</td>\n",
       "      <td>200000.000000</td>\n",
       "      <td>200000.00000</td>\n",
       "    </tr>\n",
       "    <tr>\n",
       "      <th>mean</th>\n",
       "      <td>276362.998125</td>\n",
       "      <td>11.341007</td>\n",
       "      <td>-72.529332</td>\n",
       "      <td>39.905869</td>\n",
       "      <td>-72.513123</td>\n",
       "      <td>39.923266</td>\n",
       "      <td>1.68592</td>\n",
       "    </tr>\n",
       "    <tr>\n",
       "      <th>std</th>\n",
       "      <td>159644.316147</td>\n",
       "      <td>9.686619</td>\n",
       "      <td>12.315012</td>\n",
       "      <td>9.194776</td>\n",
       "      <td>13.000467</td>\n",
       "      <td>6.879366</td>\n",
       "      <td>1.30829</td>\n",
       "    </tr>\n",
       "    <tr>\n",
       "      <th>min</th>\n",
       "      <td>2.000000</td>\n",
       "      <td>-19.700000</td>\n",
       "      <td>-2053.689307</td>\n",
       "      <td>-2159.865297</td>\n",
       "      <td>-2633.905475</td>\n",
       "      <td>-1158.847543</td>\n",
       "      <td>0.00000</td>\n",
       "    </tr>\n",
       "    <tr>\n",
       "      <th>25%</th>\n",
       "      <td>137884.750000</td>\n",
       "      <td>6.000000</td>\n",
       "      <td>-73.992090</td>\n",
       "      <td>40.734871</td>\n",
       "      <td>-73.991397</td>\n",
       "      <td>40.734072</td>\n",
       "      <td>1.00000</td>\n",
       "    </tr>\n",
       "    <tr>\n",
       "      <th>50%</th>\n",
       "      <td>276264.500000</td>\n",
       "      <td>8.500000</td>\n",
       "      <td>-73.981827</td>\n",
       "      <td>40.752522</td>\n",
       "      <td>-73.980201</td>\n",
       "      <td>40.753166</td>\n",
       "      <td>1.00000</td>\n",
       "    </tr>\n",
       "    <tr>\n",
       "      <th>75%</th>\n",
       "      <td>415134.500000</td>\n",
       "      <td>12.500000</td>\n",
       "      <td>-73.967121</td>\n",
       "      <td>40.767058</td>\n",
       "      <td>-73.963800</td>\n",
       "      <td>40.768000</td>\n",
       "      <td>2.00000</td>\n",
       "    </tr>\n",
       "    <tr>\n",
       "      <th>max</th>\n",
       "      <td>553114.000000</td>\n",
       "      <td>333.000000</td>\n",
       "      <td>1547.815547</td>\n",
       "      <td>73.942323</td>\n",
       "      <td>1691.819515</td>\n",
       "      <td>403.150000</td>\n",
       "      <td>6.00000</td>\n",
       "    </tr>\n",
       "  </tbody>\n",
       "</table>\n",
       "</div>"
      ],
      "text/plain": [
       "          Unnamed: 0    fare_amount  ...  dropoff_latitude  passenger_count\n",
       "count  200000.000000  200000.000000  ...     200000.000000     200000.00000\n",
       "mean   276362.998125      11.341007  ...         39.923266          1.68592\n",
       "std    159644.316147       9.686619  ...          6.879366          1.30829\n",
       "min         2.000000     -19.700000  ...      -1158.847543          0.00000\n",
       "25%    137884.750000       6.000000  ...         40.734072          1.00000\n",
       "50%    276264.500000       8.500000  ...         40.753166          1.00000\n",
       "75%    415134.500000      12.500000  ...         40.768000          2.00000\n",
       "max    553114.000000     333.000000  ...        403.150000          6.00000\n",
       "\n",
       "[8 rows x 7 columns]"
      ]
     },
     "execution_count": 52,
     "metadata": {
      "tags": []
     },
     "output_type": "execute_result"
    }
   ],
   "source": [
    "# JFK : Aeropuerto Jhon F. Kennedy\n",
    "JFK={'min_long':-73.8352,'min_lat':40.6195,'max_long':-73.7401, 'max_lat':40.6659}\n",
    "\n",
    "pickup_JFK=data.loc[(data.pickup_latitude>=JFK['min_lat']) & (data.pickup_latitude<=JFK['max_lat'])&\n",
    "                   (data.pickup_longitude>=JFK['min_long']) & (data.pickup_longitude<=JFK['max_long'])]\n",
    "\n",
    "dropoff_JFK=data.loc[(data.dropoff_latitude>=JFK['min_lat']) & (data.dropoff_latitude<=JFK['max_lat']) & \n",
    "                    (data.dropoff_longitude>=JFK['min_long']) & (data.dropoff_longitude<=JFK['max_long'])]\n",
    "\n",
    "#print(\"JFK : Partiendo %d - LLegando %d\"%(pickup_JFK.shape[0],dropoff_JFK.shape[0]))\n",
    "\n",
    "pickup_JFK.describe()\n",
    "df_s.describe()\n",
    "#plt.figure(figsize=(6,4))\n",
    "#sns.kdeplot(np.log(pickup_JFK['fare_amount'].values),label='Partiendo del Aeropuerto JFK', color=\"red\")\n",
    "#sns.kdeplot(np.log(dropoff_JFK['fare_amount'].values),label='Llegando al Aeropuerto JFK', color=\"green\")\n",
    "#sns.kdeplot(np.log(data['fare_amount'].values),label='Toda la muestra', color=\"blue\")\n",
    "#plt.legend()"
   ]
  },
  {
   "cell_type": "code",
   "execution_count": 53,
   "id": "3e282a4a",
   "metadata": {
    "colab": {
     "base_uri": "https://localhost:8080/",
     "height": 298
    },
    "id": "3e282a4a",
    "outputId": "5a786568-c658-42ca-892b-4caf3f405d1a"
   },
   "outputs": [
    {
     "name": "stdout",
     "output_type": "stream",
     "text": [
      "EWR : Partiendo 0 - LLegando 0\n"
     ]
    },
    {
     "data": {
      "text/plain": [
       "<matplotlib.legend.Legend at 0x7f8772b93650>"
      ]
     },
     "execution_count": 53,
     "metadata": {
      "tags": []
     },
     "output_type": "execute_result"
    },
    {
     "data": {
      "image/png": "[encoded data removed]",
      "text/plain": [
       "<Figure size 432x288 with 1 Axes>"
      ]
     },
     "metadata": {
      "needs_background": "light",
      "tags": []
     },
     "output_type": "display_data"
    }
   ],
   "source": [
    "# EWR : Aeropuerto Internacional Libertad de Newark\n",
    "EWR={'min_long':-74.1925,'min_lat':40.6700, 'max_long':-74.1531, 'max_lat':40.7081}\n",
    "\n",
    "pickup_EWR=data.loc[ (data.pickup_latitude>=EWR['min_lat']) & (data.pickup_latitude<=EWR['max_lat'])&\n",
    "                     (data.pickup_longitude>=EWR['min_long']) & (data.pickup_longitude<=EWR['max_long'])]\n",
    "\n",
    "dropoff_EWR=data.loc[ (data.dropoff_latitude>=EWR['min_lat']) & (data.dropoff_latitude<=EWR['max_lat'])&\n",
    "                      (data.dropoff_longitude>=EWR['min_long']) & (data.dropoff_longitude<=EWR['max_long'])]\n",
    "                    \n",
    "print(\"EWR : Partiendo %d - LLegando %d\"%(pickup_EWR.shape[0],dropoff_EWR.shape[0]))\n",
    "\n",
    "plt.figure(figsize=(6,4))\n",
    "sns.kdeplot(np.log(pickup_EWR['fare_amount'].values),label='Partiendo del Aeropuerto JFK', color=\"red\")\n",
    "sns.kdeplot(np.log(dropoff_EWR['fare_amount'].values),label='Llegando al Aeropuerto JFK', color=\"green\")\n",
    "sns.kdeplot(np.log(data['fare_amount'].values),label='Toda la muestra', color=\"blue\")\n",
    "plt.legend()"
   ]
  },
  {
   "cell_type": "code",
   "execution_count": 54,
   "id": "e8e5427b",
   "metadata": {
    "colab": {
     "base_uri": "https://localhost:8080/",
     "height": 298
    },
    "id": "e8e5427b",
    "outputId": "1b1f8f86-d3f6-4bb6-c983-e07bd671cb13"
   },
   "outputs": [
    {
     "name": "stdout",
     "output_type": "stream",
     "text": [
      "LG : Partiendo 3869 - LLegando 2505\n"
     ]
    },
    {
     "data": {
      "text/plain": [
       "<matplotlib.legend.Legend at 0x7f8772eec810>"
      ]
     },
     "execution_count": 54,
     "metadata": {
      "tags": []
     },
     "output_type": "execute_result"
    },
    {
     "data": {
      "image/png": "[encoded data removed]",
      "text/plain": [
       "<Figure size 432x288 with 1 Axes>"
      ]
     },
     "metadata": {
      "needs_background": "light",
      "tags": []
     },
     "output_type": "display_data"
    }
   ],
   "source": [
    "#LG : Aeropuerto Internacional de La Guardia\n",
    "LG={'min_long':-73.8895, 'min_lat':40.7664,'max_long':-73.8550,'max_lat':40.7931}\n",
    "\n",
    "pickup_LG=data.loc[(data.pickup_latitude>=LG['min_lat']) & (data.pickup_latitude<=LG['max_lat'])&\n",
    "                  (data.pickup_longitude>=LG['min_long']) & (data.pickup_longitude<=LG['max_long'])]\n",
    "\n",
    "dropoff_LG=data.loc[(data.dropoff_latitude>=LG['min_lat']) & (data.dropoff_latitude<=LG['max_lat'])&\n",
    "                   (data.dropoff_longitude>=LG['min_long']) & (data.dropoff_longitude<=LG['max_long'])]\n",
    "print(\"LG : Partiendo %d - LLegando %d\"%(pickup_LG.shape[0],dropoff_LG.shape[0]))\n",
    "\n",
    "plt.figure(figsize=(6,4))\n",
    "sns.kdeplot(np.log(pickup_LG['fare_amount'].values),label='Partiendo del Aeropuerto JFK', color=\"red\")\n",
    "sns.kdeplot(np.log(dropoff_LG['fare_amount'].values),label='Llegando al Aeropuerto JFK', color=\"green\")\n",
    "sns.kdeplot(np.log(data['fare_amount'].values),label='Toda la muestra', color=\"blue\")\n",
    "plt.legend()"
   ]
  },
  {
   "cell_type": "markdown",
   "id": "0a46efb8",
   "metadata": {
    "id": "0a46efb8"
   },
   "source": [
    "<h2>INGENIERÍA DE CARACTERÍSTICAS</h2>"
   ]
  },
  {
   "cell_type": "markdown",
   "id": "116b9f57",
   "metadata": {
    "id": "116b9f57"
   },
   "source": [
    "**CONTROL DE VIAJES PARTIENDO O LLEGANDO A LOS AEROPUERTOS DE NEW YORK**"
   ]
  },
  {
   "cell_type": "code",
   "execution_count": 55,
   "id": "ac2f10a0",
   "metadata": {
    "id": "ac2f10a0"
   },
   "outputs": [],
   "source": [
    "def atJFK(lat,long):\n",
    "    if (lat >= JFK['min_lat'] and lat <= JFK['max_lat'] and  \n",
    "        long >= JFK['min_long'] and long <= JFK['max_long']):\n",
    "        return 1\n",
    "    return 0"
   ]
  },
  {
   "cell_type": "code",
   "execution_count": 56,
   "id": "8bb048c7",
   "metadata": {
    "id": "8bb048c7"
   },
   "outputs": [],
   "source": [
    "def atEWR(lat,long):\n",
    "    if (lat >= EWR['min_lat'] and lat <= EWR['max_lat'] and  \n",
    "        long >= EWR['min_long'] and long <= EWR['max_long']):\n",
    "        return 1\n",
    "    return 0"
   ]
  },
  {
   "cell_type": "code",
   "execution_count": 57,
   "id": "d98e690d",
   "metadata": {
    "id": "d98e690d"
   },
   "outputs": [],
   "source": [
    "def atLG(lat,long):\n",
    "    if (lat >= LG['min_lat'] and lat <= LG['max_lat'] and  \n",
    "        long >= LG['min_long'] and long <= LG['max_long']):\n",
    "        return 1\n",
    "    return 0\n",
    "\n",
    "def atAirport(lat,long):\n",
    "    if (atLG(lat,long) == 1 | atJFK(lat,long) == 1 | atEWR(lat,long)) : \n",
    "        return 1\n",
    "    return 0\n",
    "\n",
    "data['pickup_airport'] = data.apply(lambda row: atAirport(row['pickup_latitude'],row['pickup_longitude']),axis=1)\n",
    "data['dropoff_airport'] = data.apply(lambda row: atAirport(row['dropoff_latitude'],row['dropoff_longitude']),axis=1)"
   ]
  },
  {
   "cell_type": "code",
   "execution_count": 58,
   "id": "9d520896",
   "metadata": {
    "colab": {
     "base_uri": "https://localhost:8080/",
     "height": 316
    },
    "id": "9d520896",
    "outputId": "8d16787f-ef24-4c14-bc4b-d7a32c3e74e5"
   },
   "outputs": [
    {
     "data": {
      "text/html": [
       "<div>\n",
       "<style scoped>\n",
       "    .dataframe tbody tr th:only-of-type {\n",
       "        vertical-align: middle;\n",
       "    }\n",
       "\n",
       "    .dataframe tbody tr th {\n",
       "        vertical-align: top;\n",
       "    }\n",
       "\n",
       "    .dataframe thead th {\n",
       "        text-align: right;\n",
       "    }\n",
       "</style>\n",
       "<table border=\"1\" class=\"dataframe\">\n",
       "  <thead>\n",
       "    <tr style=\"text-align: right;\">\n",
       "      <th></th>\n",
       "      <th>Unnamed: 0</th>\n",
       "      <th>fare_amount</th>\n",
       "      <th>pickup_datetime</th>\n",
       "      <th>pickup_longitude</th>\n",
       "      <th>pickup_latitude</th>\n",
       "      <th>dropoff_longitude</th>\n",
       "      <th>dropoff_latitude</th>\n",
       "      <th>passenger_count</th>\n",
       "      <th>pickup_airport</th>\n",
       "      <th>dropoff_airport</th>\n",
       "    </tr>\n",
       "  </thead>\n",
       "  <tbody>\n",
       "    <tr>\n",
       "      <th>551642</th>\n",
       "      <td>551642</td>\n",
       "      <td>36.27</td>\n",
       "      <td>2010-03-12 20:51:01 UTC</td>\n",
       "      <td>-73.862845</td>\n",
       "      <td>40.770126</td>\n",
       "      <td>-74.004303</td>\n",
       "      <td>40.742511</td>\n",
       "      <td>1</td>\n",
       "      <td>1</td>\n",
       "      <td>0</td>\n",
       "    </tr>\n",
       "    <tr>\n",
       "      <th>52439</th>\n",
       "      <td>52439</td>\n",
       "      <td>33.00</td>\n",
       "      <td>2013-04-14 22:04:00 UTC</td>\n",
       "      <td>-73.869642</td>\n",
       "      <td>40.773100</td>\n",
       "      <td>-73.976367</td>\n",
       "      <td>40.682510</td>\n",
       "      <td>1</td>\n",
       "      <td>1</td>\n",
       "      <td>0</td>\n",
       "    </tr>\n",
       "    <tr>\n",
       "      <th>551524</th>\n",
       "      <td>551524</td>\n",
       "      <td>18.10</td>\n",
       "      <td>2010-04-23 12:55:00 UTC</td>\n",
       "      <td>-73.871780</td>\n",
       "      <td>40.774133</td>\n",
       "      <td>-73.807962</td>\n",
       "      <td>40.701502</td>\n",
       "      <td>4</td>\n",
       "      <td>1</td>\n",
       "      <td>0</td>\n",
       "    </tr>\n",
       "    <tr>\n",
       "      <th>211697</th>\n",
       "      <td>211697</td>\n",
       "      <td>31.70</td>\n",
       "      <td>2011-03-11 15:22:00 UTC</td>\n",
       "      <td>-73.873052</td>\n",
       "      <td>40.774018</td>\n",
       "      <td>-73.985987</td>\n",
       "      <td>40.726777</td>\n",
       "      <td>5</td>\n",
       "      <td>1</td>\n",
       "      <td>0</td>\n",
       "    </tr>\n",
       "    <tr>\n",
       "      <th>210347</th>\n",
       "      <td>210347</td>\n",
       "      <td>43.83</td>\n",
       "      <td>2014-10-20 08:04:49 UTC</td>\n",
       "      <td>-73.865292</td>\n",
       "      <td>40.770341</td>\n",
       "      <td>-73.991178</td>\n",
       "      <td>40.749215</td>\n",
       "      <td>2</td>\n",
       "      <td>1</td>\n",
       "      <td>0</td>\n",
       "    </tr>\n",
       "  </tbody>\n",
       "</table>\n",
       "</div>"
      ],
      "text/plain": [
       "        Unnamed: 0  fare_amount  ... pickup_airport  dropoff_airport\n",
       "551642      551642        36.27  ...              1                0\n",
       "52439        52439        33.00  ...              1                0\n",
       "551524      551524        18.10  ...              1                0\n",
       "211697      211697        31.70  ...              1                0\n",
       "210347      210347        43.83  ...              1                0\n",
       "\n",
       "[5 rows x 10 columns]"
      ]
     },
     "execution_count": 58,
     "metadata": {
      "tags": []
     },
     "output_type": "execute_result"
    }
   ],
   "source": [
    "data[(data['pickup_airport'] == 1)].head()"
   ]
  },
  {
   "cell_type": "markdown",
   "id": "b6c6d3d2",
   "metadata": {
    "id": "b6c6d3d2"
   },
   "source": [
    "<h5>SEPARAR DATETIME EN YEAR, MONTH, DAY, HOUR Y WEEKDAY</h5>"
   ]
  },
  {
   "cell_type": "code",
   "execution_count": 59,
   "id": "8251a0be",
   "metadata": {
    "colab": {
     "base_uri": "https://localhost:8080/"
    },
    "id": "8251a0be",
    "outputId": "59d9f760-767d-4060-987c-1de9bc6b027d"
   },
   "outputs": [
    {
     "name": "stdout",
     "output_type": "stream",
     "text": [
      "CPU times: user 324 ms, sys: 7.32 ms, total: 331 ms\n",
      "Wall time: 337 ms\n"
     ]
    }
   ],
   "source": [
    "%%time\n",
    "def f2(datestr):\n",
    "    return ciso8601.parse_datetime(datestr [ :-4])\n",
    "\n",
    "def separate_datetime_to_features(dataframe): \n",
    "    dataframe ['pickup_datetime'] =dataframe.pickup_datetime.apply(f2)  #pd.to_datetime(data.pickup_datetime ,infer_datetime_format=True) # convertimos a tipo de dato de datetime\n",
    "    dataframe['year'] = dataframe['pickup_datetime'].dt.year\n",
    "    dataframe['month'] = dataframe['pickup_datetime'].dt.month\n",
    "    dataframe['day'] = dataframe['pickup_datetime'].dt.day\n",
    "    dataframe['hour'] = dataframe['pickup_datetime'].dt.hour\n",
    "    dataframe['weekday'] = dataframe['pickup_datetime'].dt.weekday\n",
    "    dataframe.drop(columns='pickup_datetime', inplace=True)\n",
    "    return dataframe\n",
    "data = separate_datetime_to_features(data)"
   ]
  },
  {
   "cell_type": "code",
   "execution_count": 60,
   "id": "a9abe2d2",
   "metadata": {
    "colab": {
     "base_uri": "https://localhost:8080/",
     "height": 232
    },
    "id": "a9abe2d2",
    "outputId": "9d7775e6-ab49-4ad7-b8b9-18495053e38e"
   },
   "outputs": [
    {
     "data": {
      "text/html": [
       "<div>\n",
       "<style scoped>\n",
       "    .dataframe tbody tr th:only-of-type {\n",
       "        vertical-align: middle;\n",
       "    }\n",
       "\n",
       "    .dataframe tbody tr th {\n",
       "        vertical-align: top;\n",
       "    }\n",
       "\n",
       "    .dataframe thead th {\n",
       "        text-align: right;\n",
       "    }\n",
       "</style>\n",
       "<table border=\"1\" class=\"dataframe\">\n",
       "  <thead>\n",
       "    <tr style=\"text-align: right;\">\n",
       "      <th></th>\n",
       "      <th>Unnamed: 0</th>\n",
       "      <th>fare_amount</th>\n",
       "      <th>pickup_longitude</th>\n",
       "      <th>pickup_latitude</th>\n",
       "      <th>dropoff_longitude</th>\n",
       "      <th>dropoff_latitude</th>\n",
       "      <th>passenger_count</th>\n",
       "      <th>pickup_airport</th>\n",
       "      <th>dropoff_airport</th>\n",
       "      <th>year</th>\n",
       "      <th>month</th>\n",
       "      <th>day</th>\n",
       "      <th>hour</th>\n",
       "      <th>weekday</th>\n",
       "    </tr>\n",
       "  </thead>\n",
       "  <tbody>\n",
       "    <tr>\n",
       "      <th>189636</th>\n",
       "      <td>189636</td>\n",
       "      <td>12.1</td>\n",
       "      <td>-73.985994</td>\n",
       "      <td>40.726896</td>\n",
       "      <td>-73.990759</td>\n",
       "      <td>40.757467</td>\n",
       "      <td>1</td>\n",
       "      <td>0</td>\n",
       "      <td>0</td>\n",
       "      <td>2010</td>\n",
       "      <td>4</td>\n",
       "      <td>29</td>\n",
       "      <td>10</td>\n",
       "      <td>3</td>\n",
       "    </tr>\n",
       "    <tr>\n",
       "      <th>535030</th>\n",
       "      <td>535030</td>\n",
       "      <td>6.5</td>\n",
       "      <td>-73.993565</td>\n",
       "      <td>40.736425</td>\n",
       "      <td>-73.985653</td>\n",
       "      <td>40.741156</td>\n",
       "      <td>1</td>\n",
       "      <td>0</td>\n",
       "      <td>0</td>\n",
       "      <td>2014</td>\n",
       "      <td>10</td>\n",
       "      <td>16</td>\n",
       "      <td>7</td>\n",
       "      <td>3</td>\n",
       "    </tr>\n",
       "    <tr>\n",
       "      <th>328599</th>\n",
       "      <td>328599</td>\n",
       "      <td>6.0</td>\n",
       "      <td>-73.994164</td>\n",
       "      <td>40.761337</td>\n",
       "      <td>-73.995659</td>\n",
       "      <td>40.769089</td>\n",
       "      <td>1</td>\n",
       "      <td>0</td>\n",
       "      <td>0</td>\n",
       "      <td>2015</td>\n",
       "      <td>3</td>\n",
       "      <td>20</td>\n",
       "      <td>14</td>\n",
       "      <td>4</td>\n",
       "    </tr>\n",
       "    <tr>\n",
       "      <th>79463</th>\n",
       "      <td>79463</td>\n",
       "      <td>13.7</td>\n",
       "      <td>-73.975825</td>\n",
       "      <td>40.786867</td>\n",
       "      <td>-73.975972</td>\n",
       "      <td>40.754467</td>\n",
       "      <td>1</td>\n",
       "      <td>0</td>\n",
       "      <td>0</td>\n",
       "      <td>2012</td>\n",
       "      <td>3</td>\n",
       "      <td>8</td>\n",
       "      <td>9</td>\n",
       "      <td>3</td>\n",
       "    </tr>\n",
       "    <tr>\n",
       "      <th>315737</th>\n",
       "      <td>315737</td>\n",
       "      <td>14.1</td>\n",
       "      <td>-73.975100</td>\n",
       "      <td>40.790103</td>\n",
       "      <td>-74.007127</td>\n",
       "      <td>40.736305</td>\n",
       "      <td>1</td>\n",
       "      <td>0</td>\n",
       "      <td>0</td>\n",
       "      <td>2009</td>\n",
       "      <td>1</td>\n",
       "      <td>31</td>\n",
       "      <td>22</td>\n",
       "      <td>5</td>\n",
       "    </tr>\n",
       "  </tbody>\n",
       "</table>\n",
       "</div>"
      ],
      "text/plain": [
       "        Unnamed: 0  fare_amount  pickup_longitude  ...  day  hour  weekday\n",
       "189636      189636         12.1        -73.985994  ...   29    10        3\n",
       "535030      535030          6.5        -73.993565  ...   16     7        3\n",
       "328599      328599          6.0        -73.994164  ...   20    14        4\n",
       "79463        79463         13.7        -73.975825  ...    8     9        3\n",
       "315737      315737         14.1        -73.975100  ...   31    22        5\n",
       "\n",
       "[5 rows x 14 columns]"
      ]
     },
     "execution_count": 60,
     "metadata": {
      "tags": []
     },
     "output_type": "execute_result"
    }
   ],
   "source": [
    "data.head()"
   ]
  },
  {
   "cell_type": "code",
   "execution_count": 61,
   "id": "5c3a295f",
   "metadata": {
    "id": "5c3a295f"
   },
   "outputs": [],
   "source": [
    "#data.drop(columns='Unnamed: 0', inplace=True)"
   ]
  },
  {
   "cell_type": "markdown",
   "id": "1366ca05",
   "metadata": {
    "id": "1366ca05"
   },
   "source": [
    "<h5>DETERMINAR LA DISTANCIA DE HAVERSINE ENTRE PUNTOS DADO SU LATITUD Y LONGITUD</h5>"
   ]
  },
  {
   "cell_type": "code",
   "execution_count": 62,
   "id": "077b2f4c",
   "metadata": {
    "colab": {
     "base_uri": "https://localhost:8080/",
     "height": 338
    },
    "id": "077b2f4c",
    "outputId": "c7a46187-7384-47dc-b918-78ef063dd3ab"
   },
   "outputs": [
    {
     "name": "stdout",
     "output_type": "stream",
     "text": [
      "CPU times: user 4 µs, sys: 0 ns, total: 4 µs\n",
      "Wall time: 8.58 µs\n"
     ]
    },
    {
     "data": {
      "text/html": [
       "<div>\n",
       "<style scoped>\n",
       "    .dataframe tbody tr th:only-of-type {\n",
       "        vertical-align: middle;\n",
       "    }\n",
       "\n",
       "    .dataframe tbody tr th {\n",
       "        vertical-align: top;\n",
       "    }\n",
       "\n",
       "    .dataframe thead th {\n",
       "        text-align: right;\n",
       "    }\n",
       "</style>\n",
       "<table border=\"1\" class=\"dataframe\">\n",
       "  <thead>\n",
       "    <tr style=\"text-align: right;\">\n",
       "      <th></th>\n",
       "      <th>Unnamed: 0</th>\n",
       "      <th>fare_amount</th>\n",
       "      <th>pickup_longitude</th>\n",
       "      <th>pickup_latitude</th>\n",
       "      <th>dropoff_longitude</th>\n",
       "      <th>dropoff_latitude</th>\n",
       "      <th>passenger_count</th>\n",
       "      <th>pickup_airport</th>\n",
       "      <th>dropoff_airport</th>\n",
       "      <th>year</th>\n",
       "      <th>month</th>\n",
       "      <th>day</th>\n",
       "      <th>hour</th>\n",
       "      <th>weekday</th>\n",
       "      <th>distance</th>\n",
       "    </tr>\n",
       "  </thead>\n",
       "  <tbody>\n",
       "    <tr>\n",
       "      <th>count</th>\n",
       "      <td>192701.000000</td>\n",
       "      <td>192701.000000</td>\n",
       "      <td>192701.000000</td>\n",
       "      <td>192701.000000</td>\n",
       "      <td>192701.000000</td>\n",
       "      <td>192701.000000</td>\n",
       "      <td>192701.000000</td>\n",
       "      <td>192701.000000</td>\n",
       "      <td>192701.000000</td>\n",
       "      <td>192701.000000</td>\n",
       "      <td>192701.000000</td>\n",
       "      <td>192701.000000</td>\n",
       "      <td>192701.000000</td>\n",
       "      <td>192701.000000</td>\n",
       "      <td>192701.000000</td>\n",
       "    </tr>\n",
       "    <tr>\n",
       "      <th>mean</th>\n",
       "      <td>276248.398643</td>\n",
       "      <td>11.008542</td>\n",
       "      <td>-73.975736</td>\n",
       "      <td>40.750934</td>\n",
       "      <td>-73.974717</td>\n",
       "      <td>40.751168</td>\n",
       "      <td>1.692145</td>\n",
       "      <td>0.020078</td>\n",
       "      <td>0.012999</td>\n",
       "      <td>2011.738201</td>\n",
       "      <td>6.278084</td>\n",
       "      <td>15.705575</td>\n",
       "      <td>13.522270</td>\n",
       "      <td>3.040244</td>\n",
       "      <td>3.203129</td>\n",
       "    </tr>\n",
       "    <tr>\n",
       "      <th>std</th>\n",
       "      <td>159662.229959</td>\n",
       "      <td>8.738124</td>\n",
       "      <td>0.033434</td>\n",
       "      <td>0.026133</td>\n",
       "      <td>0.031679</td>\n",
       "      <td>0.028370</td>\n",
       "      <td>1.307030</td>\n",
       "      <td>0.140267</td>\n",
       "      <td>0.113272</td>\n",
       "      <td>1.864785</td>\n",
       "      <td>3.434154</td>\n",
       "      <td>8.673254</td>\n",
       "      <td>6.510939</td>\n",
       "      <td>1.949924</td>\n",
       "      <td>3.356745</td>\n",
       "    </tr>\n",
       "    <tr>\n",
       "      <th>min</th>\n",
       "      <td>2.000000</td>\n",
       "      <td>2.500000</td>\n",
       "      <td>-74.029573</td>\n",
       "      <td>40.630462</td>\n",
       "      <td>-74.029890</td>\n",
       "      <td>40.630018</td>\n",
       "      <td>1.000000</td>\n",
       "      <td>0.000000</td>\n",
       "      <td>0.000000</td>\n",
       "      <td>2009.000000</td>\n",
       "      <td>1.000000</td>\n",
       "      <td>1.000000</td>\n",
       "      <td>0.000000</td>\n",
       "      <td>0.000000</td>\n",
       "      <td>0.000080</td>\n",
       "    </tr>\n",
       "    <tr>\n",
       "      <th>25%</th>\n",
       "      <td>137738.000000</td>\n",
       "      <td>6.000000</td>\n",
       "      <td>-73.992298</td>\n",
       "      <td>40.736596</td>\n",
       "      <td>-73.991547</td>\n",
       "      <td>40.735997</td>\n",
       "      <td>1.000000</td>\n",
       "      <td>0.000000</td>\n",
       "      <td>0.000000</td>\n",
       "      <td>2010.000000</td>\n",
       "      <td>3.000000</td>\n",
       "      <td>8.000000</td>\n",
       "      <td>9.000000</td>\n",
       "      <td>1.000000</td>\n",
       "      <td>1.248964</td>\n",
       "    </tr>\n",
       "    <tr>\n",
       "      <th>50%</th>\n",
       "      <td>275979.000000</td>\n",
       "      <td>8.500000</td>\n",
       "      <td>-73.982125</td>\n",
       "      <td>40.753238</td>\n",
       "      <td>-73.980735</td>\n",
       "      <td>40.753886</td>\n",
       "      <td>1.000000</td>\n",
       "      <td>0.000000</td>\n",
       "      <td>0.000000</td>\n",
       "      <td>2012.000000</td>\n",
       "      <td>6.000000</td>\n",
       "      <td>16.000000</td>\n",
       "      <td>14.000000</td>\n",
       "      <td>3.000000</td>\n",
       "      <td>2.134228</td>\n",
       "    </tr>\n",
       "    <tr>\n",
       "      <th>75%</th>\n",
       "      <td>415042.000000</td>\n",
       "      <td>12.500000</td>\n",
       "      <td>-73.968502</td>\n",
       "      <td>40.767408</td>\n",
       "      <td>-73.965927</td>\n",
       "      <td>40.768163</td>\n",
       "      <td>2.000000</td>\n",
       "      <td>0.000000</td>\n",
       "      <td>0.000000</td>\n",
       "      <td>2013.000000</td>\n",
       "      <td>9.000000</td>\n",
       "      <td>23.000000</td>\n",
       "      <td>19.000000</td>\n",
       "      <td>5.000000</td>\n",
       "      <td>3.839011</td>\n",
       "    </tr>\n",
       "    <tr>\n",
       "      <th>max</th>\n",
       "      <td>553114.000000</td>\n",
       "      <td>100.000000</td>\n",
       "      <td>-73.753735</td>\n",
       "      <td>40.849720</td>\n",
       "      <td>-73.751087</td>\n",
       "      <td>40.849993</td>\n",
       "      <td>6.000000</td>\n",
       "      <td>1.000000</td>\n",
       "      <td>1.000000</td>\n",
       "      <td>2015.000000</td>\n",
       "      <td>12.000000</td>\n",
       "      <td>31.000000</td>\n",
       "      <td>23.000000</td>\n",
       "      <td>6.000000</td>\n",
       "      <td>26.250504</td>\n",
       "    </tr>\n",
       "  </tbody>\n",
       "</table>\n",
       "</div>"
      ],
      "text/plain": [
       "          Unnamed: 0    fare_amount  ...        weekday       distance\n",
       "count  192701.000000  192701.000000  ...  192701.000000  192701.000000\n",
       "mean   276248.398643      11.008542  ...       3.040244       3.203129\n",
       "std    159662.229959       8.738124  ...       1.949924       3.356745\n",
       "min         2.000000       2.500000  ...       0.000000       0.000080\n",
       "25%    137738.000000       6.000000  ...       1.000000       1.248964\n",
       "50%    275979.000000       8.500000  ...       3.000000       2.134228\n",
       "75%    415042.000000      12.500000  ...       5.000000       3.839011\n",
       "max    553114.000000     100.000000  ...       6.000000      26.250504\n",
       "\n",
       "[8 rows x 15 columns]"
      ]
     },
     "execution_count": 62,
     "metadata": {
      "tags": []
     },
     "output_type": "execute_result"
    }
   ],
   "source": [
    "%time\n",
    "def haversine(lon1, lat1, lon2, lat2):\n",
    "    # Haversine vectorizado usando funciones de np\n",
    "    lon1, lat1, lon2, lat2 = map(np.radians, [lon1, lat1, lon2, lat2])\n",
    "\n",
    "    dlon = lon2 - lon1\n",
    "    dlat = lat2 - lat1\n",
    "\n",
    "    a = np.sin(dlat/2.0)**2 + np.cos(lat1) * np.cos(lat2) * np.sin(dlon/2.0)**2\n",
    "\n",
    "    c = 2 * np.arcsin(np.sqrt(a))\n",
    "    km = 6367 * c\n",
    "    km[km < 0.00008] = 0.00008\n",
    "    return km\n",
    "    #print(Haversine(39.50, 98.35, 48.8567, 2.3508))\n",
    "\n",
    "data['distance'] = haversine(data['pickup_longitude'],data['pickup_latitude'] , data['dropoff_longitude'], data['dropoff_latitude'])\n",
    "data.describe()"
   ]
  },
  {
   "cell_type": "code",
   "execution_count": 63,
   "id": "b1227435",
   "metadata": {
    "colab": {
     "base_uri": "https://localhost:8080/",
     "height": 232
    },
    "id": "b1227435",
    "outputId": "a81d4149-8394-425e-b882-b248ff2d2357"
   },
   "outputs": [
    {
     "data": {
      "text/html": [
       "<div>\n",
       "<style scoped>\n",
       "    .dataframe tbody tr th:only-of-type {\n",
       "        vertical-align: middle;\n",
       "    }\n",
       "\n",
       "    .dataframe tbody tr th {\n",
       "        vertical-align: top;\n",
       "    }\n",
       "\n",
       "    .dataframe thead th {\n",
       "        text-align: right;\n",
       "    }\n",
       "</style>\n",
       "<table border=\"1\" class=\"dataframe\">\n",
       "  <thead>\n",
       "    <tr style=\"text-align: right;\">\n",
       "      <th></th>\n",
       "      <th>Unnamed: 0</th>\n",
       "      <th>fare_amount</th>\n",
       "      <th>pickup_longitude</th>\n",
       "      <th>pickup_latitude</th>\n",
       "      <th>dropoff_longitude</th>\n",
       "      <th>dropoff_latitude</th>\n",
       "      <th>passenger_count</th>\n",
       "      <th>pickup_airport</th>\n",
       "      <th>dropoff_airport</th>\n",
       "      <th>year</th>\n",
       "      <th>month</th>\n",
       "      <th>day</th>\n",
       "      <th>hour</th>\n",
       "      <th>weekday</th>\n",
       "      <th>distance</th>\n",
       "    </tr>\n",
       "  </thead>\n",
       "  <tbody>\n",
       "    <tr>\n",
       "      <th>189636</th>\n",
       "      <td>189636</td>\n",
       "      <td>12.1</td>\n",
       "      <td>-73.985994</td>\n",
       "      <td>40.726896</td>\n",
       "      <td>-73.990759</td>\n",
       "      <td>40.757467</td>\n",
       "      <td>1</td>\n",
       "      <td>0</td>\n",
       "      <td>0</td>\n",
       "      <td>2010</td>\n",
       "      <td>4</td>\n",
       "      <td>29</td>\n",
       "      <td>10</td>\n",
       "      <td>3</td>\n",
       "      <td>3.420812</td>\n",
       "    </tr>\n",
       "    <tr>\n",
       "      <th>535030</th>\n",
       "      <td>535030</td>\n",
       "      <td>6.5</td>\n",
       "      <td>-73.993565</td>\n",
       "      <td>40.736425</td>\n",
       "      <td>-73.985653</td>\n",
       "      <td>40.741156</td>\n",
       "      <td>1</td>\n",
       "      <td>0</td>\n",
       "      <td>0</td>\n",
       "      <td>2014</td>\n",
       "      <td>10</td>\n",
       "      <td>16</td>\n",
       "      <td>7</td>\n",
       "      <td>3</td>\n",
       "      <td>0.848641</td>\n",
       "    </tr>\n",
       "    <tr>\n",
       "      <th>328599</th>\n",
       "      <td>328599</td>\n",
       "      <td>6.0</td>\n",
       "      <td>-73.994164</td>\n",
       "      <td>40.761337</td>\n",
       "      <td>-73.995659</td>\n",
       "      <td>40.769089</td>\n",
       "      <td>1</td>\n",
       "      <td>0</td>\n",
       "      <td>0</td>\n",
       "      <td>2015</td>\n",
       "      <td>3</td>\n",
       "      <td>20</td>\n",
       "      <td>14</td>\n",
       "      <td>4</td>\n",
       "      <td>0.870528</td>\n",
       "    </tr>\n",
       "    <tr>\n",
       "      <th>79463</th>\n",
       "      <td>79463</td>\n",
       "      <td>13.7</td>\n",
       "      <td>-73.975825</td>\n",
       "      <td>40.786867</td>\n",
       "      <td>-73.975972</td>\n",
       "      <td>40.754467</td>\n",
       "      <td>1</td>\n",
       "      <td>0</td>\n",
       "      <td>0</td>\n",
       "      <td>2012</td>\n",
       "      <td>3</td>\n",
       "      <td>8</td>\n",
       "      <td>9</td>\n",
       "      <td>3</td>\n",
       "      <td>3.600475</td>\n",
       "    </tr>\n",
       "    <tr>\n",
       "      <th>315737</th>\n",
       "      <td>315737</td>\n",
       "      <td>14.1</td>\n",
       "      <td>-73.975100</td>\n",
       "      <td>40.790103</td>\n",
       "      <td>-74.007127</td>\n",
       "      <td>40.736305</td>\n",
       "      <td>1</td>\n",
       "      <td>0</td>\n",
       "      <td>0</td>\n",
       "      <td>2009</td>\n",
       "      <td>1</td>\n",
       "      <td>31</td>\n",
       "      <td>22</td>\n",
       "      <td>5</td>\n",
       "      <td>6.557946</td>\n",
       "    </tr>\n",
       "  </tbody>\n",
       "</table>\n",
       "</div>"
      ],
      "text/plain": [
       "        Unnamed: 0  fare_amount  pickup_longitude  ...  hour  weekday  distance\n",
       "189636      189636         12.1        -73.985994  ...    10        3  3.420812\n",
       "535030      535030          6.5        -73.993565  ...     7        3  0.848641\n",
       "328599      328599          6.0        -73.994164  ...    14        4  0.870528\n",
       "79463        79463         13.7        -73.975825  ...     9        3  3.600475\n",
       "315737      315737         14.1        -73.975100  ...    22        5  6.557946\n",
       "\n",
       "[5 rows x 15 columns]"
      ]
     },
     "execution_count": 63,
     "metadata": {
      "tags": []
     },
     "output_type": "execute_result"
    }
   ],
   "source": [
    "data.head()"
   ]
  },
  {
   "cell_type": "markdown",
   "id": "28e169ce",
   "metadata": {
    "id": "28e169ce"
   },
   "source": [
    "<h4> SELECCIÓN DE VARIABLES</h4>"
   ]
  },
  {
   "cell_type": "code",
   "execution_count": 64,
   "id": "a7ba2873",
   "metadata": {
    "colab": {
     "base_uri": "https://localhost:8080/"
    },
    "id": "a7ba2873",
    "outputId": "4fa581f7-1d99-408c-f195-6ea8754aded9"
   },
   "outputs": [
    {
     "data": {
      "text/plain": [
       "['Unnamed: 0',\n",
       " 'fare_amount',\n",
       " 'pickup_longitude',\n",
       " 'pickup_latitude',\n",
       " 'dropoff_longitude',\n",
       " 'dropoff_latitude',\n",
       " 'passenger_count',\n",
       " 'pickup_airport',\n",
       " 'dropoff_airport',\n",
       " 'year',\n",
       " 'month',\n",
       " 'day',\n",
       " 'hour',\n",
       " 'weekday',\n",
       " 'distance']"
      ]
     },
     "execution_count": 64,
     "metadata": {
      "tags": []
     },
     "output_type": "execute_result"
    }
   ],
   "source": [
    "data.columns.to_list()"
   ]
  },
  {
   "cell_type": "code",
   "execution_count": 65,
   "id": "6e4d4abb",
   "metadata": {
    "colab": {
     "base_uri": "https://localhost:8080/"
    },
    "id": "6e4d4abb",
    "outputId": "6fd1b6b6-ed09-43b7-d706-02923cc61cb1"
   },
   "outputs": [
    {
     "name": "stdout",
     "output_type": "stream",
     "text": [
      "<class 'pandas.core.frame.DataFrame'>\n",
      "Int64Index: 192701 entries, 189636 to 502194\n",
      "Data columns (total 15 columns):\n",
      " #   Column             Non-Null Count   Dtype  \n",
      "---  ------             --------------   -----  \n",
      " 0   Unnamed: 0         192701 non-null  int64  \n",
      " 1   fare_amount        192701 non-null  float64\n",
      " 2   pickup_longitude   192701 non-null  float64\n",
      " 3   pickup_latitude    192701 non-null  float64\n",
      " 4   dropoff_longitude  192701 non-null  float64\n",
      " 5   dropoff_latitude   192701 non-null  float64\n",
      " 6   passenger_count    192701 non-null  int64  \n",
      " 7   pickup_airport     192701 non-null  int64  \n",
      " 8   dropoff_airport    192701 non-null  int64  \n",
      " 9   year               192701 non-null  int64  \n",
      " 10  month              192701 non-null  int64  \n",
      " 11  day                192701 non-null  int64  \n",
      " 12  hour               192701 non-null  int64  \n",
      " 13  weekday            192701 non-null  int64  \n",
      " 14  distance           192701 non-null  float64\n",
      "dtypes: float64(6), int64(9)\n",
      "memory usage: 23.5 MB\n"
     ]
    }
   ],
   "source": [
    "data.info()"
   ]
  },
  {
   "cell_type": "code",
   "execution_count": 66,
   "id": "0604b464",
   "metadata": {
    "id": "0604b464"
   },
   "outputs": [],
   "source": [
    "data.drop(columns=['pickup_longitude','pickup_latitude','dropoff_longitude','dropoff_latitude'], inplace=True)"
   ]
  },
  {
   "cell_type": "code",
   "execution_count": 83,
   "id": "4w9gDSMLfGst",
   "metadata": {
    "id": "4w9gDSMLfGst"
   },
   "outputs": [],
   "source": [
    "data['airport'] = data['pickup_airport'] + data['dropoff_airport']"
   ]
  },
  {
   "cell_type": "code",
   "execution_count": 98,
   "id": "151ae96f",
   "metadata": {
    "colab": {
     "base_uri": "https://localhost:8080/",
     "height": 537
    },
    "id": "151ae96f",
    "outputId": "2bb8fcb9-9af5-4d7c-d149-de4b24874627"
   },
   "outputs": [
    {
     "data": {
      "image/png": "[encoded data removed]",
      "text/plain": [
       "<Figure size 1080x720 with 2 Axes>"
      ]
     },
     "metadata": {
      "needs_background": "light",
      "tags": []
     },
     "output_type": "display_data"
    },
    {
     "name": "stdout",
     "output_type": "stream",
     "text": [
      "CPU times: user 929 ms, sys: 153 ms, total: 1.08 s\n",
      "Wall time: 964 ms\n"
     ]
    }
   ],
   "source": [
    "%%time\n",
    "fig, ax = plt.subplots(figsize = (15, 10))\n",
    "sns.heatmap(data.corr(), annot=True, ax=ax)\n",
    "plt.show()"
   ]
  },
  {
   "cell_type": "code",
   "execution_count": 99,
   "id": "e1ff1d84",
   "metadata": {
    "id": "e1ff1d84"
   },
   "outputs": [],
   "source": [
    "#predictors = ['distance', 'pickup_JFK','dropoff_JFK','pickup_EWR','dropoff_EWR','pickup_LG','dropoff_LG']\n",
    "#predictors = ['distance', 'pickup_airport', 'dropoff_airport', 'year','month']\n",
    "predictors = ['distance', 'airport', 'year']\n",
    "salida = 'fare_amount'\n",
    "\n",
    "X = data[predictors]\n",
    "y = data[salida]\n",
    "\n",
    "#ESCALANDO\n",
    "scaler = StandardScaler()\n",
    "X = scaler.fit_transform(X)\n",
    "\n",
    "#pol_features = PolynomialFeatures(degree=4)\n",
    "#X = pol_features.fit_transform(X)"
   ]
  },
  {
   "cell_type": "markdown",
   "id": "a471d5fc",
   "metadata": {
    "id": "a471d5fc"
   },
   "source": [
    "**TARIFA PROMEDIO POR HORA**<br>\n",
    "Se observa una mayor tarifa a las 4am y 5am."
   ]
  },
  {
   "cell_type": "code",
   "execution_count": 100,
   "id": "a04919f5",
   "metadata": {
    "colab": {
     "base_uri": "https://localhost:8080/",
     "height": 282
    },
    "id": "a04919f5",
    "outputId": "af46fcc4-e85f-4de1-c607-c7dc06dbfd14",
    "scrolled": true
   },
   "outputs": [
    {
     "data": {
      "image/png": "[encoded data removed]",
      "text/plain": [
       "<Figure size 432x288 with 1 Axes>"
      ]
     },
     "metadata": {
      "needs_background": "light",
      "tags": []
     },
     "output_type": "display_data"
    }
   ],
   "source": [
    "data.groupby([\"hour\"]).fare_amount.mean().plot.bar(x='hour',y='fare_amount')\n",
    "plt.show()"
   ]
  },
  {
   "cell_type": "markdown",
   "id": "e55fe2a7",
   "metadata": {
    "id": "e55fe2a7"
   },
   "source": [
    "**TARIFA PROMEDIO POR AÑO**<br>\n",
    "Se observa un crecimiento de la tarifa en promedio cada año"
   ]
  },
  {
   "cell_type": "code",
   "execution_count": 101,
   "id": "a2b23e20",
   "metadata": {
    "colab": {
     "base_uri": "https://localhost:8080/",
     "height": 295
    },
    "id": "a2b23e20",
    "outputId": "912f29da-65c1-45b9-a038-2039b2dc1d27"
   },
   "outputs": [
    {
     "data": {
      "image/png": "[encoded data removed]",
      "text/plain": [
       "<Figure size 432x288 with 1 Axes>"
      ]
     },
     "metadata": {
      "needs_background": "light",
      "tags": []
     },
     "output_type": "display_data"
    }
   ],
   "source": [
    "data.groupby([\"year\"]).fare_amount.mean().plot.bar(x='hour',y='fare_amount')\n",
    "plt.show()"
   ]
  },
  {
   "cell_type": "markdown",
   "id": "038cc1ca",
   "metadata": {
    "id": "038cc1ca"
   },
   "source": [
    "<h3> LINEAR REGRESSION </h3>"
   ]
  },
  {
   "cell_type": "code",
   "execution_count": 102,
   "id": "c04e9236",
   "metadata": {
    "id": "c04e9236"
   },
   "outputs": [],
   "source": [
    "X_train, X_test, y_train, y_test = train_test_split(X, y, random_state=7, test_size=0.3)"
   ]
  },
  {
   "cell_type": "markdown",
   "id": "662eaf50",
   "metadata": {
    "id": "662eaf50"
   },
   "source": [
    "<h4> Definición del modelo a entrenar </h4>"
   ]
  },
  {
   "cell_type": "code",
   "execution_count": 103,
   "id": "34318464",
   "metadata": {
    "colab": {
     "base_uri": "https://localhost:8080/"
    },
    "id": "34318464",
    "outputId": "bfd06830-aeac-4f1c-e0fa-21b1f59507e2"
   },
   "outputs": [
    {
     "name": "stdout",
     "output_type": "stream",
     "text": [
      "Intercepto: 11.015\n",
      "Coeficientes: 7.331\n"
     ]
    }
   ],
   "source": [
    "modelo = LinearRegression()\n",
    "modelo.fit(X_train, y_train)\n",
    "\n",
    "#pol_reg = LinearRegression()\n",
    "#pol_reg.fit(X_train, y_train)\n",
    "\n",
    "# Imprime el b y lso coeficientes\n",
    "print(f'Intercepto: {modelo.intercept_:.3f}')\n",
    "print(f'Coeficientes: {modelo.coef_[0]:.3f}')"
   ]
  },
  {
   "cell_type": "code",
   "execution_count": 104,
   "id": "82b202ec",
   "metadata": {
    "id": "82b202ec"
   },
   "outputs": [],
   "source": [
    "# comparo el valor predicho de todos los puntos dados con el calculado\n",
    "y_pred = modelo.predict(X_test)\n",
    "residuals = y_test - y_pred\n",
    "\n",
    "#plt.scatter(x=X, y=y)\n",
    "#plt.plot(X_test, y_pred, c='red')\n",
    "#plt.show()\n",
    "\n",
    "#y_pred_pol = pol_reg.predict(X_test)"
   ]
  },
  {
   "cell_type": "code",
   "execution_count": 105,
   "id": "94ec48fc",
   "metadata": {
    "id": "94ec48fc"
   },
   "outputs": [],
   "source": [
    "# Todavia X_test no es similar a data modificada\n",
    "#modelo.score(X_test, y_test)"
   ]
  },
  {
   "cell_type": "markdown",
   "id": "826edcf0",
   "metadata": {
    "id": "826edcf0"
   },
   "source": [
    "## Metrics"
   ]
  },
  {
   "cell_type": "code",
   "execution_count": 106,
   "id": "5d7a0665",
   "metadata": {
    "colab": {
     "base_uri": "https://localhost:8080/"
    },
    "id": "5d7a0665",
    "outputId": "07f0e4e4-bd04-491e-c313-dde040e7d6e1"
   },
   "outputs": [
    {
     "name": "stdout",
     "output_type": "stream",
     "text": [
      "MSE 15.064578473877546\n",
      "RMSE 3.8813114373723665\n",
      "R2 0.8010584414104055\n"
     ]
    }
   ],
   "source": [
    "# datos de entrenamiento y el ajustado\n",
    "r2score = r2_score(y_test, y_pred)\n",
    "mse = mean_squared_error(y_test, y_pred)\n",
    "rmse = sqrt(mean_squared_error(y_test, y_pred))\n",
    "\n",
    "print(\"MSE\", mse)\n",
    "print(\"RMSE\",rmse)\n",
    "print(\"R2\", r2score)"
   ]
  },
  {
   "cell_type": "markdown",
   "id": "3bae46e1",
   "metadata": {
    "id": "3bae46e1"
   },
   "source": [
    "#### Random Forest Regressor"
   ]
  },
  {
   "cell_type": "code",
   "execution_count": 107,
   "id": "a26fbbbd",
   "metadata": {
    "id": "a26fbbbd"
   },
   "outputs": [],
   "source": [
    "parameters = {'n_estimators':[60],\n",
    "              'max_depth':[6] ,\n",
    "              'n_jobs':[-1],\n",
    "              'max_features':['sqrt']}\n",
    "\n",
    "grid_search = GridSearchCV(estimator=RandomForestRegressor(),\n",
    "             param_grid=parameters)"
   ]
  },
  {
   "cell_type": "code",
   "execution_count": 108,
   "id": "c1bc60fa",
   "metadata": {
    "colab": {
     "base_uri": "https://localhost:8080/"
    },
    "id": "c1bc60fa",
    "outputId": "f10809de-9b57-4ee4-b611-b9b04bf43f9c",
    "scrolled": true
   },
   "outputs": [
    {
     "name": "stdout",
     "output_type": "stream",
     "text": [
      "CPU times: user 7.58 s, sys: 171 ms, total: 7.75 s\n",
      "Wall time: 16.9 s\n"
     ]
    },
    {
     "data": {
      "text/plain": [
       "GridSearchCV(cv=None, error_score=nan,\n",
       "             estimator=RandomForestRegressor(bootstrap=True, ccp_alpha=0.0,\n",
       "                                             criterion='mse', max_depth=None,\n",
       "                                             max_features='auto',\n",
       "                                             max_leaf_nodes=None,\n",
       "                                             max_samples=None,\n",
       "                                             min_impurity_decrease=0.0,\n",
       "                                             min_impurity_split=None,\n",
       "                                             min_samples_leaf=1,\n",
       "                                             min_samples_split=2,\n",
       "                                             min_weight_fraction_leaf=0.0,\n",
       "                                             n_estimators=100, n_jobs=None,\n",
       "                                             oob_score=False, random_state=None,\n",
       "                                             verbose=0, warm_start=False),\n",
       "             iid='deprecated', n_jobs=None,\n",
       "             param_grid={'max_depth': [6], 'max_features': ['sqrt'],\n",
       "                         'n_estimators': [60], 'n_jobs': [-1]},\n",
       "             pre_dispatch='2*n_jobs', refit=True, return_train_score=False,\n",
       "             scoring=None, verbose=0)"
      ]
     },
     "execution_count": 108,
     "metadata": {
      "tags": []
     },
     "output_type": "execute_result"
    }
   ],
   "source": [
    "%%time\n",
    "grid_search.fit(X_train,y_train)"
   ]
  },
  {
   "cell_type": "code",
   "execution_count": 109,
   "id": "9dcca6cb",
   "metadata": {
    "colab": {
     "base_uri": "https://localhost:8080/"
    },
    "id": "9dcca6cb",
    "outputId": "0a7bfa25-0f6c-4390-e763-e5fbe9ec081a"
   },
   "outputs": [
    {
     "data": {
      "text/plain": [
       "{'max_depth': 6, 'max_features': 'sqrt', 'n_estimators': 60, 'n_jobs': -1}"
      ]
     },
     "execution_count": 109,
     "metadata": {
      "tags": []
     },
     "output_type": "execute_result"
    }
   ],
   "source": [
    "best_param= grid_search.best_params_\n",
    "best_param"
   ]
  },
  {
   "cell_type": "code",
   "execution_count": 110,
   "id": "1f3cfda8",
   "metadata": {
    "id": "1f3cfda8"
   },
   "outputs": [],
   "source": [
    "best_model = grid_search.best_estimator_"
   ]
  },
  {
   "cell_type": "code",
   "execution_count": 111,
   "id": "f8bb133f",
   "metadata": {
    "id": "f8bb133f"
   },
   "outputs": [],
   "source": [
    "y_pred = best_model.predict(X_test)"
   ]
  },
  {
   "cell_type": "code",
   "execution_count": 112,
   "id": "e604d95c",
   "metadata": {
    "colab": {
     "base_uri": "https://localhost:8080/"
    },
    "id": "e604d95c",
    "outputId": "3f1a4b0b-b09a-4001-82a4-2c0cc0759f99"
   },
   "outputs": [
    {
     "name": "stdout",
     "output_type": "stream",
     "text": [
      "MSE 13.790189626150259\n",
      "RMSE 3.7135144575119483\n",
      "R2 0.8178879135430437\n"
     ]
    }
   ],
   "source": [
    "r2score = r2_score(y_test, y_pred)\n",
    "mse = mean_squared_error(y_test, y_pred)\n",
    "rmse = sqrt(mean_squared_error(y_test, y_pred))\n",
    "\n",
    "print(\"MSE\", mse)\n",
    "print(\"RMSE\",rmse)\n",
    "print(\"R2\", r2score)"
   ]
  },
  {
   "cell_type": "markdown",
   "id": "LszrT8NmfnjZ",
   "metadata": {
    "id": "LszrT8NmfnjZ"
   },
   "source": [
    "## Boosting"
   ]
  },
  {
   "cell_type": "code",
   "execution_count": 126,
   "id": "ZKilCE6ugyqI",
   "metadata": {
    "id": "ZKilCE6ugyqI"
   },
   "outputs": [],
   "source": [
    "from sklearn.ensemble import GradientBoostingRegressor\n",
    "parameters = {'n_estimators':[100,200,300,400,500],\n",
    "              'learning_rate':[0.1,0.01,0.001],\n",
    "              'max_depth':[1,2,3,4,5,6,7,8] ,\n",
    "              'max_features':['sqrt']}\n",
    "\n",
    "grid_search = GridSearchCV(estimator=GradientBoostingRegressor(),\n",
    "             param_grid=parameters)"
   ]
  },
  {
   "cell_type": "code",
   "execution_count": 127,
   "id": "7JklMIexg6yu",
   "metadata": {
    "colab": {
     "base_uri": "https://localhost:8080/"
    },
    "id": "7JklMIexg6yu",
    "outputId": "849cee4e-2044-4fa0-a9a6-3c9eafc4092b"
   },
   "outputs": [
    {
     "data": {
      "text/plain": [
       "GridSearchCV(cv=None, error_score=nan,\n",
       "             estimator=GradientBoostingRegressor(alpha=0.9, ccp_alpha=0.0,\n",
       "                                                 criterion='friedman_mse',\n",
       "                                                 init=None, learning_rate=0.1,\n",
       "                                                 loss='ls', max_depth=3,\n",
       "                                                 max_features=None,\n",
       "                                                 max_leaf_nodes=None,\n",
       "                                                 min_impurity_decrease=0.0,\n",
       "                                                 min_impurity_split=None,\n",
       "                                                 min_samples_leaf=1,\n",
       "                                                 min_samples_split=2,\n",
       "                                                 min_weight_fraction_leaf=0.0,\n",
       "                                                 n_estimators=100,\n",
       "                                                 n_ite...\n",
       "                                                 presort='deprecated',\n",
       "                                                 random_state=None,\n",
       "                                                 subsample=1.0, tol=0.0001,\n",
       "                                                 validation_fraction=0.1,\n",
       "                                                 verbose=0, warm_start=False),\n",
       "             iid='deprecated', n_jobs=None,\n",
       "             param_grid={'learning_rate': [0.1, 0.01, 0.001],\n",
       "                         'max_depth': [1, 2, 3, 4, 5, 6, 7, 8],\n",
       "                         'max_features': ['sqrt'],\n",
       "                         'n_estimators': [100, 200, 300, 400, 500]},\n",
       "             pre_dispatch='2*n_jobs', refit=True, return_train_score=False,\n",
       "             scoring=None, verbose=0)"
      ]
     },
     "execution_count": 127,
     "metadata": {
      "tags": []
     },
     "output_type": "execute_result"
    }
   ],
   "source": [
    "%%time\n",
    "grid_search.fit(X_train,y_train)"
   ]
  },
  {
   "cell_type": "code",
   "execution_count": 128,
   "id": "JM0pHvH8g-pk",
   "metadata": {
    "colab": {
     "base_uri": "https://localhost:8080/"
    },
    "id": "JM0pHvH8g-pk",
    "outputId": "dde78fe7-7d46-491e-b189-51723f0e47ca"
   },
   "outputs": [
    {
     "data": {
      "text/plain": [
       "{'learning_rate': 0.01,\n",
       " 'max_depth': 8,\n",
       " 'max_features': 'sqrt',\n",
       " 'n_estimators': 500}"
      ]
     },
     "execution_count": 128,
     "metadata": {
      "tags": []
     },
     "output_type": "execute_result"
    }
   ],
   "source": [
    "best_param= grid_search.best_params_\n",
    "best_param"
   ]
  },
  {
   "cell_type": "code",
   "execution_count": 129,
   "id": "-BA0kJYAhAL-",
   "metadata": {
    "id": "-BA0kJYAhAL-"
   },
   "outputs": [],
   "source": [
    "best_model = grid_search.best_estimator_"
   ]
  },
  {
   "cell_type": "code",
   "execution_count": 130,
   "id": "f8753f28",
   "metadata": {
    "id": "f8753f28"
   },
   "outputs": [],
   "source": [
    "y_pred = best_model.predict(X_test)"
   ]
  },
  {
   "cell_type": "code",
   "execution_count": 131,
   "id": "WN-aJLbngD0Z",
   "metadata": {
    "colab": {
     "base_uri": "https://localhost:8080/"
    },
    "id": "WN-aJLbngD0Z",
    "outputId": "4d0c4e53-1a7c-45eb-bfbe-b6c5ab6e1fb8"
   },
   "outputs": [
    {
     "name": "stdout",
     "output_type": "stream",
     "text": [
      "MSE 12.514076129334137\n",
      "RMSE 3.5375240111318167\n",
      "R2 0.8347401612467573\n"
     ]
    }
   ],
   "source": [
    "r2score = r2_score(y_test, y_pred)\n",
    "mse = mean_squared_error(y_test, y_pred)\n",
    "rmse = sqrt(mean_squared_error(y_test, y_pred))\n",
    "\n",
    "print(\"MSE\", mse)\n",
    "print(\"RMSE\",rmse)\n",
    "print(\"R2\", r2score)"
   ]
  }
 ],
 "metadata": {
  "colab": {
   "name": "Pruebas con pyspark.ipynb",
   "provenance": []
  },
  "kernelspec": {
   "display_name": "Python 3",
   "language": "python",
   "name": "python3"
  },
  "language_info": {
   "codemirror_mode": {
    "name": "ipython",
    "version": 3
   },
   "file_extension": ".py",
   "mimetype": "text/x-python",
   "name": "python",
   "nbconvert_exporter": "python",
   "pygments_lexer": "ipython3",
   "version": "3.8.5"
  }
 },
 "nbformat": 4,
 "nbformat_minor": 5
}
