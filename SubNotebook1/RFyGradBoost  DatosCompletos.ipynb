{
 "cells": [
  {
   "cell_type": "markdown",
   "id": "456022b2",
   "metadata": {},
   "source": [
    "# Práctica Calificada 2 - Grupo 1\n",
    "---\n",
    "<h3>1. OBJETIVO</h3>\n",
    "\n",
    "**Predicción de tarifas de taxis**<br>\n",
    "El objetivo de esta evaluación es construir un modelo de aprendizaje que sea capaz de\n",
    "predecir la tarifa que cobra un taxi de acuerdo a cierta información de entrada."
   ]
  },
  {
   "cell_type": "markdown",
   "id": "f83d591b",
   "metadata": {},
   "source": [
    "<h3>2. PAQUETES Y MÓDULOS</h3>"
   ]
  },
  {
   "cell_type": "code",
   "execution_count": 1,
   "id": "9ba9eb72",
   "metadata": {},
   "outputs": [],
   "source": [
    "import warnings\n",
    "warnings.filterwarnings(\"ignore\")"
   ]
  },
  {
   "cell_type": "code",
   "execution_count": 2,
   "id": "70775f3a",
   "metadata": {},
   "outputs": [],
   "source": [
    "from sklearn import linear_model\n",
    "from sklearn.linear_model import LinearRegression\n",
    "from sklearn.metrics import mean_squared_error, r2_score, average_precision_score, precision_recall_curve\n",
    "from inspect import signature\n",
    "from math import sqrt, sin, cos, asin, pi, log\n",
    "from sklearn.model_selection import train_test_split\n",
    "from sklearn.ensemble import RandomForestRegressor\n",
    "from sklearn.model_selection import GridSearchCV\n",
    "from sklearn.preprocessing import StandardScaler, PolynomialFeatures\n",
    "\n",
    "import plotly.express as px\n",
    "import pandas as pd\n",
    "import numpy as np\n",
    "import seaborn as sns\n",
    "import datetime as dt\n",
    "import os\n",
    "import matplotlib.pyplot as plt\n",
    "import ciso8601 #módulo que contiene una implementacion rapida de datetime\n",
    "\n",
    "%matplotlib inline"
   ]
  },
  {
   "cell_type": "markdown",
   "id": "2c49ed47",
   "metadata": {},
   "source": [
    "<h3>3. MUESTREO</h3>"
   ]
  },
  {
   "cell_type": "markdown",
   "id": "1163a57e",
   "metadata": {},
   "source": [
    "El conjunto de datos está compuesto por un archivo CSV que contiene alrededor de 55\n",
    "millones de registros de viajes en taxi. Cada registro contiene la siguiente información:\n",
    "* **ID**: cadena que identifica de manera única a cada registro\n",
    "* **pickup_datetime**: timestamp indicando cuando el viaje a empezado\n",
    "* **pickup_longitude**: número real indicando la ubicación en **longitud** en donde el viaje\n",
    "empezó\n",
    "* **pickup_latitude**: número real indicando la ubicación en **latitud** en donde el viaje\n",
    "empezó\n",
    "* **dropoff_longitude**: número real indicando la ubicación en longitud en donde el viaje\n",
    "terminó\n",
    "* **dropoff_latitude**: número real indicando la ubicación en latitud en donde el viaje\n",
    "terminó\n",
    "* **passenger_count**: número entero indicando el número de pasajeros en el servicio de\n",
    "taxi\n",
    "* **fare_amount: número real indicando el costo del taxi. Esta es la variable a predecir**"
   ]
  },
  {
   "cell_type": "markdown",
   "id": "fc1c2125",
   "metadata": {},
   "source": [
    "**Población** <br>\n",
    "Cargando todos los datos"
   ]
  },
  {
   "cell_type": "code",
   "execution_count": 3,
   "id": "088e1187",
   "metadata": {},
   "outputs": [
    {
     "name": "stdout",
     "output_type": "stream",
     "text": [
      "Wall time: 2min 21s\n"
     ]
    },
    {
     "data": {
      "text/plain": [
       "(55423856, 8)"
      ]
     },
     "execution_count": 3,
     "metadata": {},
     "output_type": "execute_result"
    }
   ],
   "source": [
    "%%time\n",
    "df = pd.read_csv(\"train.csv\") # approx 55M \n",
    "df.shape"
   ]
  },
  {
   "cell_type": "markdown",
   "id": "c09e2731",
   "metadata": {},
   "source": [
    "**Muestra**<br>\n",
    "Se trabajará con toda la población"
   ]
  },
  {
   "cell_type": "code",
   "execution_count": 4,
   "id": "2ecd5085",
   "metadata": {},
   "outputs": [
    {
     "name": "stdout",
     "output_type": "stream",
     "text": [
      "Wall time: 0 ns\n"
     ]
    }
   ],
   "source": [
    "%%time\n",
    "df_s = df"
   ]
  },
  {
   "cell_type": "code",
   "execution_count": 6,
   "id": "199fb6c4",
   "metadata": {},
   "outputs": [
    {
     "name": "stdout",
     "output_type": "stream",
     "text": [
      "<class 'pandas.core.frame.DataFrame'>\n",
      "RangeIndex: 55423856 entries, 0 to 55423855\n",
      "Data columns (total 8 columns):\n",
      " #   Column             Dtype  \n",
      "---  ------             -----  \n",
      " 0   key                object \n",
      " 1   fare_amount        float64\n",
      " 2   pickup_datetime    object \n",
      " 3   pickup_longitude   float64\n",
      " 4   pickup_latitude    float64\n",
      " 5   dropoff_longitude  float64\n",
      " 6   dropoff_latitude   float64\n",
      " 7   passenger_count    int64  \n",
      "dtypes: float64(5), int64(1), object(2)\n",
      "memory usage: 3.3+ GB\n"
     ]
    }
   ],
   "source": [
    "df_s.info()"
   ]
  },
  {
   "cell_type": "markdown",
   "id": "bbc899d6",
   "metadata": {},
   "source": [
    "<h3>4. LIMPIEZA</h3>"
   ]
  },
  {
   "cell_type": "markdown",
   "id": "e8d25060",
   "metadata": {},
   "source": [
    "**ELIMINAR DATOS NULOS Y LAS COLUMNA KEY**<br>\n",
    "En todos los datos hay 376 datos nulos en el destino del pasajero `(dropoff_longitude, dropoff_latitude)` lo eliminamos con `dropna`"
   ]
  },
  {
   "cell_type": "code",
   "execution_count": 7,
   "id": "5b58f8f8",
   "metadata": {},
   "outputs": [
    {
     "data": {
      "text/plain": [
       "key                    0\n",
       "fare_amount            0\n",
       "pickup_datetime        0\n",
       "pickup_longitude       0\n",
       "pickup_latitude        0\n",
       "dropoff_longitude    376\n",
       "dropoff_latitude     376\n",
       "passenger_count        0\n",
       "dtype: int64"
      ]
     },
     "execution_count": 7,
     "metadata": {},
     "output_type": "execute_result"
    }
   ],
   "source": [
    "df_s.isna().sum()"
   ]
  },
  {
   "cell_type": "code",
   "execution_count": 10,
   "id": "a0069937",
   "metadata": {},
   "outputs": [
    {
     "data": {
      "text/plain": [
       "(55423480, 8)"
      ]
     },
     "execution_count": 10,
     "metadata": {},
     "output_type": "execute_result"
    }
   ],
   "source": [
    "df_s.shape"
   ]
  },
  {
   "cell_type": "code",
   "execution_count": 11,
   "id": "94069dfe",
   "metadata": {},
   "outputs": [],
   "source": [
    "df_s.drop(columns='key', inplace=True)"
   ]
  },
  {
   "cell_type": "markdown",
   "id": "45b0a962",
   "metadata": {},
   "source": [
    "**LIMPIEZA  GENERAL**"
   ]
  },
  {
   "cell_type": "code",
   "execution_count": 22,
   "id": "125d9ac1",
   "metadata": {},
   "outputs": [
    {
     "name": "stdout",
     "output_type": "stream",
     "text": [
      "Shape antes del limpieza general:  (55423480, 7)\n",
      "Shape despues del limpieza general:  (55200088, 7)\n",
      "Limpiando 223392 registros\n",
      "Wall time: 26.2 s\n"
     ]
    }
   ],
   "source": [
    "%%time\n",
    "def filter_data(dataframe):\n",
    "    #Solo quedan si cumplen las condiciones \n",
    "    return dataframe[\n",
    "                    #Coordenadas Ilegales\n",
    "                    (-180.0 <= dataframe[\"pickup_longitude\"])&\n",
    "                    (dataframe[\"pickup_longitude\"] <= 180.0)&\n",
    "                    (-90.0 <= dataframe[\"pickup_latitude\"])&\n",
    "                    (dataframe[\"pickup_latitude\"] <= 90.0)&\n",
    "                    (-180.0 <= dataframe[\"dropoff_longitude\"])&\n",
    "                    (dataframe[\"dropoff_longitude\"] <= 180.0)&\n",
    "                    (-90.0 <= dataframe[\"dropoff_latitude\"])&\n",
    "                    (dataframe[\"dropoff_latitude\"] <= 90.0)& \n",
    "                    #(df_s[\"pickup_longitude\"] != df_s[\"dropoff_longitude\"])&\n",
    "                    #Fare amount  \n",
    "                    (2.0 <= dataframe[\"fare_amount\"])&\n",
    "                    (dataframe[\"fare_amount\"] <= 100)&\n",
    "                    # passenger_count\n",
    "                    (1<=dataframe[\"passenger_count\"])&\n",
    "                    (dataframe[\"passenger_count\"]<= 6)]    \n",
    "     \n",
    "print (\"Shape antes del limpieza general: \", df_s.shape)\n",
    "# almacenado en data la limpieza general\n",
    "data = filter_data(df_s)\n",
    "print (\"Shape despues del limpieza general: \", data.shape)\n",
    "print (\"Limpiando %d registros\"%(df_s.shape[0] - data.shape[0]))"
   ]
  },
  {
   "cell_type": "markdown",
   "id": "9809f8d3",
   "metadata": {},
   "source": [
    "**INTERCAMBIAR COORDENADAS DE PUNTOS PARA CONSIDERARLOS DENTRO DE LA REGIÓN VALIDA**"
   ]
  },
  {
   "cell_type": "code",
   "execution_count": 23,
   "id": "7f5c7e9e",
   "metadata": {},
   "outputs": [
    {
     "name": "stdout",
     "output_type": "stream",
     "text": [
      "Numero de reflejos :  26684\n"
     ]
    }
   ],
   "source": [
    "def swap_coordinates (dataframe,\n",
    "    city_limits = { \n",
    "        \"lon_min\":-76,\n",
    "        \"lon_max\":-73,\n",
    "        \"lat_min\":38,\n",
    "        \"lat_max\":50} ):\n",
    "    #Intercambia las coordenadas de los viajes en \n",
    "    # la region [38 , 50]x[-76, -73]\n",
    "    # la region de principarl de trabajo\n",
    "    # (cuidad de NY) es : [-76, -73]x[38 , 50]\n",
    "    datap = dataframe\n",
    "    city_interchange = ((datap[\"pickup_longitude\"] > city_limits[\"lat_min\"])&\n",
    "                        (datap[\"pickup_longitude\"] < city_limits[\"lat_max\"])&\n",
    "                        (datap[\"pickup_latitude\"] > city_limits[\"lon_min\"] )& #-74.252444 \n",
    "                        (datap[\"pickup_latitude\"] < city_limits[\"lon_max\"] )& \n",
    "\n",
    "                        (datap[\"dropoff_longitude\"] > city_limits[\"lat_min\"])&\n",
    "                        (datap[\"dropoff_longitude\"] < city_limits[\"lat_max\"])&\n",
    "                        (datap[\"dropoff_latitude\"] >  city_limits[\"lon_min\"])&\n",
    "                        (datap[\"dropoff_latitude\"] <  city_limits[\"lon_max\"]))\n",
    "    print ( \"Numero de reflejos : \",city_interchange.sum())\n",
    "    \n",
    "    datap.loc[city_interchange] = datap.loc[city_interchange].rename(columns={\n",
    "                                            'pickup_longitude':'pickup_latitude',\n",
    "                                            'pickup_latitude':'pickup_longitude',\n",
    "                                            'dropoff_latitude':'dropoff_longitude',\n",
    "                                            'dropoff_longitude':'dropoff_latitude'})\n",
    "    return datap\n",
    "\n",
    "data = swap_coordinates(data)"
   ]
  },
  {
   "cell_type": "markdown",
   "id": "ec837144",
   "metadata": {},
   "source": [
    "**DETERMINAR LA REGIÓN VALIDA**"
   ]
  },
  {
   "cell_type": "code",
   "execution_count": 24,
   "id": "b59ef1ac",
   "metadata": {},
   "outputs": [
    {
     "name": "stdout",
     "output_type": "stream",
     "text": [
      "Shape antes de la limpieza por región:  (55200088, 7)\n",
      "Shape despues de la limpieza por región:  (53383845, 7)\n",
      "Limpiando 2039635 registros acumulados en total hasta ahora \n"
     ]
    }
   ],
   "source": [
    "#long_border = (-74.03, -73.75)\n",
    "#lat_border = (40.63, 40.85)\n",
    "def filter_out_of_city(dataframe,city_limits = {\"lon_min\":-74.03 ,\n",
    "                                                \"lon_max\":-73.75,\n",
    "                                                \"lat_min\":40.63,\n",
    "                                                \"lat_max\":40.85}):\n",
    "    #Solo quedan si estan dentro de la ciudad \n",
    "    return dataframe[(city_limits[\"lon_min\"]<= dataframe[\"pickup_longitude\"])&\n",
    "                    (dataframe[\"pickup_longitude\"] <= city_limits[\"lon_max\"])&\n",
    "                    (city_limits[\"lat_min\"]<= dataframe[\"pickup_latitude\"])&\n",
    "                    (dataframe[\"pickup_latitude\"] <= city_limits[\"lat_max\"])&\n",
    "                    (city_limits[\"lon_min\"] <= dataframe[\"dropoff_longitude\"])&\n",
    "                    (dataframe[\"dropoff_longitude\"] <= city_limits[\"lon_max\"])&\n",
    "                    (city_limits[\"lat_min\"]<= dataframe[\"dropoff_latitude\"])&\n",
    "                    (dataframe[\"dropoff_latitude\"] <= city_limits[\"lat_max\"])]\n",
    "\n",
    "print (\"Shape antes de la limpieza por región: \", data.shape)\n",
    "data = filter_out_of_city(data)\n",
    "print (\"Shape despues de la limpieza por región: \", data.shape)\n",
    "print (\"Limpiando %d registros acumulados en total hasta ahora \"%(df_s.shape[0] - data.shape[0]))"
   ]
  },
  {
   "cell_type": "markdown",
   "id": "0a46efb8",
   "metadata": {},
   "source": [
    "<h2>5. INGENIERÍA DE CARACTERÍSTICAS</h2>"
   ]
  },
  {
   "cell_type": "code",
   "execution_count": 27,
   "id": "3c83b3f6",
   "metadata": {},
   "outputs": [],
   "source": [
    "def isInside( column_lat ,column_lon ,region):\n",
    "    return (column_lat>=region['min_lat'])&(column_lat<=region['max_lat'])&(column_lon>=region['min_long'])&(column_lon<=region['max_long'])    "
   ]
  },
  {
   "cell_type": "markdown",
   "id": "116b9f57",
   "metadata": {},
   "source": [
    "**CONTROL DE VIAJES PARTIENDO O LLEGANDO A LOS AEROPUERTOS DE NEW YORK**"
   ]
  },
  {
   "cell_type": "code",
   "execution_count": 28,
   "id": "7c2cad98",
   "metadata": {},
   "outputs": [],
   "source": [
    "JFK={'min_long':-73.8352,'min_lat':40.6195,'max_long':-73.7401, 'max_lat':40.6659}\n",
    "EWR={'min_long':-74.1925,'min_lat':40.6700, 'max_long':-74.1531, 'max_lat':40.7081}\n",
    "LG={'min_long':-73.8895, 'min_lat':40.7664,'max_long':-73.8550,'max_lat':40.7931}"
   ]
  },
  {
   "cell_type": "code",
   "execution_count": 29,
   "id": "649b3250",
   "metadata": {},
   "outputs": [
    {
     "name": "stdout",
     "output_type": "stream",
     "text": [
      "Wall time: 1.69 s\n"
     ]
    }
   ],
   "source": [
    "%%time\n",
    "data['pickup_airport'] = isInside(data.pickup_latitude, data.pickup_longitude , JFK)|isInside(data.pickup_latitude, data.pickup_longitude ,EWR) | isInside(data.pickup_latitude, data.pickup_longitude ,LG)\n",
    "data['dropoff_airport'] = isInside(data.dropoff_latitude, data.dropoff_longitude , JFK) |isInside(data.dropoff_latitude, data.dropoff_longitude ,EWR) |isInside(data.dropoff_latitude, data.dropoff_longitude ,LG)"
   ]
  },
  {
   "cell_type": "code",
   "execution_count": 30,
   "id": "a4f46e83",
   "metadata": {},
   "outputs": [],
   "source": [
    "data['pickup_airport'] = data['pickup_airport'].astype(int)\n",
    "data['dropoff_airport'] = data['dropoff_airport'].astype(int)"
   ]
  },
  {
   "cell_type": "markdown",
   "id": "b6c6d3d2",
   "metadata": {},
   "source": [
    "<h5>SEPARAR DATETIME EN YEAR, MONTH, DAY, HOUR Y WEEKDAY</h5>"
   ]
  },
  {
   "cell_type": "code",
   "execution_count": 31,
   "id": "8251a0be",
   "metadata": {},
   "outputs": [
    {
     "name": "stdout",
     "output_type": "stream",
     "text": [
      "Wall time: 54.5 s\n"
     ]
    }
   ],
   "source": [
    "%%time\n",
    "def f2(datestr):\n",
    "    return ciso8601.parse_datetime(datestr [ :-4])\n",
    "\n",
    "def separate_datetime_to_features(dataframe): \n",
    "    dataframe ['pickup_datetime'] =dataframe.pickup_datetime.apply(f2)  #pd.to_datetime(data.pickup_datetime ,infer_datetime_format=True) # convertimos a tipo de dato de datetime\n",
    "    dataframe['year'] = dataframe['pickup_datetime'].dt.year\n",
    "    dataframe['month'] = dataframe['pickup_datetime'].dt.month\n",
    "    dataframe['day'] = dataframe['pickup_datetime'].dt.day\n",
    "    dataframe['hour'] = dataframe['pickup_datetime'].dt.hour\n",
    "    dataframe['weekday'] = dataframe['pickup_datetime'].dt.weekday\n",
    "    dataframe.drop(columns='pickup_datetime', inplace=True)\n",
    "    return dataframe\n",
    "\n",
    "data = separate_datetime_to_features(data)"
   ]
  },
  {
   "cell_type": "markdown",
   "id": "1366ca05",
   "metadata": {},
   "source": [
    "<h5>DETERMINAR LA DISTANCIA DE HAVERSINE ENTRE PUNTOS DADO SU LATITUD Y LONGITUD</h5>"
   ]
  },
  {
   "cell_type": "code",
   "execution_count": 34,
   "id": "e8143c65",
   "metadata": {},
   "outputs": [],
   "source": [
    "def haversine(lon1, lat1, lon2, lat2):\n",
    "    # Haversine vectorizado usando funciones de np\n",
    "    lon1, lat1, lon2, lat2 = map(np.radians, [lon1, lat1, lon2, lat2])\n",
    "\n",
    "    dlon = lon2 - lon1\n",
    "    dlat = lat2 - lat1\n",
    "\n",
    "    a = np.sin(dlat/2.0)**2 + np.cos(lat1) * np.cos(lat2) * np.sin(dlon/2.0)**2\n",
    "    km = 6367 * 2 * np.arcsin(np.sqrt(a))\n",
    "    km[km < 0.00008] = 0.00008\n",
    "    return km"
   ]
  },
  {
   "cell_type": "code",
   "execution_count": null,
   "id": "077b2f4c",
   "metadata": {},
   "outputs": [],
   "source": [
    "%time\n",
    "data['distance'] = haversine(data['pickup_longitude'],data['pickup_latitude'] , data['dropoff_longitude'], data['dropoff_latitude'])"
   ]
  },
  {
   "cell_type": "markdown",
   "id": "28e169ce",
   "metadata": {},
   "source": [
    "<h4> SELECCIÓN DE VARIABLES</h4>"
   ]
  },
  {
   "cell_type": "code",
   "execution_count": 37,
   "id": "6e4d4abb",
   "metadata": {},
   "outputs": [
    {
     "name": "stdout",
     "output_type": "stream",
     "text": [
      "<class 'pandas.core.frame.DataFrame'>\n",
      "Int64Index: 53383845 entries, 0 to 55423855\n",
      "Data columns (total 14 columns):\n",
      " #   Column             Dtype  \n",
      "---  ------             -----  \n",
      " 0   fare_amount        float64\n",
      " 1   pickup_longitude   float64\n",
      " 2   pickup_latitude    float64\n",
      " 3   dropoff_longitude  float64\n",
      " 4   dropoff_latitude   float64\n",
      " 5   passenger_count    int64  \n",
      " 6   pickup_airport     int32  \n",
      " 7   dropoff_airport    int32  \n",
      " 8   year               int64  \n",
      " 9   month              int64  \n",
      " 10  day                int64  \n",
      " 11  hour               int64  \n",
      " 12  weekday            int64  \n",
      " 13  distance           float64\n",
      "dtypes: float64(6), int32(2), int64(6)\n",
      "memory usage: 5.6 GB\n"
     ]
    }
   ],
   "source": [
    "# Quedaron 53383845 datos para la entrenamiento y el testeo\n",
    "data.info()"
   ]
  },
  {
   "cell_type": "code",
   "execution_count": 38,
   "id": "0604b464",
   "metadata": {},
   "outputs": [],
   "source": [
    "data.drop(columns=['pickup_longitude','pickup_latitude','dropoff_longitude','dropoff_latitude'], inplace=True)"
   ]
  },
  {
   "cell_type": "code",
   "execution_count": 37,
   "id": "e1ff1d84",
   "metadata": {},
   "outputs": [],
   "source": [
    "predictors = ['distance', 'pickup_airport', 'dropoff_airport', 'year','month','hour']\n",
    "salida = 'fare_amount'\n",
    "X = data[predictors]\n",
    "y = data[salida]\n",
    "\n",
    "#ESCALANDO\n",
    "scaler = StandardScaler()\n",
    "X = scaler.fit_transform(X)"
   ]
  },
  {
   "cell_type": "markdown",
   "id": "1b90ff7c-e5b0-4c99-a818-df7b789c63d5",
   "metadata": {},
   "source": [
    "## 6. Entrenamiento del modelo"
   ]
  },
  {
   "cell_type": "code",
   "execution_count": 38,
   "id": "4597db51-da14-4fae-a8c1-a950795cea77",
   "metadata": {},
   "outputs": [],
   "source": [
    "def print_metrics(y_test, y_pred):\n",
    "    r2score = r2_score(y_test, y_pred)\n",
    "    mse = mean_squared_error(y_test, y_pred)\n",
    "    rmse = sqrt(mean_squared_error(y_test, y_pred))\n",
    "\n",
    "    print(\"MSE\", mse)\n",
    "    print(\"RMSE\",rmse)\n",
    "    print(\"R2\", r2score)"
   ]
  },
  {
   "cell_type": "code",
   "execution_count": 41,
   "id": "c04e9236",
   "metadata": {},
   "outputs": [],
   "source": [
    "X_train, X_test, y_train, y_test = train_test_split(X, y, random_state=7, test_size=0.3)"
   ]
  },
  {
   "cell_type": "markdown",
   "id": "3bae46e1",
   "metadata": {},
   "source": [
    "## Random Forest Regressor"
   ]
  },
  {
   "cell_type": "code",
   "execution_count": null,
   "id": "1991ffbe",
   "metadata": {},
   "outputs": [],
   "source": [
    "model = RandomForestRegressor(max_depth=6, max_features='sqrt', n_estimators=50,n_jobs=1)"
   ]
  },
  {
   "cell_type": "code",
   "execution_count": 50,
   "id": "c1bc60fa",
   "metadata": {
    "scrolled": true
   },
   "outputs": [
    {
     "name": "stdout",
     "output_type": "stream",
     "text": [
      "Wall time: 23min 49s\n"
     ]
    },
    {
     "data": {
      "text/plain": [
       "RandomForestRegressor(max_depth=6, max_features='sqrt', n_estimators=50,\n",
       "                      n_jobs=1)"
      ]
     },
     "execution_count": 50,
     "metadata": {},
     "output_type": "execute_result"
    }
   ],
   "source": [
    "%%time\n",
    "model.fit(X_train,y_train)"
   ]
  },
  {
   "cell_type": "code",
   "execution_count": 51,
   "id": "f8bb133f",
   "metadata": {},
   "outputs": [],
   "source": [
    "y_pred = model.predict(X_test)"
   ]
  },
  {
   "cell_type": "markdown",
   "id": "d934529b-7b73-4e92-ad55-d6b9d754c876",
   "metadata": {},
   "source": [
    "#### Métrica"
   ]
  },
  {
   "cell_type": "code",
   "execution_count": 52,
   "id": "e604d95c",
   "metadata": {},
   "outputs": [
    {
     "name": "stdout",
     "output_type": "stream",
     "text": [
      "MSE 14.998795151405638\n",
      "RMSE 3.8728277977991272\n",
      "R2 0.8030349035166128\n"
     ]
    }
   ],
   "source": [
    "print_metrics(y_test, y_pred)"
   ]
  },
  {
   "cell_type": "markdown",
   "id": "05fd1106",
   "metadata": {},
   "source": [
    "## Boosting"
   ]
  },
  {
   "cell_type": "code",
   "execution_count": 39,
   "id": "917876f2",
   "metadata": {},
   "outputs": [],
   "source": [
    "from sklearn.ensemble import GradientBoostingRegressor\n",
    "gbr = GradientBoostingRegressor(n_estimators=60, learning_rate=0.5, max_depth=2, random_state=0)"
   ]
  },
  {
   "cell_type": "code",
   "execution_count": 42,
   "id": "d4458948",
   "metadata": {},
   "outputs": [
    {
     "data": {
      "text/plain": [
       "GradientBoostingRegressor(learning_rate=0.5, max_depth=2, n_estimators=60,\n",
       "                          random_state=0)"
      ]
     },
     "execution_count": 42,
     "metadata": {},
     "output_type": "execute_result"
    }
   ],
   "source": [
    "%%time \n",
    "gbr.fit(X_train, y_train)"
   ]
  },
  {
   "cell_type": "code",
   "execution_count": 45,
   "id": "1b7eb516",
   "metadata": {},
   "outputs": [],
   "source": [
    "gbr.score(X_test, y_test)\n",
    "y_pred = gbr.predict(X_test)"
   ]
  },
  {
   "cell_type": "markdown",
   "id": "93a77a1d-c02d-413d-b3dc-52030c86bbf9",
   "metadata": {},
   "source": [
    "#### Métrica"
   ]
  },
  {
   "cell_type": "code",
   "execution_count": 46,
   "id": "bb9aa7c0",
   "metadata": {},
   "outputs": [
    {
     "name": "stdout",
     "output_type": "stream",
     "text": [
      "MSE 12.560874420619301\n",
      "RMSE 3.5441323932126605\n",
      "R2 0.8350498278562641\n"
     ]
    }
   ],
   "source": [
    "print_metrics(y_test, y_pred)"
   ]
  }
 ],
 "metadata": {
  "kernelspec": {
   "display_name": "Python 3",
   "language": "python",
   "name": "python3"
  },
  "language_info": {
   "codemirror_mode": {
    "name": "ipython",
    "version": 3
   },
   "file_extension": ".py",
   "mimetype": "text/x-python",
   "name": "python",
   "nbconvert_exporter": "python",
   "pygments_lexer": "ipython3",
   "version": "3.8.8"
  }
 },
 "nbformat": 4,
 "nbformat_minor": 5
}
