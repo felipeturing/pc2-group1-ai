{
 "cells": [
  {
   "cell_type": "markdown",
   "id": "456022b2",
   "metadata": {},
   "source": [
    "# Práctica Calificada 2 - Grupo 1\n",
    "---\n",
    "<h3>1. OBJETIVO</h3>\n",
    "\n",
    "**Predicción de tarifas de taxis**<br>\n",
    "El objetivo de esta evaluación es construir un modelo de aprendizaje que sea capaz de\n",
    "predecir la tarifa que cobra un taxi de acuerdo a cierta información de entrada."
   ]
  },
  {
   "cell_type": "markdown",
   "id": "f83d591b",
   "metadata": {},
   "source": [
    "<h3>2. PAQUETES Y MÓDULOS</h3>"
   ]
  },
  {
   "cell_type": "code",
   "execution_count": 1,
   "id": "9ba9eb72",
   "metadata": {},
   "outputs": [],
   "source": [
    "import warnings\n",
    "warnings.filterwarnings(\"ignore\")"
   ]
  },
  {
   "cell_type": "code",
   "execution_count": 1,
   "id": "70775f3a",
   "metadata": {},
   "outputs": [],
   "source": [
    "from sklearn import linear_model\n",
    "from sklearn.linear_model import LinearRegression\n",
    "from sklearn.metrics import mean_squared_error, r2_score, average_precision_score, precision_recall_curve\n",
    "from inspect import signature\n",
    "from math import sqrt, sin, cos, asin, pi, log\n",
    "from sklearn.model_selection import train_test_split\n",
    "from sklearn.ensemble import RandomForestRegressor\n",
    "from sklearn.model_selection import GridSearchCV\n",
    "from sklearn.preprocessing import StandardScaler, PolynomialFeatures\n",
    "\n",
    "import pandas as pd\n",
    "import numpy as np\n",
    "import seaborn as sns\n",
    "import datetime as dt\n",
    "import os\n",
    "import matplotlib.pyplot as plt\n",
    "import ciso8601 #módulo que contiene una implementacion rapida de datetime\n",
    "\n",
    "%matplotlib inline"
   ]
  },
  {
   "cell_type": "markdown",
   "id": "2c49ed47",
   "metadata": {},
   "source": [
    "<h3>3. MUESTREO</h3>"
   ]
  },
  {
   "cell_type": "markdown",
   "id": "1163a57e",
   "metadata": {},
   "source": [
    "El conjunto de datos está compuesto por un archivo CSV que contiene alrededor de 55\n",
    "millones de registros de viajes en taxi. Cada registro contiene la siguiente información:\n",
    "* **ID**: cadena que identifica de manera única a cada registro\n",
    "* **pickup_datetime**: timestamp indicando cuando el viaje a empezado\n",
    "* **pickup_longitude**: número real indicando la ubicación en **longitud** en donde el viaje\n",
    "empezó\n",
    "* **pickup_latitude**: número real indicando la ubicación en **latitud** en donde el viaje\n",
    "empezó\n",
    "* **dropoff_longitude**: número real indicando la ubicación en longitud en donde el viaje\n",
    "terminó\n",
    "* **dropoff_latitude**: número real indicando la ubicación en latitud en donde el viaje\n",
    "terminó\n",
    "* **passenger_count**: número entero indicando el número de pasajeros en el servicio de\n",
    "taxi\n",
    "* **fare_amount: número real indicando el costo del taxi. Esta es la variable a predecir**"
   ]
  },
  {
   "cell_type": "markdown",
   "id": "fc1c2125",
   "metadata": {},
   "source": [
    "**Población**"
   ]
  },
  {
   "cell_type": "code",
   "execution_count": 3,
   "id": "088e1187",
   "metadata": {},
   "outputs": [
    {
     "name": "stdout",
     "output_type": "stream",
     "text": [
      "Wall time: 43.8 s\n"
     ]
    },
    {
     "data": {
      "text/plain": [
       "(24999999, 8)"
      ]
     },
     "execution_count": 3,
     "metadata": {},
     "output_type": "execute_result"
    }
   ],
   "source": [
    "%%time\n",
    "df = pd.read_csv(\"mitadTrain.csv\") #50% de los datos  25M \n",
    "df.shape"
   ]
  },
  {
   "cell_type": "markdown",
   "id": "c09e2731",
   "metadata": {},
   "source": [
    "**Muestra**"
   ]
  },
  {
   "cell_type": "code",
   "execution_count": 4,
   "id": "2ecd5085",
   "metadata": {},
   "outputs": [
    {
     "name": "stdout",
     "output_type": "stream",
     "text": [
      "Wall time: 0 ns\n"
     ]
    }
   ],
   "source": [
    "%%time\n",
    "df_s = df"
   ]
  },
  {
   "cell_type": "markdown",
   "id": "bbc899d6",
   "metadata": {},
   "source": [
    "<h3>4.LIMPIEZA</h3>"
   ]
  },
  {
   "cell_type": "markdown",
   "id": "e8d25060",
   "metadata": {},
   "source": [
    "**ELIMINAR NA Y COLUMNA KEY**"
   ]
  },
  {
   "cell_type": "code",
   "execution_count": 8,
   "id": "bcfc4346",
   "metadata": {},
   "outputs": [],
   "source": [
    "df_s.dropna(inplace=True)"
   ]
  },
  {
   "cell_type": "code",
   "execution_count": 11,
   "id": "94069dfe",
   "metadata": {},
   "outputs": [],
   "source": [
    "df_s.drop(columns='key', inplace=True)"
   ]
  },
  {
   "cell_type": "markdown",
   "id": "45b0a962",
   "metadata": {},
   "source": [
    "**LIMPIEZA  GENERAL**\n",
    "\n",
    "La justificacion de las acciones realizadas en la limpieza se encuentra en el nootbook de exploracion de datos."
   ]
  },
  {
   "cell_type": "code",
   "execution_count": 22,
   "id": "125d9ac1",
   "metadata": {},
   "outputs": [
    {
     "name": "stdout",
     "output_type": "stream",
     "text": [
      "Shape antes del limpieza general:  (24999828, 7)\n",
      "Shape despues del limpieza general:  (24898776, 7)\n",
      "Limpiando 101052 registros\n",
      "Wall time: 1.78 s\n"
     ]
    }
   ],
   "source": [
    "%%time\n",
    "def filter_data(dataframe):\n",
    "    #Solo quedan si cumplen las condiciones \n",
    "    return dataframe[\n",
    "        #Coordenadas Ilegales\n",
    "        (-180.0 <= dataframe[\"pickup_longitude\"])&\n",
    "        (dataframe[\"pickup_longitude\"] <= 180.0)&\n",
    "        (-90.0 <= dataframe[\"pickup_latitude\"])&\n",
    "        (dataframe[\"pickup_latitude\"] <= 90.0)&\n",
    "        (-180.0 <= dataframe[\"dropoff_longitude\"])&\n",
    "        (dataframe[\"dropoff_longitude\"] <= 180.0)&\n",
    "        (-90.0 <= dataframe[\"dropoff_latitude\"])&\n",
    "        (dataframe[\"dropoff_latitude\"] <= 90.0)& \n",
    "        #(df_s[\"pickup_longitude\"] != df_s[\"dropoff_longitude\"])&\n",
    "        #Fare amount  \n",
    "        (2.0 <= dataframe[\"fare_amount\"])&\n",
    "        (dataframe[\"fare_amount\"] <= 100)&\n",
    "        # passenger_count\n",
    "        (1<=dataframe[\"passenger_count\"])&\n",
    "        (dataframe[\"passenger_count\"]<= 6)]    \n",
    "     \n",
    "print (\"Shape antes del limpieza general: \", df_s.shape)\n",
    "data = filter_data(df_s)\n",
    "print (\"Shape despues del limpieza general: \", data.shape)\n",
    "print (\"Limpiando %d registros\"%(df_s.shape[0] - data.shape[0]))"
   ]
  },
  {
   "cell_type": "markdown",
   "id": "9809f8d3",
   "metadata": {},
   "source": [
    "**INTERCAMBIAR COORDENADAS DE PUNTOS PARA CONSIDERARLOS DENTRO DE LA REGIÓN VALIDA**"
   ]
  },
  {
   "cell_type": "code",
   "execution_count": 23,
   "id": "7f5c7e9e",
   "metadata": {},
   "outputs": [
    {
     "name": "stdout",
     "output_type": "stream",
     "text": [
      "Numero de reflejos :  12106\n"
     ]
    },
    {
     "name": "stderr",
     "output_type": "stream",
     "text": [
      "c:\\users\\jesús\\documents\\pc2\\torchdemo\\venv\\lib\\site-packages\\pandas\\core\\indexing.py:1787: SettingWithCopyWarning: \n",
      "A value is trying to be set on a copy of a slice from a DataFrame.\n",
      "Try using .loc[row_indexer,col_indexer] = value instead\n",
      "\n",
      "See the caveats in the documentation: https://pandas.pydata.org/pandas-docs/stable/user_guide/indexing.html#returning-a-view-versus-a-copy\n",
      "  self._setitem_single_column(loc, val, pi)\n"
     ]
    }
   ],
   "source": [
    "def swap_coordinates (dataframe,\n",
    "    city_limits = { \n",
    "        \"lon_min\":-76,\n",
    "        \"lon_max\":-73,\n",
    "        \"lat_min\":38,\n",
    "        \"lat_max\":50} ):\n",
    "    #Intercambia las coordenadas de los viajes en \n",
    "    # la region [38 , 50]x[-76, -73]\n",
    "    # la region de principarl de trabajo\n",
    "    # (cuidad de NY) es : [-76, -73]x[38 , 50]\n",
    "    datap = dataframe\n",
    "    city_interchange = (\n",
    "        (datap[\"pickup_longitude\"] > city_limits[\"lat_min\"])&\n",
    "        (datap[\"pickup_longitude\"] < city_limits[\"lat_max\"])&\n",
    "        (datap[\"pickup_latitude\"] > city_limits[\"lon_min\"] )& #-74.252444 \n",
    "        (datap[\"pickup_latitude\"] < city_limits[\"lon_max\"] )& \n",
    "\n",
    "        (datap[\"dropoff_longitude\"] > city_limits[\"lat_min\"])&\n",
    "        (datap[\"dropoff_longitude\"] < city_limits[\"lat_max\"])&\n",
    "        (datap[\"dropoff_latitude\"] >  city_limits[\"lon_min\"] )&\n",
    "        (datap[\"dropoff_latitude\"] <  city_limits[\"lon_max\"] ) \n",
    "        )\n",
    "    print ( \"Numero de reflejos : \",city_interchange.sum())\n",
    "    \n",
    "    datap.loc[city_interchange] = datap.loc[city_interchange].rename(columns={\n",
    "        'pickup_longitude':'pickup_latitude',\n",
    "        'pickup_latitude':'pickup_longitude',\n",
    "        'dropoff_latitude':'dropoff_longitude',\n",
    "        'dropoff_longitude':'dropoff_latitude'})\n",
    "    return datap\n",
    "\n",
    "data = swap_coordinates(data)\n"
   ]
  },
  {
   "cell_type": "markdown",
   "id": "ec837144",
   "metadata": {},
   "source": [
    "**DETERMINAR LA REGIÓN VALIDA**"
   ]
  },
  {
   "cell_type": "code",
   "execution_count": 24,
   "id": "b59ef1ac",
   "metadata": {},
   "outputs": [
    {
     "name": "stdout",
     "output_type": "stream",
     "text": [
      "Shape antes de la limpieza por región:  (24898776, 7)\n",
      "Shape despues de la limpieza por región:  (24079365, 7)\n",
      "Limpiando 920463 registros acumulados en total hasta ahora \n"
     ]
    }
   ],
   "source": [
    "#long_border = (-74.03, -73.75)\n",
    "#lat_border = (40.63, 40.85)\n",
    "def filter_out_of_city(dataframe,city_limits = { \n",
    "        \"lon_min\":-74.03 ,\n",
    "        \"lon_max\":-73.75,\n",
    "        \"lat_min\":40.63,\n",
    "        \"lat_max\":40.85}):\n",
    "    #Solo quedan si estan dentro de la ciudad \n",
    "    return dataframe[\n",
    "        (city_limits[\"lon_min\"]<= dataframe[\"pickup_longitude\"])&\n",
    "        (dataframe[\"pickup_longitude\"] <= city_limits[\"lon_max\"])&\n",
    "        (city_limits[\"lat_min\"]<= dataframe[\"pickup_latitude\"])&\n",
    "        (dataframe[\"pickup_latitude\"] <= city_limits[\"lat_max\"])&\n",
    "        (city_limits[\"lon_min\"] <= dataframe[\"dropoff_longitude\"])&\n",
    "        (dataframe[\"dropoff_longitude\"] <= city_limits[\"lon_max\"])&\n",
    "        (city_limits[\"lat_min\"]<= dataframe[\"dropoff_latitude\"])&\n",
    "        (dataframe[\"dropoff_latitude\"] <= city_limits[\"lat_max\"])]\n",
    "\n",
    "print (\"Shape antes de la limpieza por región: \", data.shape)\n",
    "data = filter_out_of_city(data)\n",
    "print (\"Shape despues de la limpieza por región: \", data.shape)\n",
    "print (\"Limpiando %d registros acumulados en total hasta ahora \"%(df_s.shape[0] - data.shape[0]))"
   ]
  },
  {
   "cell_type": "code",
   "execution_count": 25,
   "id": "6cd68bca",
   "metadata": {},
   "outputs": [
    {
     "data": {
      "text/html": [
       "<div>\n",
       "<style scoped>\n",
       "    .dataframe tbody tr th:only-of-type {\n",
       "        vertical-align: middle;\n",
       "    }\n",
       "\n",
       "    .dataframe tbody tr th {\n",
       "        vertical-align: top;\n",
       "    }\n",
       "\n",
       "    .dataframe thead th {\n",
       "        text-align: right;\n",
       "    }\n",
       "</style>\n",
       "<table border=\"1\" class=\"dataframe\">\n",
       "  <thead>\n",
       "    <tr style=\"text-align: right;\">\n",
       "      <th></th>\n",
       "      <th>fare_amount</th>\n",
       "      <th>pickup_datetime</th>\n",
       "      <th>pickup_longitude</th>\n",
       "      <th>pickup_latitude</th>\n",
       "      <th>dropoff_longitude</th>\n",
       "      <th>dropoff_latitude</th>\n",
       "      <th>passenger_count</th>\n",
       "    </tr>\n",
       "  </thead>\n",
       "  <tbody>\n",
       "    <tr>\n",
       "      <th>0</th>\n",
       "      <td>4.5</td>\n",
       "      <td>2009-06-15 17:26:21 UTC</td>\n",
       "      <td>-73.844311</td>\n",
       "      <td>40.721319</td>\n",
       "      <td>-73.841610</td>\n",
       "      <td>40.712278</td>\n",
       "      <td>1</td>\n",
       "    </tr>\n",
       "    <tr>\n",
       "      <th>1</th>\n",
       "      <td>16.9</td>\n",
       "      <td>2010-01-05 16:52:16 UTC</td>\n",
       "      <td>-74.016048</td>\n",
       "      <td>40.711303</td>\n",
       "      <td>-73.979268</td>\n",
       "      <td>40.782004</td>\n",
       "      <td>1</td>\n",
       "    </tr>\n",
       "    <tr>\n",
       "      <th>2</th>\n",
       "      <td>5.7</td>\n",
       "      <td>2011-08-18 00:35:00 UTC</td>\n",
       "      <td>-73.982738</td>\n",
       "      <td>40.761270</td>\n",
       "      <td>-73.991242</td>\n",
       "      <td>40.750562</td>\n",
       "      <td>2</td>\n",
       "    </tr>\n",
       "    <tr>\n",
       "      <th>3</th>\n",
       "      <td>7.7</td>\n",
       "      <td>2012-04-21 04:30:42 UTC</td>\n",
       "      <td>-73.987130</td>\n",
       "      <td>40.733143</td>\n",
       "      <td>-73.991567</td>\n",
       "      <td>40.758092</td>\n",
       "      <td>1</td>\n",
       "    </tr>\n",
       "    <tr>\n",
       "      <th>4</th>\n",
       "      <td>5.3</td>\n",
       "      <td>2010-03-09 07:51:00 UTC</td>\n",
       "      <td>-73.968095</td>\n",
       "      <td>40.768008</td>\n",
       "      <td>-73.956655</td>\n",
       "      <td>40.783762</td>\n",
       "      <td>1</td>\n",
       "    </tr>\n",
       "  </tbody>\n",
       "</table>\n",
       "</div>"
      ],
      "text/plain": [
       "   fare_amount          pickup_datetime  pickup_longitude  pickup_latitude  \\\n",
       "0          4.5  2009-06-15 17:26:21 UTC        -73.844311        40.721319   \n",
       "1         16.9  2010-01-05 16:52:16 UTC        -74.016048        40.711303   \n",
       "2          5.7  2011-08-18 00:35:00 UTC        -73.982738        40.761270   \n",
       "3          7.7  2012-04-21 04:30:42 UTC        -73.987130        40.733143   \n",
       "4          5.3  2010-03-09 07:51:00 UTC        -73.968095        40.768008   \n",
       "\n",
       "   dropoff_longitude  dropoff_latitude  passenger_count  \n",
       "0         -73.841610         40.712278                1  \n",
       "1         -73.979268         40.782004                1  \n",
       "2         -73.991242         40.750562                2  \n",
       "3         -73.991567         40.758092                1  \n",
       "4         -73.956655         40.783762                1  "
      ]
     },
     "execution_count": 25,
     "metadata": {},
     "output_type": "execute_result"
    }
   ],
   "source": [
    "data.head()"
   ]
  },
  {
   "cell_type": "markdown",
   "id": "0a46efb8",
   "metadata": {},
   "source": [
    "<h2>5. INGENIERÍA DE CARACTERÍSTICAS</h2>"
   ]
  },
  {
   "cell_type": "code",
   "execution_count": 27,
   "id": "3c83b3f6",
   "metadata": {},
   "outputs": [],
   "source": [
    "def isInside( column_lat ,column_lon ,region):\n",
    "    return (column_lat>=region['min_lat'])&(column_lat<=region['max_lat'])&(column_lon>=region['min_long'])&(column_lon<=region['max_long'])    "
   ]
  },
  {
   "cell_type": "markdown",
   "id": "116b9f57",
   "metadata": {},
   "source": [
    "**CONTROL DE VIAJES PARTIENDO O LLEGANDO A LOS AEROPUERTOS DE NEW YORK**"
   ]
  },
  {
   "cell_type": "code",
   "execution_count": 28,
   "id": "7c2cad98",
   "metadata": {},
   "outputs": [],
   "source": [
    "JFK={'min_long':-73.8352,'min_lat':40.6195,'max_long':-73.7401, 'max_lat':40.6659}\n",
    "EWR={'min_long':-74.1925,'min_lat':40.6700, 'max_long':-74.1531, 'max_lat':40.7081}\n",
    "LG={'min_long':-73.8895, 'min_lat':40.7664,'max_long':-73.8550,'max_lat':40.7931}\n"
   ]
  },
  {
   "cell_type": "code",
   "execution_count": 29,
   "id": "649b3250",
   "metadata": {},
   "outputs": [
    {
     "name": "stdout",
     "output_type": "stream",
     "text": [
      "Wall time: 758 ms\n"
     ]
    }
   ],
   "source": [
    "%%time\n",
    "data['pickup_airport'] = isInside(data.pickup_latitude, data.pickup_longitude , JFK)|isInside(data.pickup_latitude, data.pickup_longitude ,EWR) | isInside(data.pickup_latitude, data.pickup_longitude ,LG)\n",
    "data['dropoff_airport'] = isInside(data.dropoff_latitude, data.dropoff_longitude , JFK) |isInside(data.dropoff_latitude, data.dropoff_longitude ,EWR) |isInside(data.dropoff_latitude, data.dropoff_longitude ,LG)\n"
   ]
  },
  {
   "cell_type": "code",
   "execution_count": 30,
   "id": "a4f46e83",
   "metadata": {},
   "outputs": [],
   "source": [
    "data['pickup_airport'] = data['pickup_airport'].astype(int)\n",
    "data['dropoff_airport'] = data['dropoff_airport'].astype(int)"
   ]
  },
  {
   "cell_type": "markdown",
   "id": "b6c6d3d2",
   "metadata": {},
   "source": [
    "<h5>SEPARAR DATETIME EN YEAR, MONTH, DAY, HOUR Y WEEKDAY</h5>"
   ]
  },
  {
   "cell_type": "code",
   "execution_count": 31,
   "id": "8251a0be",
   "metadata": {},
   "outputs": [
    {
     "name": "stdout",
     "output_type": "stream",
     "text": [
      "Wall time: 21.8 s\n"
     ]
    }
   ],
   "source": [
    "%%time\n",
    "def f2(datestr):\n",
    "    return ciso8601.parse_datetime(datestr [ :-4])\n",
    "\n",
    "def separate_datetime_to_features(dataframe): \n",
    "    dataframe ['pickup_datetime'] =dataframe.pickup_datetime.apply(f2)  #pd.to_datetime(data.pickup_datetime ,infer_datetime_format=True) # convertimos a tipo de dato de datetime\n",
    "    dataframe['year'] = dataframe['pickup_datetime'].dt.year\n",
    "    dataframe['month'] = dataframe['pickup_datetime'].dt.month\n",
    "    dataframe['day'] = dataframe['pickup_datetime'].dt.day\n",
    "    dataframe['hour'] = dataframe['pickup_datetime'].dt.hour\n",
    "    dataframe['weekday'] = dataframe['pickup_datetime'].dt.weekday\n",
    "    dataframe.drop(columns='pickup_datetime', inplace=True)\n",
    "    return dataframe\n",
    "\n",
    "data = separate_datetime_to_features(data)"
   ]
  },
  {
   "cell_type": "code",
   "execution_count": 32,
   "id": "a9abe2d2",
   "metadata": {
    "scrolled": true
   },
   "outputs": [
    {
     "data": {
      "text/html": [
       "<div>\n",
       "<style scoped>\n",
       "    .dataframe tbody tr th:only-of-type {\n",
       "        vertical-align: middle;\n",
       "    }\n",
       "\n",
       "    .dataframe tbody tr th {\n",
       "        vertical-align: top;\n",
       "    }\n",
       "\n",
       "    .dataframe thead th {\n",
       "        text-align: right;\n",
       "    }\n",
       "</style>\n",
       "<table border=\"1\" class=\"dataframe\">\n",
       "  <thead>\n",
       "    <tr style=\"text-align: right;\">\n",
       "      <th></th>\n",
       "      <th>fare_amount</th>\n",
       "      <th>pickup_longitude</th>\n",
       "      <th>pickup_latitude</th>\n",
       "      <th>dropoff_longitude</th>\n",
       "      <th>dropoff_latitude</th>\n",
       "      <th>passenger_count</th>\n",
       "      <th>pickup_airport</th>\n",
       "      <th>dropoff_airport</th>\n",
       "      <th>year</th>\n",
       "      <th>month</th>\n",
       "      <th>day</th>\n",
       "      <th>hour</th>\n",
       "      <th>weekday</th>\n",
       "    </tr>\n",
       "  </thead>\n",
       "  <tbody>\n",
       "    <tr>\n",
       "      <th>0</th>\n",
       "      <td>4.5</td>\n",
       "      <td>-73.844311</td>\n",
       "      <td>40.721319</td>\n",
       "      <td>-73.841610</td>\n",
       "      <td>40.712278</td>\n",
       "      <td>1</td>\n",
       "      <td>0</td>\n",
       "      <td>0</td>\n",
       "      <td>2009</td>\n",
       "      <td>6</td>\n",
       "      <td>15</td>\n",
       "      <td>17</td>\n",
       "      <td>0</td>\n",
       "    </tr>\n",
       "    <tr>\n",
       "      <th>1</th>\n",
       "      <td>16.9</td>\n",
       "      <td>-74.016048</td>\n",
       "      <td>40.711303</td>\n",
       "      <td>-73.979268</td>\n",
       "      <td>40.782004</td>\n",
       "      <td>1</td>\n",
       "      <td>0</td>\n",
       "      <td>0</td>\n",
       "      <td>2010</td>\n",
       "      <td>1</td>\n",
       "      <td>5</td>\n",
       "      <td>16</td>\n",
       "      <td>1</td>\n",
       "    </tr>\n",
       "    <tr>\n",
       "      <th>2</th>\n",
       "      <td>5.7</td>\n",
       "      <td>-73.982738</td>\n",
       "      <td>40.761270</td>\n",
       "      <td>-73.991242</td>\n",
       "      <td>40.750562</td>\n",
       "      <td>2</td>\n",
       "      <td>0</td>\n",
       "      <td>0</td>\n",
       "      <td>2011</td>\n",
       "      <td>8</td>\n",
       "      <td>18</td>\n",
       "      <td>0</td>\n",
       "      <td>3</td>\n",
       "    </tr>\n",
       "    <tr>\n",
       "      <th>3</th>\n",
       "      <td>7.7</td>\n",
       "      <td>-73.987130</td>\n",
       "      <td>40.733143</td>\n",
       "      <td>-73.991567</td>\n",
       "      <td>40.758092</td>\n",
       "      <td>1</td>\n",
       "      <td>0</td>\n",
       "      <td>0</td>\n",
       "      <td>2012</td>\n",
       "      <td>4</td>\n",
       "      <td>21</td>\n",
       "      <td>4</td>\n",
       "      <td>5</td>\n",
       "    </tr>\n",
       "    <tr>\n",
       "      <th>4</th>\n",
       "      <td>5.3</td>\n",
       "      <td>-73.968095</td>\n",
       "      <td>40.768008</td>\n",
       "      <td>-73.956655</td>\n",
       "      <td>40.783762</td>\n",
       "      <td>1</td>\n",
       "      <td>0</td>\n",
       "      <td>0</td>\n",
       "      <td>2010</td>\n",
       "      <td>3</td>\n",
       "      <td>9</td>\n",
       "      <td>7</td>\n",
       "      <td>1</td>\n",
       "    </tr>\n",
       "  </tbody>\n",
       "</table>\n",
       "</div>"
      ],
      "text/plain": [
       "   fare_amount  pickup_longitude  pickup_latitude  dropoff_longitude  \\\n",
       "0          4.5        -73.844311        40.721319         -73.841610   \n",
       "1         16.9        -74.016048        40.711303         -73.979268   \n",
       "2          5.7        -73.982738        40.761270         -73.991242   \n",
       "3          7.7        -73.987130        40.733143         -73.991567   \n",
       "4          5.3        -73.968095        40.768008         -73.956655   \n",
       "\n",
       "   dropoff_latitude  passenger_count  pickup_airport  dropoff_airport  year  \\\n",
       "0         40.712278                1               0                0  2009   \n",
       "1         40.782004                1               0                0  2010   \n",
       "2         40.750562                2               0                0  2011   \n",
       "3         40.758092                1               0                0  2012   \n",
       "4         40.783762                1               0                0  2010   \n",
       "\n",
       "   month  day  hour  weekday  \n",
       "0      6   15    17        0  \n",
       "1      1    5    16        1  \n",
       "2      8   18     0        3  \n",
       "3      4   21     4        5  \n",
       "4      3    9     7        1  "
      ]
     },
     "execution_count": 32,
     "metadata": {},
     "output_type": "execute_result"
    }
   ],
   "source": [
    "data.head()"
   ]
  },
  {
   "cell_type": "code",
   "execution_count": 32,
   "id": "5c3a295f",
   "metadata": {},
   "outputs": [],
   "source": [
    "#data.drop(columns='Unnamed: 0', inplace=True)"
   ]
  },
  {
   "cell_type": "markdown",
   "id": "1366ca05",
   "metadata": {},
   "source": [
    "<h5>DETERMINAR LA DISTANCIA DE HAVERSINE ENTRE PUNTOS DADO SU LATITUD Y LONGITUD</h5>"
   ]
  },
  {
   "cell_type": "code",
   "execution_count": 33,
   "id": "e8143c65",
   "metadata": {},
   "outputs": [],
   "source": [
    "def haversine(lon1, lat1, lon2, lat2):\n",
    "    # Haversine vectorizado usando funciones de np\n",
    "    lon1, lat1, lon2, lat2 = map(np.radians, [lon1, lat1, lon2, lat2])\n",
    "\n",
    "    dlon = lon2 - lon1\n",
    "    dlat = lat2 - lat1\n",
    "\n",
    "    a = np.sin(dlat/2.0)**2 + np.cos(lat1) * np.cos(lat2) * np.sin(dlon/2.0)**2\n",
    "    km = 6367 * 2 * np.arcsin(np.sqrt(a))\n",
    "    km[km < 0.00008] = 0.00008\n",
    "    return km\n",
    "    #print(Haversine(39.50, 98.35, 48.8567, 2.3508))\n"
   ]
  },
  {
   "cell_type": "code",
   "execution_count": 34,
   "id": "077b2f4c",
   "metadata": {},
   "outputs": [
    {
     "name": "stdout",
     "output_type": "stream",
     "text": [
      "Wall time: 0 ns\n"
     ]
    },
    {
     "data": {
      "text/html": [
       "<div>\n",
       "<style scoped>\n",
       "    .dataframe tbody tr th:only-of-type {\n",
       "        vertical-align: middle;\n",
       "    }\n",
       "\n",
       "    .dataframe tbody tr th {\n",
       "        vertical-align: top;\n",
       "    }\n",
       "\n",
       "    .dataframe thead th {\n",
       "        text-align: right;\n",
       "    }\n",
       "</style>\n",
       "<table border=\"1\" class=\"dataframe\">\n",
       "  <thead>\n",
       "    <tr style=\"text-align: right;\">\n",
       "      <th></th>\n",
       "      <th>fare_amount</th>\n",
       "      <th>pickup_longitude</th>\n",
       "      <th>pickup_latitude</th>\n",
       "      <th>dropoff_longitude</th>\n",
       "      <th>dropoff_latitude</th>\n",
       "      <th>passenger_count</th>\n",
       "      <th>pickup_airport</th>\n",
       "      <th>dropoff_airport</th>\n",
       "      <th>year</th>\n",
       "      <th>month</th>\n",
       "      <th>day</th>\n",
       "      <th>hour</th>\n",
       "      <th>weekday</th>\n",
       "      <th>distance</th>\n",
       "    </tr>\n",
       "  </thead>\n",
       "  <tbody>\n",
       "    <tr>\n",
       "      <th>count</th>\n",
       "      <td>2.407936e+07</td>\n",
       "      <td>2.407936e+07</td>\n",
       "      <td>2.407936e+07</td>\n",
       "      <td>2.407936e+07</td>\n",
       "      <td>2.407936e+07</td>\n",
       "      <td>2.407936e+07</td>\n",
       "      <td>2.407936e+07</td>\n",
       "      <td>2.407936e+07</td>\n",
       "      <td>2.407936e+07</td>\n",
       "      <td>2.407936e+07</td>\n",
       "      <td>2.407936e+07</td>\n",
       "      <td>2.407936e+07</td>\n",
       "      <td>2.407936e+07</td>\n",
       "      <td>2.407936e+07</td>\n",
       "    </tr>\n",
       "    <tr>\n",
       "      <th>mean</th>\n",
       "      <td>1.099188e+01</td>\n",
       "      <td>-7.397568e+01</td>\n",
       "      <td>4.075094e+01</td>\n",
       "      <td>-7.397467e+01</td>\n",
       "      <td>4.075118e+01</td>\n",
       "      <td>1.691428e+00</td>\n",
       "      <td>3.423458e-02</td>\n",
       "      <td>2.091671e-02</td>\n",
       "      <td>2.011740e+03</td>\n",
       "      <td>6.267964e+00</td>\n",
       "      <td>1.571321e+01</td>\n",
       "      <td>1.352150e+01</td>\n",
       "      <td>3.039959e+00</td>\n",
       "      <td>3.199965e+00</td>\n",
       "    </tr>\n",
       "    <tr>\n",
       "      <th>std</th>\n",
       "      <td>8.722270e+00</td>\n",
       "      <td>3.351776e-02</td>\n",
       "      <td>2.625631e-02</td>\n",
       "      <td>3.174854e-02</td>\n",
       "      <td>2.846848e-02</td>\n",
       "      <td>1.307455e+00</td>\n",
       "      <td>1.818312e-01</td>\n",
       "      <td>1.431055e-01</td>\n",
       "      <td>1.865077e+00</td>\n",
       "      <td>3.436217e+00</td>\n",
       "      <td>8.684156e+00</td>\n",
       "      <td>6.499104e+00</td>\n",
       "      <td>1.948385e+00</td>\n",
       "      <td>3.357810e+00</td>\n",
       "    </tr>\n",
       "    <tr>\n",
       "      <th>min</th>\n",
       "      <td>2.000000e+00</td>\n",
       "      <td>-7.403000e+01</td>\n",
       "      <td>4.063000e+01</td>\n",
       "      <td>-7.403000e+01</td>\n",
       "      <td>4.063000e+01</td>\n",
       "      <td>1.000000e+00</td>\n",
       "      <td>0.000000e+00</td>\n",
       "      <td>0.000000e+00</td>\n",
       "      <td>2.009000e+03</td>\n",
       "      <td>1.000000e+00</td>\n",
       "      <td>1.000000e+00</td>\n",
       "      <td>0.000000e+00</td>\n",
       "      <td>0.000000e+00</td>\n",
       "      <td>8.000000e-05</td>\n",
       "    </tr>\n",
       "    <tr>\n",
       "      <th>25%</th>\n",
       "      <td>6.000000e+00</td>\n",
       "      <td>-7.399227e+01</td>\n",
       "      <td>4.073666e+01</td>\n",
       "      <td>-7.399154e+01</td>\n",
       "      <td>4.073592e+01</td>\n",
       "      <td>1.000000e+00</td>\n",
       "      <td>0.000000e+00</td>\n",
       "      <td>0.000000e+00</td>\n",
       "      <td>2.010000e+03</td>\n",
       "      <td>3.000000e+00</td>\n",
       "      <td>8.000000e+00</td>\n",
       "      <td>9.000000e+00</td>\n",
       "      <td>1.000000e+00</td>\n",
       "      <td>1.248482e+00</td>\n",
       "    </tr>\n",
       "    <tr>\n",
       "      <th>50%</th>\n",
       "      <td>8.500000e+00</td>\n",
       "      <td>-7.398211e+01</td>\n",
       "      <td>4.075336e+01</td>\n",
       "      <td>-7.398068e+01</td>\n",
       "      <td>4.075385e+01</td>\n",
       "      <td>1.000000e+00</td>\n",
       "      <td>0.000000e+00</td>\n",
       "      <td>0.000000e+00</td>\n",
       "      <td>2.012000e+03</td>\n",
       "      <td>6.000000e+00</td>\n",
       "      <td>1.600000e+01</td>\n",
       "      <td>1.400000e+01</td>\n",
       "      <td>3.000000e+00</td>\n",
       "      <td>2.132952e+00</td>\n",
       "    </tr>\n",
       "    <tr>\n",
       "      <th>75%</th>\n",
       "      <td>1.250000e+01</td>\n",
       "      <td>-7.396845e+01</td>\n",
       "      <td>4.076746e+01</td>\n",
       "      <td>-7.396585e+01</td>\n",
       "      <td>4.076823e+01</td>\n",
       "      <td>2.000000e+00</td>\n",
       "      <td>0.000000e+00</td>\n",
       "      <td>0.000000e+00</td>\n",
       "      <td>2.013000e+03</td>\n",
       "      <td>9.000000e+00</td>\n",
       "      <td>2.300000e+01</td>\n",
       "      <td>1.900000e+01</td>\n",
       "      <td>5.000000e+00</td>\n",
       "      <td>3.825784e+00</td>\n",
       "    </tr>\n",
       "    <tr>\n",
       "      <th>max</th>\n",
       "      <td>1.000000e+02</td>\n",
       "      <td>-7.375000e+01</td>\n",
       "      <td>4.085000e+01</td>\n",
       "      <td>-7.375000e+01</td>\n",
       "      <td>4.085000e+01</td>\n",
       "      <td>6.000000e+00</td>\n",
       "      <td>1.000000e+00</td>\n",
       "      <td>1.000000e+00</td>\n",
       "      <td>2.015000e+03</td>\n",
       "      <td>1.200000e+01</td>\n",
       "      <td>3.100000e+01</td>\n",
       "      <td>2.300000e+01</td>\n",
       "      <td>6.000000e+00</td>\n",
       "      <td>2.809578e+01</td>\n",
       "    </tr>\n",
       "  </tbody>\n",
       "</table>\n",
       "</div>"
      ],
      "text/plain": [
       "        fare_amount  pickup_longitude  pickup_latitude  dropoff_longitude  \\\n",
       "count  2.407936e+07      2.407936e+07     2.407936e+07       2.407936e+07   \n",
       "mean   1.099188e+01     -7.397568e+01     4.075094e+01      -7.397467e+01   \n",
       "std    8.722270e+00      3.351776e-02     2.625631e-02       3.174854e-02   \n",
       "min    2.000000e+00     -7.403000e+01     4.063000e+01      -7.403000e+01   \n",
       "25%    6.000000e+00     -7.399227e+01     4.073666e+01      -7.399154e+01   \n",
       "50%    8.500000e+00     -7.398211e+01     4.075336e+01      -7.398068e+01   \n",
       "75%    1.250000e+01     -7.396845e+01     4.076746e+01      -7.396585e+01   \n",
       "max    1.000000e+02     -7.375000e+01     4.085000e+01      -7.375000e+01   \n",
       "\n",
       "       dropoff_latitude  passenger_count  pickup_airport  dropoff_airport  \\\n",
       "count      2.407936e+07     2.407936e+07    2.407936e+07     2.407936e+07   \n",
       "mean       4.075118e+01     1.691428e+00    3.423458e-02     2.091671e-02   \n",
       "std        2.846848e-02     1.307455e+00    1.818312e-01     1.431055e-01   \n",
       "min        4.063000e+01     1.000000e+00    0.000000e+00     0.000000e+00   \n",
       "25%        4.073592e+01     1.000000e+00    0.000000e+00     0.000000e+00   \n",
       "50%        4.075385e+01     1.000000e+00    0.000000e+00     0.000000e+00   \n",
       "75%        4.076823e+01     2.000000e+00    0.000000e+00     0.000000e+00   \n",
       "max        4.085000e+01     6.000000e+00    1.000000e+00     1.000000e+00   \n",
       "\n",
       "               year         month           day          hour       weekday  \\\n",
       "count  2.407936e+07  2.407936e+07  2.407936e+07  2.407936e+07  2.407936e+07   \n",
       "mean   2.011740e+03  6.267964e+00  1.571321e+01  1.352150e+01  3.039959e+00   \n",
       "std    1.865077e+00  3.436217e+00  8.684156e+00  6.499104e+00  1.948385e+00   \n",
       "min    2.009000e+03  1.000000e+00  1.000000e+00  0.000000e+00  0.000000e+00   \n",
       "25%    2.010000e+03  3.000000e+00  8.000000e+00  9.000000e+00  1.000000e+00   \n",
       "50%    2.012000e+03  6.000000e+00  1.600000e+01  1.400000e+01  3.000000e+00   \n",
       "75%    2.013000e+03  9.000000e+00  2.300000e+01  1.900000e+01  5.000000e+00   \n",
       "max    2.015000e+03  1.200000e+01  3.100000e+01  2.300000e+01  6.000000e+00   \n",
       "\n",
       "           distance  \n",
       "count  2.407936e+07  \n",
       "mean   3.199965e+00  \n",
       "std    3.357810e+00  \n",
       "min    8.000000e-05  \n",
       "25%    1.248482e+00  \n",
       "50%    2.132952e+00  \n",
       "75%    3.825784e+00  \n",
       "max    2.809578e+01  "
      ]
     },
     "execution_count": 34,
     "metadata": {},
     "output_type": "execute_result"
    }
   ],
   "source": [
    "%time\n",
    "data['distance'] = haversine(data['pickup_longitude'],data['pickup_latitude'] , data['dropoff_longitude'], data['dropoff_latitude'])\n",
    "data.describe()"
   ]
  },
  {
   "cell_type": "markdown",
   "id": "28e169ce",
   "metadata": {},
   "source": [
    "<h4> SELECCIÓN DE VARIABLES</h4>"
   ]
  },
  {
   "cell_type": "code",
   "execution_count": 35,
   "id": "a7ba2873",
   "metadata": {},
   "outputs": [
    {
     "data": {
      "text/plain": [
       "['fare_amount',\n",
       " 'pickup_longitude',\n",
       " 'pickup_latitude',\n",
       " 'dropoff_longitude',\n",
       " 'dropoff_latitude',\n",
       " 'passenger_count',\n",
       " 'pickup_airport',\n",
       " 'dropoff_airport',\n",
       " 'year',\n",
       " 'month',\n",
       " 'day',\n",
       " 'hour',\n",
       " 'weekday',\n",
       " 'distance']"
      ]
     },
     "execution_count": 35,
     "metadata": {},
     "output_type": "execute_result"
    }
   ],
   "source": [
    "data.columns.to_list()"
   ]
  },
  {
   "cell_type": "code",
   "execution_count": 36,
   "id": "6e4d4abb",
   "metadata": {},
   "outputs": [
    {
     "name": "stdout",
     "output_type": "stream",
     "text": [
      "<class 'pandas.core.frame.DataFrame'>\n",
      "Int64Index: 24079365 entries, 0 to 24999998\n",
      "Data columns (total 14 columns):\n",
      " #   Column             Dtype  \n",
      "---  ------             -----  \n",
      " 0   fare_amount        float64\n",
      " 1   pickup_longitude   float64\n",
      " 2   pickup_latitude    float64\n",
      " 3   dropoff_longitude  float64\n",
      " 4   dropoff_latitude   float64\n",
      " 5   passenger_count    int64  \n",
      " 6   pickup_airport     int32  \n",
      " 7   dropoff_airport    int32  \n",
      " 8   year               int64  \n",
      " 9   month              int64  \n",
      " 10  day                int64  \n",
      " 11  hour               int64  \n",
      " 12  weekday            int64  \n",
      " 13  distance           float64\n",
      "dtypes: float64(6), int32(2), int64(6)\n",
      "memory usage: 2.5 GB\n"
     ]
    }
   ],
   "source": [
    "data.info()"
   ]
  },
  {
   "cell_type": "code",
   "execution_count": 39,
   "id": "e1ff1d84",
   "metadata": {},
   "outputs": [],
   "source": [
    "#predictors = ['distance', 'pickup_JFK','dropoff_JFK','pickup_EWR','dropoff_EWR','pickup_LG','dropoff_LG']\n",
    "#predictors = ['pickup_longitude','pickup_latitude','dropoff_longitude','dropoff_latitude','distance', 'pickup_airport', 'dropoff_airport', 'year','month','hour']\n",
    "\n",
    "predictors = ['distance', 'pickup_airport', 'dropoff_airport', 'year','month','hour']\n",
    "salida = 'fare_amount'\n",
    "X = data[predictors]\n",
    "y = data[salida]\n",
    "#ESCALANDO\n",
    "scaler = StandardScaler()\n",
    "X = scaler.fit_transform(X)\n",
    "\n",
    "#pol_features = PolynomialFeatures(degree=4)\n",
    "#X = pol_features.fit_transform(X)"
   ]
  },
  {
   "cell_type": "markdown",
   "id": "a471d5fc",
   "metadata": {},
   "source": [
    "**TARIFA PROMEDIO POR HORA**<br>\n",
    "Se observa una mayor tarifa a las 4am y 5am."
   ]
  },
  {
   "cell_type": "code",
   "execution_count": null,
   "id": "a04919f5",
   "metadata": {
    "scrolled": true
   },
   "outputs": [],
   "source": [
    "data.groupby([\"hour\"]).fare_amount.mean().plot.bar(x='hour',y='fare_amount')\n",
    "plt.show()"
   ]
  },
  {
   "cell_type": "markdown",
   "id": "e55fe2a7",
   "metadata": {},
   "source": [
    "**TARIFA PROMEDIO POR AÑO**<br>\n",
    "Se observa un crecimiento de la tarifa en promedio cada año"
   ]
  },
  {
   "cell_type": "code",
   "execution_count": null,
   "id": "a2b23e20",
   "metadata": {},
   "outputs": [],
   "source": [
    "data.groupby([\"year\"]).fare_amount.mean().plot.bar(x='hour',y='fare_amount')\n",
    "plt.show()"
   ]
  },
  {
   "cell_type": "markdown",
   "id": "1b90ff7c-e5b0-4c99-a818-df7b789c63d5",
   "metadata": {},
   "source": [
    "## 6. Entrenamiento del modelo"
   ]
  },
  {
   "cell_type": "code",
   "execution_count": 40,
   "id": "4597db51-da14-4fae-a8c1-a950795cea77",
   "metadata": {},
   "outputs": [],
   "source": [
    "def print_metrics(y_test, y_pred):\n",
    "    r2score = r2_score(y_test, y_pred)\n",
    "    mse = mean_squared_error(y_test, y_pred)\n",
    "    rmse = sqrt(mean_squared_error(y_test, y_pred))\n",
    "\n",
    "    print(\"MSE\", mse)\n",
    "    print(\"RMSE\",rmse)\n",
    "    print(\"R2\", r2score)"
   ]
  },
  {
   "cell_type": "code",
   "execution_count": 41,
   "id": "c04e9236",
   "metadata": {},
   "outputs": [],
   "source": [
    "X_train, X_test, y_train, y_test = train_test_split(X, y, random_state=7, test_size=0.3)"
   ]
  },
  {
   "cell_type": "markdown",
   "id": "4e2c456f",
   "metadata": {},
   "source": [
    "# Red neuronal de capas densas\n"
   ]
  },
  {
   "cell_type": "code",
   "execution_count": 45,
   "id": "5db21eb3",
   "metadata": {},
   "outputs": [],
   "source": [
    "import torch\n",
    "from torch import nn, optim\n",
    "import torch.nn.functional as F\n",
    "\n"
   ]
  },
  {
   "cell_type": "code",
   "execution_count": 46,
   "id": "756094e5",
   "metadata": {},
   "outputs": [],
   "source": [
    "X_train, X_val, y_train, y_val = train_test_split(X_train, y_train, test_size=0.3, random_state=7)"
   ]
  },
  {
   "cell_type": "code",
   "execution_count": 47,
   "id": "4dd044bc",
   "metadata": {},
   "outputs": [
    {
     "name": "stdout",
     "output_type": "stream",
     "text": [
      "<class 'numpy.ndarray'>\n",
      "<class 'numpy.ndarray'>\n",
      "<class 'pandas.core.series.Series'>\n",
      "<class 'pandas.core.series.Series'>\n"
     ]
    }
   ],
   "source": [
    "print(type(X_train))\n",
    "print(type(X_val))\n",
    "print(type(y_val))\n",
    "print(type(y_train))"
   ]
  },
  {
   "cell_type": "code",
   "execution_count": 48,
   "id": "58e1c6d5",
   "metadata": {},
   "outputs": [
    {
     "name": "stdout",
     "output_type": "stream",
     "text": [
      "torch.Size([11798888, 6]) torch.Size([11798888])\n",
      "torch.Size([5056667, 6]) torch.Size([5056667])\n"
     ]
    }
   ],
   "source": [
    "X_train = torch.from_numpy(X_train).float()\n",
    "y_train = torch.squeeze(torch.from_numpy(y_train.to_numpy()).float())\n",
    "\n",
    "X_val = torch.from_numpy(X_val).float()\n",
    "y_val = torch.squeeze(torch.from_numpy(y_val.to_numpy()).float())\n",
    "\n",
    "print(X_train.shape, y_train.shape)\n",
    "print(X_val.shape, y_val.shape)"
   ]
  },
  {
   "source": [
    "### Defincion del Modelo "
   ],
   "cell_type": "markdown",
   "metadata": {}
  },
  {
   "cell_type": "code",
   "execution_count": 49,
   "id": "281b3b7a",
   "metadata": {},
   "outputs": [],
   "source": [
    "class Net(nn.Module):\n",
    "    def __init__(self, n_features):\n",
    "        super(Net, self).__init__()\n",
    "        self.fc1 = nn.Linear(n_features,8)\n",
    "        self.fc2 = nn.Linear(8, 4)\n",
    "        #self.fc3 = nn.Linear(4, 4)\n",
    "        self.fc3 = nn.Linear(4, 1)    \n",
    "        self.dropout = nn.Dropout(0.125)\n",
    "    \n",
    "    def forward(self, x):\n",
    "        x = F.relu(self.fc1(x))\n",
    "        #x = self.dropout(x)\n",
    "        x = F.relu(self.fc2(x))\n",
    "        #x = self.dropout(x)\n",
    "        #x = F.relu(self.fc3(x))\n",
    "        return self.fc3(x)"
   ]
  },
  {
   "source": [
    "Se intentó previamente con una a arquitectura de cuatro capas y también utilizando la técnica de regularización dropout que consiste en apagar (hacer 0) aleatoriamente algunas de la salidas de una capa para forzar al modelo a utilizar mayor parte de sus neuronas, no se obtuvo un mejor rendimiento con estas opciones por lo que el modelo final posee 3 capas con:\n",
    "- Capa con 6 entradas\n",
    "- Capa oculta de 8 neuronas\n",
    "- Capa oculta de 4 neuronas\n",
    "- Salida de 1 neurona\n",
    "\n",
    "A la salida no se le aplicó ninguna función de activación al final pues queremos utilizarla para regresión y las funciones de activación limitan el rango de valores que puede tomar.\n",
    " "
   ],
   "cell_type": "markdown",
   "metadata": {}
  },
  {
   "cell_type": "code",
   "execution_count": 50,
   "id": "f5c4f931",
   "metadata": {},
   "outputs": [],
   "source": [
    "net = Net(X_train.shape[1])"
   ]
  },
  {
   "cell_type": "code",
   "execution_count": 58,
   "id": "8b16321b",
   "metadata": {},
   "outputs": [],
   "source": [
    "optimizer = optim.Adam(net.parameters(), lr=0.01)\n",
    "criterion = nn.MSELoss()"
   ]
  },
  {
   "cell_type": "code",
   "execution_count": 52,
   "id": "5c82b0fe",
   "metadata": {},
   "outputs": [
    {
     "name": "stdout",
     "output_type": "stream",
     "text": [
      "cuda available : True\n"
     ]
    }
   ],
   "source": [
    "print(\"cuda available :\" , torch.cuda.is_available())\n",
    "device = torch.device(\"cuda:0\" if torch.cuda.is_available() else \"cpu\")"
   ]
  },
  {
   "cell_type": "code",
   "execution_count": 53,
   "id": "63121e2e",
   "metadata": {},
   "outputs": [],
   "source": [
    "X_train = X_train.to(device)\n",
    "y_train = y_train.to(device)\n",
    "\n",
    "X_val = X_val.to(device)\n",
    "y_val = y_val.to(device)"
   ]
  },
  {
   "cell_type": "code",
   "execution_count": 55,
   "id": "b9df699f",
   "metadata": {},
   "outputs": [],
   "source": [
    "net = net.to(device)\n",
    "criterion = criterion.to(device)"
   ]
  },
  {
   "cell_type": "code",
   "execution_count": 70,
   "id": "53ef26ac",
   "metadata": {},
   "outputs": [],
   "source": [
    "#Se guardo de un entrenamiento previo \n",
    "net = torch.load(\"best_model12.pth\")\n",
    "net = net.to(device)"
   ]
  },
  {
   "source": [
    "Se instaló CUDA y pytorch en una computadora que cuenta con una GPU GTX1060 con 8gb de ram, no fue posible entrenar con el 55M de datos pero si con el 25M por falta de memoria ram en la GPU, como en 25M cien epoch demora algunos minutos se optó por tomar una muestra más pequeña (5M) y guardar el modelo en best_model12 para luego continuar con el entrenamiento."
   ],
   "cell_type": "markdown",
   "metadata": {}
  },
  {
   "cell_type": "code",
   "execution_count": 71,
   "id": "353cd1ee",
   "metadata": {},
   "outputs": [],
   "source": [
    "def round_tensor(t, decimal_places=3):\n",
    "    return round(t.item(), decimal_places)"
   ]
  },
  {
   "cell_type": "code",
   "execution_count": 72,
   "id": "1fc9f230",
   "metadata": {},
   "outputs": [
    {
     "name": "stdout",
     "output_type": "stream",
     "text": [
      "Epoca 100 Conjunto de entrenamiento - perdida: 12.653 \n",
      " Conjunto de prueba - perdida: 12.659\n",
      "------------ Guardado best model ------------ Loss: 12.659\n",
      "Epoca 200 Conjunto de entrenamiento - perdida: 12.653 \n",
      " Conjunto de prueba - perdida: 12.659\n",
      "Epoca 300 Conjunto de entrenamiento - perdida: 12.653 \n",
      " Conjunto de prueba - perdida: 12.659\n"
     ]
    },
    {
     "ename": "KeyboardInterrupt",
     "evalue": "",
     "output_type": "error",
     "traceback": [
      "\u001b[1;31m---------------------------------------------------------------------------\u001b[0m",
      "\u001b[1;31mKeyboardInterrupt\u001b[0m                         Traceback (most recent call last)",
      "\u001b[1;32m<ipython-input-72-89d05adf730c>\u001b[0m in \u001b[0;36m<module>\u001b[1;34m\u001b[0m\n\u001b[0;32m     10\u001b[0m         \u001b[0my_test_pred\u001b[0m \u001b[1;33m=\u001b[0m \u001b[0mtorch\u001b[0m\u001b[1;33m.\u001b[0m\u001b[0msqueeze\u001b[0m\u001b[1;33m(\u001b[0m\u001b[0my_test_pred\u001b[0m\u001b[1;33m)\u001b[0m\u001b[1;33m\u001b[0m\u001b[1;33m\u001b[0m\u001b[0m\n\u001b[0;32m     11\u001b[0m         \u001b[0mtest_loss\u001b[0m \u001b[1;33m=\u001b[0m \u001b[0mcriterion\u001b[0m\u001b[1;33m(\u001b[0m\u001b[0my_test_pred\u001b[0m\u001b[1;33m,\u001b[0m \u001b[0my_val\u001b[0m\u001b[1;33m)\u001b[0m\u001b[1;33m\u001b[0m\u001b[1;33m\u001b[0m\u001b[0m\n\u001b[1;32m---> 12\u001b[1;33m         \u001b[0mprint\u001b[0m\u001b[1;33m(\u001b[0m\u001b[1;34mf'''Epoca {epoch} Conjunto de entrenamiento - perdida: {round_tensor(train_loss)} \\n Conjunto de prueba - perdida: {round_tensor(test_loss)}'''\u001b[0m\u001b[1;33m)\u001b[0m\u001b[1;33m\u001b[0m\u001b[1;33m\u001b[0m\u001b[0m\n\u001b[0m\u001b[0;32m     13\u001b[0m         \u001b[1;32mif\u001b[0m \u001b[0mround_tensor\u001b[0m\u001b[1;33m(\u001b[0m\u001b[0mtest_loss\u001b[0m\u001b[1;33m)\u001b[0m \u001b[1;33m<\u001b[0m \u001b[0mmin_test_loss\u001b[0m\u001b[1;33m:\u001b[0m\u001b[1;33m\u001b[0m\u001b[1;33m\u001b[0m\u001b[0m\n\u001b[0;32m     14\u001b[0m             \u001b[0mmin_test_loss\u001b[0m \u001b[1;33m=\u001b[0m \u001b[0mround_tensor\u001b[0m\u001b[1;33m(\u001b[0m\u001b[0mtest_loss\u001b[0m\u001b[1;33m)\u001b[0m\u001b[1;33m\u001b[0m\u001b[1;33m\u001b[0m\u001b[0m\n",
      "\u001b[1;32m<ipython-input-71-523f37aa44aa>\u001b[0m in \u001b[0;36mround_tensor\u001b[1;34m(t, decimal_places)\u001b[0m\n\u001b[0;32m      1\u001b[0m \u001b[1;32mdef\u001b[0m \u001b[0mround_tensor\u001b[0m\u001b[1;33m(\u001b[0m\u001b[0mt\u001b[0m\u001b[1;33m,\u001b[0m \u001b[0mdecimal_places\u001b[0m\u001b[1;33m=\u001b[0m\u001b[1;36m3\u001b[0m\u001b[1;33m)\u001b[0m\u001b[1;33m:\u001b[0m\u001b[1;33m\u001b[0m\u001b[1;33m\u001b[0m\u001b[0m\n\u001b[1;32m----> 2\u001b[1;33m     \u001b[1;32mreturn\u001b[0m \u001b[0mround\u001b[0m\u001b[1;33m(\u001b[0m\u001b[0mt\u001b[0m\u001b[1;33m.\u001b[0m\u001b[0mitem\u001b[0m\u001b[1;33m(\u001b[0m\u001b[1;33m)\u001b[0m\u001b[1;33m,\u001b[0m \u001b[0mdecimal_places\u001b[0m\u001b[1;33m)\u001b[0m\u001b[1;33m\u001b[0m\u001b[1;33m\u001b[0m\u001b[0m\n\u001b[0m",
      "\u001b[1;31mKeyboardInterrupt\u001b[0m: "
     ]
    }
   ],
   "source": [
    "min_test_loss = float(\"inf\")\n",
    "for epoch in range(4001):\n",
    "#while True:  #best_model12 fue obtenido con un loop infinito\n",
    "    epoch = epoch+1 \n",
    "    y_pred = net(X_train)\n",
    "    y_pred = torch.squeeze(y_pred)\n",
    "    train_loss = criterion(y_pred, y_train)\n",
    "    if epoch % 100 == 0:\n",
    "        y_test_pred = net(X_val)\n",
    "        y_test_pred = torch.squeeze(y_test_pred)\n",
    "        test_loss = criterion(y_test_pred, y_val)\n",
    "        print(f'''Epoca {epoch} Conjunto de entrenamiento - perdida: {round_tensor(train_loss)} \\n Conjunto de prueba - perdida: {round_tensor(test_loss)}''')\n",
    "        if round_tensor(test_loss) < min_test_loss:\n",
    "            #se guarda el modelo que tenga menor test_loss\n",
    "            min_test_loss = round_tensor(test_loss)\n",
    "            torch.save(net, \"best_model.pth\")\n",
    "            print(\"------------ Guardado best model ------------ Loss:\",min_test_loss)\n",
    "            \n",
    "    optimizer.zero_grad()\n",
    "    train_loss.backward()\n",
    "    optimizer.step()"
   ]
  },
  {
   "cell_type": "markdown",
   "id": "01670d69",
   "metadata": {},
   "source": [
    "best_model12 se obtuvo de un entrenamiento previo con cerca de 70 000 épocas pero en un conjunto de datos más pequeño (5M)\n",
    "al cargarlo e intentar continuar con el entrenamiento el loss queda estancado en 12.653 esto se puede deber a que nos encontramos en un mínimo local.\n",
    "El KeyboardInterrupt es generado por que se dio la orden de detener el entrenamiento.\n"
   ]
  },
  {
   "cell_type": "code",
   "execution_count": 74,
   "id": "6117976c",
   "metadata": {},
   "outputs": [],
   "source": [
    "net = torch.load(\"best_model.pth\")\n",
    "X_test = torch.from_numpy(X_test).float()\n",
    "net = net.to(\"cpu\")\n",
    "y_pred = net(X_test)\n",
    "y_pred = y_pred.detach().numpy()\n"
   ]
  },
  {
   "cell_type": "code",
   "execution_count": 75,
   "id": "ed57755a",
   "metadata": {},
   "outputs": [
    {
     "name": "stdout",
     "output_type": "stream",
     "text": [
      "MSE 12.655530050933105\n",
      "RMSE 3.557461180523704\n",
      "R2 0.8335303560359626\n"
     ]
    }
   ],
   "source": [
    "print_metrics(y_test, y_pred)\n"
   ]
  },
  {
   "source": [
    "Nota: los conjuntos de validación usados durante el entrenamiento son distintos de los conjuntos de test.\n",
    "\n",
    "\n",
    "Los resultados obtenidos no difieren mucho de los valores obtenidos por otros métodos.\n"
   ],
   "cell_type": "markdown",
   "metadata": {}
  },
  {
   "source": [],
   "cell_type": "markdown",
   "metadata": {}
  }
 ],
 "metadata": {
  "kernelspec": {
   "name": "python3",
   "display_name": "Python 3.7.8 64-bit"
  },
  "language_info": {
   "codemirror_mode": {
    "name": "ipython",
    "version": 3
   },
   "file_extension": ".py",
   "mimetype": "text/x-python",
   "name": "python",
   "nbconvert_exporter": "python",
   "pygments_lexer": "ipython3",
   "version": "3.7.8"
  },
  "interpreter": {
   "hash": "c478ef2f9ae76f3945316882bea88700f8d49acff3a4ac503707041484fae990"
  }
 },
 "nbformat": 4,
 "nbformat_minor": 5
}